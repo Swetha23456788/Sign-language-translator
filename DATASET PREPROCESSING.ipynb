{
  "cells": [
    {
      "cell_type": "code",
      "execution_count": null,
      "metadata": {
        "colab": {
          "base_uri": "https://localhost:8080/"
        },
        "id": "_C4lHWqGSFpa",
        "outputId": "15d023fc-d2ce-4714-ac96-a3ffabf55c0a"
      },
      "outputs": [
        {
          "name": "stdout",
          "output_type": "stream",
          "text": [
            "Collecting yt-dlp\n",
            "  Downloading yt_dlp-2024.9.27-py3-none-any.whl.metadata (171 kB)\n",
            "\u001b[?25l     \u001b[90m━━━━━━━━━━━━━━━━━━━━━━━━━━━━━━━━━━━━━━━━\u001b[0m \u001b[32m0.0/171.2 kB\u001b[0m \u001b[31m?\u001b[0m eta \u001b[36m-:--:--\u001b[0m\r\u001b[2K     \u001b[91m━━━━━━━━━━━━━━━━━━━━━━━━━━━━━━━━━━━\u001b[0m\u001b[91m╸\u001b[0m\u001b[90m━━━━\u001b[0m \u001b[32m153.6/171.2 kB\u001b[0m \u001b[31m4.4 MB/s\u001b[0m eta \u001b[36m0:00:01\u001b[0m\r\u001b[2K     \u001b[90m━━━━━━━━━━━━━━━━━━━━━━━━━━━━━━━━━━━━━━━━\u001b[0m \u001b[32m171.2/171.2 kB\u001b[0m \u001b[31m2.9 MB/s\u001b[0m eta \u001b[36m0:00:00\u001b[0m\n",
            "\u001b[?25hCollecting brotli (from yt-dlp)\n",
            "  Downloading Brotli-1.1.0-cp310-cp310-manylinux_2_5_x86_64.manylinux1_x86_64.manylinux_2_12_x86_64.manylinux2010_x86_64.whl.metadata (5.5 kB)\n",
            "Requirement already satisfied: certifi in /usr/local/lib/python3.10/dist-packages (from yt-dlp) (2024.8.30)\n",
            "Collecting mutagen (from yt-dlp)\n",
            "  Downloading mutagen-1.47.0-py3-none-any.whl.metadata (1.7 kB)\n",
            "Collecting pycryptodomex (from yt-dlp)\n",
            "  Downloading pycryptodomex-3.21.0-cp36-abi3-manylinux_2_17_x86_64.manylinux2014_x86_64.whl.metadata (3.4 kB)\n",
            "Requirement already satisfied: requests<3,>=2.32.2 in /usr/local/lib/python3.10/dist-packages (from yt-dlp) (2.32.3)\n",
            "Requirement already satisfied: urllib3<3,>=1.26.17 in /usr/local/lib/python3.10/dist-packages (from yt-dlp) (2.2.3)\n",
            "Collecting websockets>=13.0 (from yt-dlp)\n",
            "  Downloading websockets-13.1-cp310-cp310-manylinux_2_5_x86_64.manylinux1_x86_64.manylinux_2_17_x86_64.manylinux2014_x86_64.whl.metadata (6.8 kB)\n",
            "Requirement already satisfied: charset-normalizer<4,>=2 in /usr/local/lib/python3.10/dist-packages (from requests<3,>=2.32.2->yt-dlp) (3.3.2)\n",
            "Requirement already satisfied: idna<4,>=2.5 in /usr/local/lib/python3.10/dist-packages (from requests<3,>=2.32.2->yt-dlp) (3.10)\n",
            "Downloading yt_dlp-2024.9.27-py3-none-any.whl (3.1 MB)\n",
            "\u001b[2K   \u001b[90m━━━━━━━━━━━━━━━━━━━━━━━━━━━━━━━━━━━━━━━━\u001b[0m \u001b[32m3.1/3.1 MB\u001b[0m \u001b[31m27.9 MB/s\u001b[0m eta \u001b[36m0:00:00\u001b[0m\n",
            "\u001b[?25hDownloading websockets-13.1-cp310-cp310-manylinux_2_5_x86_64.manylinux1_x86_64.manylinux_2_17_x86_64.manylinux2014_x86_64.whl (164 kB)\n",
            "\u001b[2K   \u001b[90m━━━━━━━━━━━━━━━━━━━━━━━━━━━━━━━━━━━━━━━━\u001b[0m \u001b[32m164.1/164.1 kB\u001b[0m \u001b[31m9.8 MB/s\u001b[0m eta \u001b[36m0:00:00\u001b[0m\n",
            "\u001b[?25hDownloading Brotli-1.1.0-cp310-cp310-manylinux_2_5_x86_64.manylinux1_x86_64.manylinux_2_12_x86_64.manylinux2010_x86_64.whl (3.0 MB)\n",
            "\u001b[2K   \u001b[90m━━━━━━━━━━━━━━━━━━━━━━━━━━━━━━━━━━━━━━━━\u001b[0m \u001b[32m3.0/3.0 MB\u001b[0m \u001b[31m47.5 MB/s\u001b[0m eta \u001b[36m0:00:00\u001b[0m\n",
            "\u001b[?25hDownloading mutagen-1.47.0-py3-none-any.whl (194 kB)\n",
            "\u001b[2K   \u001b[90m━━━━━━━━━━━━━━━━━━━━━━━━━━━━━━━━━━━━━━━━\u001b[0m \u001b[32m194.4/194.4 kB\u001b[0m \u001b[31m13.3 MB/s\u001b[0m eta \u001b[36m0:00:00\u001b[0m\n",
            "\u001b[?25hDownloading pycryptodomex-3.21.0-cp36-abi3-manylinux_2_17_x86_64.manylinux2014_x86_64.whl (2.3 MB)\n",
            "\u001b[2K   \u001b[90m━━━━━━━━━━━━━━━━━━━━━━━━━━━━━━━━━━━━━━━━\u001b[0m \u001b[32m2.3/2.3 MB\u001b[0m \u001b[31m40.8 MB/s\u001b[0m eta \u001b[36m0:00:00\u001b[0m\n",
            "\u001b[?25hInstalling collected packages: brotli, websockets, pycryptodomex, mutagen, yt-dlp\n",
            "Successfully installed brotli-1.1.0 mutagen-1.47.0 pycryptodomex-3.21.0 websockets-13.1 yt-dlp-2024.9.27\n"
          ]
        }
      ],
      "source": [
        "!pip install yt-dlp\n"
      ]
    },
    {
      "cell_type": "code",
      "execution_count": null,
      "metadata": {
        "colab": {
          "base_uri": "https://localhost:8080/"
        },
        "id": "6VnHHB1w2ksS",
        "outputId": "6dba0f18-8606-4458-eef1-5e9e33507265"
      },
      "outputs": [
        {
          "output_type": "stream",
          "name": "stdout",
          "text": [
            "Drive already mounted at /content/drive; to attempt to forcibly remount, call drive.mount(\"/content/drive\", force_remount=True).\n"
          ]
        }
      ],
      "source": [
        "from google.colab import drive\n",
        "drive.mount('/content/drive')"
      ]
    },
    {
      "cell_type": "code",
      "execution_count": null,
      "metadata": {
        "colab": {
          "base_uri": "https://localhost:8080/"
        },
        "id": "3fcDc02MQNN6",
        "outputId": "82142af9-7126-4708-8bd1-dedc06f24a24"
      },
      "outputs": [
        {
          "name": "stdout",
          "output_type": "stream",
          "text": [
            "[youtube:tab] Extracting URL: https://youtube.com/playlist?list=PLNh2p4xBUVkqquPxKDKqGvc87XxQfNJGs&si=qP8MtVZ5K8a5ID5h\n",
            "[youtube:tab] PLNh2p4xBUVkqquPxKDKqGvc87XxQfNJGs: Downloading webpage\n",
            "[youtube:tab] PLNh2p4xBUVkqquPxKDKqGvc87XxQfNJGs: Redownloading playlist API JSON with unavailable videos\n",
            "[download] Downloading playlist: ASL_VIDEOS\n",
            "[youtube:tab] PLNh2p4xBUVkqquPxKDKqGvc87XxQfNJGs page 1: Downloading API JSON\n",
            "[youtube:tab] Playlist ASL_VIDEOS: Downloading 147 items of 147\n",
            "[download] Downloading item \u001b[0;32m1\u001b[0m of \u001b[0;94m147\u001b[0m\n",
            "[youtube] Extracting URL: https://www.youtube.com/watch?v=F7Wjb_AIvMA\n",
            "[youtube] F7Wjb_AIvMA: Downloading webpage\n",
            "[youtube] F7Wjb_AIvMA: Downloading ios player API JSON\n",
            "[youtube] F7Wjb_AIvMA: Downloading web creator player API JSON\n",
            "[youtube] F7Wjb_AIvMA: Downloading m3u8 information\n",
            "[info] F7Wjb_AIvMA: Downloading 1 format(s): 248+140\n",
            "[download] Destination: ASL_VIDEOS/001-It is nice to meet you..f248.webm\n",
            "\u001b[K[download] 100% of  651.36KiB in \u001b[1;37m00:00:00\u001b[0m at \u001b[0;32m5.43MiB/s\u001b[0m\n",
            "[download] Destination: ASL_VIDEOS/001-It is nice to meet you..f140.m4a\n",
            "\u001b[K[download] 100% of   91.80KiB in \u001b[1;37m00:00:00\u001b[0m at \u001b[0;32m1.41MiB/s\u001b[0m\n",
            "[Merger] Merging formats into \"ASL_VIDEOS/001-It is nice to meet you..mkv\"\n",
            "Deleting original file ASL_VIDEOS/001-It is nice to meet you..f140.m4a (pass -k to keep)\n",
            "Deleting original file ASL_VIDEOS/001-It is nice to meet you..f248.webm (pass -k to keep)\n",
            "[download] Downloading item \u001b[0;32m2\u001b[0m of \u001b[0;94m147\u001b[0m\n",
            "[youtube] Extracting URL: https://www.youtube.com/watch?v=HWTOUetDsOk\n",
            "[youtube] HWTOUetDsOk: Downloading webpage\n",
            "[youtube] HWTOUetDsOk: Downloading ios player API JSON\n",
            "[youtube] HWTOUetDsOk: Downloading web creator player API JSON\n",
            "[youtube] HWTOUetDsOk: Downloading m3u8 information\n",
            "[info] HWTOUetDsOk: Downloading 1 format(s): 248+140\n",
            "[download] Destination: ASL_VIDEOS/002-GOOD-MORNING-[compound-version].f248.webm\n",
            "\u001b[K[download] 100% of  214.89KiB in \u001b[1;37m00:00:00\u001b[0m at \u001b[0;32m2.37MiB/s\u001b[0m\n",
            "[download] Destination: ASL_VIDEOS/002-GOOD-MORNING-[compound-version].f140.m4a\n",
            "\u001b[K[download] 100% of   43.30KiB in \u001b[1;37m00:00:00\u001b[0m at \u001b[0;32m771.93KiB/s\u001b[0m\n",
            "[Merger] Merging formats into \"ASL_VIDEOS/002-GOOD-MORNING-[compound-version].mkv\"\n",
            "Deleting original file ASL_VIDEOS/002-GOOD-MORNING-[compound-version].f140.m4a (pass -k to keep)\n",
            "Deleting original file ASL_VIDEOS/002-GOOD-MORNING-[compound-version].f248.webm (pass -k to keep)\n",
            "[download] Downloading item \u001b[0;32m3\u001b[0m of \u001b[0;94m147\u001b[0m\n",
            "[youtube] Extracting URL: https://www.youtube.com/watch?v=IvRwNLNR4_w\n",
            "[youtube] IvRwNLNR4_w: Downloading webpage\n",
            "[youtube] IvRwNLNR4_w: Downloading ios player API JSON\n",
            "[youtube] IvRwNLNR4_w: Downloading web creator player API JSON\n",
            "[youtube] IvRwNLNR4_w: Downloading m3u8 information\n",
            "[info] IvRwNLNR4_w: Downloading 1 format(s): 248+140\n",
            "[download] Destination: ASL_VIDEOS/003-THANK-YOU!.f248.webm\n",
            "\u001b[K[download] 100% of  247.63KiB in \u001b[1;37m00:00:00\u001b[0m at \u001b[0;32m2.31MiB/s\u001b[0m\n",
            "[download] Destination: ASL_VIDEOS/003-THANK-YOU!.f140.m4a\n",
            "\u001b[K[download] 100% of   31.57KiB in \u001b[1;37m00:00:00\u001b[0m at \u001b[0;32m641.45KiB/s\u001b[0m\n",
            "[Merger] Merging formats into \"ASL_VIDEOS/003-THANK-YOU!.mkv\"\n",
            "Deleting original file ASL_VIDEOS/003-THANK-YOU!.f248.webm (pass -k to keep)\n",
            "Deleting original file ASL_VIDEOS/003-THANK-YOU!.f140.m4a (pass -k to keep)\n",
            "[download] Downloading item \u001b[0;32m4\u001b[0m of \u001b[0;94m147\u001b[0m\n",
            "[youtube] Extracting URL: https://www.youtube.com/watch?v=vuE3RN10AGA\n",
            "[youtube] vuE3RN10AGA: Downloading webpage\n",
            "[youtube] vuE3RN10AGA: Downloading ios player API JSON\n",
            "[youtube] vuE3RN10AGA: Downloading web creator player API JSON\n",
            "[youtube] vuE3RN10AGA: Downloading m3u8 information\n",
            "[info] vuE3RN10AGA: Downloading 1 format(s): 248+140\n",
            "[download] Destination: ASL_VIDEOS/004-SCHOOL.f248.webm\n",
            "\u001b[K[download] 100% of  247.34KiB in \u001b[1;37m00:00:00\u001b[0m at \u001b[0;32m2.14MiB/s\u001b[0m\n",
            "[download] Destination: ASL_VIDEOS/004-SCHOOL.f140.m4a\n",
            "\u001b[K[download] 100% of   45.59KiB in \u001b[1;37m00:00:00\u001b[0m at \u001b[0;32m269.31KiB/s\u001b[0m\n",
            "[Merger] Merging formats into \"ASL_VIDEOS/004-SCHOOL.mkv\"\n",
            "Deleting original file ASL_VIDEOS/004-SCHOOL.f140.m4a (pass -k to keep)\n",
            "Deleting original file ASL_VIDEOS/004-SCHOOL.f248.webm (pass -k to keep)\n",
            "[download] Downloading item \u001b[0;32m5\u001b[0m of \u001b[0;94m147\u001b[0m\n",
            "[youtube] Extracting URL: https://www.youtube.com/watch?v=CrUCwJklAUA\n",
            "[youtube] CrUCwJklAUA: Downloading webpage\n",
            "[youtube] CrUCwJklAUA: Downloading ios player API JSON\n",
            "[youtube] CrUCwJklAUA: Downloading web creator player API JSON\n",
            "[youtube] CrUCwJklAUA: Downloading m3u8 information\n",
            "[info] CrUCwJklAUA: Downloading 1 format(s): 248+140\n",
            "[download] Destination: ASL_VIDEOS/005-TEACHER.f248.webm\n",
            "\u001b[K[download] 100% of  369.34KiB in \u001b[1;37m00:00:00\u001b[0m at \u001b[0;32m3.51MiB/s\u001b[0m\n",
            "[download] Destination: ASL_VIDEOS/005-TEACHER.f140.m4a\n",
            "\u001b[K[download] 100% of   46.32KiB in \u001b[1;37m00:00:00\u001b[0m at \u001b[0;32m169.39KiB/s\u001b[0m\n",
            "[Merger] Merging formats into \"ASL_VIDEOS/005-TEACHER.mkv\"\n",
            "Deleting original file ASL_VIDEOS/005-TEACHER.f140.m4a (pass -k to keep)\n",
            "Deleting original file ASL_VIDEOS/005-TEACHER.f248.webm (pass -k to keep)\n",
            "[download] Downloading item \u001b[0;32m6\u001b[0m of \u001b[0;94m147\u001b[0m\n",
            "[youtube] Extracting URL: https://www.youtube.com/watch?v=Tw45TDPWUvE\n",
            "[youtube] Tw45TDPWUvE: Downloading webpage\n",
            "[youtube] Tw45TDPWUvE: Downloading ios player API JSON\n",
            "[youtube] Tw45TDPWUvE: Downloading web creator player API JSON\n",
            "[youtube] Tw45TDPWUvE: Downloading m3u8 information\n",
            "[info] Tw45TDPWUvE: Downloading 1 format(s): 137+140\n",
            "[download] Destination: ASL_VIDEOS/006-where？.f137.mp4\n",
            "\u001b[K[download] 100% of  861.97KiB in \u001b[1;37m00:00:00\u001b[0m at \u001b[0;32m5.70MiB/s\u001b[0m\n",
            "[download] Destination: ASL_VIDEOS/006-where？.f140.m4a\n",
            "\u001b[K[download] 100% of   44.40KiB in \u001b[1;37m00:00:00\u001b[0m at \u001b[0;32m683.94KiB/s\u001b[0m\n",
            "[Merger] Merging formats into \"ASL_VIDEOS/006-where？.mp4\"\n",
            "Deleting original file ASL_VIDEOS/006-where？.f137.mp4 (pass -k to keep)\n",
            "Deleting original file ASL_VIDEOS/006-where？.f140.m4a (pass -k to keep)\n",
            "[download] Downloading item \u001b[0;32m7\u001b[0m of \u001b[0;94m147\u001b[0m\n",
            "[youtube] Extracting URL: https://www.youtube.com/watch?v=sSdQWC7mUZc\n",
            "[youtube] sSdQWC7mUZc: Downloading webpage\n",
            "[youtube] sSdQWC7mUZc: Downloading ios player API JSON\n",
            "[youtube] sSdQWC7mUZc: Downloading web creator player API JSON\n",
            "[youtube] sSdQWC7mUZc: Downloading m3u8 information\n",
            "[info] sSdQWC7mUZc: Downloading 1 format(s): 137+140\n",
            "[download] Destination: ASL_VIDEOS/007-what.f137.mp4\n",
            "\u001b[K[download] 100% of  630.08KiB in \u001b[1;37m00:00:00\u001b[0m at \u001b[0;32m5.40MiB/s\u001b[0m\n",
            "[download] Destination: ASL_VIDEOS/007-what.f140.m4a\n",
            "\u001b[K[download] 100% of   34.50KiB in \u001b[1;37m00:00:00\u001b[0m at \u001b[0;32m492.95KiB/s\u001b[0m\n",
            "[Merger] Merging formats into \"ASL_VIDEOS/007-what.mp4\"\n",
            "Deleting original file ASL_VIDEOS/007-what.f137.mp4 (pass -k to keep)\n",
            "Deleting original file ASL_VIDEOS/007-what.f140.m4a (pass -k to keep)\n",
            "[download] Downloading item \u001b[0;32m8\u001b[0m of \u001b[0;94m147\u001b[0m\n",
            "[youtube] Extracting URL: https://www.youtube.com/watch?v=wKl26BsEAoc\n",
            "[youtube] wKl26BsEAoc: Downloading webpage\n",
            "[youtube] wKl26BsEAoc: Downloading ios player API JSON\n",
            "[youtube] wKl26BsEAoc: Downloading web creator player API JSON\n",
            "[youtube] wKl26BsEAoc: Downloading m3u8 information\n",
            "[info] wKl26BsEAoc: Downloading 1 format(s): 248+140\n",
            "[download] Destination: ASL_VIDEOS/008-WHO？.f248.webm\n",
            "\u001b[K[download] 100% of  219.96KiB in \u001b[1;37m00:00:00\u001b[0m at \u001b[0;32m2.19MiB/s\u001b[0m\n",
            "[download] Destination: ASL_VIDEOS/008-WHO？.f140.m4a\n",
            "\u001b[K[download] 100% of   45.96KiB in \u001b[1;37m00:00:00\u001b[0m at \u001b[0;32m805.29KiB/s\u001b[0m\n",
            "[Merger] Merging formats into \"ASL_VIDEOS/008-WHO？.mkv\"\n",
            "Deleting original file ASL_VIDEOS/008-WHO？.f140.m4a (pass -k to keep)\n",
            "Deleting original file ASL_VIDEOS/008-WHO？.f248.webm (pass -k to keep)\n",
            "[download] Downloading item \u001b[0;32m9\u001b[0m of \u001b[0;94m147\u001b[0m\n",
            "[youtube] Extracting URL: https://www.youtube.com/watch?v=K0yp2v6Atxs\n",
            "[youtube] K0yp2v6Atxs: Downloading webpage\n",
            "[youtube] K0yp2v6Atxs: Downloading ios player API JSON\n",
            "[youtube] K0yp2v6Atxs: Downloading web creator player API JSON\n",
            "[youtube] K0yp2v6Atxs: Downloading m3u8 information\n",
            "[info] K0yp2v6Atxs: Downloading 1 format(s): 248+140\n",
            "[download] Destination: ASL_VIDEOS/009-WHY？.f248.webm\n",
            "\u001b[K[download] 100% of  253.20KiB in \u001b[1;37m00:00:00\u001b[0m at \u001b[0;32m2.44MiB/s\u001b[0m\n",
            "[download] Destination: ASL_VIDEOS/009-WHY？.f140.m4a\n",
            "\u001b[K[download] 100% of   45.96KiB in \u001b[1;37m00:00:00\u001b[0m at \u001b[0;32m261.22KiB/s\u001b[0m\n",
            "[Merger] Merging formats into \"ASL_VIDEOS/009-WHY？.mkv\"\n",
            "Deleting original file ASL_VIDEOS/009-WHY？.f140.m4a (pass -k to keep)\n",
            "Deleting original file ASL_VIDEOS/009-WHY？.f248.webm (pass -k to keep)\n",
            "[download] Downloading item \u001b[0;32m10\u001b[0m of \u001b[0;94m147\u001b[0m\n",
            "[youtube] Extracting URL: https://www.youtube.com/watch?v=uz5-tROTVTE\n",
            "[youtube] uz5-tROTVTE: Downloading webpage\n",
            "[youtube] uz5-tROTVTE: Downloading ios player API JSON\n",
            "[youtube] uz5-tROTVTE: Downloading web creator player API JSON\n",
            "[youtube] uz5-tROTVTE: Downloading m3u8 information\n",
            "[info] uz5-tROTVTE: Downloading 1 format(s): 135+140\n",
            "[download] Destination: ASL_VIDEOS/010-yeah yes.f135.mp4\n",
            "\u001b[K[download] 100% of   72.93KiB in \u001b[1;37m00:00:00\u001b[0m at \u001b[0;32m899.48KiB/s\u001b[0m\n",
            "[download] Destination: ASL_VIDEOS/010-yeah yes.f140.m4a\n",
            "\u001b[K[download] 100% of   32.67KiB in \u001b[1;37m00:00:00\u001b[0m at \u001b[0;32m517.24KiB/s\u001b[0m\n",
            "[Merger] Merging formats into \"ASL_VIDEOS/010-yeah yes.mp4\"\n",
            "Deleting original file ASL_VIDEOS/010-yeah yes.f140.m4a (pass -k to keep)\n",
            "Deleting original file ASL_VIDEOS/010-yeah yes.f135.mp4 (pass -k to keep)\n",
            "[download] Downloading item \u001b[0;32m11\u001b[0m of \u001b[0;94m147\u001b[0m\n",
            "[youtube] Extracting URL: https://www.youtube.com/watch?v=FHPszRvL9pg\n",
            "[youtube] FHPszRvL9pg: Downloading webpage\n",
            "[youtube] FHPszRvL9pg: Downloading ios player API JSON\n",
            "[youtube] FHPszRvL9pg: Downloading web creator player API JSON\n",
            "[youtube] FHPszRvL9pg: Downloading m3u8 information\n",
            "[info] FHPszRvL9pg: Downloading 1 format(s): 248+140\n",
            "[download] Destination: ASL_VIDEOS/011-YOU NAME-[what]？.f248.webm\n",
            "\u001b[K[download] 100% of  199.47KiB in \u001b[1;37m00:00:00\u001b[0m at \u001b[0;32m837.51KiB/s\u001b[0m\n",
            "[download] Destination: ASL_VIDEOS/011-YOU NAME-[what]？.f140.m4a\n",
            "\u001b[K[download] 100% of   33.85KiB in \u001b[1;37m00:00:00\u001b[0m at \u001b[0;32m372.50KiB/s\u001b[0m\n",
            "[Merger] Merging formats into \"ASL_VIDEOS/011-YOU NAME-[what]？.mkv\"\n",
            "Deleting original file ASL_VIDEOS/011-YOU NAME-[what]？.f140.m4a (pass -k to keep)\n",
            "Deleting original file ASL_VIDEOS/011-YOU NAME-[what]？.f248.webm (pass -k to keep)\n",
            "[download] Downloading item \u001b[0;32m12\u001b[0m of \u001b[0;94m147\u001b[0m\n",
            "[youtube] Extracting URL: https://www.youtube.com/watch?v=_90JOGT0vfs\n",
            "[youtube] _90JOGT0vfs: Downloading webpage\n",
            "[youtube] _90JOGT0vfs: Downloading ios player API JSON\n",
            "[youtube] _90JOGT0vfs: Downloading web creator player API JSON\n",
            "[youtube] _90JOGT0vfs: Downloading m3u8 information\n",
            "[info] _90JOGT0vfs: Downloading 1 format(s): 248+140\n",
            "[download] Destination: ASL_VIDEOS/012-don’t-UNDERSTAND.f248.webm\n",
            "\u001b[K[download] 100% of  249.77KiB in \u001b[1;37m00:00:00\u001b[0m at \u001b[0;32m2.51MiB/s\u001b[0m\n",
            "[download] Destination: ASL_VIDEOS/012-don’t-UNDERSTAND.f140.m4a\n",
            "\u001b[K[download] 100% of   37.52KiB in \u001b[1;37m00:00:00\u001b[0m at \u001b[0;32m693.12KiB/s\u001b[0m\n",
            "[Merger] Merging formats into \"ASL_VIDEOS/012-don’t-UNDERSTAND.mkv\"\n",
            "Deleting original file ASL_VIDEOS/012-don’t-UNDERSTAND.f140.m4a (pass -k to keep)\n",
            "Deleting original file ASL_VIDEOS/012-don’t-UNDERSTAND.f248.webm (pass -k to keep)\n",
            "[download] Downloading item \u001b[0;32m13\u001b[0m of \u001b[0;94m147\u001b[0m\n",
            "[youtube] Extracting URL: https://www.youtube.com/watch?v=_4a8vJ7-Ywg\n",
            "[youtube] _4a8vJ7-Ywg: Downloading webpage\n",
            "[youtube] _4a8vJ7-Ywg: Downloading ios player API JSON\n",
            "[youtube] _4a8vJ7-Ywg: Downloading web creator player API JSON\n",
            "[youtube] _4a8vJ7-Ywg: Downloading m3u8 information\n",
            "[info] _4a8vJ7-Ywg: Downloading 1 format(s): 248+140\n",
            "[download] Destination: ASL_VIDEOS/013-lady⧸woman.f248.webm\n",
            "\u001b[K[download] 100% of  183.50KiB in \u001b[1;37m00:00:00\u001b[0m at \u001b[0;32m1.91MiB/s\u001b[0m\n",
            "[download] Destination: ASL_VIDEOS/013-lady⧸woman.f140.m4a\n",
            "\u001b[K[download] 100% of   40.09KiB in \u001b[1;37m00:00:00\u001b[0m at \u001b[0;32m229.85KiB/s\u001b[0m\n",
            "[Merger] Merging formats into \"ASL_VIDEOS/013-lady⧸woman.mkv\"\n",
            "Deleting original file ASL_VIDEOS/013-lady⧸woman.f140.m4a (pass -k to keep)\n",
            "Deleting original file ASL_VIDEOS/013-lady⧸woman.f248.webm (pass -k to keep)\n",
            "[download] Downloading item \u001b[0;32m14\u001b[0m of \u001b[0;94m147\u001b[0m\n",
            "[youtube] Extracting URL: https://www.youtube.com/watch?v=5H6OSAy-Mzs\n",
            "[youtube] 5H6OSAy-Mzs: Downloading webpage\n",
            "[youtube] 5H6OSAy-Mzs: Downloading ios player API JSON\n",
            "[youtube] 5H6OSAy-Mzs: Downloading web creator player API JSON\n",
            "[youtube] 5H6OSAy-Mzs: Downloading m3u8 information\n",
            "[info] 5H6OSAy-Mzs: Downloading 1 format(s): 137+140\n",
            "[download] Destination: ASL_VIDEOS/014-MALE, boy, dude, guy, fellow.f137.mp4\n",
            "\u001b[K[download] 100% of  684.00KiB in \u001b[1;37m00:00:00\u001b[0m at \u001b[0;32m5.50MiB/s\u001b[0m\n",
            "[download] Destination: ASL_VIDEOS/014-MALE, boy, dude, guy, fellow.f140.m4a\n",
            "\u001b[K[download] 100% of   48.80KiB in \u001b[1;37m00:00:00\u001b[0m at \u001b[0;32m697.68KiB/s\u001b[0m\n",
            "[Merger] Merging formats into \"ASL_VIDEOS/014-MALE, boy, dude, guy, fellow.mp4\"\n",
            "Deleting original file ASL_VIDEOS/014-MALE, boy, dude, guy, fellow.f140.m4a (pass -k to keep)\n",
            "Deleting original file ASL_VIDEOS/014-MALE, boy, dude, guy, fellow.f137.mp4 (pass -k to keep)\n",
            "[download] Downloading item \u001b[0;32m15\u001b[0m of \u001b[0;94m147\u001b[0m\n",
            "[youtube] Extracting URL: https://www.youtube.com/watch?v=lyAWyqDxUqg\n",
            "[youtube] lyAWyqDxUqg: Downloading webpage\n",
            "[youtube] lyAWyqDxUqg: Downloading ios player API JSON\n",
            "[youtube] lyAWyqDxUqg: Downloading web creator player API JSON\n",
            "[youtube] lyAWyqDxUqg: Downloading m3u8 information\n",
            "[info] lyAWyqDxUqg: Downloading 1 format(s): 137+140\n",
            "[download] Destination: ASL_VIDEOS/015-man.f137.mp4\n",
            "\u001b[K[download] 100% of  596.44KiB in \u001b[1;37m00:00:00\u001b[0m at \u001b[0;32m4.29MiB/s\u001b[0m\n",
            "[download] Destination: ASL_VIDEOS/015-man.f140.m4a\n",
            "\u001b[K[download] 100% of   64.94KiB in \u001b[1;37m00:00:00\u001b[0m at \u001b[0;32m325.48KiB/s\u001b[0m\n",
            "[Merger] Merging formats into \"ASL_VIDEOS/015-man.mp4\"\n",
            "Deleting original file ASL_VIDEOS/015-man.f137.mp4 (pass -k to keep)\n",
            "Deleting original file ASL_VIDEOS/015-man.f140.m4a (pass -k to keep)\n",
            "[download] Downloading item \u001b[0;32m16\u001b[0m of \u001b[0;94m147\u001b[0m\n",
            "[youtube] Extracting URL: https://www.youtube.com/watch?v=Lcn7x_4b_Bk\n",
            "[youtube] Lcn7x_4b_Bk: Downloading webpage\n",
            "[youtube] Lcn7x_4b_Bk: Downloading ios player API JSON\n",
            "[youtube] Lcn7x_4b_Bk: Downloading web creator player API JSON\n",
            "[youtube] Lcn7x_4b_Bk: Downloading m3u8 information\n",
            "[info] Lcn7x_4b_Bk: Downloading 1 format(s): 248+140\n",
            "[download] Destination: ASL_VIDEOS/016-YOU LIVE WHERE？.f248.webm\n",
            "\u001b[K[download] 100% of  279.62KiB in \u001b[1;37m00:00:00\u001b[0m at \u001b[0;32m1006.00KiB/s\u001b[0m\n",
            "[download] Destination: ASL_VIDEOS/016-YOU LIVE WHERE？.f140.m4a\n",
            "\u001b[K[download] 100% of   45.22KiB in \u001b[1;37m00:00:00\u001b[0m at \u001b[0;32m394.84KiB/s\u001b[0m\n",
            "[Merger] Merging formats into \"ASL_VIDEOS/016-YOU LIVE WHERE？.mkv\"\n",
            "Deleting original file ASL_VIDEOS/016-YOU LIVE WHERE？.f140.m4a (pass -k to keep)\n",
            "Deleting original file ASL_VIDEOS/016-YOU LIVE WHERE？.f248.webm (pass -k to keep)\n",
            "[download] Downloading item \u001b[0;32m17\u001b[0m of \u001b[0;94m147\u001b[0m\n",
            "[youtube] Extracting URL: https://www.youtube.com/watch?v=lBSZYk72vmY\n",
            "[youtube] lBSZYk72vmY: Downloading webpage\n",
            "[youtube] lBSZYk72vmY: Downloading ios player API JSON\n",
            "[youtube] lBSZYk72vmY: Downloading web creator player API JSON\n",
            "[youtube] lBSZYk72vmY: Downloading m3u8 information\n",
            "[info] lBSZYk72vmY: Downloading 1 format(s): 135+140\n",
            "[download] Destination: ASL_VIDEOS/017-house.f135.mp4\n",
            "\u001b[K[download] 100% of  189.49KiB in \u001b[1;37m00:00:00\u001b[0m at \u001b[0;32m5.60MiB/s\u001b[0m\n",
            "[download] Destination: ASL_VIDEOS/017-house.f140.m4a\n",
            "\u001b[K[download] 100% of   41.10KiB in \u001b[1;37m00:00:00\u001b[0m at \u001b[0;32m237.06KiB/s\u001b[0m\n",
            "[Merger] Merging formats into \"ASL_VIDEOS/017-house.mp4\"\n",
            "Deleting original file ASL_VIDEOS/017-house.f140.m4a (pass -k to keep)\n",
            "Deleting original file ASL_VIDEOS/017-house.f135.mp4 (pass -k to keep)\n",
            "[download] Downloading item \u001b[0;32m18\u001b[0m of \u001b[0;94m147\u001b[0m\n",
            "[youtube] Extracting URL: https://www.youtube.com/watch?v=liDRahbOmNs\n",
            "[youtube] liDRahbOmNs: Downloading webpage\n",
            "[youtube] liDRahbOmNs: Downloading ios player API JSON\n",
            "[youtube] liDRahbOmNs: Downloading web creator player API JSON\n",
            "[youtube] liDRahbOmNs: Downloading m3u8 information\n",
            "[info] liDRahbOmNs: Downloading 1 format(s): 137+140\n",
            "[download] Destination: ASL_VIDEOS/018-NYB!-[None of your business!].f137.mp4\n",
            "\u001b[K[download] 100% of  321.33KiB in \u001b[1;37m00:00:00\u001b[0m at \u001b[0;32m1.81MiB/s\u001b[0m\n",
            "[download] Destination: ASL_VIDEOS/018-NYB!-[None of your business!].f140.m4a\n",
            "\u001b[K[download] 100% of   51.09KiB in \u001b[1;37m00:00:00\u001b[0m at \u001b[0;32m308.13KiB/s\u001b[0m\n",
            "[Merger] Merging formats into \"ASL_VIDEOS/018-NYB!-[None of your business!].mp4\"\n",
            "Deleting original file ASL_VIDEOS/018-NYB!-[None of your business!].f137.mp4 (pass -k to keep)\n",
            "Deleting original file ASL_VIDEOS/018-NYB!-[None of your business!].f140.m4a (pass -k to keep)\n",
            "[download] Downloading item \u001b[0;32m19\u001b[0m of \u001b[0;94m147\u001b[0m\n",
            "[youtube] Extracting URL: https://www.youtube.com/watch?v=W29aPI_T49Y\n",
            "[youtube] W29aPI_T49Y: Downloading webpage\n",
            "[youtube] W29aPI_T49Y: Downloading ios player API JSON\n",
            "[youtube] W29aPI_T49Y: Downloading web creator player API JSON\n",
            "[youtube] W29aPI_T49Y: Downloading m3u8 information\n",
            "[info] W29aPI_T49Y: Downloading 1 format(s): 137+140\n",
            "[download] Destination: ASL_VIDEOS/019-YOU SAD WHY？.f137.mp4\n",
            "\u001b[K[download] 100% of    1.10MiB in \u001b[1;37m00:00:00\u001b[0m at \u001b[0;32m8.42MiB/s\u001b[0m\n",
            "[download] Destination: ASL_VIDEOS/019-YOU SAD WHY？.f140.m4a\n",
            "\u001b[K[download] 100% of   70.80KiB in \u001b[1;37m00:00:00\u001b[0m at \u001b[0;32m338.74KiB/s\u001b[0m\n",
            "[Merger] Merging formats into \"ASL_VIDEOS/019-YOU SAD WHY？.mp4\"\n",
            "Deleting original file ASL_VIDEOS/019-YOU SAD WHY？.f140.m4a (pass -k to keep)\n",
            "Deleting original file ASL_VIDEOS/019-YOU SAD WHY？.f137.mp4 (pass -k to keep)\n",
            "[download] Downloading item \u001b[0;32m20\u001b[0m of \u001b[0;94m147\u001b[0m\n",
            "[youtube] Extracting URL: https://www.youtube.com/watch?v=L1JBkF-jm5g\n",
            "[youtube] L1JBkF-jm5g: Downloading webpage\n",
            "[youtube] L1JBkF-jm5g: Downloading ios player API JSON\n",
            "[youtube] L1JBkF-jm5g: Downloading web creator player API JSON\n",
            "[youtube] L1JBkF-jm5g: Downloading m3u8 information\n",
            "[info] L1JBkF-jm5g: Downloading 1 format(s): 248+140\n",
            "[download] Destination: ASL_VIDEOS/020-YOU MARRIED？.f248.webm\n",
            "\u001b[K[download] 100% of  227.29KiB in \u001b[1;37m00:00:00\u001b[0m at \u001b[0;32m941.54KiB/s\u001b[0m\n",
            "[download] Destination: ASL_VIDEOS/020-YOU MARRIED？.f140.m4a\n",
            "\u001b[K[download] 100% of   48.07KiB in \u001b[1;37m00:00:00\u001b[0m at \u001b[0;32m573.28KiB/s\u001b[0m\n",
            "[Merger] Merging formats into \"ASL_VIDEOS/020-YOU MARRIED？.mkv\"\n",
            "Deleting original file ASL_VIDEOS/020-YOU MARRIED？.f248.webm (pass -k to keep)\n",
            "Deleting original file ASL_VIDEOS/020-YOU MARRIED？.f140.m4a (pass -k to keep)\n",
            "[download] Downloading item \u001b[0;32m21\u001b[0m of \u001b[0;94m147\u001b[0m\n",
            "[youtube] Extracting URL: https://www.youtube.com/watch?v=NOpWKcox14o\n",
            "[youtube] NOpWKcox14o: Downloading webpage\n",
            "[youtube] NOpWKcox14o: Downloading ios player API JSON\n",
            "[youtube] NOpWKcox14o: Downloading web creator player API JSON\n",
            "[youtube] NOpWKcox14o: Downloading m3u8 information\n",
            "[info] NOpWKcox14o: Downloading 1 format(s): 137+140\n",
            "[download] Destination: ASL_VIDEOS/021-YOU LIVE WHERE？ [Where do you live？].f137.mp4\n",
            "\u001b[K[download] 100% of    1.07MiB in \u001b[1;37m00:00:00\u001b[0m at \u001b[0;32m8.69MiB/s\u001b[0m\n",
            "[download] Destination: ASL_VIDEOS/021-YOU LIVE WHERE？ [Where do you live？].f140.m4a\n",
            "\u001b[K[download] 100% of   61.64KiB in \u001b[1;37m00:00:00\u001b[0m at \u001b[0;32m955.77KiB/s\u001b[0m\n",
            "[Merger] Merging formats into \"ASL_VIDEOS/021-YOU LIVE WHERE？ [Where do you live？].mp4\"\n",
            "Deleting original file ASL_VIDEOS/021-YOU LIVE WHERE？ [Where do you live？].f140.m4a (pass -k to keep)\n",
            "Deleting original file ASL_VIDEOS/021-YOU LIVE WHERE？ [Where do you live？].f137.mp4 (pass -k to keep)\n",
            "[download] Downloading item \u001b[0;32m22\u001b[0m of \u001b[0;94m147\u001b[0m\n",
            "[youtube] Extracting URL: https://www.youtube.com/watch?v=Jc-6r6jmTFI\n",
            "[youtube] Jc-6r6jmTFI: Downloading webpage\n",
            "[youtube] Jc-6r6jmTFI: Downloading ios player API JSON\n",
            "[youtube] Jc-6r6jmTFI: Downloading web creator player API JSON\n",
            "[youtube] Jc-6r6jmTFI: Downloading m3u8 information\n",
            "[info] Jc-6r6jmTFI: Downloading 1 format(s): 248+140\n",
            "[download] Destination: ASL_VIDEOS/022-Do what？ ⧸ what-DO？ ⧸ What to do？.f248.webm\n",
            "\u001b[K[download] 100% of  341.91KiB in \u001b[1;37m00:00:00\u001b[0m at \u001b[0;32m3.28MiB/s\u001b[0m\n",
            "[download] Destination: ASL_VIDEOS/022-Do what？ ⧸ what-DO？ ⧸ What to do？.f140.m4a\n",
            "\u001b[K[download] 100% of   41.19KiB in \u001b[1;37m00:00:00\u001b[0m at \u001b[0;32m221.96KiB/s\u001b[0m\n",
            "[Merger] Merging formats into \"ASL_VIDEOS/022-Do what？ ⧸ what-DO？ ⧸ What to do？.mkv\"\n",
            "Deleting original file ASL_VIDEOS/022-Do what？ ⧸ what-DO？ ⧸ What to do？.f248.webm (pass -k to keep)\n",
            "Deleting original file ASL_VIDEOS/022-Do what？ ⧸ what-DO？ ⧸ What to do？.f140.m4a (pass -k to keep)\n",
            "[download] Downloading item \u001b[0;32m23\u001b[0m of \u001b[0;94m147\u001b[0m\n",
            "[youtube] Extracting URL: https://www.youtube.com/watch?v=B9TD7vd2-lo\n",
            "[youtube] B9TD7vd2-lo: Downloading webpage\n",
            "[youtube] B9TD7vd2-lo: Downloading ios player API JSON\n",
            "[youtube] B9TD7vd2-lo: Downloading web creator player API JSON\n",
            "[youtube] B9TD7vd2-lo: Downloading m3u8 information\n",
            "[info] B9TD7vd2-lo: Downloading 1 format(s): 137+140\n",
            "[download] Destination: ASL_VIDEOS/023-BACKPACK-[C-hand version].f137.mp4\n",
            "\u001b[K[download] 100% of  292.42KiB in \u001b[1;37m00:00:00\u001b[0m at \u001b[0;32m997.67KiB/s\u001b[0m\n",
            "[download] Destination: ASL_VIDEOS/023-BACKPACK-[C-hand version].f140.m4a\n",
            "\u001b[K[download] 100% of   33.77KiB in \u001b[1;37m00:00:00\u001b[0m at \u001b[0;32m407.35KiB/s\u001b[0m\n",
            "[Merger] Merging formats into \"ASL_VIDEOS/023-BACKPACK-[C-hand version].mp4\"\n",
            "Deleting original file ASL_VIDEOS/023-BACKPACK-[C-hand version].f137.mp4 (pass -k to keep)\n",
            "Deleting original file ASL_VIDEOS/023-BACKPACK-[C-hand version].f140.m4a (pass -k to keep)\n",
            "[download] Downloading item \u001b[0;32m24\u001b[0m of \u001b[0;94m147\u001b[0m\n",
            "[youtube] Extracting URL: https://www.youtube.com/watch?v=K-sJyNpOMlI\n",
            "[youtube] K-sJyNpOMlI: Downloading webpage\n",
            "[youtube] K-sJyNpOMlI: Downloading ios player API JSON\n",
            "[youtube] K-sJyNpOMlI: Downloading web creator player API JSON\n",
            "[youtube] K-sJyNpOMlI: Downloading m3u8 information\n",
            "[info] K-sJyNpOMlI: Downloading 1 format(s): 137+140\n",
            "[download] Destination: ASL_VIDEOS/024-BOOK YOU LIKE READ, WHAT-KIND？.f137.mp4\n",
            "\u001b[K[download] 100% of    1.26MiB in \u001b[1;37m00:00:00\u001b[0m at \u001b[0;32m8.62MiB/s\u001b[0m\n",
            "[download] Destination: ASL_VIDEOS/024-BOOK YOU LIKE READ, WHAT-KIND？.f140.m4a\n",
            "\u001b[K[download] 100% of   86.57KiB in \u001b[1;37m00:00:00\u001b[0m at \u001b[0;32m186.85KiB/s\u001b[0m\n",
            "[Merger] Merging formats into \"ASL_VIDEOS/024-BOOK YOU LIKE READ, WHAT-KIND？.mp4\"\n",
            "Deleting original file ASL_VIDEOS/024-BOOK YOU LIKE READ, WHAT-KIND？.f137.mp4 (pass -k to keep)\n",
            "Deleting original file ASL_VIDEOS/024-BOOK YOU LIKE READ, WHAT-KIND？.f140.m4a (pass -k to keep)\n",
            "[download] Downloading item \u001b[0;32m25\u001b[0m of \u001b[0;94m147\u001b[0m\n",
            "[youtube] Extracting URL: https://www.youtube.com/watch?v=iGaLvAP4W1s\n",
            "[youtube] iGaLvAP4W1s: Downloading webpage\n",
            "[youtube] iGaLvAP4W1s: Downloading ios player API JSON\n",
            "[youtube] iGaLvAP4W1s: Downloading web creator player API JSON\n",
            "[youtube] iGaLvAP4W1s: Downloading m3u8 information\n",
            "[info] iGaLvAP4W1s: Downloading 1 format(s): 137+140\n",
            "[download] Destination: ASL_VIDEOS/025-HAVE PET YOU？ [if so] NAME？.f137.mp4\n",
            "\u001b[K[download] 100% of    1.15MiB in \u001b[1;37m00:00:00\u001b[0m at \u001b[0;32m8.48MiB/s\u001b[0m\n",
            "[download] Destination: ASL_VIDEOS/025-HAVE PET YOU？ [if so] NAME？.f140.m4a\n",
            "\u001b[K[download] 100% of   77.41KiB in \u001b[1;37m00:00:00\u001b[0m at \u001b[0;32m316.06KiB/s\u001b[0m\n",
            "[Merger] Merging formats into \"ASL_VIDEOS/025-HAVE PET YOU？ [if so] NAME？.mp4\"\n",
            "Deleting original file ASL_VIDEOS/025-HAVE PET YOU？ [if so] NAME？.f140.m4a (pass -k to keep)\n",
            "Deleting original file ASL_VIDEOS/025-HAVE PET YOU？ [if so] NAME？.f137.mp4 (pass -k to keep)\n",
            "[download] Downloading item \u001b[0;32m26\u001b[0m of \u001b[0;94m147\u001b[0m\n",
            "[youtube] Extracting URL: https://www.youtube.com/watch?v=xQCWPv-PrVM\n",
            "[youtube] xQCWPv-PrVM: Downloading webpage\n",
            "[youtube] xQCWPv-PrVM: Downloading ios player API JSON\n",
            "[youtube] xQCWPv-PrVM: Downloading web creator player API JSON\n",
            "[youtube] xQCWPv-PrVM: Downloading m3u8 information\n",
            "[info] xQCWPv-PrVM: Downloading 1 format(s): 137+140\n",
            "[download] Destination: ASL_VIDEOS/026-CALL-by-phone ⧸ called ⧸ CALL-you [Hearing version].f137.mp4\n",
            "\u001b[K[download] 100% of  527.47KiB in \u001b[1;37m00:00:00\u001b[0m at \u001b[0;32m4.00MiB/s\u001b[0m\n",
            "[download] Destination: ASL_VIDEOS/026-CALL-by-phone ⧸ called ⧸ CALL-you [Hearing version].f140.m4a\n",
            "\u001b[K[download] 100% of   35.97KiB in \u001b[1;37m00:00:00\u001b[0m at \u001b[0;32m202.28KiB/s\u001b[0m\n",
            "[Merger] Merging formats into \"ASL_VIDEOS/026-CALL-by-phone ⧸ called ⧸ CALL-you [Hearing version].mp4\"\n",
            "Deleting original file ASL_VIDEOS/026-CALL-by-phone ⧸ called ⧸ CALL-you [Hearing version].f140.m4a (pass -k to keep)\n",
            "Deleting original file ASL_VIDEOS/026-CALL-by-phone ⧸ called ⧸ CALL-you [Hearing version].f137.mp4 (pass -k to keep)\n",
            "[download] Downloading item \u001b[0;32m27\u001b[0m of \u001b[0;94m147\u001b[0m\n",
            "[youtube] Extracting URL: https://www.youtube.com/watch?v=aQ3JNyVy5ik\n",
            "[youtube] aQ3JNyVy5ik: Downloading webpage\n",
            "[youtube] aQ3JNyVy5ik: Downloading ios player API JSON\n",
            "[youtube] aQ3JNyVy5ik: Downloading web creator player API JSON\n",
            "[youtube] aQ3JNyVy5ik: Downloading m3u8 information\n",
            "[info] aQ3JNyVy5ik: Downloading 1 format(s): 137+140\n",
            "[download] Destination: ASL_VIDEOS/027-YOU FEEL ANXIOUS, WHEN？.f137.mp4\n",
            "\u001b[K[download] 100% of    1.60MiB in \u001b[1;37m00:00:00\u001b[0m at \u001b[0;32m4.76MiB/s\u001b[0m\n",
            "[download] Destination: ASL_VIDEOS/027-YOU FEEL ANXIOUS, WHEN？.f140.m4a\n",
            "\u001b[K[download] 100% of   91.34KiB in \u001b[1;37m00:00:00\u001b[0m at \u001b[0;32m340.22KiB/s\u001b[0m\n",
            "[Merger] Merging formats into \"ASL_VIDEOS/027-YOU FEEL ANXIOUS, WHEN？.mp4\"\n",
            "Deleting original file ASL_VIDEOS/027-YOU FEEL ANXIOUS, WHEN？.f137.mp4 (pass -k to keep)\n",
            "Deleting original file ASL_VIDEOS/027-YOU FEEL ANXIOUS, WHEN？.f140.m4a (pass -k to keep)\n",
            "[download] Downloading item \u001b[0;32m28\u001b[0m of \u001b[0;94m147\u001b[0m\n",
            "[youtube] Extracting URL: https://www.youtube.com/watch?v=nBcV1iiSfPg\n",
            "[youtube] nBcV1iiSfPg: Downloading webpage\n",
            "[youtube] nBcV1iiSfPg: Downloading ios player API JSON\n",
            "[youtube] nBcV1iiSfPg: Downloading web creator player API JSON\n",
            "[youtube] nBcV1iiSfPg: Downloading m3u8 information\n",
            "[info] nBcV1iiSfPg: Downloading 1 format(s): 137+140\n",
            "[download] Destination: ASL_VIDEOS/028-PAST WEEKEND WHAT-DO YOU？ (What did you do last weekend？).f137.mp4\n",
            "\u001b[K[download] 100% of    1.26MiB in \u001b[1;37m00:00:00\u001b[0m at \u001b[0;32m8.51MiB/s\u001b[0m\n",
            "[download] Destination: ASL_VIDEOS/028-PAST WEEKEND WHAT-DO YOU？ (What did you do last weekend？).f140.m4a\n",
            "\u001b[K[download] 100% of   68.97KiB in \u001b[1;37m00:00:00\u001b[0m at \u001b[0;32m350.27KiB/s\u001b[0m\n",
            "[Merger] Merging formats into \"ASL_VIDEOS/028-PAST WEEKEND WHAT-DO YOU？ (What did you do last weekend？).mp4\"\n",
            "Deleting original file ASL_VIDEOS/028-PAST WEEKEND WHAT-DO YOU？ (What did you do last weekend？).f137.mp4 (pass -k to keep)\n",
            "Deleting original file ASL_VIDEOS/028-PAST WEEKEND WHAT-DO YOU？ (What did you do last weekend？).f140.m4a (pass -k to keep)\n",
            "[download] Downloading item \u001b[0;32m29\u001b[0m of \u001b[0;94m147\u001b[0m\n",
            "[youtube] Extracting URL: https://www.youtube.com/watch?v=hoSlRUAK9n0\n",
            "[youtube] hoSlRUAK9n0: Downloading webpage\n",
            "[youtube] hoSlRUAK9n0: Downloading ios player API JSON\n",
            "[youtube] hoSlRUAK9n0: Downloading web creator player API JSON\n",
            "[youtube] hoSlRUAK9n0: Downloading m3u8 information\n",
            "[info] hoSlRUAK9n0: Downloading 1 format(s): 137+140\n",
            "[download] Destination: ASL_VIDEOS/029-COLLEGE, YOU GRADUATE WHEN？.f137.mp4\n",
            "\u001b[K[download] 100% of    1.21MiB in \u001b[1;37m00:00:00\u001b[0m at \u001b[0;32m8.59MiB/s\u001b[0m\n",
            "[download] Destination: ASL_VIDEOS/029-COLLEGE, YOU GRADUATE WHEN？.f140.m4a\n",
            "\u001b[K[download] 100% of   92.44KiB in \u001b[1;37m00:00:00\u001b[0m at \u001b[0;32m409.33KiB/s\u001b[0m\n",
            "[Merger] Merging formats into \"ASL_VIDEOS/029-COLLEGE, YOU GRADUATE WHEN？.mp4\"\n",
            "Deleting original file ASL_VIDEOS/029-COLLEGE, YOU GRADUATE WHEN？.f140.m4a (pass -k to keep)\n",
            "Deleting original file ASL_VIDEOS/029-COLLEGE, YOU GRADUATE WHEN？.f137.mp4 (pass -k to keep)\n",
            "[download] Downloading item \u001b[0;32m30\u001b[0m of \u001b[0;94m147\u001b[0m\n",
            "[youtube] Extracting URL: https://www.youtube.com/watch?v=ll45Mwe1X3A\n",
            "[youtube] ll45Mwe1X3A: Downloading webpage\n",
            "[youtube] ll45Mwe1X3A: Downloading ios player API JSON\n",
            "[youtube] ll45Mwe1X3A: Downloading web creator player API JSON\n",
            "[youtube] ll45Mwe1X3A: Downloading m3u8 information\n",
            "[info] ll45Mwe1X3A: Downloading 1 format(s): 137+140\n",
            "[download] Destination: ASL_VIDEOS/030-YOU THINK THIS CLASS EASY？.f137.mp4\n",
            "\u001b[K[download] 100% of  583.97KiB in \u001b[1;37m00:00:00\u001b[0m at \u001b[0;32m2.04MiB/s\u001b[0m\n",
            "[download] Destination: ASL_VIDEOS/030-YOU THINK THIS CLASS EASY？.f140.m4a\n",
            "\u001b[K[download] 100% of   62.37KiB in \u001b[1;37m00:00:00\u001b[0m at \u001b[0;32m535.28KiB/s\u001b[0m\n",
            "[Merger] Merging formats into \"ASL_VIDEOS/030-YOU THINK THIS CLASS EASY？.mp4\"\n",
            "Deleting original file ASL_VIDEOS/030-YOU THINK THIS CLASS EASY？.f137.mp4 (pass -k to keep)\n",
            "Deleting original file ASL_VIDEOS/030-YOU THINK THIS CLASS EASY？.f140.m4a (pass -k to keep)\n",
            "[download] Downloading item \u001b[0;32m31\u001b[0m of \u001b[0;94m147\u001b[0m\n",
            "[youtube] Extracting URL: https://www.youtube.com/watch?v=opGSFLEio9E\n",
            "[youtube] opGSFLEio9E: Downloading webpage\n",
            "[youtube] opGSFLEio9E: Downloading ios player API JSON\n",
            "[youtube] opGSFLEio9E: Downloading web creator player API JSON\n",
            "[youtube] opGSFLEio9E: Downloading m3u8 information\n",
            "[info] opGSFLEio9E: Downloading 1 format(s): 137+140\n",
            "[download] Destination: ASL_VIDEOS/031-GO-TO-BED.f137.mp4\n",
            "\u001b[K[download] 100% of  258.82KiB in \u001b[1;37m00:00:00\u001b[0m at \u001b[0;32m2.41MiB/s\u001b[0m\n",
            "[download] Destination: ASL_VIDEOS/031-GO-TO-BED.f140.m4a\n",
            "\u001b[K[download] 100% of   34.50KiB in \u001b[1;37m00:00:00\u001b[0m at \u001b[0;32m201.98KiB/s\u001b[0m\n",
            "[Merger] Merging formats into \"ASL_VIDEOS/031-GO-TO-BED.mp4\"\n",
            "Deleting original file ASL_VIDEOS/031-GO-TO-BED.f140.m4a (pass -k to keep)\n",
            "Deleting original file ASL_VIDEOS/031-GO-TO-BED.f137.mp4 (pass -k to keep)\n",
            "[download] Downloading item \u001b[0;32m32\u001b[0m of \u001b[0;94m147\u001b[0m\n",
            "[youtube] Extracting URL: https://www.youtube.com/watch?v=HWT2F6PDRD8\n",
            "[youtube] HWT2F6PDRD8: Downloading webpage\n",
            "[youtube] HWT2F6PDRD8: Downloading ios player API JSON\n",
            "[youtube] HWT2F6PDRD8: Downloading web creator player API JSON\n",
            "[youtube] HWT2F6PDRD8: Downloading m3u8 information\n",
            "[info] HWT2F6PDRD8: Downloading 1 format(s): 137+140\n",
            "[download] Destination: ASL_VIDEOS/032-FEEL SICK YOU？.f137.mp4\n",
            "\u001b[K[download] 100% of  860.35KiB in \u001b[1;37m00:00:00\u001b[0m at \u001b[0;32m4.59MiB/s\u001b[0m\n",
            "[download] Destination: ASL_VIDEOS/032-FEEL SICK YOU？.f140.m4a\n",
            "\u001b[K[download] 100% of   51.74KiB in \u001b[1;37m00:00:00\u001b[0m at \u001b[0;32m557.65KiB/s\u001b[0m\n",
            "[Merger] Merging formats into \"ASL_VIDEOS/032-FEEL SICK YOU？.mp4\"\n",
            "Deleting original file ASL_VIDEOS/032-FEEL SICK YOU？.f140.m4a (pass -k to keep)\n",
            "Deleting original file ASL_VIDEOS/032-FEEL SICK YOU？.f137.mp4 (pass -k to keep)\n",
            "[download] Downloading item \u001b[0;32m33\u001b[0m of \u001b[0;94m147\u001b[0m\n",
            "[youtube] Extracting URL: https://www.youtube.com/watch?v=-eN5mw4tIjQ\n",
            "[youtube] -eN5mw4tIjQ: Downloading webpage\n",
            "[youtube] -eN5mw4tIjQ: Downloading ios player API JSON\n",
            "[youtube] -eN5mw4tIjQ: Downloading web creator player API JSON\n",
            "[youtube] -eN5mw4tIjQ: Downloading m3u8 information\n",
            "[info] -eN5mw4tIjQ: Downloading 1 format(s): 137+140\n",
            "[download] Destination: ASL_VIDEOS/033-YOU USE DEODORANT do-YOU？.f137.mp4\n",
            "\u001b[K[download] 100% of  287.06KiB in \u001b[1;37m00:00:00\u001b[0m at \u001b[0;32m1.13MiB/s\u001b[0m\n",
            "[download] Destination: ASL_VIDEOS/033-YOU USE DEODORANT do-YOU？.f140.m4a\n",
            "\u001b[K[download] 100% of   50.27KiB in \u001b[1;37m00:00:00\u001b[0m at \u001b[0;32m236.05KiB/s\u001b[0m\n",
            "[Merger] Merging formats into \"ASL_VIDEOS/033-YOU USE DEODORANT do-YOU？.mp4\"\n",
            "Deleting original file ASL_VIDEOS/033-YOU USE DEODORANT do-YOU？.f137.mp4 (pass -k to keep)\n",
            "Deleting original file ASL_VIDEOS/033-YOU USE DEODORANT do-YOU？.f140.m4a (pass -k to keep)\n",
            "[download] Downloading item \u001b[0;32m34\u001b[0m of \u001b[0;94m147\u001b[0m\n",
            "[youtube] Extracting URL: https://www.youtube.com/watch?v=sw5oWFw1z-M\n",
            "[youtube] sw5oWFw1z-M: Downloading webpage\n",
            "[youtube] sw5oWFw1z-M: Downloading ios player API JSON\n",
            "[youtube] sw5oWFw1z-M: Downloading web creator player API JSON\n",
            "[youtube] sw5oWFw1z-M: Downloading m3u8 information\n",
            "[info] sw5oWFw1z-M: Downloading 1 format(s): 137+140\n",
            "[download] Destination: ASL_VIDEOS/034-YOU LIKE COOK？.f137.mp4\n",
            "\u001b[K[download] 100% of  632.58KiB in \u001b[1;37m00:00:00\u001b[0m at \u001b[0;32m5.20MiB/s\u001b[0m\n",
            "[download] Destination: ASL_VIDEOS/034-YOU LIKE COOK？.f140.m4a\n",
            "\u001b[K[download] 100% of   46.23KiB in \u001b[1;37m00:00:00\u001b[0m at \u001b[0;32m250.04KiB/s\u001b[0m\n",
            "[Merger] Merging formats into \"ASL_VIDEOS/034-YOU LIKE COOK？.mp4\"\n",
            "Deleting original file ASL_VIDEOS/034-YOU LIKE COOK？.f140.m4a (pass -k to keep)\n",
            "Deleting original file ASL_VIDEOS/034-YOU LIKE COOK？.f137.mp4 (pass -k to keep)\n",
            "[download] Downloading item \u001b[0;32m35\u001b[0m of \u001b[0;94m147\u001b[0m\n",
            "[youtube] Extracting URL: https://www.youtube.com/watch?v=syqtt0Nabns\n",
            "[youtube] syqtt0Nabns: Downloading webpage\n",
            "[youtube] syqtt0Nabns: Downloading ios player API JSON\n",
            "[youtube] syqtt0Nabns: Downloading web creator player API JSON\n",
            "[youtube] syqtt0Nabns: Downloading m3u8 information\n",
            "[info] syqtt0Nabns: Downloading 1 format(s): 137+140\n",
            "[download] Destination: ASL_VIDEOS/035-PICTURE YOUR FAMILY YOU HAVE？.f137.mp4\n",
            "\u001b[K[download] 100% of  759.45KiB in \u001b[1;37m00:00:00\u001b[0m at \u001b[0;32m6.20MiB/s\u001b[0m\n",
            "[download] Destination: ASL_VIDEOS/035-PICTURE YOUR FAMILY YOU HAVE？.f140.m4a\n",
            "\u001b[K[download] 100% of   77.04KiB in \u001b[1;37m00:00:00\u001b[0m at \u001b[0;32m221.00KiB/s\u001b[0m\n",
            "[Merger] Merging formats into \"ASL_VIDEOS/035-PICTURE YOUR FAMILY YOU HAVE？.mp4\"\n",
            "Deleting original file ASL_VIDEOS/035-PICTURE YOUR FAMILY YOU HAVE？.f137.mp4 (pass -k to keep)\n",
            "Deleting original file ASL_VIDEOS/035-PICTURE YOUR FAMILY YOU HAVE？.f140.m4a (pass -k to keep)\n",
            "[download] Downloading item \u001b[0;32m36\u001b[0m of \u001b[0;94m147\u001b[0m\n",
            "[youtube] Extracting URL: https://www.youtube.com/watch?v=z-BwDb6w7ws\n",
            "[youtube] z-BwDb6w7ws: Downloading webpage\n",
            "[youtube] z-BwDb6w7ws: Downloading ios player API JSON\n",
            "[youtube] z-BwDb6w7ws: Downloading web creator player API JSON\n",
            "[youtube] z-BwDb6w7ws: Downloading m3u8 information\n",
            "[info] z-BwDb6w7ws: Downloading 1 format(s): 248+140\n",
            "[download] Destination: ASL_VIDEOS/036-how-MUCH？-[1-hand-version].f248.webm\n",
            "\u001b[K[download] 100% of  193.84KiB in \u001b[1;37m00:00:00\u001b[0m at \u001b[0;32m1.87MiB/s\u001b[0m\n",
            "[download] Destination: ASL_VIDEOS/036-how-MUCH？-[1-hand-version].f140.m4a\n",
            "\u001b[K[download] 100% of   40.46KiB in \u001b[1;37m00:00:00\u001b[0m at \u001b[0;32m227.72KiB/s\u001b[0m\n",
            "[Merger] Merging formats into \"ASL_VIDEOS/036-how-MUCH？-[1-hand-version].mkv\"\n",
            "Deleting original file ASL_VIDEOS/036-how-MUCH？-[1-hand-version].f140.m4a (pass -k to keep)\n",
            "Deleting original file ASL_VIDEOS/036-how-MUCH？-[1-hand-version].f248.webm (pass -k to keep)\n",
            "[download] Downloading item \u001b[0;32m37\u001b[0m of \u001b[0;94m147\u001b[0m\n",
            "[youtube] Extracting URL: https://www.youtube.com/watch?v=Cnb-HYBxCJI\n",
            "[youtube] Cnb-HYBxCJI: Downloading webpage\n",
            "[youtube] Cnb-HYBxCJI: Downloading ios player API JSON\n",
            "[youtube] Cnb-HYBxCJI: Downloading web creator player API JSON\n",
            "[youtube] Cnb-HYBxCJI: Downloading m3u8 information\n",
            "[info] Cnb-HYBxCJI: Downloading 1 format(s): 135+140\n",
            "[download] Destination: ASL_VIDEOS/037-your city have subway？.f135.mp4\n",
            "\u001b[K[download] 100% of  343.85KiB in \u001b[1;37m00:00:00\u001b[0m at \u001b[0;32m2.93MiB/s\u001b[0m\n",
            "[download] Destination: ASL_VIDEOS/037-your city have subway？.f140.m4a\n",
            "\u001b[K[download] 100% of   86.57KiB in \u001b[1;37m00:00:00\u001b[0m at \u001b[0;32m399.73KiB/s\u001b[0m\n",
            "[Merger] Merging formats into \"ASL_VIDEOS/037-your city have subway？.mp4\"\n",
            "Deleting original file ASL_VIDEOS/037-your city have subway？.f140.m4a (pass -k to keep)\n",
            "Deleting original file ASL_VIDEOS/037-your city have subway？.f135.mp4 (pass -k to keep)\n",
            "[download] Downloading item \u001b[0;32m38\u001b[0m of \u001b[0;94m147\u001b[0m\n",
            "[youtube] Extracting URL: https://www.youtube.com/watch?v=95XUpcCDojM\n",
            "[youtube] 95XUpcCDojM: Downloading webpage\n",
            "[youtube] 95XUpcCDojM: Downloading ios player API JSON\n",
            "[youtube] 95XUpcCDojM: Downloading web creator player API JSON\n",
            "[youtube] 95XUpcCDojM: Downloading m3u8 information\n",
            "[info] 95XUpcCDojM: Downloading 1 format(s): 137+140\n",
            "[download] Destination: ASL_VIDEOS/038-YOU PREFER CAR [bodyshift-＂or＂] TRUCK？.f137.mp4\n",
            "\u001b[K[download] 100% of    1.72MiB in \u001b[1;37m00:00:00\u001b[0m at \u001b[0;32m12.16MiB/s\u001b[0m\n",
            "[download] Destination: ASL_VIDEOS/038-YOU PREFER CAR [bodyshift-＂or＂] TRUCK？.f140.m4a\n",
            "\u001b[K[download] 100% of   96.11KiB in \u001b[1;37m00:00:00\u001b[0m at \u001b[0;32m203.13KiB/s\u001b[0m\n",
            "[Merger] Merging formats into \"ASL_VIDEOS/038-YOU PREFER CAR [bodyshift-＂or＂] TRUCK？.mp4\"\n",
            "Deleting original file ASL_VIDEOS/038-YOU PREFER CAR [bodyshift-＂or＂] TRUCK？.f137.mp4 (pass -k to keep)\n",
            "Deleting original file ASL_VIDEOS/038-YOU PREFER CAR [bodyshift-＂or＂] TRUCK？.f140.m4a (pass -k to keep)\n",
            "[download] Downloading item \u001b[0;32m39\u001b[0m of \u001b[0;94m147\u001b[0m\n",
            "[youtube] Extracting URL: https://www.youtube.com/watch?v=DN1QXUwV7FI\n",
            "[youtube] DN1QXUwV7FI: Downloading webpage\n",
            "[youtube] DN1QXUwV7FI: Downloading ios player API JSON\n",
            "[youtube] DN1QXUwV7FI: Downloading web creator player API JSON\n",
            "[youtube] DN1QXUwV7FI: Downloading m3u8 information\n",
            "[info] DN1QXUwV7FI: Downloading 1 format(s): 137+140\n",
            "[download] Destination: ASL_VIDEOS/039-up-to-you-[THINK-SELF]-think-for-yourself.f137.mp4\n",
            "\u001b[K[download] 100% of  298.71KiB in \u001b[1;37m00:00:00\u001b[0m at \u001b[0;32m1.53MiB/s\u001b[0m\n",
            "[download] Destination: ASL_VIDEOS/039-up-to-you-[THINK-SELF]-think-for-yourself.f140.m4a\n",
            "\u001b[K[download] 100% of   32.67KiB in \u001b[1;37m00:00:00\u001b[0m at \u001b[0;32m247.53KiB/s\u001b[0m\n",
            "[Merger] Merging formats into \"ASL_VIDEOS/039-up-to-you-[THINK-SELF]-think-for-yourself.mp4\"\n",
            "Deleting original file ASL_VIDEOS/039-up-to-you-[THINK-SELF]-think-for-yourself.f137.mp4 (pass -k to keep)\n",
            "Deleting original file ASL_VIDEOS/039-up-to-you-[THINK-SELF]-think-for-yourself.f140.m4a (pass -k to keep)\n",
            "[download] Downloading item \u001b[0;32m40\u001b[0m of \u001b[0;94m147\u001b[0m\n",
            "[youtube] Extracting URL: https://www.youtube.com/watch?v=TOapCa9toaE\n",
            "[youtube] TOapCa9toaE: Downloading webpage\n",
            "[youtube] TOapCa9toaE: Downloading ios player API JSON\n",
            "[youtube] TOapCa9toaE: Downloading web creator player API JSON\n",
            "[youtube] TOapCa9toaE: Downloading m3u8 information\n",
            "[info] TOapCa9toaE: Downloading 1 format(s): 137+140\n",
            "[download] Destination: ASL_VIDEOS/040-hide and seek you like play？.f137.mp4\n",
            "\u001b[K[download] 100% of    1.66MiB in \u001b[1;37m00:00:00\u001b[0m at \u001b[0;32m12.14MiB/s\u001b[0m\n",
            "[download] Destination: ASL_VIDEOS/040-hide and seek you like play？.f140.m4a\n",
            "\u001b[K[download] 100% of   94.27KiB in \u001b[1;37m00:00:00\u001b[0m at \u001b[0;32m393.15KiB/s\u001b[0m\n",
            "[Merger] Merging formats into \"ASL_VIDEOS/040-hide and seek you like play？.mp4\"\n",
            "Deleting original file ASL_VIDEOS/040-hide and seek you like play？.f137.mp4 (pass -k to keep)\n",
            "Deleting original file ASL_VIDEOS/040-hide and seek you like play？.f140.m4a (pass -k to keep)\n",
            "[download] Downloading item \u001b[0;32m41\u001b[0m of \u001b[0;94m147\u001b[0m\n",
            "[youtube] Extracting URL: https://www.youtube.com/watch?v=fkGa5eHpDqQ\n",
            "[youtube] fkGa5eHpDqQ: Downloading webpage\n",
            "[youtube] fkGa5eHpDqQ: Downloading ios player API JSON\n",
            "[youtube] fkGa5eHpDqQ: Downloading web creator player API JSON\n",
            "[youtube] fkGa5eHpDqQ: Downloading m3u8 information\n",
            "[info] fkGa5eHpDqQ: Downloading 1 format(s): 137+140\n",
            "[download] Destination: ASL_VIDEOS/041-MOVIE, YOU WANT WATCH？.f137.mp4\n",
            "\u001b[K[download] 100% of    1.09MiB in \u001b[1;37m00:00:00\u001b[0m at \u001b[0;32m8.29MiB/s\u001b[0m\n",
            "[download] Destination: ASL_VIDEOS/041-MOVIE, YOU WANT WATCH？.f140.m4a\n",
            "\u001b[K[download] 100% of   61.27KiB in \u001b[1;37m00:00:00\u001b[0m at \u001b[0;32m852.33KiB/s\u001b[0m\n",
            "[Merger] Merging formats into \"ASL_VIDEOS/041-MOVIE, YOU WANT WATCH？.mp4\"\n",
            "Deleting original file ASL_VIDEOS/041-MOVIE, YOU WANT WATCH？.f140.m4a (pass -k to keep)\n",
            "Deleting original file ASL_VIDEOS/041-MOVIE, YOU WANT WATCH？.f137.mp4 (pass -k to keep)\n",
            "[download] Downloading item \u001b[0;32m42\u001b[0m of \u001b[0;94m147\u001b[0m\n",
            "[youtube] Extracting URL: https://www.youtube.com/watch?v=fvUlxlZ87nU\n",
            "[youtube] fvUlxlZ87nU: Downloading webpage\n",
            "[youtube] fvUlxlZ87nU: Downloading ios player API JSON\n",
            "[youtube] fvUlxlZ87nU: Downloading web creator player API JSON\n",
            "[youtube] fvUlxlZ87nU: Downloading m3u8 information\n",
            "[info] fvUlxlZ87nU: Downloading 1 format(s): 137+140\n",
            "[download] Destination: ASL_VIDEOS/042-YOU FEEL STUPID SOMETIMES？.f137.mp4\n",
            "\u001b[K[download] 100% of    1.47MiB in \u001b[1;37m00:00:00\u001b[0m at \u001b[0;32m4.27MiB/s\u001b[0m\n",
            "[download] Destination: ASL_VIDEOS/042-YOU FEEL STUPID SOMETIMES？.f140.m4a\n",
            "\u001b[K[download] 100% of   84.01KiB in \u001b[1;37m00:00:00\u001b[0m at \u001b[0;32m1008.45KiB/s\u001b[0m\n",
            "[Merger] Merging formats into \"ASL_VIDEOS/042-YOU FEEL STUPID SOMETIMES？.mp4\"\n",
            "Deleting original file ASL_VIDEOS/042-YOU FEEL STUPID SOMETIMES？.f140.m4a (pass -k to keep)\n",
            "Deleting original file ASL_VIDEOS/042-YOU FEEL STUPID SOMETIMES？.f137.mp4 (pass -k to keep)\n",
            "[download] Downloading item \u001b[0;32m43\u001b[0m of \u001b[0;94m147\u001b[0m\n",
            "[youtube] Extracting URL: https://www.youtube.com/watch?v=JIRHlrfXtZc\n",
            "[youtube] JIRHlrfXtZc: Downloading webpage\n",
            "[youtube] JIRHlrfXtZc: Downloading ios player API JSON\n",
            "[youtube] JIRHlrfXtZc: Downloading web creator player API JSON\n",
            "[youtube] JIRHlrfXtZc: Downloading m3u8 information\n",
            "[info] JIRHlrfXtZc: Downloading 1 format(s): 137+140\n",
            "[download] Destination: ASL_VIDEOS/043-CAN KEEP SECRET YOU？.f137.mp4\n",
            "\u001b[K[download] 100% of  800.02KiB in \u001b[1;37m00:00:00\u001b[0m at \u001b[0;32m2.72MiB/s\u001b[0m\n",
            "[download] Destination: ASL_VIDEOS/043-CAN KEEP SECRET YOU？.f140.m4a\n",
            "\u001b[K[download] 100% of   72.27KiB in \u001b[1;37m00:00:00\u001b[0m at \u001b[0;32m715.96KiB/s\u001b[0m\n",
            "[Merger] Merging formats into \"ASL_VIDEOS/043-CAN KEEP SECRET YOU？.mp4\"\n",
            "Deleting original file ASL_VIDEOS/043-CAN KEEP SECRET YOU？.f140.m4a (pass -k to keep)\n",
            "Deleting original file ASL_VIDEOS/043-CAN KEEP SECRET YOU？.f137.mp4 (pass -k to keep)\n",
            "[download] Downloading item \u001b[0;32m44\u001b[0m of \u001b[0;94m147\u001b[0m\n",
            "[youtube] Extracting URL: https://www.youtube.com/watch?v=vVj_ejxRbRM\n",
            "[youtube] vVj_ejxRbRM: Downloading webpage\n",
            "[youtube] vVj_ejxRbRM: Downloading ios player API JSON\n",
            "[youtube] vVj_ejxRbRM: Downloading web creator player API JSON\n",
            "[youtube] vVj_ejxRbRM: Downloading m3u8 information\n",
            "[info] vVj_ejxRbRM: Downloading 1 format(s): 137+140\n",
            "[download] Destination: ASL_VIDEOS/044-YOU HAIRCUT, HOW OFTEN？.f137.mp4\n",
            "\u001b[K[download] 100% of  632.42KiB in \u001b[1;37m00:00:00\u001b[0m at \u001b[0;32m2.23MiB/s\u001b[0m\n",
            "[download] Destination: ASL_VIDEOS/044-YOU HAIRCUT, HOW OFTEN？.f140.m4a\n",
            "\u001b[K[download] 100% of   51.74KiB in \u001b[1;37m00:00:00\u001b[0m at \u001b[0;32m410.60KiB/s\u001b[0m\n",
            "[Merger] Merging formats into \"ASL_VIDEOS/044-YOU HAIRCUT, HOW OFTEN？.mp4\"\n",
            "Deleting original file ASL_VIDEOS/044-YOU HAIRCUT, HOW OFTEN？.f140.m4a (pass -k to keep)\n",
            "Deleting original file ASL_VIDEOS/044-YOU HAIRCUT, HOW OFTEN？.f137.mp4 (pass -k to keep)\n",
            "[download] Downloading item \u001b[0;32m45\u001b[0m of \u001b[0;94m147\u001b[0m\n",
            "[youtube] Extracting URL: https://www.youtube.com/watch?v=2gbsdeyY8xo\n",
            "[youtube] 2gbsdeyY8xo: Downloading webpage\n",
            "[youtube] 2gbsdeyY8xo: Downloading ios player API JSON\n",
            "[youtube] 2gbsdeyY8xo: Downloading web creator player API JSON\n",
            "[youtube] 2gbsdeyY8xo: Downloading m3u8 information\n",
            "[info] 2gbsdeyY8xo: Downloading 1 format(s): 137+140\n",
            "[download] Destination: ASL_VIDEOS/045-YOUR HOUSE, WHO MANAGE？.f137.mp4\n",
            "\u001b[K[download] 100% of  829.02KiB in \u001b[1;37m00:00:00\u001b[0m at \u001b[0;32m2.66MiB/s\u001b[0m\n",
            "[download] Destination: ASL_VIDEOS/045-YOUR HOUSE, WHO MANAGE？.f140.m4a\n",
            "\u001b[K[download] 100% of   77.04KiB in \u001b[1;37m00:00:00\u001b[0m at \u001b[0;32m318.03KiB/s\u001b[0m\n",
            "[Merger] Merging formats into \"ASL_VIDEOS/045-YOUR HOUSE, WHO MANAGE？.mp4\"\n",
            "Deleting original file ASL_VIDEOS/045-YOUR HOUSE, WHO MANAGE？.f140.m4a (pass -k to keep)\n",
            "Deleting original file ASL_VIDEOS/045-YOUR HOUSE, WHO MANAGE？.f137.mp4 (pass -k to keep)\n",
            "[download] Downloading item \u001b[0;32m46\u001b[0m of \u001b[0;94m147\u001b[0m\n",
            "[youtube] Extracting URL: https://www.youtube.com/watch?v=7BTCriG0I-4\n",
            "[youtube] 7BTCriG0I-4: Downloading webpage\n",
            "[youtube] 7BTCriG0I-4: Downloading ios player API JSON\n",
            "[youtube] 7BTCriG0I-4: Downloading web creator player API JSON\n",
            "[youtube] 7BTCriG0I-4: Downloading m3u8 information\n",
            "[info] 7BTCriG0I-4: Downloading 1 format(s): 137+140\n",
            "[download] Destination: ASL_VIDEOS/046-YOU LIKE DANCE YOU？.f137.mp4\n",
            "\u001b[K[download] 100% of  928.61KiB in \u001b[1;37m00:00:00\u001b[0m at \u001b[0;32m2.79MiB/s\u001b[0m\n",
            "[download] Destination: ASL_VIDEOS/046-YOU LIKE DANCE YOU？.f140.m4a\n",
            "\u001b[K[download] 100% of   51.37KiB in \u001b[1;37m00:00:00\u001b[0m at \u001b[0;32m427.86KiB/s\u001b[0m\n",
            "[Merger] Merging formats into \"ASL_VIDEOS/046-YOU LIKE DANCE YOU？.mp4\"\n",
            "Deleting original file ASL_VIDEOS/046-YOU LIKE DANCE YOU？.f140.m4a (pass -k to keep)\n",
            "Deleting original file ASL_VIDEOS/046-YOU LIKE DANCE YOU？.f137.mp4 (pass -k to keep)\n",
            "[download] Downloading item \u001b[0;32m47\u001b[0m of \u001b[0;94m147\u001b[0m\n",
            "[youtube] Extracting URL: https://www.youtube.com/watch?v=TjsJ1KUodTw\n",
            "[youtube] TjsJ1KUodTw: Downloading webpage\n",
            "[youtube] TjsJ1KUodTw: Downloading ios player API JSON\n",
            "[youtube] TjsJ1KUodTw: Downloading web creator player API JSON\n",
            "[youtube] TjsJ1KUodTw: Downloading m3u8 information\n",
            "[info] TjsJ1KUodTw: Downloading 1 format(s): 137+140\n",
            "[download] Destination: ASL_VIDEOS/047-YOUR RESUME, HOW MANY PAGE？.f137.mp4\n",
            "\u001b[K[download] 100% of  912.77KiB in \u001b[1;37m00:00:00\u001b[0m at \u001b[0;32m6.92MiB/s\u001b[0m\n",
            "[download] Destination: ASL_VIDEOS/047-YOUR RESUME, HOW MANY PAGE？.f140.m4a\n",
            "\u001b[K[download] 100% of   70.07KiB in \u001b[1;37m00:00:00\u001b[0m at \u001b[0;32m341.22KiB/s\u001b[0m\n",
            "[Merger] Merging formats into \"ASL_VIDEOS/047-YOUR RESUME, HOW MANY PAGE？.mp4\"\n",
            "Deleting original file ASL_VIDEOS/047-YOUR RESUME, HOW MANY PAGE？.f137.mp4 (pass -k to keep)\n",
            "Deleting original file ASL_VIDEOS/047-YOUR RESUME, HOW MANY PAGE？.f140.m4a (pass -k to keep)\n",
            "[download] Downloading item \u001b[0;32m48\u001b[0m of \u001b[0;94m147\u001b[0m\n",
            "[youtube] Extracting URL: https://www.youtube.com/watch?v=lJ_Y5FXwGVY\n",
            "[youtube] lJ_Y5FXwGVY: Downloading webpage\n",
            "[youtube] lJ_Y5FXwGVY: Downloading ios player API JSON\n",
            "[youtube] lJ_Y5FXwGVY: Downloading web creator player API JSON\n",
            "[youtube] lJ_Y5FXwGVY: Downloading m3u8 information\n",
            "[info] lJ_Y5FXwGVY: Downloading 1 format(s): 137+140\n",
            "[download] Destination: ASL_VIDEOS/048-CAT-GOT-YOUR-TONGUE-[speechless]-[idiomatic？] [technically not an ASL idiom, see notes].f137.mp4\n",
            "\u001b[K[download] 100% of  518.96KiB in \u001b[1;37m00:00:00\u001b[0m at \u001b[0;32m1.89MiB/s\u001b[0m\n",
            "[download] Destination: ASL_VIDEOS/048-CAT-GOT-YOUR-TONGUE-[speechless]-[idiomatic？] [technically not an ASL idiom, see notes].f140.m4a\n",
            "\u001b[K[download] 100% of   40.09KiB in \u001b[1;37m00:00:00\u001b[0m at \u001b[0;32m294.94KiB/s\u001b[0m\n",
            "[Merger] Merging formats into \"ASL_VIDEOS/048-CAT-GOT-YOUR-TONGUE-[speechless]-[idiomatic？] [technically not an ASL idiom, see notes].mp4\"\n",
            "Deleting original file ASL_VIDEOS/048-CAT-GOT-YOUR-TONGUE-[speechless]-[idiomatic？] [technically not an ASL idiom, see notes].f137.mp4 (pass -k to keep)\n",
            "Deleting original file ASL_VIDEOS/048-CAT-GOT-YOUR-TONGUE-[speechless]-[idiomatic？] [technically not an ASL idiom, see notes].f140.m4a (pass -k to keep)\n",
            "[download] Downloading item \u001b[0;32m49\u001b[0m of \u001b[0;94m147\u001b[0m\n",
            "[youtube] Extracting URL: https://www.youtube.com/watch?v=ECcXmLUGeVI\n",
            "[youtube] ECcXmLUGeVI: Downloading webpage\n",
            "[youtube] ECcXmLUGeVI: Downloading ios player API JSON\n",
            "[youtube] ECcXmLUGeVI: Downloading web creator player API JSON\n",
            "[youtube] ECcXmLUGeVI: Downloading m3u8 information\n",
            "[info] ECcXmLUGeVI: Downloading 1 format(s): 137+140\n",
            "[download] Destination: ASL_VIDEOS/049-COME-HERE-[1-hand-version].f137.mp4\n",
            "\u001b[K[download] 100% of  239.33KiB in \u001b[1;37m00:00:00\u001b[0m at \u001b[0;32m2.06MiB/s\u001b[0m\n",
            "[download] Destination: ASL_VIDEOS/049-COME-HERE-[1-hand-version].f140.m4a\n",
            "\u001b[K[download] 100% of   44.40KiB in \u001b[1;37m00:00:00\u001b[0m at \u001b[0;32m1.03MiB/s\u001b[0m\n",
            "[Merger] Merging formats into \"ASL_VIDEOS/049-COME-HERE-[1-hand-version].mp4\"\n",
            "Deleting original file ASL_VIDEOS/049-COME-HERE-[1-hand-version].f140.m4a (pass -k to keep)\n",
            "Deleting original file ASL_VIDEOS/049-COME-HERE-[1-hand-version].f137.mp4 (pass -k to keep)\n",
            "[download] Downloading item \u001b[0;32m50\u001b[0m of \u001b[0;94m147\u001b[0m\n",
            "[youtube] Extracting URL: https://www.youtube.com/watch?v=9xOznMhY_qA\n",
            "[youtube] 9xOznMhY_qA: Downloading webpage\n",
            "[youtube] 9xOznMhY_qA: Downloading ios player API JSON\n",
            "[youtube] 9xOznMhY_qA: Downloading web creator player API JSON\n",
            "[youtube] 9xOznMhY_qA: Downloading m3u8 information\n",
            "[info] 9xOznMhY_qA: Downloading 1 format(s): 137+140\n",
            "[download] Destination: ASL_VIDEOS/050-DON'T MIND.f137.mp4\n",
            "\u001b[K[download] 100% of  861.95KiB in \u001b[1;37m00:00:00\u001b[0m at \u001b[0;32m2.69MiB/s\u001b[0m\n",
            "[download] Destination: ASL_VIDEOS/050-DON'T MIND.f140.m4a\n",
            "\u001b[K[download] 100% of   40.73KiB in \u001b[1;37m00:00:00\u001b[0m at \u001b[0;32m407.78KiB/s\u001b[0m\n",
            "[Merger] Merging formats into \"ASL_VIDEOS/050-DON'T MIND.mp4\"\n",
            "Deleting original file ASL_VIDEOS/050-DON'T MIND.f140.m4a (pass -k to keep)\n",
            "Deleting original file ASL_VIDEOS/050-DON'T MIND.f137.mp4 (pass -k to keep)\n",
            "[download] Downloading item \u001b[0;32m51\u001b[0m of \u001b[0;94m147\u001b[0m\n",
            "[youtube] Extracting URL: https://www.youtube.com/watch?v=UqF_c-MIwuA\n",
            "[youtube] UqF_c-MIwuA: Downloading webpage\n",
            "[youtube] UqF_c-MIwuA: Downloading ios player API JSON\n",
            "[youtube] UqF_c-MIwuA: Downloading web creator player API JSON\n",
            "[youtube] UqF_c-MIwuA: Downloading m3u8 information\n",
            "[info] UqF_c-MIwuA: Downloading 1 format(s): 137+140\n",
            "[download] Destination: ASL_VIDEOS/051-HIDE SEEK YOU LIKE PLAY？.f137.mp4\n",
            "\u001b[K[download] 100% of    1.46MiB in \u001b[1;37m00:00:00\u001b[0m at \u001b[0;32m10.44MiB/s\u001b[0m\n",
            "[download] Destination: ASL_VIDEOS/051-HIDE SEEK YOU LIKE PLAY？.f140.m4a\n",
            "\u001b[K[download] 100% of   83.27KiB in \u001b[1;37m00:00:00\u001b[0m at \u001b[0;32m454.80KiB/s\u001b[0m\n",
            "[Merger] Merging formats into \"ASL_VIDEOS/051-HIDE SEEK YOU LIKE PLAY？.mp4\"\n",
            "Deleting original file ASL_VIDEOS/051-HIDE SEEK YOU LIKE PLAY？.f140.m4a (pass -k to keep)\n",
            "Deleting original file ASL_VIDEOS/051-HIDE SEEK YOU LIKE PLAY？.f137.mp4 (pass -k to keep)\n",
            "[download] Downloading item \u001b[0;32m52\u001b[0m of \u001b[0;94m147\u001b[0m\n",
            "[youtube] Extracting URL: https://www.youtube.com/watch?v=iGMRklbvZ2Q\n",
            "[youtube] iGMRklbvZ2Q: Downloading webpage\n",
            "[youtube] iGMRklbvZ2Q: Downloading ios player API JSON\n",
            "[youtube] iGMRklbvZ2Q: Downloading web creator player API JSON\n",
            "[youtube] iGMRklbvZ2Q: Downloading m3u8 information\n",
            "[info] iGMRklbvZ2Q: Downloading 1 format(s): 137+140\n",
            "[download] Destination: ASL_VIDEOS/052-YOUR LAST NAME, HOW SPELL？.f137.mp4\n",
            "\u001b[K[download] 100% of    1.68MiB in \u001b[1;37m00:00:00\u001b[0m at \u001b[0;32m10.25MiB/s\u001b[0m\n",
            "[download] Destination: ASL_VIDEOS/052-YOUR LAST NAME, HOW SPELL？.f140.m4a\n",
            "\u001b[K[download] 100% of   95.01KiB in \u001b[1;37m00:00:00\u001b[0m at \u001b[0;32m442.53KiB/s\u001b[0m\n",
            "[Merger] Merging formats into \"ASL_VIDEOS/052-YOUR LAST NAME, HOW SPELL？.mp4\"\n",
            "Deleting original file ASL_VIDEOS/052-YOUR LAST NAME, HOW SPELL？.f137.mp4 (pass -k to keep)\n",
            "Deleting original file ASL_VIDEOS/052-YOUR LAST NAME, HOW SPELL？.f140.m4a (pass -k to keep)\n",
            "[download] Downloading item \u001b[0;32m53\u001b[0m of \u001b[0;94m147\u001b[0m\n",
            "[youtube] Extracting URL: https://www.youtube.com/watch?v=wTaSMHLJaHE\n",
            "[youtube] wTaSMHLJaHE: Downloading webpage\n",
            "[youtube] wTaSMHLJaHE: Downloading ios player API JSON\n",
            "[youtube] wTaSMHLJaHE: Downloading web creator player API JSON\n",
            "[youtube] wTaSMHLJaHE: Downloading m3u8 information\n",
            "[info] wTaSMHLJaHE: Downloading 1 format(s): 137+140\n",
            "[download] Destination: ASL_VIDEOS/053-FOOD ENOUGH YOU？.f137.mp4\n",
            "\u001b[K[download] 100% of  959.41KiB in \u001b[1;37m00:00:03\u001b[0m at \u001b[0;32m254.93KiB/s\u001b[0m\n",
            "[download] Destination: ASL_VIDEOS/053-FOOD ENOUGH YOU？.f140.m4a\n",
            "\u001b[K[download] 100% of   53.94KiB in \u001b[1;37m00:00:00\u001b[0m at \u001b[0;32m425.77KiB/s\u001b[0m\n",
            "[Merger] Merging formats into \"ASL_VIDEOS/053-FOOD ENOUGH YOU？.mp4\"\n",
            "Deleting original file ASL_VIDEOS/053-FOOD ENOUGH YOU？.f140.m4a (pass -k to keep)\n",
            "Deleting original file ASL_VIDEOS/053-FOOD ENOUGH YOU？.f137.mp4 (pass -k to keep)\n",
            "[download] Downloading item \u001b[0;32m54\u001b[0m of \u001b[0;94m147\u001b[0m\n",
            "[youtube] Extracting URL: https://www.youtube.com/watch?v=u-R6qepNlm0\n",
            "[youtube] u-R6qepNlm0: Downloading webpage\n",
            "[youtube] u-R6qepNlm0: Downloading ios player API JSON\n",
            "[youtube] u-R6qepNlm0: Downloading web creator player API JSON\n",
            "[youtube] u-R6qepNlm0: Downloading m3u8 information\n",
            "[info] u-R6qepNlm0: Downloading 1 format(s): 137+140\n",
            "[download] Destination: ASL_VIDEOS/054-YOU PREFER LIVE SINGLE-[alone] [bodyshift ＂or＂] ROOMMATE-[match] WHICH？.f137.mp4\n",
            "\u001b[K[download] 100% of    2.24MiB in \u001b[1;37m00:00:00\u001b[0m at \u001b[0;32m6.20MiB/s\u001b[0m\n",
            "[download] Destination: ASL_VIDEOS/054-YOU PREFER LIVE SINGLE-[alone] [bodyshift ＂or＂] ROOMMATE-[match] WHICH？.f140.m4a\n",
            "\u001b[K[download] 100% of  124.71KiB in \u001b[1;37m00:00:00\u001b[0m at \u001b[0;32m1.29MiB/s\u001b[0m\n",
            "[Merger] Merging formats into \"ASL_VIDEOS/054-YOU PREFER LIVE SINGLE-[alone] [bodyshift ＂or＂] ROOMMATE-[match] WHICH？.mp4\"\n",
            "Deleting original file ASL_VIDEOS/054-YOU PREFER LIVE SINGLE-[alone] [bodyshift ＂or＂] ROOMMATE-[match] WHICH？.f140.m4a (pass -k to keep)\n",
            "Deleting original file ASL_VIDEOS/054-YOU PREFER LIVE SINGLE-[alone] [bodyshift ＂or＂] ROOMMATE-[match] WHICH？.f137.mp4 (pass -k to keep)\n",
            "[download] Downloading item \u001b[0;32m55\u001b[0m of \u001b[0;94m147\u001b[0m\n",
            "[youtube] Extracting URL: https://www.youtube.com/watch?v=yLGhgLO2g-I\n",
            "[youtube] yLGhgLO2g-I: Downloading webpage\n",
            "[youtube] yLGhgLO2g-I: Downloading ios player API JSON\n",
            "[youtube] yLGhgLO2g-I: Downloading web creator player API JSON\n",
            "[youtube] yLGhgLO2g-I: Downloading m3u8 information\n",
            "[info] yLGhgLO2g-I: Downloading 1 format(s): 137+140\n",
            "[download] Destination: ASL_VIDEOS/055-SEW, YOU KNOW HOW？.f137.mp4\n",
            "\u001b[K[download] 100% of    1.30MiB in \u001b[1;37m00:00:00\u001b[0m at \u001b[0;32m4.05MiB/s\u001b[0m\n",
            "[download] Destination: ASL_VIDEOS/055-SEW, YOU KNOW HOW？.f140.m4a\n",
            "\u001b[K[download] 100% of   73.74KiB in \u001b[1;37m00:00:00\u001b[0m at \u001b[0;32m217.22KiB/s\u001b[0m\n",
            "[Merger] Merging formats into \"ASL_VIDEOS/055-SEW, YOU KNOW HOW？.mp4\"\n",
            "Deleting original file ASL_VIDEOS/055-SEW, YOU KNOW HOW？.f137.mp4 (pass -k to keep)\n",
            "Deleting original file ASL_VIDEOS/055-SEW, YOU KNOW HOW？.f140.m4a (pass -k to keep)\n",
            "[download] Downloading item \u001b[0;32m56\u001b[0m of \u001b[0;94m147\u001b[0m\n",
            "[youtube] Extracting URL: https://www.youtube.com/watch?v=MUlh0wHEH60\n",
            "[youtube] MUlh0wHEH60: Downloading webpage\n",
            "[youtube] MUlh0wHEH60: Downloading ios player API JSON\n",
            "[youtube] MUlh0wHEH60: Downloading web creator player API JSON\n",
            "[youtube] MUlh0wHEH60: Downloading m3u8 information\n",
            "[info] MUlh0wHEH60: Downloading 1 format(s): 137+140\n",
            "[download] Destination: ASL_VIDEOS/056-YOU HAVE SCARF？.f137.mp4\n",
            "\u001b[K[download] 100% of  957.94KiB in \u001b[1;37m00:00:00\u001b[0m at \u001b[0;32m3.13MiB/s\u001b[0m\n",
            "[download] Destination: ASL_VIDEOS/056-YOU HAVE SCARF？.f140.m4a\n",
            "\u001b[K[download] 100% of   66.04KiB in \u001b[1;37m00:00:00\u001b[0m at \u001b[0;32m378.22KiB/s\u001b[0m\n",
            "[Merger] Merging formats into \"ASL_VIDEOS/056-YOU HAVE SCARF？.mp4\"\n",
            "Deleting original file ASL_VIDEOS/056-YOU HAVE SCARF？.f140.m4a (pass -k to keep)\n",
            "Deleting original file ASL_VIDEOS/056-YOU HAVE SCARF？.f137.mp4 (pass -k to keep)\n",
            "[download] Downloading item \u001b[0;32m57\u001b[0m of \u001b[0;94m147\u001b[0m\n",
            "[youtube] Extracting URL: https://www.youtube.com/watch?v=dWZQDa02U-Q\n",
            "[youtube] dWZQDa02U-Q: Downloading webpage\n",
            "[youtube] dWZQDa02U-Q: Downloading ios player API JSON\n",
            "[youtube] dWZQDa02U-Q: Downloading web creator player API JSON\n",
            "[youtube] dWZQDa02U-Q: Downloading m3u8 information\n",
            "[info] dWZQDa02U-Q: Downloading 1 format(s): 137+140\n",
            "[download] Destination: ASL_VIDEOS/057-SCISSORS, CAN you-LEND-me？.f137.mp4\n",
            "\u001b[K[download] 100% of    1.16MiB in \u001b[1;37m00:00:00\u001b[0m at \u001b[0;32m3.73MiB/s\u001b[0m\n",
            "[download] Destination: ASL_VIDEOS/057-SCISSORS, CAN you-LEND-me？.f140.m4a\n",
            "\u001b[K[download] 100% of   63.84KiB in \u001b[1;37m00:00:00\u001b[0m at \u001b[0;32m361.84KiB/s\u001b[0m\n",
            "[Merger] Merging formats into \"ASL_VIDEOS/057-SCISSORS, CAN you-LEND-me？.mp4\"\n",
            "Deleting original file ASL_VIDEOS/057-SCISSORS, CAN you-LEND-me？.f140.m4a (pass -k to keep)\n",
            "Deleting original file ASL_VIDEOS/057-SCISSORS, CAN you-LEND-me？.f137.mp4 (pass -k to keep)\n",
            "[download] Downloading item \u001b[0;32m58\u001b[0m of \u001b[0;94m147\u001b[0m\n",
            "[youtube] Extracting URL: https://www.youtube.com/watch?v=lSYu9t9_fYk\n",
            "[youtube] lSYu9t9_fYk: Downloading webpage\n",
            "[youtube] lSYu9t9_fYk: Downloading ios player API JSON\n",
            "[youtube] lSYu9t9_fYk: Downloading web creator player API JSON\n",
            "[youtube] lSYu9t9_fYk: Downloading m3u8 information\n",
            "[info] lSYu9t9_fYk: Downloading 1 format(s): 137+140\n",
            "[download] Destination: ASL_VIDEOS/058-YOU DRIVE CAREFUL YOU？.f137.mp4\n",
            "\u001b[K[download] 100% of    1.32MiB in \u001b[1;37m00:00:00\u001b[0m at \u001b[0;32m3.95MiB/s\u001b[0m\n",
            "[download] Destination: ASL_VIDEOS/058-YOU DRIVE CAREFUL YOU？.f140.m4a\n",
            "\u001b[K[download] 100% of   73.37KiB in \u001b[1;37m00:00:00\u001b[0m at \u001b[0;32m455.72KiB/s\u001b[0m\n",
            "[Merger] Merging formats into \"ASL_VIDEOS/058-YOU DRIVE CAREFUL YOU？.mp4\"\n",
            "Deleting original file ASL_VIDEOS/058-YOU DRIVE CAREFUL YOU？.f140.m4a (pass -k to keep)\n",
            "Deleting original file ASL_VIDEOS/058-YOU DRIVE CAREFUL YOU？.f137.mp4 (pass -k to keep)\n",
            "[download] Downloading item \u001b[0;32m59\u001b[0m of \u001b[0;94m147\u001b[0m\n",
            "[youtube] Extracting URL: https://www.youtube.com/watch?v=o-kXeP3e34A\n",
            "[youtube] o-kXeP3e34A: Downloading webpage\n",
            "[youtube] o-kXeP3e34A: Downloading ios player API JSON\n",
            "[youtube] o-kXeP3e34A: Downloading web creator player API JSON\n",
            "[youtube] o-kXeP3e34A: Downloading m3u8 information\n",
            "[info] o-kXeP3e34A: Downloading 1 format(s): 137+140\n",
            "[download] Destination: ASL_VIDEOS/059-YOU DRUNK BEFORE？.f137.mp4\n",
            "\u001b[K[download] 100% of  979.35KiB in \u001b[1;37m00:00:00\u001b[0m at \u001b[0;32m3.39MiB/s\u001b[0m\n",
            "[download] Destination: ASL_VIDEOS/059-YOU DRUNK BEFORE？.f140.m4a\n",
            "\u001b[K[download] 100% of   51.74KiB in \u001b[1;37m00:00:00\u001b[0m at \u001b[0;32m486.26KiB/s\u001b[0m\n",
            "[Merger] Merging formats into \"ASL_VIDEOS/059-YOU DRUNK BEFORE？.mp4\"\n",
            "Deleting original file ASL_VIDEOS/059-YOU DRUNK BEFORE？.f140.m4a (pass -k to keep)\n",
            "Deleting original file ASL_VIDEOS/059-YOU DRUNK BEFORE？.f137.mp4 (pass -k to keep)\n",
            "[download] Downloading item \u001b[0;32m60\u001b[0m of \u001b[0;94m147\u001b[0m\n",
            "[youtube] Extracting URL: https://www.youtube.com/watch?v=se5CvIgZHOs\n",
            "[youtube] se5CvIgZHOs: Downloading webpage\n",
            "[youtube] se5CvIgZHOs: Downloading ios player API JSON\n",
            "[youtube] se5CvIgZHOs: Downloading web creator player API JSON\n",
            "[youtube] se5CvIgZHOs: Downloading m3u8 information\n",
            "[info] se5CvIgZHOs: Downloading 1 format(s): 137+140\n",
            "[download] Destination: ASL_VIDEOS/060-MOVIE STAR, YOUR FAVORITE WHO？.f137.mp4\n",
            "\u001b[K[download] 100% of    1.43MiB in \u001b[1;37m00:00:00\u001b[0m at \u001b[0;32m4.26MiB/s\u001b[0m\n",
            "[download] Destination: ASL_VIDEOS/060-MOVIE STAR, YOUR FAVORITE WHO？.f140.m4a\n",
            "\u001b[K[download] 100% of   79.24KiB in \u001b[1;37m00:00:00\u001b[0m at \u001b[0;32m189.99KiB/s\u001b[0m\n",
            "[Merger] Merging formats into \"ASL_VIDEOS/060-MOVIE STAR, YOUR FAVORITE WHO？.mp4\"\n",
            "Deleting original file ASL_VIDEOS/060-MOVIE STAR, YOUR FAVORITE WHO？.f140.m4a (pass -k to keep)\n",
            "Deleting original file ASL_VIDEOS/060-MOVIE STAR, YOUR FAVORITE WHO？.f137.mp4 (pass -k to keep)\n",
            "[download] Downloading item \u001b[0;32m61\u001b[0m of \u001b[0;94m147\u001b[0m\n",
            "[youtube] Extracting URL: https://www.youtube.com/watch?v=NKTU89lgb7g\n",
            "[youtube] NKTU89lgb7g: Downloading webpage\n",
            "[youtube] NKTU89lgb7g: Downloading ios player API JSON\n",
            "[youtube] NKTU89lgb7g: Downloading web creator player API JSON\n",
            "[youtube] NKTU89lgb7g: Downloading m3u8 information\n",
            "[info] NKTU89lgb7g: Downloading 1 format(s): 137+140\n",
            "[download] Destination: ASL_VIDEOS/061-YOU LOOK-LIKE YOUR MOTHER？.f137.mp4\n",
            "\u001b[K[download] 100% of    1.35MiB in \u001b[1;37m00:00:00\u001b[0m at \u001b[0;32m5.04MiB/s\u001b[0m\n",
            "[download] Destination: ASL_VIDEOS/061-YOU LOOK-LIKE YOUR MOTHER？.f140.m4a\n",
            "\u001b[K[download] 100% of   74.84KiB in \u001b[1;37m00:00:00\u001b[0m at \u001b[0;32m404.77KiB/s\u001b[0m\n",
            "[Merger] Merging formats into \"ASL_VIDEOS/061-YOU LOOK-LIKE YOUR MOTHER？.mp4\"\n",
            "Deleting original file ASL_VIDEOS/061-YOU LOOK-LIKE YOUR MOTHER？.f137.mp4 (pass -k to keep)\n",
            "Deleting original file ASL_VIDEOS/061-YOU LOOK-LIKE YOUR MOTHER？.f140.m4a (pass -k to keep)\n",
            "[download] Downloading item \u001b[0;32m62\u001b[0m of \u001b[0;94m147\u001b[0m\n",
            "[youtube] Extracting URL: https://www.youtube.com/watch?v=3Fg18TkscXc\n",
            "[youtube] 3Fg18TkscXc: Downloading webpage\n",
            "[youtube] 3Fg18TkscXc: Downloading ios player API JSON\n",
            "[youtube] 3Fg18TkscXc: Downloading web creator player API JSON\n",
            "[youtube] 3Fg18TkscXc: Downloading m3u8 information\n",
            "[info] 3Fg18TkscXc: Downloading 1 format(s): 137+140\n",
            "[download] Destination: ASL_VIDEOS/062-YOUR FAVORITE HOLIDAY WHAT？.f137.mp4\n",
            "\u001b[K[download] 100% of    1.03MiB in \u001b[1;37m00:00:00\u001b[0m at \u001b[0;32m7.94MiB/s\u001b[0m\n",
            "[download] Destination: ASL_VIDEOS/062-YOUR FAVORITE HOLIDAY WHAT？.f140.m4a\n",
            "\u001b[K[download] 100% of   57.24KiB in \u001b[1;37m00:00:00\u001b[0m at \u001b[0;32m275.77KiB/s\u001b[0m\n",
            "[Merger] Merging formats into \"ASL_VIDEOS/062-YOUR FAVORITE HOLIDAY WHAT？.mp4\"\n",
            "Deleting original file ASL_VIDEOS/062-YOUR FAVORITE HOLIDAY WHAT？.f140.m4a (pass -k to keep)\n",
            "Deleting original file ASL_VIDEOS/062-YOUR FAVORITE HOLIDAY WHAT？.f137.mp4 (pass -k to keep)\n",
            "[download] Downloading item \u001b[0;32m63\u001b[0m of \u001b[0;94m147\u001b[0m\n",
            "[youtube] Extracting URL: https://www.youtube.com/watch?v=vZbqZN2YKic\n",
            "[youtube] vZbqZN2YKic: Downloading webpage\n",
            "[youtube] vZbqZN2YKic: Downloading ios player API JSON\n",
            "[youtube] vZbqZN2YKic: Downloading web creator player API JSON\n",
            "[youtube] vZbqZN2YKic: Downloading m3u8 information\n",
            "[info] vZbqZN2YKic: Downloading 1 format(s): 137+140\n",
            "[download] Destination: ASL_VIDEOS/063-YOU BELIEVE SANTA CLAUS YOU？.f137.mp4\n",
            "\u001b[K[download] 100% of    1.33MiB in \u001b[1;37m00:00:00\u001b[0m at \u001b[0;32m2.06MiB/s\u001b[0m\n",
            "[download] Destination: ASL_VIDEOS/063-YOU BELIEVE SANTA CLAUS YOU？.f140.m4a\n",
            "\u001b[K[download] 100% of   74.84KiB in \u001b[1;37m00:00:00\u001b[0m at \u001b[0;32m192.47KiB/s\u001b[0m\n",
            "[Merger] Merging formats into \"ASL_VIDEOS/063-YOU BELIEVE SANTA CLAUS YOU？.mp4\"\n",
            "Deleting original file ASL_VIDEOS/063-YOU BELIEVE SANTA CLAUS YOU？.f140.m4a (pass -k to keep)\n",
            "Deleting original file ASL_VIDEOS/063-YOU BELIEVE SANTA CLAUS YOU？.f137.mp4 (pass -k to keep)\n",
            "[download] Downloading item \u001b[0;32m64\u001b[0m of \u001b[0;94m147\u001b[0m\n",
            "[youtube] Extracting URL: https://www.youtube.com/watch?v=CkzWvgNKF3w\n",
            "[youtube] CkzWvgNKF3w: Downloading webpage\n",
            "[youtube] CkzWvgNKF3w: Downloading ios player API JSON\n",
            "[youtube] CkzWvgNKF3w: Downloading web creator player API JSON\n",
            "[youtube] CkzWvgNKF3w: Downloading m3u8 information\n",
            "[info] CkzWvgNKF3w: Downloading 1 format(s): 137+140\n",
            "[download] Destination: ASL_VIDEOS/064-CHRISTMAS, YOU LIKE SNOW YOU？.f137.mp4\n",
            "\u001b[K[download] 100% of    1.41MiB in \u001b[1;37m00:00:00\u001b[0m at \u001b[0;32m5.06MiB/s\u001b[0m\n",
            "[download] Destination: ASL_VIDEOS/064-CHRISTMAS, YOU LIKE SNOW YOU？.f140.m4a\n",
            "\u001b[K[download] 100% of   79.24KiB in \u001b[1;37m00:00:00\u001b[0m at \u001b[0;32m354.87KiB/s\u001b[0m\n",
            "[Merger] Merging formats into \"ASL_VIDEOS/064-CHRISTMAS, YOU LIKE SNOW YOU？.mp4\"\n",
            "Deleting original file ASL_VIDEOS/064-CHRISTMAS, YOU LIKE SNOW YOU？.f140.m4a (pass -k to keep)\n",
            "Deleting original file ASL_VIDEOS/064-CHRISTMAS, YOU LIKE SNOW YOU？.f137.mp4 (pass -k to keep)\n",
            "[download] Downloading item \u001b[0;32m65\u001b[0m of \u001b[0;94m147\u001b[0m\n",
            "[youtube] Extracting URL: https://www.youtube.com/watch?v=HRQIh-f9xAw\n",
            "[youtube] HRQIh-f9xAw: Downloading webpage\n",
            "[youtube] HRQIh-f9xAw: Downloading ios player API JSON\n",
            "[youtube] HRQIh-f9xAw: Downloading web creator player API JSON\n",
            "[youtube] HRQIh-f9xAw: Downloading m3u8 information\n",
            "[info] HRQIh-f9xAw: Downloading 1 format(s): 137+140\n",
            "[download] Destination: ASL_VIDEOS/065-AWFUL-[terrible]-[two-handed-version].f137.mp4\n",
            "\u001b[K[download] 100% of  743.39KiB in \u001b[1;37m00:00:00\u001b[0m at \u001b[0;32m4.61MiB/s\u001b[0m\n",
            "[download] Destination: ASL_VIDEOS/065-AWFUL-[terrible]-[two-handed-version].f140.m4a\n",
            "\u001b[K[download] 100% of   42.20KiB in \u001b[1;37m00:00:00\u001b[0m at \u001b[0;32m360.49KiB/s\u001b[0m\n",
            "[Merger] Merging formats into \"ASL_VIDEOS/065-AWFUL-[terrible]-[two-handed-version].mp4\"\n",
            "Deleting original file ASL_VIDEOS/065-AWFUL-[terrible]-[two-handed-version].f140.m4a (pass -k to keep)\n",
            "Deleting original file ASL_VIDEOS/065-AWFUL-[terrible]-[two-handed-version].f137.mp4 (pass -k to keep)\n",
            "[download] Downloading item \u001b[0;32m66\u001b[0m of \u001b[0;94m147\u001b[0m\n",
            "[youtube] Extracting URL: https://www.youtube.com/watch?v=VYOVeoiar7w\n",
            "[youtube] VYOVeoiar7w: Downloading webpage\n",
            "[youtube] VYOVeoiar7w: Downloading ios player API JSON\n",
            "[youtube] VYOVeoiar7w: Downloading web creator player API JSON\n",
            "[youtube] VYOVeoiar7w: Downloading m3u8 information\n",
            "[info] VYOVeoiar7w: Downloading 1 format(s): 137+140\n",
            "[download] Destination: ASL_VIDEOS/066-TYPE FAST CAN YOU？.f137.mp4\n",
            "\u001b[K[download] 100% of    1.50MiB in \u001b[1;37m00:00:00\u001b[0m at \u001b[0;32m3.53MiB/s\u001b[0m\n",
            "[download] Destination: ASL_VIDEOS/066-TYPE FAST CAN YOU？.f140.m4a\n",
            "\u001b[K[download] 100% of   82.91KiB in \u001b[1;37m00:00:00\u001b[0m at \u001b[0;32m467.18KiB/s\u001b[0m\n",
            "[Merger] Merging formats into \"ASL_VIDEOS/066-TYPE FAST CAN YOU？.mp4\"\n",
            "Deleting original file ASL_VIDEOS/066-TYPE FAST CAN YOU？.f137.mp4 (pass -k to keep)\n",
            "Deleting original file ASL_VIDEOS/066-TYPE FAST CAN YOU？.f140.m4a (pass -k to keep)\n",
            "[download] Downloading item \u001b[0;32m67\u001b[0m of \u001b[0;94m147\u001b[0m\n",
            "[youtube] Extracting URL: https://www.youtube.com/watch?v=yQScIrYGgaE\n",
            "[youtube] yQScIrYGgaE: Downloading webpage\n",
            "[youtube] yQScIrYGgaE: Downloading ios player API JSON\n",
            "[youtube] yQScIrYGgaE: Downloading web creator player API JSON\n",
            "[youtube] yQScIrYGgaE: Downloading m3u8 information\n",
            "[info] yQScIrYGgaE: Downloading 1 format(s): 248+140\n",
            "[download] Destination: ASL_VIDEOS/067-USE, WEAR.f248.webm\n",
            "\u001b[K[download] 100% of  383.48KiB in \u001b[1;37m00:00:00\u001b[0m at \u001b[0;32m1.37MiB/s\u001b[0m\n",
            "[download] Destination: ASL_VIDEOS/067-USE, WEAR.f140.m4a\n",
            "\u001b[K[download] 100% of   47.06KiB in \u001b[1;37m00:00:00\u001b[0m at \u001b[0;32m536.84KiB/s\u001b[0m\n",
            "[Merger] Merging formats into \"ASL_VIDEOS/067-USE, WEAR.mkv\"\n",
            "Deleting original file ASL_VIDEOS/067-USE, WEAR.f248.webm (pass -k to keep)\n",
            "Deleting original file ASL_VIDEOS/067-USE, WEAR.f140.m4a (pass -k to keep)\n",
            "[download] Downloading item \u001b[0;32m68\u001b[0m of \u001b[0;94m147\u001b[0m\n",
            "[youtube] Extracting URL: https://www.youtube.com/watch?v=WWI-xmA8Czc\n",
            "[youtube] WWI-xmA8Czc: Downloading webpage\n",
            "[youtube] WWI-xmA8Czc: Downloading ios player API JSON\n",
            "[youtube] WWI-xmA8Czc: Downloading web creator player API JSON\n",
            "[youtube] WWI-xmA8Czc: Downloading m3u8 information\n",
            "[info] WWI-xmA8Czc: Downloading 1 format(s): 137+140\n",
            "[download] Destination: ASL_VIDEOS/068-WISH-[desire].f137.mp4\n",
            "\u001b[K[download] 100% of  428.07KiB in \u001b[1;37m00:00:00\u001b[0m at \u001b[0;32m3.22MiB/s\u001b[0m\n",
            "[download] Destination: ASL_VIDEOS/068-WISH-[desire].f140.m4a\n",
            "\u001b[K[download] 100% of   30.10KiB in \u001b[1;37m00:00:00\u001b[0m at \u001b[0;32m173.40KiB/s\u001b[0m\n",
            "[Merger] Merging formats into \"ASL_VIDEOS/068-WISH-[desire].mp4\"\n",
            "Deleting original file ASL_VIDEOS/068-WISH-[desire].f137.mp4 (pass -k to keep)\n",
            "Deleting original file ASL_VIDEOS/068-WISH-[desire].f140.m4a (pass -k to keep)\n",
            "[download] Downloading item \u001b[0;32m69\u001b[0m of \u001b[0;94m147\u001b[0m\n",
            "[youtube] Extracting URL: https://www.youtube.com/watch?v=JyB2t9Gkzos\n",
            "[youtube] JyB2t9Gkzos: Downloading webpage\n",
            "[youtube] JyB2t9Gkzos: Downloading ios player API JSON\n",
            "[youtube] JyB2t9Gkzos: Downloading web creator player API JSON\n",
            "[youtube] JyB2t9Gkzos: Downloading m3u8 information\n",
            "[info] JyB2t9Gkzos: Downloading 1 format(s): 137+140\n",
            "[download] Destination: ASL_VIDEOS/069-PRONOUN：  YOU.f137.mp4\n",
            "\u001b[K[download] 100% of  207.96KiB in \u001b[1;37m00:00:00\u001b[0m at \u001b[0;32m2.21MiB/s\u001b[0m\n",
            "[download] Destination: ASL_VIDEOS/069-PRONOUN：  YOU.f140.m4a\n",
            "\u001b[K[download] 100% of   38.17KiB in \u001b[1;37m00:00:00\u001b[0m at \u001b[0;32m719.12KiB/s\u001b[0m\n",
            "[Merger] Merging formats into \"ASL_VIDEOS/069-PRONOUN：  YOU.mp4\"\n",
            "Deleting original file ASL_VIDEOS/069-PRONOUN：  YOU.f137.mp4 (pass -k to keep)\n",
            "Deleting original file ASL_VIDEOS/069-PRONOUN：  YOU.f140.m4a (pass -k to keep)\n",
            "[download] Downloading item \u001b[0;32m70\u001b[0m of \u001b[0;94m147\u001b[0m\n",
            "[youtube] Extracting URL: https://www.youtube.com/watch?v=btjZ2F9BUAA\n",
            "[youtube] btjZ2F9BUAA: Downloading webpage\n",
            "[youtube] btjZ2F9BUAA: Downloading ios player API JSON\n",
            "[youtube] btjZ2F9BUAA: Downloading web creator player API JSON\n",
            "[youtube] btjZ2F9BUAA: Downloading m3u8 information\n",
            "[info] btjZ2F9BUAA: Downloading 1 format(s): 135+140\n",
            "[download] Destination: ASL_VIDEOS/070-send.f135.mp4\n",
            "\u001b[K[download] 100% of  131.67KiB in \u001b[1;37m00:00:00\u001b[0m at \u001b[0;32m1.46MiB/s\u001b[0m\n",
            "[download] Destination: ASL_VIDEOS/070-send.f140.m4a\n",
            "\u001b[K[download] 100% of   41.10KiB in \u001b[1;37m00:00:00\u001b[0m at \u001b[0;32m773.39KiB/s\u001b[0m\n",
            "[Merger] Merging formats into \"ASL_VIDEOS/070-send.mp4\"\n",
            "Deleting original file ASL_VIDEOS/070-send.f135.mp4 (pass -k to keep)\n",
            "Deleting original file ASL_VIDEOS/070-send.f140.m4a (pass -k to keep)\n",
            "[download] Downloading item \u001b[0;32m71\u001b[0m of \u001b[0;94m147\u001b[0m\n",
            "[youtube] Extracting URL: https://www.youtube.com/watch?v=4B3VtEF78lM\n",
            "[youtube] 4B3VtEF78lM: Downloading webpage\n",
            "[youtube] 4B3VtEF78lM: Downloading ios player API JSON\n",
            "[youtube] 4B3VtEF78lM: Downloading web creator player API JSON\n",
            "[youtube] 4B3VtEF78lM: Downloading m3u8 information\n",
            "[info] 4B3VtEF78lM: Downloading 1 format(s): 137+140\n",
            "[download] Destination: ASL_VIDEOS/071-GIRLFRIEND.f137.mp4\n",
            "\u001b[K[download] 100% of  398.15KiB in \u001b[1;37m00:00:00\u001b[0m at \u001b[0;32m3.13MiB/s\u001b[0m\n",
            "[download] Destination: ASL_VIDEOS/071-GIRLFRIEND.f140.m4a\n",
            "\u001b[K[download] 100% of   46.23KiB in \u001b[1;37m00:00:00\u001b[0m at \u001b[0;32m732.65KiB/s\u001b[0m\n",
            "[Merger] Merging formats into \"ASL_VIDEOS/071-GIRLFRIEND.mp4\"\n",
            "Deleting original file ASL_VIDEOS/071-GIRLFRIEND.f140.m4a (pass -k to keep)\n",
            "Deleting original file ASL_VIDEOS/071-GIRLFRIEND.f137.mp4 (pass -k to keep)\n",
            "[download] Downloading item \u001b[0;32m72\u001b[0m of \u001b[0;94m147\u001b[0m\n",
            "[youtube] Extracting URL: https://www.youtube.com/watch?v=1Vllc4F5ic0\n",
            "[youtube] 1Vllc4F5ic0: Downloading webpage\n",
            "[youtube] 1Vllc4F5ic0: Downloading ios player API JSON\n",
            "[youtube] 1Vllc4F5ic0: Downloading web creator player API JSON\n",
            "[youtube] 1Vllc4F5ic0: Downloading m3u8 information\n",
            "[info] 1Vllc4F5ic0: Downloading 1 format(s): 248+140\n",
            "[download] Destination: ASL_VIDEOS/072-DAD.f248.webm\n",
            "\u001b[K[download] 100% of  188.11KiB in \u001b[1;37m00:00:00\u001b[0m at \u001b[0;32m2.12MiB/s\u001b[0m\n",
            "[download] Destination: ASL_VIDEOS/072-DAD.f140.m4a\n",
            "\u001b[K[download] 100% of   41.56KiB in \u001b[1;37m00:00:00\u001b[0m at \u001b[0;32m248.40KiB/s\u001b[0m\n",
            "[Merger] Merging formats into \"ASL_VIDEOS/072-DAD.mkv\"\n",
            "Deleting original file ASL_VIDEOS/072-DAD.f248.webm (pass -k to keep)\n",
            "Deleting original file ASL_VIDEOS/072-DAD.f140.m4a (pass -k to keep)\n",
            "[download] Downloading item \u001b[0;32m73\u001b[0m of \u001b[0;94m147\u001b[0m\n",
            "[youtube] Extracting URL: https://www.youtube.com/watch?v=EHkYHDKBm5Y\n",
            "[youtube] EHkYHDKBm5Y: Downloading webpage\n",
            "[youtube] EHkYHDKBm5Y: Downloading ios player API JSON\n",
            "[youtube] EHkYHDKBm5Y: Downloading web creator player API JSON\n",
            "[youtube] EHkYHDKBm5Y: Downloading m3u8 information\n",
            "[info] EHkYHDKBm5Y: Downloading 1 format(s): 248+140\n",
            "[download] Destination: ASL_VIDEOS/073-BOYFRIEND.f248.webm\n",
            "\u001b[K[download] 100% of  262.48KiB in \u001b[1;37m00:00:00\u001b[0m at \u001b[0;32m2.28MiB/s\u001b[0m\n",
            "[download] Destination: ASL_VIDEOS/073-BOYFRIEND.f140.m4a\n",
            "\u001b[K[download] 100% of   51.82KiB in \u001b[1;37m00:00:00\u001b[0m at \u001b[0;32m728.00KiB/s\u001b[0m\n",
            "[Merger] Merging formats into \"ASL_VIDEOS/073-BOYFRIEND.mkv\"\n",
            "Deleting original file ASL_VIDEOS/073-BOYFRIEND.f140.m4a (pass -k to keep)\n",
            "Deleting original file ASL_VIDEOS/073-BOYFRIEND.f248.webm (pass -k to keep)\n",
            "[download] Downloading item \u001b[0;32m74\u001b[0m of \u001b[0;94m147\u001b[0m\n",
            "[youtube] Extracting URL: https://www.youtube.com/watch?v=OMEUC9FKU_k\n",
            "[youtube] OMEUC9FKU_k: Downloading webpage\n",
            "[youtube] OMEUC9FKU_k: Downloading ios player API JSON\n",
            "[youtube] OMEUC9FKU_k: Downloading web creator player API JSON\n",
            "[youtube] OMEUC9FKU_k: Downloading m3u8 information\n",
            "[info] OMEUC9FKU_k: Downloading 1 format(s): 248+140\n",
            "[download] Destination: ASL_VIDEOS/074-fear⧸afraid⧸scare scared.f248.webm\n",
            "\u001b[K[download] 100% of  226.73KiB in \u001b[1;37m00:00:00\u001b[0m at \u001b[0;32m2.29MiB/s\u001b[0m\n",
            "[download] Destination: ASL_VIDEOS/074-fear⧸afraid⧸scare scared.f140.m4a\n",
            "\u001b[K[download] 100% of   52.19KiB in \u001b[1;37m00:00:00\u001b[0m at \u001b[0;32m253.78KiB/s\u001b[0m\n",
            "[Merger] Merging formats into \"ASL_VIDEOS/074-fear⧸afraid⧸scare scared.mkv\"\n",
            "Deleting original file ASL_VIDEOS/074-fear⧸afraid⧸scare scared.f248.webm (pass -k to keep)\n",
            "Deleting original file ASL_VIDEOS/074-fear⧸afraid⧸scare scared.f140.m4a (pass -k to keep)\n",
            "[download] Downloading item \u001b[0;32m75\u001b[0m of \u001b[0;94m147\u001b[0m\n",
            "[youtube] Extracting URL: https://www.youtube.com/watch?v=QvyazQaCmtM\n",
            "[youtube] QvyazQaCmtM: Downloading webpage\n",
            "[youtube] QvyazQaCmtM: Downloading ios player API JSON\n",
            "[youtube] QvyazQaCmtM: Downloading web creator player API JSON\n",
            "[youtube] QvyazQaCmtM: Downloading m3u8 information\n",
            "[info] QvyazQaCmtM: Downloading 1 format(s): 137+140\n",
            "[download] Destination: ASL_VIDEOS/075-bored.f137.mp4\n",
            "\u001b[K[download] 100% of  481.42KiB in \u001b[1;37m00:00:00\u001b[0m at \u001b[0;32m4.15MiB/s\u001b[0m\n",
            "[download] Destination: ASL_VIDEOS/075-bored.f140.m4a\n",
            "\u001b[K[download] 100% of   34.50KiB in \u001b[1;37m00:00:00\u001b[0m at \u001b[0;32m632.31KiB/s\u001b[0m\n",
            "[Merger] Merging formats into \"ASL_VIDEOS/075-bored.mp4\"\n",
            "Deleting original file ASL_VIDEOS/075-bored.f140.m4a (pass -k to keep)\n",
            "Deleting original file ASL_VIDEOS/075-bored.f137.mp4 (pass -k to keep)\n",
            "[download] Downloading item \u001b[0;32m76\u001b[0m of \u001b[0;94m147\u001b[0m\n",
            "[youtube] Extracting URL: https://www.youtube.com/watch?v=ZXHHO_DY6_A\n",
            "[youtube] ZXHHO_DY6_A: Downloading webpage\n",
            "[youtube] ZXHHO_DY6_A: Downloading ios player API JSON\n",
            "[youtube] ZXHHO_DY6_A: Downloading web creator player API JSON\n",
            "[youtube] ZXHHO_DY6_A: Downloading m3u8 information\n",
            "[info] ZXHHO_DY6_A: Downloading 1 format(s): 137+140\n",
            "[download] Destination: ASL_VIDEOS/076-HAPPY.f137.mp4\n",
            "\u001b[K[download] 100% of  731.72KiB in \u001b[1;37m00:00:00\u001b[0m at \u001b[0;32m4.68MiB/s\u001b[0m\n",
            "[download] Destination: ASL_VIDEOS/076-HAPPY.f140.m4a\n",
            "\u001b[K[download] 100% of   49.26KiB in \u001b[1;37m00:00:00\u001b[0m at \u001b[0;32m432.10KiB/s\u001b[0m\n",
            "[Merger] Merging formats into \"ASL_VIDEOS/076-HAPPY.mp4\"\n",
            "Deleting original file ASL_VIDEOS/076-HAPPY.f137.mp4 (pass -k to keep)\n",
            "Deleting original file ASL_VIDEOS/076-HAPPY.f140.m4a (pass -k to keep)\n",
            "[download] Downloading item \u001b[0;32m77\u001b[0m of \u001b[0;94m147\u001b[0m\n",
            "[youtube] Extracting URL: https://www.youtube.com/watch?v=-Yqw89wx7TE\n",
            "[youtube] -Yqw89wx7TE: Downloading webpage\n",
            "[youtube] -Yqw89wx7TE: Downloading ios player API JSON\n",
            "[youtube] -Yqw89wx7TE: Downloading web creator player API JSON\n",
            "[youtube] -Yqw89wx7TE: Downloading m3u8 information\n",
            "[info] -Yqw89wx7TE: Downloading 1 format(s): 248+140\n",
            "[download] Destination: ASL_VIDEOS/077-mad.f248.webm\n",
            "\u001b[K[download] 100% of  327.61KiB in \u001b[1;37m00:00:00\u001b[0m at \u001b[0;32m3.05MiB/s\u001b[0m\n",
            "[download] Destination: ASL_VIDEOS/077-mad.f140.m4a\n",
            "\u001b[K[download] 100% of   37.52KiB in \u001b[1;37m00:00:00\u001b[0m at \u001b[0;32m394.47KiB/s\u001b[0m\n",
            "[Merger] Merging formats into \"ASL_VIDEOS/077-mad.mkv\"\n",
            "Deleting original file ASL_VIDEOS/077-mad.f140.m4a (pass -k to keep)\n",
            "Deleting original file ASL_VIDEOS/077-mad.f248.webm (pass -k to keep)\n",
            "[download] Downloading item \u001b[0;32m78\u001b[0m of \u001b[0;94m147\u001b[0m\n",
            "[youtube] Extracting URL: https://www.youtube.com/watch?v=0n0eQSCS3Ow\n",
            "[youtube] 0n0eQSCS3Ow: Downloading webpage\n",
            "[youtube] 0n0eQSCS3Ow: Downloading ios player API JSON\n",
            "[youtube] 0n0eQSCS3Ow: Downloading web creator player API JSON\n",
            "[youtube] 0n0eQSCS3Ow: Downloading m3u8 information\n",
            "[info] 0n0eQSCS3Ow: Downloading 1 format(s): 137+140\n",
            "[download] Destination: ASL_VIDEOS/078-WAKE-UP.f137.mp4\n",
            "\u001b[K[download] 100% of  319.22KiB in \u001b[1;37m00:00:00\u001b[0m at \u001b[0;32m3.15MiB/s\u001b[0m\n",
            "[download] Destination: ASL_VIDEOS/078-WAKE-UP.f140.m4a\n",
            "\u001b[K[download] 100% of   44.03KiB in \u001b[1;37m00:00:00\u001b[0m at \u001b[0;32m803.09KiB/s\u001b[0m\n",
            "[Merger] Merging formats into \"ASL_VIDEOS/078-WAKE-UP.mp4\"\n",
            "Deleting original file ASL_VIDEOS/078-WAKE-UP.f140.m4a (pass -k to keep)\n",
            "Deleting original file ASL_VIDEOS/078-WAKE-UP.f137.mp4 (pass -k to keep)\n",
            "[download] Downloading item \u001b[0;32m79\u001b[0m of \u001b[0;94m147\u001b[0m\n",
            "[youtube] Extracting URL: https://www.youtube.com/watch?v=8vgtLZLwvZ8\n",
            "[youtube] 8vgtLZLwvZ8: Downloading webpage\n",
            "[youtube] 8vgtLZLwvZ8: Downloading ios player API JSON\n",
            "[youtube] 8vgtLZLwvZ8: Downloading web creator player API JSON\n",
            "[youtube] 8vgtLZLwvZ8: Downloading m3u8 information\n",
            "[info] 8vgtLZLwvZ8: Downloading 1 format(s): 137+140\n",
            "[download] Destination: ASL_VIDEOS/079-YOU AFRAID WHAT？.f137.mp4\n",
            "\u001b[K[download] 100% of  884.02KiB in \u001b[1;37m00:00:00\u001b[0m at \u001b[0;32m2.57MiB/s\u001b[0m\n",
            "[download] Destination: ASL_VIDEOS/079-YOU AFRAID WHAT？.f140.m4a\n",
            "\u001b[K[download] 100% of   48.80KiB in \u001b[1;37m00:00:00\u001b[0m at \u001b[0;32m325.85KiB/s\u001b[0m\n",
            "[Merger] Merging formats into \"ASL_VIDEOS/079-YOU AFRAID WHAT？.mp4\"\n",
            "Deleting original file ASL_VIDEOS/079-YOU AFRAID WHAT？.f137.mp4 (pass -k to keep)\n",
            "Deleting original file ASL_VIDEOS/079-YOU AFRAID WHAT？.f140.m4a (pass -k to keep)\n",
            "[download] Downloading item \u001b[0;32m80\u001b[0m of \u001b[0;94m147\u001b[0m\n",
            "[youtube] Extracting URL: https://www.youtube.com/watch?v=HgHv8pXg0Ls\n",
            "[youtube] HgHv8pXg0Ls: Downloading webpage\n",
            "[youtube] HgHv8pXg0Ls: Downloading ios player API JSON\n",
            "[youtube] HgHv8pXg0Ls: Downloading web creator player API JSON\n",
            "[youtube] HgHv8pXg0Ls: Downloading m3u8 information\n",
            "[info] HgHv8pXg0Ls: Downloading 1 format(s): 137+140\n",
            "[download] Destination: ASL_VIDEOS/080-YOU SOMETIMES FEEL LONELY YOU？.f137.mp4\n",
            "\u001b[K[download] 100% of  846.72KiB in \u001b[1;37m00:00:00\u001b[0m at \u001b[0;32m6.70MiB/s\u001b[0m\n",
            "[download] Destination: ASL_VIDEOS/080-YOU SOMETIMES FEEL LONELY YOU？.f140.m4a\n",
            "\u001b[K[download] 100% of   68.24KiB in \u001b[1;37m00:00:00\u001b[0m at \u001b[0;32m328.08KiB/s\u001b[0m\n",
            "[Merger] Merging formats into \"ASL_VIDEOS/080-YOU SOMETIMES FEEL LONELY YOU？.mp4\"\n",
            "Deleting original file ASL_VIDEOS/080-YOU SOMETIMES FEEL LONELY YOU？.f137.mp4 (pass -k to keep)\n",
            "Deleting original file ASL_VIDEOS/080-YOU SOMETIMES FEEL LONELY YOU？.f140.m4a (pass -k to keep)\n",
            "[download] Downloading item \u001b[0;32m81\u001b[0m of \u001b[0;94m147\u001b[0m\n",
            "[youtube] Extracting URL: https://www.youtube.com/watch?v=ekFrFoJ-x78\n",
            "[youtube] ekFrFoJ-x78: Downloading webpage\n",
            "[youtube] ekFrFoJ-x78: Downloading ios player API JSON\n",
            "[youtube] ekFrFoJ-x78: Downloading web creator player API JSON\n",
            "[youtube] ekFrFoJ-x78: Downloading m3u8 information\n",
            "[info] ekFrFoJ-x78: Downloading 1 format(s): 137+140\n",
            "[download] Destination: ASL_VIDEOS/081-CAT.f137.mp4\n",
            "\u001b[K[download] 100% of  211.69KiB in \u001b[1;37m00:00:00\u001b[0m at \u001b[0;32m585.54KiB/s\u001b[0m\n",
            "[download] Destination: ASL_VIDEOS/081-CAT.f140.m4a\n",
            "\u001b[K[download] 100% of   44.03KiB in \u001b[1;37m00:00:00\u001b[0m at \u001b[0;32m348.26KiB/s\u001b[0m\n",
            "[Merger] Merging formats into \"ASL_VIDEOS/081-CAT.mp4\"\n",
            "Deleting original file ASL_VIDEOS/081-CAT.f137.mp4 (pass -k to keep)\n",
            "Deleting original file ASL_VIDEOS/081-CAT.f140.m4a (pass -k to keep)\n",
            "[download] Downloading item \u001b[0;32m82\u001b[0m of \u001b[0;94m147\u001b[0m\n",
            "[youtube] Extracting URL: https://www.youtube.com/watch?v=8uIg8r1awC4\n",
            "[youtube] 8uIg8r1awC4: Downloading webpage\n",
            "[youtube] 8uIg8r1awC4: Downloading ios player API JSON\n",
            "[youtube] 8uIg8r1awC4: Downloading web creator player API JSON\n",
            "[youtube] 8uIg8r1awC4: Downloading m3u8 information\n",
            "[info] 8uIg8r1awC4: Downloading 1 format(s): 248+140\n",
            "[download] Destination: ASL_VIDEOS/082-LIKE.f248.webm\n",
            "\u001b[K[download] 100% of  258.10KiB in \u001b[1;37m00:00:00\u001b[0m at \u001b[0;32m2.76MiB/s\u001b[0m\n",
            "[download] Destination: ASL_VIDEOS/082-LIKE.f140.m4a\n",
            "\u001b[K[download] 100% of   40.09KiB in \u001b[1;37m00:00:00\u001b[0m at \u001b[0;32m416.45KiB/s\u001b[0m\n",
            "[Merger] Merging formats into \"ASL_VIDEOS/082-LIKE.mkv\"\n",
            "Deleting original file ASL_VIDEOS/082-LIKE.f248.webm (pass -k to keep)\n",
            "Deleting original file ASL_VIDEOS/082-LIKE.f140.m4a (pass -k to keep)\n",
            "[download] Downloading item \u001b[0;32m83\u001b[0m of \u001b[0;94m147\u001b[0m\n",
            "[youtube] Extracting URL: https://www.youtube.com/watch?v=bfXH1Yolqys\n",
            "[youtube] bfXH1Yolqys: Downloading webpage\n",
            "[youtube] bfXH1Yolqys: Downloading ios player API JSON\n",
            "[youtube] bfXH1Yolqys: Downloading web creator player API JSON\n",
            "[youtube] bfXH1Yolqys: Downloading m3u8 information\n",
            "[info] bfXH1Yolqys: Downloading 1 format(s): 248+140\n",
            "[download] Destination: ASL_VIDEOS/083-STILL.f248.webm\n",
            "\u001b[K[download] 100% of  189.46KiB in \u001b[1;37m00:00:00\u001b[0m at \u001b[0;32m743.58KiB/s\u001b[0m\n",
            "[download] Destination: ASL_VIDEOS/083-STILL.f140.m4a\n",
            "\u001b[K[download] 100% of   44.86KiB in \u001b[1;37m00:00:00\u001b[0m at \u001b[0;32m442.85KiB/s\u001b[0m\n",
            "[Merger] Merging formats into \"ASL_VIDEOS/083-STILL.mkv\"\n",
            "Deleting original file ASL_VIDEOS/083-STILL.f140.m4a (pass -k to keep)\n",
            "Deleting original file ASL_VIDEOS/083-STILL.f248.webm (pass -k to keep)\n",
            "[download] Downloading item \u001b[0;32m84\u001b[0m of \u001b[0;94m147\u001b[0m\n",
            "[youtube] Extracting URL: https://www.youtube.com/watch?v=fB4lPBMPgTo\n",
            "[youtube] fB4lPBMPgTo: Downloading webpage\n",
            "[youtube] fB4lPBMPgTo: Downloading ios player API JSON\n",
            "[youtube] fB4lPBMPgTo: Downloading web creator player API JSON\n",
            "[youtube] fB4lPBMPgTo: Downloading m3u8 information\n",
            "[info] fB4lPBMPgTo: Downloading 1 format(s): 137+140\n",
            "[download] Destination: ASL_VIDEOS/084-YOU ENJOY CAMP YOU？.f137.mp4\n",
            "\u001b[K[download] 100% of    1.35MiB in \u001b[1;37m00:00:00\u001b[0m at \u001b[0;32m3.92MiB/s\u001b[0m\n",
            "[download] Destination: ASL_VIDEOS/084-YOU ENJOY CAMP YOU？.f140.m4a\n",
            "\u001b[K[download] 100% of   74.84KiB in \u001b[1;37m00:00:00\u001b[0m at \u001b[0;32m422.21KiB/s\u001b[0m\n",
            "[Merger] Merging formats into \"ASL_VIDEOS/084-YOU ENJOY CAMP YOU？.mp4\"\n",
            "Deleting original file ASL_VIDEOS/084-YOU ENJOY CAMP YOU？.f137.mp4 (pass -k to keep)\n",
            "Deleting original file ASL_VIDEOS/084-YOU ENJOY CAMP YOU？.f140.m4a (pass -k to keep)\n",
            "[download] Downloading item \u001b[0;32m85\u001b[0m of \u001b[0;94m147\u001b[0m\n",
            "[youtube] Extracting URL: https://www.youtube.com/watch?v=ghY_NR1ylcQ\n",
            "[youtube] ghY_NR1ylcQ: Downloading webpage\n",
            "[youtube] ghY_NR1ylcQ: Downloading ios player API JSON\n",
            "[youtube] ghY_NR1ylcQ: Downloading web creator player API JSON\n",
            "[youtube] ghY_NR1ylcQ: Downloading m3u8 information\n",
            "[info] ghY_NR1ylcQ: Downloading 1 format(s): 231+140\n",
            "[hlsnative] Downloading m3u8 manifest\n",
            "[hlsnative] Total fragments: 1\n",
            "[download] Destination: ASL_VIDEOS/085-DIE (two hand version).f231.mp4\n",
            "\u001b[K[download] 100% of  132.55KiB in \u001b[1;37m00:00:00\u001b[0m at \u001b[0;32m261.74KiB/s\u001b[0m\n",
            "[download] Destination: ASL_VIDEOS/085-DIE (two hand version).f140.m4a\n",
            "\u001b[K[download] 100% of   56.50KiB in \u001b[1;37m00:00:00\u001b[0m at \u001b[0;32m837.32KiB/s\u001b[0m\n",
            "[Merger] Merging formats into \"ASL_VIDEOS/085-DIE (two hand version).mp4\"\n",
            "Deleting original file ASL_VIDEOS/085-DIE (two hand version).f231.mp4 (pass -k to keep)\n",
            "Deleting original file ASL_VIDEOS/085-DIE (two hand version).f140.m4a (pass -k to keep)\n",
            "[download] Downloading item \u001b[0;32m86\u001b[0m of \u001b[0;94m147\u001b[0m\n",
            "[youtube] Extracting URL: https://www.youtube.com/watch?v=_dvihXsQz2E\n",
            "[youtube] _dvihXsQz2E: Downloading webpage\n",
            "[youtube] _dvihXsQz2E: Downloading ios player API JSON\n",
            "[youtube] _dvihXsQz2E: Downloading web creator player API JSON\n",
            "[youtube] _dvihXsQz2E: Downloading m3u8 information\n",
            "[info] _dvihXsQz2E: Downloading 1 format(s): 137+140\n",
            "[download] Destination: ASL_VIDEOS/086-RESTROOM.f137.mp4\n",
            "\u001b[K[download] 100% of  247.99KiB in \u001b[1;37m00:00:00\u001b[0m at \u001b[0;32m2.01MiB/s\u001b[0m\n",
            "[download] Destination: ASL_VIDEOS/086-RESTROOM.f140.m4a\n",
            "\u001b[K[download] 100% of   37.43KiB in \u001b[1;37m00:00:00\u001b[0m at \u001b[0;32m697.49KiB/s\u001b[0m\n",
            "[Merger] Merging formats into \"ASL_VIDEOS/086-RESTROOM.mp4\"\n",
            "Deleting original file ASL_VIDEOS/086-RESTROOM.f137.mp4 (pass -k to keep)\n",
            "Deleting original file ASL_VIDEOS/086-RESTROOM.f140.m4a (pass -k to keep)\n",
            "[download] Downloading item \u001b[0;32m87\u001b[0m of \u001b[0;94m147\u001b[0m\n",
            "[youtube] Extracting URL: https://www.youtube.com/watch?v=cEw63nLe2Mg\n",
            "[youtube] cEw63nLe2Mg: Downloading webpage\n",
            "[youtube] cEw63nLe2Mg: Downloading ios player API JSON\n",
            "[youtube] cEw63nLe2Mg: Downloading web creator player API JSON\n",
            "[youtube] cEw63nLe2Mg: Downloading m3u8 information\n",
            "[info] cEw63nLe2Mg: Downloading 1 format(s): 135+140\n",
            "[download] Destination: ASL_VIDEOS/087-5-DOLLAR YOU-MIND you-LOAN-me？.f135.mp4\n",
            "\u001b[K[download] 100% of  386.08KiB in \u001b[1;37m00:00:00\u001b[0m at \u001b[0;32m3.49MiB/s\u001b[0m\n",
            "[download] Destination: ASL_VIDEOS/087-5-DOLLAR YOU-MIND you-LOAN-me？.f140.m4a\n",
            "\u001b[K[download] 100% of   82.91KiB in \u001b[1;37m00:00:00\u001b[0m at \u001b[0;32m327.34KiB/s\u001b[0m\n",
            "[Merger] Merging formats into \"ASL_VIDEOS/087-5-DOLLAR YOU-MIND you-LOAN-me？.mp4\"\n",
            "Deleting original file ASL_VIDEOS/087-5-DOLLAR YOU-MIND you-LOAN-me？.f135.mp4 (pass -k to keep)\n",
            "Deleting original file ASL_VIDEOS/087-5-DOLLAR YOU-MIND you-LOAN-me？.f140.m4a (pass -k to keep)\n",
            "[download] Downloading item \u001b[0;32m88\u001b[0m of \u001b[0;94m147\u001b[0m\n",
            "[youtube] Extracting URL: https://www.youtube.com/watch?v=ibhkBOauu00\n",
            "[youtube] ibhkBOauu00: Downloading webpage\n",
            "[youtube] ibhkBOauu00: Downloading ios player API JSON\n",
            "[youtube] ibhkBOauu00: Downloading web creator player API JSON\n",
            "[youtube] ibhkBOauu00: Downloading m3u8 information\n",
            "[info] ibhkBOauu00: Downloading 1 format(s): 137+140\n",
            "[download] Destination: ASL_VIDEOS/088-RESTROOM WHERE？.f137.mp4\n",
            "\u001b[K[download] 100% of  840.80KiB in \u001b[1;37m00:00:00\u001b[0m at \u001b[0;32m2.49MiB/s\u001b[0m\n",
            "[download] Destination: ASL_VIDEOS/088-RESTROOM WHERE？.f140.m4a\n",
            "\u001b[K[download] 100% of   45.87KiB in \u001b[1;37m00:00:00\u001b[0m at \u001b[0;32m218.17KiB/s\u001b[0m\n",
            "[Merger] Merging formats into \"ASL_VIDEOS/088-RESTROOM WHERE？.mp4\"\n",
            "Deleting original file ASL_VIDEOS/088-RESTROOM WHERE？.f140.m4a (pass -k to keep)\n",
            "Deleting original file ASL_VIDEOS/088-RESTROOM WHERE？.f137.mp4 (pass -k to keep)\n",
            "[download] Downloading item \u001b[0;32m89\u001b[0m of \u001b[0;94m147\u001b[0m\n",
            "[youtube] Extracting URL: https://www.youtube.com/watch?v=Won4Miqmz9Y\n",
            "[youtube] Won4Miqmz9Y: Downloading webpage\n",
            "[youtube] Won4Miqmz9Y: Downloading ios player API JSON\n",
            "[youtube] Won4Miqmz9Y: Downloading web creator player API JSON\n",
            "[youtube] Won4Miqmz9Y: Downloading m3u8 information\n",
            "[info] Won4Miqmz9Y: Downloading 1 format(s): 137+140\n",
            "[download] Destination: ASL_VIDEOS/089-YOU BORN WHERE？.f137.mp4\n",
            "\u001b[K[download] 100% of  645.73KiB in \u001b[1;37m00:00:00\u001b[0m at \u001b[0;32m2.23MiB/s\u001b[0m\n",
            "[download] Destination: ASL_VIDEOS/089-YOU BORN WHERE？.f140.m4a\n",
            "\u001b[K[download] 100% of   56.50KiB in \u001b[1;37m00:00:00\u001b[0m at \u001b[0;32m520.67KiB/s\u001b[0m\n",
            "[Merger] Merging formats into \"ASL_VIDEOS/089-YOU BORN WHERE？.mp4\"\n",
            "Deleting original file ASL_VIDEOS/089-YOU BORN WHERE？.f140.m4a (pass -k to keep)\n",
            "Deleting original file ASL_VIDEOS/089-YOU BORN WHERE？.f137.mp4 (pass -k to keep)\n",
            "[download] Downloading item \u001b[0;32m90\u001b[0m of \u001b[0;94m147\u001b[0m\n",
            "[youtube] Extracting URL: https://www.youtube.com/watch?v=s20eIP0_Ta4\n",
            "[youtube] s20eIP0_Ta4: Downloading webpage\n",
            "[youtube] s20eIP0_Ta4: Downloading ios player API JSON\n",
            "[youtube] s20eIP0_Ta4: Downloading web creator player API JSON\n",
            "[youtube] s20eIP0_Ta4: Downloading m3u8 information\n",
            "[info] s20eIP0_Ta4: Downloading 1 format(s): 137+140\n",
            "[download] Destination: ASL_VIDEOS/090-YOU THINK TODAY N-I-C-E？.f137.mp4\n",
            "\u001b[K[download] 100% of    1.56MiB in \u001b[1;37m00:00:00\u001b[0m at \u001b[0;32m3.38MiB/s\u001b[0m\n",
            "[download] Destination: ASL_VIDEOS/090-YOU THINK TODAY N-I-C-E？.f140.m4a\n",
            "\u001b[K[download] 100% of   86.57KiB in \u001b[1;37m00:00:00\u001b[0m at \u001b[0;32m625.55KiB/s\u001b[0m\n",
            "[Merger] Merging formats into \"ASL_VIDEOS/090-YOU THINK TODAY N-I-C-E？.mp4\"\n",
            "Deleting original file ASL_VIDEOS/090-YOU THINK TODAY N-I-C-E？.f137.mp4 (pass -k to keep)\n",
            "Deleting original file ASL_VIDEOS/090-YOU THINK TODAY N-I-C-E？.f140.m4a (pass -k to keep)\n",
            "[download] Downloading item \u001b[0;32m91\u001b[0m of \u001b[0;94m147\u001b[0m\n",
            "[youtube] Extracting URL: https://www.youtube.com/watch?v=PKrGMspKng4\n",
            "[youtube] PKrGMspKng4: Downloading webpage\n",
            "[youtube] PKrGMspKng4: Downloading ios player API JSON\n",
            "[youtube] PKrGMspKng4: Downloading web creator player API JSON\n",
            "[youtube] PKrGMspKng4: Downloading m3u8 information\n",
            "[info] PKrGMspKng4: Downloading 1 format(s): 137+140\n",
            "[download] Destination: ASL_VIDEOS/091-MORNING-all： all-MORNING.f137.mp4\n",
            "\u001b[K[download] 100% of  317.08KiB in \u001b[1;37m00:00:00\u001b[0m at \u001b[0;32m2.99MiB/s\u001b[0m\n",
            "[download] Destination: ASL_VIDEOS/091-MORNING-all： all-MORNING.f140.m4a\n",
            "\u001b[K[download] 100% of   37.07KiB in \u001b[1;37m00:00:00\u001b[0m at \u001b[0;32m115.68KiB/s\u001b[0m\n",
            "[Merger] Merging formats into \"ASL_VIDEOS/091-MORNING-all： all-MORNING.mp4\"\n",
            "Deleting original file ASL_VIDEOS/091-MORNING-all： all-MORNING.f137.mp4 (pass -k to keep)\n",
            "Deleting original file ASL_VIDEOS/091-MORNING-all： all-MORNING.f140.m4a (pass -k to keep)\n",
            "[download] Downloading item \u001b[0;32m92\u001b[0m of \u001b[0;94m147\u001b[0m\n",
            "[youtube] Extracting URL: https://www.youtube.com/watch?v=wTNv94AY-yE\n",
            "[youtube] wTNv94AY-yE: Downloading webpage\n",
            "[youtube] wTNv94AY-yE: Downloading ios player API JSON\n",
            "[youtube] wTNv94AY-yE: Downloading web creator player API JSON\n",
            "[youtube] wTNv94AY-yE: Downloading m3u8 information\n",
            "[info] wTNv94AY-yE: Downloading 1 format(s): 248+140\n",
            "[download] Destination: ASL_VIDEOS/092-AGAIN⧸repeat.f248.webm\n",
            "\u001b[K[download] 100% of  323.27KiB in \u001b[1;37m00:00:00\u001b[0m at \u001b[0;32m2.91MiB/s\u001b[0m\n",
            "[download] Destination: ASL_VIDEOS/092-AGAIN⧸repeat.f140.m4a\n",
            "\u001b[K[download] 100% of   48.52KiB in \u001b[1;37m00:00:00\u001b[0m at \u001b[0;32m266.94KiB/s\u001b[0m\n",
            "[Merger] Merging formats into \"ASL_VIDEOS/092-AGAIN⧸repeat.mkv\"\n",
            "Deleting original file ASL_VIDEOS/092-AGAIN⧸repeat.f248.webm (pass -k to keep)\n",
            "Deleting original file ASL_VIDEOS/092-AGAIN⧸repeat.f140.m4a (pass -k to keep)\n",
            "[download] Downloading item \u001b[0;32m93\u001b[0m of \u001b[0;94m147\u001b[0m\n",
            "[youtube] Extracting URL: https://www.youtube.com/watch?v=CiMFYre81HM\n",
            "[youtube] CiMFYre81HM: Downloading webpage\n",
            "[youtube] CiMFYre81HM: Downloading ios player API JSON\n",
            "[youtube] CiMFYre81HM: Downloading web creator player API JSON\n",
            "[youtube] CiMFYre81HM: Downloading m3u8 information\n",
            "[info] CiMFYre81HM: Downloading 1 format(s): 135+140\n",
            "[download] Destination: ASL_VIDEOS/093-ASL How can I help you？.f135.mp4\n",
            "\u001b[K[download] 100% of  386.04KiB in \u001b[1;37m00:00:00\u001b[0m at \u001b[0;32m3.20MiB/s\u001b[0m\n",
            "[download] Destination: ASL_VIDEOS/093-ASL How can I help you？.f140.m4a\n",
            "\u001b[K[download] 100% of   77.47KiB in \u001b[1;37m00:00:00\u001b[0m at \u001b[0;32m1.03MiB/s\u001b[0m\n",
            "[Merger] Merging formats into \"ASL_VIDEOS/093-ASL How can I help you？.mp4\"\n",
            "Deleting original file ASL_VIDEOS/093-ASL How can I help you？.f135.mp4 (pass -k to keep)\n",
            "Deleting original file ASL_VIDEOS/093-ASL How can I help you？.f140.m4a (pass -k to keep)\n",
            "[download] Downloading item \u001b[0;32m94\u001b[0m of \u001b[0;94m147\u001b[0m\n",
            "[youtube] Extracting URL: https://www.youtube.com/watch?v=MbggypBmHGw\n",
            "[youtube] MbggypBmHGw: Downloading webpage\n",
            "[youtube] MbggypBmHGw: Downloading ios player API JSON\n",
            "[youtube] MbggypBmHGw: Downloading web creator player API JSON\n",
            "[youtube] MbggypBmHGw: Downloading m3u8 information\n",
            "[info] MbggypBmHGw: Downloading 1 format(s): 315+140\n",
            "[download] Destination: ASL_VIDEOS/094-hello in ASL.f315.webm\n",
            "\u001b[K[download] 100% of    2.89MiB in \u001b[1;37m00:00:00\u001b[0m at \u001b[0;32m5.72MiB/s\u001b[0m\n",
            "[download] Destination: ASL_VIDEOS/094-hello in ASL.f140.m4a\n",
            "\u001b[K[download] 100% of   79.97KiB in \u001b[1;37m00:00:00\u001b[0m at \u001b[0;32m1.01MiB/s\u001b[0m\n",
            "[Merger] Merging formats into \"ASL_VIDEOS/094-hello in ASL.mkv\"\n",
            "Deleting original file ASL_VIDEOS/094-hello in ASL.f315.webm (pass -k to keep)\n",
            "Deleting original file ASL_VIDEOS/094-hello in ASL.f140.m4a (pass -k to keep)\n",
            "[download] Downloading item \u001b[0;32m95\u001b[0m of \u001b[0;94m147\u001b[0m\n",
            "[youtube] Extracting URL: https://www.youtube.com/watch?v=c7-vUjdeTjU\n",
            "[youtube] c7-vUjdeTjU: Downloading webpage\n",
            "[youtube] c7-vUjdeTjU: Downloading ios player API JSON\n",
            "[youtube] c7-vUjdeTjU: Downloading web creator player API JSON\n",
            "[youtube] c7-vUjdeTjU: Downloading m3u8 information\n",
            "[info] c7-vUjdeTjU: Downloading 1 format(s): 315+140\n",
            "[download] Destination: ASL_VIDEOS/095-are you hungry in ASL.f315.webm\n",
            "\u001b[K[download] 100% of    5.00MiB in \u001b[1;37m00:00:00\u001b[0m at \u001b[0;32m6.36MiB/s\u001b[0m\n",
            "[download] Destination: ASL_VIDEOS/095-are you hungry in ASL.f140.m4a\n",
            "\u001b[K[download] 100% of  106.38KiB in \u001b[1;37m00:00:00\u001b[0m at \u001b[0;32m1.06MiB/s\u001b[0m\n",
            "[Merger] Merging formats into \"ASL_VIDEOS/095-are you hungry in ASL.mkv\"\n",
            "Deleting original file ASL_VIDEOS/095-are you hungry in ASL.f315.webm (pass -k to keep)\n",
            "Deleting original file ASL_VIDEOS/095-are you hungry in ASL.f140.m4a (pass -k to keep)\n",
            "[download] Downloading item \u001b[0;32m96\u001b[0m of \u001b[0;94m147\u001b[0m\n",
            "[youtube] Extracting URL: https://www.youtube.com/watch?v=4K4IQx5MeKw\n",
            "[youtube] 4K4IQx5MeKw: Downloading webpage\n",
            "[youtube] 4K4IQx5MeKw: Downloading ios player API JSON\n",
            "[youtube] 4K4IQx5MeKw: Downloading web creator player API JSON\n",
            "[youtube] 4K4IQx5MeKw: Downloading m3u8 information\n",
            "[info] 4K4IQx5MeKw: Downloading 1 format(s): 315+140\n",
            "[download] Destination: ASL_VIDEOS/096-can you read lips in ASL.f315.webm\n",
            "\u001b[K[download] 100% of    3.90MiB in \u001b[1;37m00:00:00\u001b[0m at \u001b[0;32m7.73MiB/s\u001b[0m\n",
            "[download] Destination: ASL_VIDEOS/096-can you read lips in ASL.f140.m4a\n",
            "\u001b[K[download] 100% of  122.88KiB in \u001b[1;37m00:00:00\u001b[0m at \u001b[0;32m570.43KiB/s\u001b[0m\n",
            "[Merger] Merging formats into \"ASL_VIDEOS/096-can you read lips in ASL.mkv\"\n",
            "Deleting original file ASL_VIDEOS/096-can you read lips in ASL.f140.m4a (pass -k to keep)\n",
            "Deleting original file ASL_VIDEOS/096-can you read lips in ASL.f315.webm (pass -k to keep)\n",
            "[download] Downloading item \u001b[0;32m97\u001b[0m of \u001b[0;94m147\u001b[0m\n",
            "[youtube] Extracting URL: https://www.youtube.com/watch?v=8CRiJfTXWUc\n",
            "[youtube] 8CRiJfTXWUc: Downloading webpage\n",
            "[youtube] 8CRiJfTXWUc: Downloading ios player API JSON\n",
            "[youtube] 8CRiJfTXWUc: Downloading web creator player API JSON\n",
            "[youtube] 8CRiJfTXWUc: Downloading m3u8 information\n",
            "[info] 8CRiJfTXWUc: Downloading 1 format(s): 315+140\n",
            "[download] Destination: ASL_VIDEOS/097-youre welcome in ASL.f315.webm\n",
            "\u001b[K[download] 100% of    5.31MiB in \u001b[1;37m00:00:00\u001b[0m at \u001b[0;32m11.56MiB/s\u001b[0m\n",
            "[download] Destination: ASL_VIDEOS/097-youre welcome in ASL.f140.m4a\n",
            "\u001b[K[download] 100% of  106.83KiB in \u001b[1;37m00:00:00\u001b[0m at \u001b[0;32m1.18MiB/s\u001b[0m\n",
            "[Merger] Merging formats into \"ASL_VIDEOS/097-youre welcome in ASL.mkv\"\n",
            "Deleting original file ASL_VIDEOS/097-youre welcome in ASL.f140.m4a (pass -k to keep)\n",
            "Deleting original file ASL_VIDEOS/097-youre welcome in ASL.f315.webm (pass -k to keep)\n",
            "[download] Downloading item \u001b[0;32m98\u001b[0m of \u001b[0;94m147\u001b[0m\n",
            "[youtube] Extracting URL: https://www.youtube.com/watch?v=WfLAtDyrQo0\n",
            "[youtube] WfLAtDyrQo0: Downloading webpage\n",
            "[youtube] WfLAtDyrQo0: Downloading ios player API JSON\n",
            "[youtube] WfLAtDyrQo0: Downloading web creator player API JSON\n",
            "[youtube] WfLAtDyrQo0: Downloading m3u8 information\n",
            "[info] WfLAtDyrQo0: Downloading 1 format(s): 315+140\n",
            "[download] Destination: ASL_VIDEOS/098-is that true in ASL.f315.webm\n",
            "\u001b[K[download] 100% of    3.24MiB in \u001b[1;37m00:00:00\u001b[0m at \u001b[0;32m4.44MiB/s\u001b[0m\n",
            "[download] Destination: ASL_VIDEOS/098-is that true in ASL.f140.m4a\n",
            "\u001b[K[download] 100% of   67.14KiB in \u001b[1;37m00:00:00\u001b[0m at \u001b[0;32m321.37KiB/s\u001b[0m\n",
            "[Merger] Merging formats into \"ASL_VIDEOS/098-is that true in ASL.mkv\"\n",
            "Deleting original file ASL_VIDEOS/098-is that true in ASL.f140.m4a (pass -k to keep)\n",
            "Deleting original file ASL_VIDEOS/098-is that true in ASL.f315.webm (pass -k to keep)\n",
            "[download] Downloading item \u001b[0;32m99\u001b[0m of \u001b[0;94m147\u001b[0m\n",
            "[youtube] Extracting URL: https://www.youtube.com/watch?v=55BovjYyj78\n",
            "[youtube] 55BovjYyj78: Downloading webpage\n",
            "[youtube] 55BovjYyj78: Downloading ios player API JSON\n",
            "[youtube] 55BovjYyj78: Downloading web creator player API JSON\n",
            "[youtube] 55BovjYyj78: Downloading m3u8 information\n",
            "[info] 55BovjYyj78: Downloading 1 format(s): 315+140\n",
            "[download] Destination: ASL_VIDEOS/099-whats wrong in ASL.f315.webm\n",
            "\u001b[K[download] 100% of    2.23MiB in \u001b[1;37m00:00:00\u001b[0m at \u001b[0;32m2.59MiB/s\u001b[0m\n",
            "[download] Destination: ASL_VIDEOS/099-whats wrong in ASL.f140.m4a\n",
            "\u001b[K[download] 100% of   41.47KiB in \u001b[1;37m00:00:00\u001b[0m at \u001b[0;32m486.69KiB/s\u001b[0m\n",
            "[Merger] Merging formats into \"ASL_VIDEOS/099-whats wrong in ASL.mkv\"\n",
            "Deleting original file ASL_VIDEOS/099-whats wrong in ASL.f315.webm (pass -k to keep)\n",
            "Deleting original file ASL_VIDEOS/099-whats wrong in ASL.f140.m4a (pass -k to keep)\n",
            "[download] Downloading item \u001b[0;32m100\u001b[0m of \u001b[0;94m147\u001b[0m\n",
            "[youtube] Extracting URL: https://www.youtube.com/watch?v=LTVEN0DleoA\n",
            "[youtube] LTVEN0DleoA: Downloading webpage\n",
            "[youtube] LTVEN0DleoA: Downloading ios player API JSON\n",
            "[youtube] LTVEN0DleoA: Downloading web creator player API JSON\n",
            "[youtube] LTVEN0DleoA: Downloading m3u8 information\n",
            "[info] LTVEN0DleoA: Downloading 1 format(s): 315+140\n",
            "[download] Destination: ASL_VIDEOS/100-cell phone in ASL.f315.webm\n",
            "\u001b[K[download] 100% of    3.59MiB in \u001b[1;37m00:00:00\u001b[0m at \u001b[0;32m3.97MiB/s\u001b[0m\n",
            "[download] Destination: ASL_VIDEOS/100-cell phone in ASL.f140.m4a\n",
            "\u001b[K[download] 100% of   79.97KiB in \u001b[1;37m00:00:00\u001b[0m at \u001b[0;32m320.93KiB/s\u001b[0m\n",
            "[Merger] Merging formats into \"ASL_VIDEOS/100-cell phone in ASL.mkv\"\n",
            "Deleting original file ASL_VIDEOS/100-cell phone in ASL.f315.webm (pass -k to keep)\n",
            "Deleting original file ASL_VIDEOS/100-cell phone in ASL.f140.m4a (pass -k to keep)\n",
            "[download] Downloading item \u001b[0;32m101\u001b[0m of \u001b[0;94m147\u001b[0m\n",
            "[youtube] Extracting URL: https://www.youtube.com/watch?v=lHNW4oQnXik\n",
            "[youtube] lHNW4oQnXik: Downloading webpage\n",
            "[youtube] lHNW4oQnXik: Downloading ios player API JSON\n",
            "[youtube] lHNW4oQnXik: Downloading web creator player API JSON\n",
            "[youtube] lHNW4oQnXik: Downloading m3u8 information\n",
            "[info] lHNW4oQnXik: Downloading 1 format(s): 315+140\n",
            "[download] Destination: ASL_VIDEOS/101-change in ASL.f315.webm\n",
            "\u001b[K[download] 100% of    4.14MiB in \u001b[1;37m00:00:01\u001b[0m at \u001b[0;32m2.82MiB/s\u001b[0m\n",
            "[download] Destination: ASL_VIDEOS/101-change in ASL.f140.m4a\n",
            "\u001b[K[download] 100% of   82.17KiB in \u001b[1;37m00:00:00\u001b[0m at \u001b[0;32m479.78KiB/s\u001b[0m\n",
            "[Merger] Merging formats into \"ASL_VIDEOS/101-change in ASL.mkv\"\n",
            "Deleting original file ASL_VIDEOS/101-change in ASL.f315.webm (pass -k to keep)\n",
            "Deleting original file ASL_VIDEOS/101-change in ASL.f140.m4a (pass -k to keep)\n",
            "[download] Downloading item \u001b[0;32m102\u001b[0m of \u001b[0;94m147\u001b[0m\n",
            "[youtube] Extracting URL: https://www.youtube.com/watch?v=K1MtyKFfCas\n",
            "[youtube] K1MtyKFfCas: Downloading webpage\n",
            "[youtube] K1MtyKFfCas: Downloading ios player API JSON\n",
            "[youtube] K1MtyKFfCas: Downloading web creator player API JSON\n",
            "[youtube] K1MtyKFfCas: Downloading m3u8 information\n",
            "[info] K1MtyKFfCas: Downloading 1 format(s): 315+140\n",
            "[download] Destination: ASL_VIDEOS/102-busy in ASL.f315.webm\n",
            "\u001b[K[download] 100% of    7.05MiB in \u001b[1;37m00:00:00\u001b[0m at \u001b[0;32m17.15MiB/s\u001b[0m\n",
            "[download] Destination: ASL_VIDEOS/102-busy in ASL.f140.m4a\n",
            "\u001b[K[download] 100% of  105.28KiB in \u001b[1;37m00:00:00\u001b[0m at \u001b[0;32m1.15MiB/s\u001b[0m\n",
            "[Merger] Merging formats into \"ASL_VIDEOS/102-busy in ASL.mkv\"\n",
            "Deleting original file ASL_VIDEOS/102-busy in ASL.f140.m4a (pass -k to keep)\n",
            "Deleting original file ASL_VIDEOS/102-busy in ASL.f315.webm (pass -k to keep)\n",
            "[download] Downloading item \u001b[0;32m103\u001b[0m of \u001b[0;94m147\u001b[0m\n",
            "[youtube] Extracting URL: https://www.youtube.com/watch?v=EQ0z8afGnVU\n",
            "[youtube] EQ0z8afGnVU: Downloading webpage\n",
            "[youtube] EQ0z8afGnVU: Downloading ios player API JSON\n",
            "[youtube] EQ0z8afGnVU: Downloading web creator player API JSON\n",
            "[youtube] EQ0z8afGnVU: Downloading m3u8 information\n",
            "[info] EQ0z8afGnVU: Downloading 1 format(s): 315+140\n",
            "[download] Destination: ASL_VIDEOS/103-birthday2 in ASL.f315.webm\n",
            "\u001b[K[download] 100% of    5.01MiB in \u001b[1;37m00:00:02\u001b[0m at \u001b[0;32m1.87MiB/s\u001b[0m\n",
            "[download] Destination: ASL_VIDEOS/103-birthday2 in ASL.f140.m4a\n",
            "\u001b[K[download] 100% of  100.51KiB in \u001b[1;37m00:00:00\u001b[0m at \u001b[0;32m1.02MiB/s\u001b[0m\n",
            "[Merger] Merging formats into \"ASL_VIDEOS/103-birthday2 in ASL.mkv\"\n",
            "Deleting original file ASL_VIDEOS/103-birthday2 in ASL.f140.m4a (pass -k to keep)\n",
            "Deleting original file ASL_VIDEOS/103-birthday2 in ASL.f315.webm (pass -k to keep)\n",
            "[download] Downloading item \u001b[0;32m104\u001b[0m of \u001b[0;94m147\u001b[0m\n",
            "[youtube] Extracting URL: https://www.youtube.com/watch?v=f5HKi5sseeM\n",
            "[youtube] f5HKi5sseeM: Downloading webpage\n",
            "[youtube] f5HKi5sseeM: Downloading ios player API JSON\n",
            "[youtube] f5HKi5sseeM: Downloading web creator player API JSON\n",
            "[youtube] f5HKi5sseeM: Downloading m3u8 information\n",
            "[info] f5HKi5sseeM: Downloading 1 format(s): 315+140\n",
            "[download] Destination: ASL_VIDEOS/104-bluetooth in ASL.f315.webm\n",
            "\u001b[K[download] 100% of    3.89MiB in \u001b[1;37m00:00:01\u001b[0m at \u001b[0;32m3.63MiB/s\u001b[0m\n",
            "[download] Destination: ASL_VIDEOS/104-bluetooth in ASL.f140.m4a\n",
            "\u001b[K[download] 100% of   79.24KiB in \u001b[1;37m00:00:00\u001b[0m at \u001b[0;32m899.98KiB/s\u001b[0m\n",
            "[Merger] Merging formats into \"ASL_VIDEOS/104-bluetooth in ASL.mkv\"\n",
            "Deleting original file ASL_VIDEOS/104-bluetooth in ASL.f315.webm (pass -k to keep)\n",
            "Deleting original file ASL_VIDEOS/104-bluetooth in ASL.f140.m4a (pass -k to keep)\n",
            "[download] Downloading item \u001b[0;32m105\u001b[0m of \u001b[0;94m147\u001b[0m\n",
            "[youtube] Extracting URL: https://www.youtube.com/watch?v=bdBHTOrvpVg\n",
            "[youtube] bdBHTOrvpVg: Downloading webpage\n",
            "[youtube] bdBHTOrvpVg: Downloading ios player API JSON\n",
            "[youtube] bdBHTOrvpVg: Downloading web creator player API JSON\n",
            "[youtube] bdBHTOrvpVg: Downloading m3u8 information\n",
            "[info] bdBHTOrvpVg: Downloading 1 format(s): 315+140\n",
            "[download] Destination: ASL_VIDEOS/105-beautiful in ASL.f315.webm\n",
            "\u001b[K[download] 100% of    3.44MiB in \u001b[1;37m00:00:01\u001b[0m at \u001b[0;32m1.98MiB/s\u001b[0m\n",
            "[download] Destination: ASL_VIDEOS/105-beautiful in ASL.f140.m4a\n",
            "\u001b[K[download] 100% of   91.71KiB in \u001b[1;37m00:00:00\u001b[0m at \u001b[0;32m386.03KiB/s\u001b[0m\n",
            "[Merger] Merging formats into \"ASL_VIDEOS/105-beautiful in ASL.mkv\"\n",
            "Deleting original file ASL_VIDEOS/105-beautiful in ASL.f140.m4a (pass -k to keep)\n",
            "Deleting original file ASL_VIDEOS/105-beautiful in ASL.f315.webm (pass -k to keep)\n",
            "[download] Downloading item \u001b[0;32m106\u001b[0m of \u001b[0;94m147\u001b[0m\n",
            "[youtube] Extracting URL: https://www.youtube.com/watch?v=1Gr-dVlkZrM\n",
            "[youtube] 1Gr-dVlkZrM: Downloading webpage\n",
            "[youtube] 1Gr-dVlkZrM: Downloading ios player API JSON\n",
            "[youtube] 1Gr-dVlkZrM: Downloading web creator player API JSON\n",
            "[youtube] 1Gr-dVlkZrM: Downloading m3u8 information\n",
            "[info] 1Gr-dVlkZrM: Downloading 1 format(s): 315+140\n",
            "[download] Destination: ASL_VIDEOS/106-arrive in ASL.f315.webm\n",
            "\u001b[K[download] 100% of    4.21MiB in \u001b[1;37m00:00:01\u001b[0m at \u001b[0;32m3.99MiB/s\u001b[0m\n",
            "[download] Destination: ASL_VIDEOS/106-arrive in ASL.f140.m4a\n",
            "\u001b[K[download] 100% of   88.77KiB in \u001b[1;37m00:00:00\u001b[0m at \u001b[0;32m298.52KiB/s\u001b[0m\n",
            "[Merger] Merging formats into \"ASL_VIDEOS/106-arrive in ASL.mkv\"\n",
            "Deleting original file ASL_VIDEOS/106-arrive in ASL.f140.m4a (pass -k to keep)\n",
            "Deleting original file ASL_VIDEOS/106-arrive in ASL.f315.webm (pass -k to keep)\n",
            "[download] Downloading item \u001b[0;32m107\u001b[0m of \u001b[0;94m147\u001b[0m\n",
            "[youtube] Extracting URL: https://www.youtube.com/watch?v=mSCnqJw9vnk\n",
            "[youtube] mSCnqJw9vnk: Downloading webpage\n",
            "[youtube] mSCnqJw9vnk: Downloading ios player API JSON\n",
            "[youtube] mSCnqJw9vnk: Downloading web creator player API JSON\n",
            "[youtube] mSCnqJw9vnk: Downloading m3u8 information\n",
            "[info] mSCnqJw9vnk: Downloading 1 format(s): 315+140\n",
            "[download] Destination: ASL_VIDEOS/107-america in ASL.f315.webm\n",
            "\u001b[K[download] 100% of    5.93MiB in \u001b[1;37m00:00:01\u001b[0m at \u001b[0;32m3.81MiB/s\u001b[0m\n",
            "[download] Destination: ASL_VIDEOS/107-america in ASL.f140.m4a\n",
            "\u001b[K[download] 100% of   95.01KiB in \u001b[1;37m00:00:00\u001b[0m at \u001b[0;32m351.07KiB/s\u001b[0m\n",
            "[Merger] Merging formats into \"ASL_VIDEOS/107-america in ASL.mkv\"\n",
            "Deleting original file ASL_VIDEOS/107-america in ASL.f315.webm (pass -k to keep)\n",
            "Deleting original file ASL_VIDEOS/107-america in ASL.f140.m4a (pass -k to keep)\n",
            "[download] Downloading item \u001b[0;32m108\u001b[0m of \u001b[0;94m147\u001b[0m\n",
            "[youtube] Extracting URL: https://www.youtube.com/watch?v=DKll4s3pFzI\n",
            "[youtube] DKll4s3pFzI: Downloading webpage\n",
            "[youtube] DKll4s3pFzI: Downloading ios player API JSON\n",
            "[youtube] DKll4s3pFzI: Downloading web creator player API JSON\n",
            "[youtube] DKll4s3pFzI: Downloading m3u8 information\n",
            "[info] DKll4s3pFzI: Downloading 1 format(s): 315+140\n",
            "[download] Destination: ASL_VIDEOS/108-what do you do for work in ASL.f315.webm\n",
            "\u001b[K[download] 100% of    4.07MiB in \u001b[1;37m00:00:00\u001b[0m at \u001b[0;32m10.96MiB/s\u001b[0m\n",
            "[download] Destination: ASL_VIDEOS/108-what do you do for work in ASL.f140.m4a\n",
            "\u001b[K[download] 100% of  107.11KiB in \u001b[1;37m00:00:00\u001b[0m at \u001b[0;32m453.20KiB/s\u001b[0m\n",
            "[Merger] Merging formats into \"ASL_VIDEOS/108-what do you do for work in ASL.mkv\"\n",
            "Deleting original file ASL_VIDEOS/108-what do you do for work in ASL.f315.webm (pass -k to keep)\n",
            "Deleting original file ASL_VIDEOS/108-what do you do for work in ASL.f140.m4a (pass -k to keep)\n",
            "[download] Downloading item \u001b[0;32m109\u001b[0m of \u001b[0;94m147\u001b[0m\n",
            "[youtube] Extracting URL: https://www.youtube.com/watch?v=5nMeawQ_D20\n",
            "[youtube] 5nMeawQ_D20: Downloading webpage\n",
            "[youtube] 5nMeawQ_D20: Downloading ios player API JSON\n",
            "[youtube] 5nMeawQ_D20: Downloading web creator player API JSON\n",
            "[youtube] 5nMeawQ_D20: Downloading m3u8 information\n",
            "[info] 5nMeawQ_D20: Downloading 1 format(s): 315+140\n",
            "[download] Destination: ASL_VIDEOS/109-idiom fall head over heels in love in ASL.f315.webm\n",
            "\u001b[K[download] 100% of    5.23MiB in \u001b[1;37m00:00:01\u001b[0m at \u001b[0;32m4.24MiB/s\u001b[0m\n",
            "[download] Destination: ASL_VIDEOS/109-idiom fall head over heels in love in ASL.f140.m4a\n",
            "\u001b[K[download] 100% of  113.34KiB in \u001b[1;37m00:00:00\u001b[0m at \u001b[0;32m485.16KiB/s\u001b[0m\n",
            "[Merger] Merging formats into \"ASL_VIDEOS/109-idiom fall head over heels in love in ASL.mkv\"\n",
            "Deleting original file ASL_VIDEOS/109-idiom fall head over heels in love in ASL.f140.m4a (pass -k to keep)\n",
            "Deleting original file ASL_VIDEOS/109-idiom fall head over heels in love in ASL.f315.webm (pass -k to keep)\n",
            "[download] Downloading item \u001b[0;32m110\u001b[0m of \u001b[0;94m147\u001b[0m\n",
            "[youtube] Extracting URL: https://www.youtube.com/watch?v=yQD5HyEyWkI\n",
            "[youtube] yQD5HyEyWkI: Downloading webpage\n",
            "[youtube] yQD5HyEyWkI: Downloading ios player API JSON\n",
            "[youtube] yQD5HyEyWkI: Downloading web creator player API JSON\n",
            "[youtube] yQD5HyEyWkI: Downloading m3u8 information\n",
            "[info] yQD5HyEyWkI: Downloading 1 format(s): 315+140\n",
            "[download] Destination: ASL_VIDEOS/110-how old are you in ASL.f315.webm\n",
            "\u001b[K[download] 100% of    3.74MiB in \u001b[1;37m00:00:00\u001b[0m at \u001b[0;32m5.74MiB/s\u001b[0m\n",
            "[download] Destination: ASL_VIDEOS/110-how old are you in ASL.f140.m4a\n",
            "\u001b[K[download] 100% of  115.91KiB in \u001b[1;37m00:00:00\u001b[0m at \u001b[0;32m1.22MiB/s\u001b[0m\n",
            "[Merger] Merging formats into \"ASL_VIDEOS/110-how old are you in ASL.mkv\"\n",
            "Deleting original file ASL_VIDEOS/110-how old are you in ASL.f315.webm (pass -k to keep)\n",
            "Deleting original file ASL_VIDEOS/110-how old are you in ASL.f140.m4a (pass -k to keep)\n",
            "[download] Downloading item \u001b[0;32m111\u001b[0m of \u001b[0;94m147\u001b[0m\n",
            "[youtube] Extracting URL: https://www.youtube.com/watch?v=xrQ9ZBDJ8Vw\n",
            "[youtube] xrQ9ZBDJ8Vw: Downloading webpage\n",
            "[youtube] xrQ9ZBDJ8Vw: Downloading ios player API JSON\n",
            "[youtube] xrQ9ZBDJ8Vw: Downloading web creator player API JSON\n",
            "[youtube] xrQ9ZBDJ8Vw: Downloading m3u8 information\n",
            "[info] xrQ9ZBDJ8Vw: Downloading 1 format(s): 315+140\n",
            "[download] Destination: ASL_VIDEOS/111-i am 20 years old in ASL.f315.webm\n",
            "\u001b[K[download] 100% of    5.40MiB in \u001b[1;37m00:00:00\u001b[0m at \u001b[0;32m12.87MiB/s\u001b[0m\n",
            "[download] Destination: ASL_VIDEOS/111-i am 20 years old in ASL.f140.m4a\n",
            "\u001b[K[download] 100% of  114.44KiB in \u001b[1;37m00:00:00\u001b[0m at \u001b[0;32m1.21MiB/s\u001b[0m\n",
            "[Merger] Merging formats into \"ASL_VIDEOS/111-i am 20 years old in ASL.mkv\"\n",
            "Deleting original file ASL_VIDEOS/111-i am 20 years old in ASL.f315.webm (pass -k to keep)\n",
            "Deleting original file ASL_VIDEOS/111-i am 20 years old in ASL.f140.m4a (pass -k to keep)\n",
            "[download] Downloading item \u001b[0;32m112\u001b[0m of \u001b[0;94m147\u001b[0m\n",
            "[youtube] Extracting URL: https://www.youtube.com/watch?v=cRESUuUjvgY\n",
            "[youtube] cRESUuUjvgY: Downloading webpage\n",
            "[youtube] cRESUuUjvgY: Downloading ios player API JSON\n",
            "[youtube] cRESUuUjvgY: Downloading web creator player API JSON\n",
            "[youtube] cRESUuUjvgY: Downloading m3u8 information\n",
            "[info] cRESUuUjvgY: Downloading 1 format(s): 315+140\n",
            "[download] Destination: ASL_VIDEOS/112-holiday in ASL.f315.webm\n",
            "\u001b[K[download] 100% of    4.75MiB in \u001b[1;37m00:00:01\u001b[0m at \u001b[0;32m3.37MiB/s\u001b[0m\n",
            "[download] Destination: ASL_VIDEOS/112-holiday in ASL.f140.m4a\n",
            "\u001b[K[download] 100% of  101.24KiB in \u001b[1;37m00:00:00\u001b[0m at \u001b[0;32m415.99KiB/s\u001b[0m\n",
            "[Merger] Merging formats into \"ASL_VIDEOS/112-holiday in ASL.mkv\"\n",
            "Deleting original file ASL_VIDEOS/112-holiday in ASL.f315.webm (pass -k to keep)\n",
            "Deleting original file ASL_VIDEOS/112-holiday in ASL.f140.m4a (pass -k to keep)\n",
            "[download] Downloading item \u001b[0;32m113\u001b[0m of \u001b[0;94m147\u001b[0m\n",
            "[youtube] Extracting URL: https://www.youtube.com/watch?v=iI7gWYvhjsc\n",
            "[youtube] iI7gWYvhjsc: Downloading webpage\n",
            "[youtube] iI7gWYvhjsc: Downloading ios player API JSON\n",
            "[youtube] iI7gWYvhjsc: Downloading web creator player API JSON\n",
            "[youtube] iI7gWYvhjsc: Downloading m3u8 information\n",
            "[info] iI7gWYvhjsc: Downloading 1 format(s): 315+140\n",
            "[download] Destination: ASL_VIDEOS/113-hug in ASL.f315.webm\n",
            "\u001b[K[download] 100% of    3.19MiB in \u001b[1;37m00:00:00\u001b[0m at \u001b[0;32m3.84MiB/s\u001b[0m\n",
            "[download] Destination: ASL_VIDEOS/113-hug in ASL.f140.m4a\n",
            "\u001b[K[download] 100% of   83.64KiB in \u001b[1;37m00:00:00\u001b[0m at \u001b[0;32m375.50KiB/s\u001b[0m\n",
            "[Merger] Merging formats into \"ASL_VIDEOS/113-hug in ASL.mkv\"\n",
            "Deleting original file ASL_VIDEOS/113-hug in ASL.f140.m4a (pass -k to keep)\n",
            "Deleting original file ASL_VIDEOS/113-hug in ASL.f315.webm (pass -k to keep)\n",
            "[download] Downloading item \u001b[0;32m114\u001b[0m of \u001b[0;94m147\u001b[0m\n",
            "[youtube] Extracting URL: https://www.youtube.com/watch?v=nDncXyPwfmM\n",
            "[youtube] nDncXyPwfmM: Downloading webpage\n",
            "[youtube] nDncXyPwfmM: Downloading ios player API JSON\n",
            "[youtube] nDncXyPwfmM: Downloading web creator player API JSON\n",
            "[youtube] nDncXyPwfmM: Downloading m3u8 information\n",
            "[info] nDncXyPwfmM: Downloading 1 format(s): 315+140\n",
            "[download] Destination: ASL_VIDEOS/114-i me in ASL.f315.webm\n",
            "\u001b[K[download] 100% of    3.38MiB in \u001b[1;37m00:00:01\u001b[0m at \u001b[0;32m3.13MiB/s\u001b[0m\n",
            "[download] Destination: ASL_VIDEOS/114-i me in ASL.f140.m4a\n",
            "\u001b[K[download] 100% of  108.94KiB in \u001b[1;37m00:00:00\u001b[0m at \u001b[0;32m538.63KiB/s\u001b[0m\n",
            "[Merger] Merging formats into \"ASL_VIDEOS/114-i me in ASL.mkv\"\n",
            "Deleting original file ASL_VIDEOS/114-i me in ASL.f315.webm (pass -k to keep)\n",
            "Deleting original file ASL_VIDEOS/114-i me in ASL.f140.m4a (pass -k to keep)\n",
            "[download] Downloading item \u001b[0;32m115\u001b[0m of \u001b[0;94m147\u001b[0m\n",
            "[youtube] Extracting URL: https://www.youtube.com/watch?v=tZ9UWBMIJMc\n",
            "[youtube] tZ9UWBMIJMc: Downloading webpage\n",
            "[youtube] tZ9UWBMIJMc: Downloading ios player API JSON\n",
            "[youtube] tZ9UWBMIJMc: Downloading web creator player API JSON\n",
            "[youtube] tZ9UWBMIJMc: Downloading m3u8 information\n",
            "[info] tZ9UWBMIJMc: Downloading 1 format(s): 315+140\n",
            "[download] Destination: ASL_VIDEOS/115-hurry in ASL.f315.webm\n",
            "\u001b[K[download] 100% of    3.92MiB in \u001b[1;37m00:00:01\u001b[0m at \u001b[0;32m3.50MiB/s\u001b[0m\n",
            "[download] Destination: ASL_VIDEOS/115-hurry in ASL.f140.m4a\n",
            "\u001b[K[download] 100% of   76.30KiB in \u001b[1;37m00:00:00\u001b[0m at \u001b[0;32m555.63KiB/s\u001b[0m\n",
            "[Merger] Merging formats into \"ASL_VIDEOS/115-hurry in ASL.mkv\"\n",
            "Deleting original file ASL_VIDEOS/115-hurry in ASL.f315.webm (pass -k to keep)\n",
            "Deleting original file ASL_VIDEOS/115-hurry in ASL.f140.m4a (pass -k to keep)\n",
            "[download] Downloading item \u001b[0;32m116\u001b[0m of \u001b[0;94m147\u001b[0m\n",
            "[youtube] Extracting URL: https://www.youtube.com/watch?v=J-tnxZesVVg\n",
            "[youtube] J-tnxZesVVg: Downloading webpage\n",
            "[youtube] J-tnxZesVVg: Downloading ios player API JSON\n",
            "[youtube] J-tnxZesVVg: Downloading web creator player API JSON\n",
            "[youtube] J-tnxZesVVg: Downloading m3u8 information\n",
            "[info] J-tnxZesVVg: Downloading 1 format(s): 315+140\n",
            "[download] Destination: ASL_VIDEOS/116-handsome in ASL.f315.webm\n",
            "\u001b[K[download] 100% of    4.09MiB in \u001b[1;37m00:00:01\u001b[0m at \u001b[0;32m2.63MiB/s\u001b[0m\n",
            "[download] Destination: ASL_VIDEOS/116-handsome in ASL.f140.m4a\n",
            "\u001b[K[download] 100% of   95.01KiB in \u001b[1;37m00:00:00\u001b[0m at \u001b[0;32m1.01MiB/s\u001b[0m\n",
            "[Merger] Merging formats into \"ASL_VIDEOS/116-handsome in ASL.mkv\"\n",
            "Deleting original file ASL_VIDEOS/116-handsome in ASL.f140.m4a (pass -k to keep)\n",
            "Deleting original file ASL_VIDEOS/116-handsome in ASL.f315.webm (pass -k to keep)\n",
            "[download] Downloading item \u001b[0;32m117\u001b[0m of \u001b[0;94m147\u001b[0m\n",
            "[youtube] Extracting URL: https://www.youtube.com/watch?v=X5WIlLvreSM\n",
            "[youtube] X5WIlLvreSM: Downloading webpage\n",
            "[youtube] X5WIlLvreSM: Downloading ios player API JSON\n",
            "[youtube] X5WIlLvreSM: Downloading web creator player API JSON\n",
            "[youtube] X5WIlLvreSM: Downloading m3u8 information\n",
            "[info] X5WIlLvreSM: Downloading 1 format(s): 315+140\n",
            "[download] Destination: ASL_VIDEOS/117-high school in ASL.f315.webm\n",
            "\u001b[K[download] 100% of    4.16MiB in \u001b[1;37m00:00:01\u001b[0m at \u001b[0;32m2.91MiB/s\u001b[0m\n",
            "[download] Destination: ASL_VIDEOS/117-high school in ASL.f140.m4a\n",
            "\u001b[K[download] 100% of   88.41KiB in \u001b[1;37m00:00:00\u001b[0m at \u001b[0;32m912.03KiB/s\u001b[0m\n",
            "[Merger] Merging formats into \"ASL_VIDEOS/117-high school in ASL.mkv\"\n",
            "Deleting original file ASL_VIDEOS/117-high school in ASL.f140.m4a (pass -k to keep)\n",
            "Deleting original file ASL_VIDEOS/117-high school in ASL.f315.webm (pass -k to keep)\n",
            "[download] Downloading item \u001b[0;32m118\u001b[0m of \u001b[0;94m147\u001b[0m\n",
            "[youtube] Extracting URL: https://www.youtube.com/watch?v=YhnFTS5o2XY\n",
            "[youtube] YhnFTS5o2XY: Downloading webpage\n",
            "[youtube] YhnFTS5o2XY: Downloading ios player API JSON\n",
            "[youtube] YhnFTS5o2XY: Downloading web creator player API JSON\n",
            "[youtube] YhnFTS5o2XY: Downloading m3u8 information\n",
            "[info] YhnFTS5o2XY: Downloading 1 format(s): 315+140\n",
            "[download] Destination: ASL_VIDEOS/118-have in ASL.f315.webm\n",
            "\u001b[K[download] 100% of    5.29MiB in \u001b[1;37m00:00:01\u001b[0m at \u001b[0;32m4.14MiB/s\u001b[0m\n",
            "[download] Destination: ASL_VIDEOS/118-have in ASL.f140.m4a\n",
            "\u001b[K[download] 100% of  103.44KiB in \u001b[1;37m00:00:00\u001b[0m at \u001b[0;32m484.24KiB/s\u001b[0m\n",
            "[Merger] Merging formats into \"ASL_VIDEOS/118-have in ASL.mkv\"\n",
            "Deleting original file ASL_VIDEOS/118-have in ASL.f315.webm (pass -k to keep)\n",
            "Deleting original file ASL_VIDEOS/118-have in ASL.f140.m4a (pass -k to keep)\n",
            "[download] Downloading item \u001b[0;32m119\u001b[0m of \u001b[0;94m147\u001b[0m\n",
            "[youtube] Extracting URL: https://www.youtube.com/watch?v=c05MRgIknrI\n",
            "[youtube] c05MRgIknrI: Downloading webpage\n",
            "[youtube] c05MRgIknrI: Downloading ios player API JSON\n",
            "[youtube] c05MRgIknrI: Downloading web creator player API JSON\n",
            "[youtube] c05MRgIknrI: Downloading m3u8 information\n",
            "[info] c05MRgIknrI: Downloading 1 format(s): 315+140\n",
            "[download] Destination: ASL_VIDEOS/119-help in ASL.f315.webm\n",
            "\u001b[K[download] 100% of    4.66MiB in \u001b[1;37m00:00:00\u001b[0m at \u001b[0;32m6.19MiB/s\u001b[0m\n",
            "[download] Destination: ASL_VIDEOS/119-help in ASL.f140.m4a\n",
            "\u001b[K[download] 100% of  137.55KiB in \u001b[1;37m00:00:00\u001b[0m at \u001b[0;32m459.42KiB/s\u001b[0m\n",
            "[Merger] Merging formats into \"ASL_VIDEOS/119-help in ASL.mkv\"\n",
            "Deleting original file ASL_VIDEOS/119-help in ASL.f315.webm (pass -k to keep)\n",
            "Deleting original file ASL_VIDEOS/119-help in ASL.f140.m4a (pass -k to keep)\n",
            "[download] Downloading item \u001b[0;32m120\u001b[0m of \u001b[0;94m147\u001b[0m\n",
            "[youtube] Extracting URL: https://www.youtube.com/watch?v=fK-9SVQoPT0\n",
            "[youtube] fK-9SVQoPT0: Downloading webpage\n",
            "[youtube] fK-9SVQoPT0: Downloading ios player API JSON\n",
            "[youtube] fK-9SVQoPT0: Downloading web creator player API JSON\n",
            "[youtube] fK-9SVQoPT0: Downloading m3u8 information\n",
            "[info] fK-9SVQoPT0: Downloading 1 format(s): 315+140\n",
            "[download] Destination: ASL_VIDEOS/120-happen in ASL.f315.webm\n",
            "\u001b[K[download] 100% of    5.47MiB in \u001b[1;37m00:00:02\u001b[0m at \u001b[0;32m1.90MiB/s\u001b[0m\n",
            "[download] Destination: ASL_VIDEOS/120-happen in ASL.f140.m4a\n",
            "\u001b[K[download] 100% of   82.17KiB in \u001b[1;37m00:00:00\u001b[0m at \u001b[0;32m914.74KiB/s\u001b[0m\n",
            "[Merger] Merging formats into \"ASL_VIDEOS/120-happen in ASL.mkv\"\n",
            "Deleting original file ASL_VIDEOS/120-happen in ASL.f140.m4a (pass -k to keep)\n",
            "Deleting original file ASL_VIDEOS/120-happen in ASL.f315.webm (pass -k to keep)\n",
            "[download] Downloading item \u001b[0;32m121\u001b[0m of \u001b[0;94m147\u001b[0m\n",
            "[youtube] Extracting URL: https://www.youtube.com/watch?v=ffbdJESfVfU\n",
            "[youtube] ffbdJESfVfU: Downloading webpage\n",
            "[youtube] ffbdJESfVfU: Downloading ios player API JSON\n",
            "[youtube] ffbdJESfVfU: Downloading web creator player API JSON\n",
            "[youtube] ffbdJESfVfU: Downloading m3u8 information\n",
            "[info] ffbdJESfVfU: Downloading 1 format(s): 315+140\n",
            "[download] Destination: ASL_VIDEOS/121-funny in ASL.f315.webm\n",
            "\u001b[K[download] 100% of    2.84MiB in \u001b[1;37m00:00:00\u001b[0m at \u001b[0;32m3.11MiB/s\u001b[0m\n",
            "[download] Destination: ASL_VIDEOS/121-funny in ASL.f140.m4a\n",
            "\u001b[K[download] 100% of   76.67KiB in \u001b[1;37m00:00:00\u001b[0m at \u001b[0;32m245.55KiB/s\u001b[0m\n",
            "[Merger] Merging formats into \"ASL_VIDEOS/121-funny in ASL.mkv\"\n",
            "Deleting original file ASL_VIDEOS/121-funny in ASL.f140.m4a (pass -k to keep)\n",
            "Deleting original file ASL_VIDEOS/121-funny in ASL.f315.webm (pass -k to keep)\n",
            "[download] Downloading item \u001b[0;32m122\u001b[0m of \u001b[0;94m147\u001b[0m\n",
            "[youtube] Extracting URL: https://www.youtube.com/watch?v=s_WO9IVvvv4\n",
            "[youtube] s_WO9IVvvv4: Downloading webpage\n",
            "[youtube] s_WO9IVvvv4: Downloading ios player API JSON\n",
            "[youtube] s_WO9IVvvv4: Downloading web creator player API JSON\n",
            "[youtube] s_WO9IVvvv4: Downloading m3u8 information\n",
            "[info] s_WO9IVvvv4: Downloading 1 format(s): 315+140\n",
            "[download] Destination: ASL_VIDEOS/122-from in ASL.f315.webm\n",
            "\u001b[K[download] 100% of    6.48MiB in \u001b[1;37m00:00:00\u001b[0m at \u001b[0;32m8.67MiB/s\u001b[0m\n",
            "[download] Destination: ASL_VIDEOS/122-from in ASL.f140.m4a\n",
            "\u001b[K[download] 100% of   97.21KiB in \u001b[1;37m00:00:00\u001b[0m at \u001b[0;32m928.61KiB/s\u001b[0m\n",
            "[Merger] Merging formats into \"ASL_VIDEOS/122-from in ASL.mkv\"\n",
            "Deleting original file ASL_VIDEOS/122-from in ASL.f140.m4a (pass -k to keep)\n",
            "Deleting original file ASL_VIDEOS/122-from in ASL.f315.webm (pass -k to keep)\n",
            "[download] Downloading item \u001b[0;32m123\u001b[0m of \u001b[0;94m147\u001b[0m\n",
            "[youtube] Extracting URL: https://www.youtube.com/watch?v=yLSJyIAHRmo\n",
            "[youtube] yLSJyIAHRmo: Downloading webpage\n",
            "[youtube] yLSJyIAHRmo: Downloading ios player API JSON\n",
            "[youtube] yLSJyIAHRmo: Downloading web creator player API JSON\n",
            "[youtube] yLSJyIAHRmo: Downloading m3u8 information\n",
            "[info] yLSJyIAHRmo: Downloading 1 format(s): 315+140\n",
            "[download] Destination: ASL_VIDEOS/123-find in ASL.f315.webm\n",
            "\u001b[K[download] 100% of    4.21MiB in \u001b[1;37m00:00:01\u001b[0m at \u001b[0;32m3.87MiB/s\u001b[0m\n",
            "[download] Destination: ASL_VIDEOS/123-find in ASL.f140.m4a\n",
            "\u001b[K[download] 100% of   86.21KiB in \u001b[1;37m00:00:00\u001b[0m at \u001b[0;32m1.03MiB/s\u001b[0m\n",
            "[Merger] Merging formats into \"ASL_VIDEOS/123-find in ASL.mkv\"\n",
            "Deleting original file ASL_VIDEOS/123-find in ASL.f315.webm (pass -k to keep)\n",
            "Deleting original file ASL_VIDEOS/123-find in ASL.f140.m4a (pass -k to keep)\n",
            "[download] Downloading item \u001b[0;32m124\u001b[0m of \u001b[0;94m147\u001b[0m\n",
            "[youtube] Extracting URL: https://www.youtube.com/watch?v=8883RkxDq0M\n",
            "[youtube] 8883RkxDq0M: Downloading webpage\n",
            "[youtube] 8883RkxDq0M: Downloading ios player API JSON\n",
            "[youtube] 8883RkxDq0M: Downloading web creator player API JSON\n",
            "[youtube] 8883RkxDq0M: Downloading m3u8 information\n",
            "[info] 8883RkxDq0M: Downloading 1 format(s): 315+140\n",
            "[download] Destination: ASL_VIDEOS/124-explain in ASL.f315.webm\n",
            "\u001b[K[download] 100% of    5.80MiB in \u001b[1;37m00:00:01\u001b[0m at \u001b[0;32m3.45MiB/s\u001b[0m\n",
            "[download] Destination: ASL_VIDEOS/124-explain in ASL.f140.m4a\n",
            "\u001b[K[download] 100% of   75.66KiB in \u001b[1;37m00:00:00\u001b[0m at \u001b[0;32m155.74KiB/s\u001b[0m\n",
            "[Merger] Merging formats into \"ASL_VIDEOS/124-explain in ASL.mkv\"\n",
            "Deleting original file ASL_VIDEOS/124-explain in ASL.f315.webm (pass -k to keep)\n",
            "Deleting original file ASL_VIDEOS/124-explain in ASL.f140.m4a (pass -k to keep)\n",
            "[download] Downloading item \u001b[0;32m125\u001b[0m of \u001b[0;94m147\u001b[0m\n",
            "[youtube] Extracting URL: https://www.youtube.com/watch?v=YXZ-XJg2vC4\n",
            "[youtube] YXZ-XJg2vC4: Downloading webpage\n",
            "[youtube] YXZ-XJg2vC4: Downloading ios player API JSON\n",
            "[youtube] YXZ-XJg2vC4: Downloading web creator player API JSON\n",
            "[youtube] YXZ-XJg2vC4: Downloading m3u8 information\n",
            "[info] YXZ-XJg2vC4: Downloading 1 format(s): 315+140\n",
            "[download] Destination: ASL_VIDEOS/125-false fake in ASL.f315.webm\n",
            "\u001b[K[download] 100% of    2.71MiB in \u001b[1;37m00:00:00\u001b[0m at \u001b[0;32m3.50MiB/s\u001b[0m\n",
            "[download] Destination: ASL_VIDEOS/125-false fake in ASL.f140.m4a\n",
            "\u001b[K[download] 100% of   78.14KiB in \u001b[1;37m00:00:00\u001b[0m at \u001b[0;32m834.11KiB/s\u001b[0m\n",
            "[Merger] Merging formats into \"ASL_VIDEOS/125-false fake in ASL.mkv\"\n",
            "Deleting original file ASL_VIDEOS/125-false fake in ASL.f315.webm (pass -k to keep)\n",
            "Deleting original file ASL_VIDEOS/125-false fake in ASL.f140.m4a (pass -k to keep)\n",
            "[download] Downloading item \u001b[0;32m126\u001b[0m of \u001b[0;94m147\u001b[0m\n",
            "[youtube] Extracting URL: https://www.youtube.com/watch?v=n4cxln5hEek\n",
            "[youtube] n4cxln5hEek: Downloading webpage\n",
            "[youtube] n4cxln5hEek: Downloading ios player API JSON\n",
            "[youtube] n4cxln5hEek: Downloading web creator player API JSON\n",
            "[youtube] n4cxln5hEek: Downloading m3u8 information\n",
            "[info] n4cxln5hEek: Downloading 1 format(s): 315+140\n",
            "[download] Destination: ASL_VIDEOS/126-elevator2 in ASL.f315.webm\n",
            "\u001b[K[download] 100% of    5.43MiB in \u001b[1;37m00:00:00\u001b[0m at \u001b[0;32m12.53MiB/s\u001b[0m\n",
            "[download] Destination: ASL_VIDEOS/126-elevator2 in ASL.f140.m4a\n",
            "\u001b[K[download] 100% of   79.61KiB in \u001b[1;37m00:00:00\u001b[0m at \u001b[0;32m597.72KiB/s\u001b[0m\n",
            "[Merger] Merging formats into \"ASL_VIDEOS/126-elevator2 in ASL.mkv\"\n",
            "Deleting original file ASL_VIDEOS/126-elevator2 in ASL.f315.webm (pass -k to keep)\n",
            "Deleting original file ASL_VIDEOS/126-elevator2 in ASL.f140.m4a (pass -k to keep)\n",
            "[download] Downloading item \u001b[0;32m127\u001b[0m of \u001b[0;94m147\u001b[0m\n",
            "[youtube] Extracting URL: https://www.youtube.com/watch?v=IUmndmWOaME\n",
            "[youtube] IUmndmWOaME: Downloading webpage\n",
            "[youtube] IUmndmWOaME: Downloading ios player API JSON\n",
            "[youtube] IUmndmWOaME: Downloading web creator player API JSON\n",
            "[youtube] IUmndmWOaME: Downloading m3u8 information\n",
            "[info] IUmndmWOaME: Downloading 1 format(s): 315+140\n",
            "[download] Destination: ASL_VIDEOS/127-dont know in ASL.f315.webm\n",
            "\u001b[K[download] 100% of    4.13MiB in \u001b[1;37m00:00:00\u001b[0m at \u001b[0;32m9.95MiB/s\u001b[0m\n",
            "[download] Destination: ASL_VIDEOS/127-dont know in ASL.f140.m4a\n",
            "\u001b[K[download] 100% of   92.81KiB in \u001b[1;37m00:00:00\u001b[0m at \u001b[0;32m868.34KiB/s\u001b[0m\n",
            "[Merger] Merging formats into \"ASL_VIDEOS/127-dont know in ASL.mkv\"\n",
            "Deleting original file ASL_VIDEOS/127-dont know in ASL.f140.m4a (pass -k to keep)\n",
            "Deleting original file ASL_VIDEOS/127-dont know in ASL.f315.webm (pass -k to keep)\n",
            "[download] Downloading item \u001b[0;32m128\u001b[0m of \u001b[0;94m147\u001b[0m\n",
            "[youtube] Extracting URL: https://www.youtube.com/watch?v=Ou_r-BsgxIA\n",
            "[youtube] Ou_r-BsgxIA: Downloading webpage\n",
            "[youtube] Ou_r-BsgxIA: Downloading ios player API JSON\n",
            "[youtube] Ou_r-BsgxIA: Downloading web creator player API JSON\n",
            "[youtube] Ou_r-BsgxIA: Downloading m3u8 information\n",
            "[info] Ou_r-BsgxIA: Downloading 1 format(s): 315+140\n",
            "[download] Destination: ASL_VIDEOS/128-dont care in ASL.f315.webm\n",
            "\u001b[K[download] 100% of    5.12MiB in \u001b[1;37m00:00:00\u001b[0m at \u001b[0;32m12.87MiB/s\u001b[0m\n",
            "[download] Destination: ASL_VIDEOS/128-dont care in ASL.f140.m4a\n",
            "\u001b[K[download] 100% of   85.11KiB in \u001b[1;37m00:00:00\u001b[0m at \u001b[0;32m917.20KiB/s\u001b[0m\n",
            "[Merger] Merging formats into \"ASL_VIDEOS/128-dont care in ASL.mkv\"\n",
            "Deleting original file ASL_VIDEOS/128-dont care in ASL.f140.m4a (pass -k to keep)\n",
            "Deleting original file ASL_VIDEOS/128-dont care in ASL.f315.webm (pass -k to keep)\n",
            "[download] Downloading item \u001b[0;32m129\u001b[0m of \u001b[0;94m147\u001b[0m\n",
            "[youtube] Extracting URL: https://www.youtube.com/watch?v=tu7FSRnpnIQ\n",
            "[youtube] tu7FSRnpnIQ: Downloading webpage\n",
            "[youtube] tu7FSRnpnIQ: Downloading ios player API JSON\n",
            "[youtube] tu7FSRnpnIQ: Downloading web creator player API JSON\n",
            "[youtube] tu7FSRnpnIQ: Downloading m3u8 information\n",
            "[info] tu7FSRnpnIQ: Downloading 1 format(s): 315+140\n",
            "[download] Destination: ASL_VIDEOS/129-dont want in ASL.f315.webm\n",
            "\u001b[K[download] 100% of    5.23MiB in \u001b[1;37m00:00:00\u001b[0m at \u001b[0;32m13.17MiB/s\u001b[0m\n",
            "[download] Destination: ASL_VIDEOS/129-dont want in ASL.f140.m4a\n",
            "\u001b[K[download] 100% of   80.34KiB in \u001b[1;37m00:00:00\u001b[0m at \u001b[0;32m265.29KiB/s\u001b[0m\n",
            "[Merger] Merging formats into \"ASL_VIDEOS/129-dont want in ASL.mkv\"\n",
            "Deleting original file ASL_VIDEOS/129-dont want in ASL.f140.m4a (pass -k to keep)\n",
            "Deleting original file ASL_VIDEOS/129-dont want in ASL.f315.webm (pass -k to keep)\n",
            "[download] Downloading item \u001b[0;32m130\u001b[0m of \u001b[0;94m147\u001b[0m\n",
            "[youtube] Extracting URL: https://www.youtube.com/watch?v=BjAnKF51O50\n",
            "[youtube] BjAnKF51O50: Downloading webpage\n",
            "[youtube] BjAnKF51O50: Downloading ios player API JSON\n",
            "[youtube] BjAnKF51O50: Downloading web creator player API JSON\n",
            "[youtube] BjAnKF51O50: Downloading m3u8 information\n",
            "[info] BjAnKF51O50: Downloading 1 format(s): 315+140\n",
            "[download] Destination: ASL_VIDEOS/130-cpr in ASL.f315.webm\n",
            "\u001b[K[download] 100% of    7.13MiB in \u001b[1;37m00:00:02\u001b[0m at \u001b[0;32m3.17MiB/s\u001b[0m\n",
            "[download] Destination: ASL_VIDEOS/130-cpr in ASL.f140.m4a\n",
            "\u001b[K[download] 100% of  123.25KiB in \u001b[1;37m00:00:00\u001b[0m at \u001b[0;32m415.94KiB/s\u001b[0m\n",
            "[Merger] Merging formats into \"ASL_VIDEOS/130-cpr in ASL.mkv\"\n",
            "Deleting original file ASL_VIDEOS/130-cpr in ASL.f315.webm (pass -k to keep)\n",
            "Deleting original file ASL_VIDEOS/130-cpr in ASL.f140.m4a (pass -k to keep)\n",
            "[download] Downloading item \u001b[0;32m131\u001b[0m of \u001b[0;94m147\u001b[0m\n",
            "[youtube] Extracting URL: https://www.youtube.com/watch?v=HkjydRHYDnQ\n",
            "[youtube] HkjydRHYDnQ: Downloading webpage\n",
            "[youtube] HkjydRHYDnQ: Downloading ios player API JSON\n",
            "[youtube] HkjydRHYDnQ: Downloading web creator player API JSON\n",
            "[youtube] HkjydRHYDnQ: Downloading m3u8 information\n",
            "[info] HkjydRHYDnQ: Downloading 1 format(s): 315+140\n",
            "[download] Destination: ASL_VIDEOS/131-cute in ASL.f315.webm\n",
            "\u001b[K[download] 100% of    3.38MiB in \u001b[1;37m00:00:00\u001b[0m at \u001b[0;32m9.23MiB/s\u001b[0m\n",
            "[download] Destination: ASL_VIDEOS/131-cute in ASL.f140.m4a\n",
            "\u001b[K[download] 100% of   86.21KiB in \u001b[1;37m00:00:00\u001b[0m at \u001b[0;32m875.44KiB/s\u001b[0m\n",
            "[Merger] Merging formats into \"ASL_VIDEOS/131-cute in ASL.mkv\"\n",
            "Deleting original file ASL_VIDEOS/131-cute in ASL.f140.m4a (pass -k to keep)\n",
            "Deleting original file ASL_VIDEOS/131-cute in ASL.f315.webm (pass -k to keep)\n",
            "[download] Downloading item \u001b[0;32m132\u001b[0m of \u001b[0;94m147\u001b[0m\n",
            "[youtube] Extracting URL: https://www.youtube.com/watch?v=6JWMoq_xAmY\n",
            "[youtube] 6JWMoq_xAmY: Downloading webpage\n",
            "[youtube] 6JWMoq_xAmY: Downloading ios player API JSON\n",
            "[youtube] 6JWMoq_xAmY: Downloading web creator player API JSON\n",
            "[youtube] 6JWMoq_xAmY: Downloading m3u8 information\n",
            "[info] 6JWMoq_xAmY: Downloading 1 format(s): 315+140\n",
            "[download] Destination: ASL_VIDEOS/132-cost in ASL.f315.webm\n",
            "\u001b[K[download] 100% of    4.81MiB in \u001b[1;37m00:00:01\u001b[0m at \u001b[0;32m2.64MiB/s\u001b[0m\n",
            "[download] Destination: ASL_VIDEOS/132-cost in ASL.f140.m4a\n",
            "\u001b[K[download] 100% of   92.44KiB in \u001b[1;37m00:00:00\u001b[0m at \u001b[0;32m360.91KiB/s\u001b[0m\n",
            "[Merger] Merging formats into \"ASL_VIDEOS/132-cost in ASL.mkv\"\n",
            "Deleting original file ASL_VIDEOS/132-cost in ASL.f140.m4a (pass -k to keep)\n",
            "Deleting original file ASL_VIDEOS/132-cost in ASL.f315.webm (pass -k to keep)\n",
            "[download] Downloading item \u001b[0;32m133\u001b[0m of \u001b[0;94m147\u001b[0m\n",
            "[youtube] Extracting URL: https://www.youtube.com/watch?v=8Gl6aTI1zAQ\n",
            "[youtube] 8Gl6aTI1zAQ: Downloading webpage\n",
            "[youtube] 8Gl6aTI1zAQ: Downloading ios player API JSON\n",
            "[youtube] 8Gl6aTI1zAQ: Downloading web creator player API JSON\n",
            "[youtube] 8Gl6aTI1zAQ: Downloading m3u8 information\n",
            "[info] 8Gl6aTI1zAQ: Downloading 1 format(s): 315+140\n",
            "[download] Destination: ASL_VIDEOS/133-how did you get here in ASL.f315.webm\n",
            "\u001b[K[download] 100% of    4.66MiB in \u001b[1;37m00:00:01\u001b[0m at \u001b[0;32m3.64MiB/s\u001b[0m\n",
            "[download] Destination: ASL_VIDEOS/133-how did you get here in ASL.f140.m4a\n",
            "\u001b[K[download] 100% of  111.88KiB in \u001b[1;37m00:00:00\u001b[0m at \u001b[0;32m1.32MiB/s\u001b[0m\n",
            "[Merger] Merging formats into \"ASL_VIDEOS/133-how did you get here in ASL.mkv\"\n",
            "Deleting original file ASL_VIDEOS/133-how did you get here in ASL.f140.m4a (pass -k to keep)\n",
            "Deleting original file ASL_VIDEOS/133-how did you get here in ASL.f315.webm (pass -k to keep)\n",
            "[download] Downloading item \u001b[0;32m134\u001b[0m of \u001b[0;94m147\u001b[0m\n",
            "[youtube] Extracting URL: https://www.youtube.com/watch?v=RPEC9-wLlPo\n",
            "[youtube] RPEC9-wLlPo: Downloading webpage\n",
            "[youtube] RPEC9-wLlPo: Downloading ios player API JSON\n",
            "[youtube] RPEC9-wLlPo: Downloading web creator player API JSON\n",
            "[youtube] RPEC9-wLlPo: Downloading m3u8 information\n",
            "[info] RPEC9-wLlPo: Downloading 1 format(s): 315+140\n",
            "[download] Destination: ASL_VIDEOS/134-excuse me in ASL.f315.webm\n",
            "\u001b[K[download] 100% of    5.23MiB in \u001b[1;37m00:00:00\u001b[0m at \u001b[0;32m13.88MiB/s\u001b[0m\n",
            "[download] Destination: ASL_VIDEOS/134-excuse me in ASL.f140.m4a\n",
            "\u001b[K[download] 100% of   97.94KiB in \u001b[1;37m00:00:00\u001b[0m at \u001b[0;32m522.59KiB/s\u001b[0m\n",
            "[Merger] Merging formats into \"ASL_VIDEOS/134-excuse me in ASL.mkv\"\n",
            "Deleting original file ASL_VIDEOS/134-excuse me in ASL.f315.webm (pass -k to keep)\n",
            "Deleting original file ASL_VIDEOS/134-excuse me in ASL.f140.m4a (pass -k to keep)\n",
            "[download] Downloading item \u001b[0;32m135\u001b[0m of \u001b[0;94m147\u001b[0m\n",
            "[youtube] Extracting URL: https://www.youtube.com/watch?v=XsJA-0g-9Os\n",
            "[youtube] XsJA-0g-9Os: Downloading webpage\n",
            "[youtube] XsJA-0g-9Os: Downloading ios player API JSON\n",
            "[youtube] XsJA-0g-9Os: Downloading web creator player API JSON\n",
            "[youtube] XsJA-0g-9Os: Downloading m3u8 information\n",
            "[info] XsJA-0g-9Os: Downloading 1 format(s): 315+140\n",
            "[download] Destination: ASL_VIDEOS/135-goodnight in ASL.f315.webm\n",
            "\u001b[K[download] 100% of    4.41MiB in \u001b[1;37m00:00:01\u001b[0m at \u001b[0;32m4.08MiB/s\u001b[0m\n",
            "[download] Destination: ASL_VIDEOS/135-goodnight in ASL.f140.m4a\n",
            "\u001b[K[download] 100% of   74.47KiB in \u001b[1;37m00:00:00\u001b[0m at \u001b[0;32m886.98KiB/s\u001b[0m\n",
            "[Merger] Merging formats into \"ASL_VIDEOS/135-goodnight in ASL.mkv\"\n",
            "Deleting original file ASL_VIDEOS/135-goodnight in ASL.f140.m4a (pass -k to keep)\n",
            "Deleting original file ASL_VIDEOS/135-goodnight in ASL.f315.webm (pass -k to keep)\n",
            "[download] Downloading item \u001b[0;32m136\u001b[0m of \u001b[0;94m147\u001b[0m\n",
            "[youtube] Extracting URL: https://www.youtube.com/watch?v=plJHFy1RcMI\n",
            "[youtube] plJHFy1RcMI: Downloading webpage\n",
            "[youtube] plJHFy1RcMI: Downloading ios player API JSON\n",
            "[youtube] plJHFy1RcMI: Downloading web creator player API JSON\n",
            "[youtube] plJHFy1RcMI: Downloading m3u8 information\n",
            "[info] plJHFy1RcMI: Downloading 1 format(s): 315+140\n",
            "[download] Destination: ASL_VIDEOS/136-do you understand in ASL.f315.webm\n",
            "\u001b[K[download] 100% of    4.54MiB in \u001b[1;37m00:00:01\u001b[0m at \u001b[0;32m2.79MiB/s\u001b[0m\n",
            "[download] Destination: ASL_VIDEOS/136-do you understand in ASL.f140.m4a\n",
            "\u001b[K[download] 100% of  100.51KiB in \u001b[1;37m00:00:00\u001b[0m at \u001b[0;32m294.27KiB/s\u001b[0m\n",
            "[Merger] Merging formats into \"ASL_VIDEOS/136-do you understand in ASL.mkv\"\n",
            "Deleting original file ASL_VIDEOS/136-do you understand in ASL.f315.webm (pass -k to keep)\n",
            "Deleting original file ASL_VIDEOS/136-do you understand in ASL.f140.m4a (pass -k to keep)\n",
            "[download] Downloading item \u001b[0;32m137\u001b[0m of \u001b[0;94m147\u001b[0m\n",
            "[youtube] Extracting URL: https://www.youtube.com/watch?v=wPwZpfA397c\n",
            "[youtube] wPwZpfA397c: Downloading webpage\n",
            "[youtube] wPwZpfA397c: Downloading ios player API JSON\n",
            "[youtube] wPwZpfA397c: Downloading web creator player API JSON\n",
            "[youtube] wPwZpfA397c: Downloading m3u8 information\n",
            "[info] wPwZpfA397c: Downloading 1 format(s): 315+140\n",
            "[download] Destination: ASL_VIDEOS/137-how much does it cost in ASL.f315.webm\n",
            "\u001b[K[download] 100% of    3.57MiB in \u001b[1;37m00:00:00\u001b[0m at \u001b[0;32m4.96MiB/s\u001b[0m\n",
            "[download] Destination: ASL_VIDEOS/137-how much does it cost in ASL.f140.m4a\n",
            "\u001b[K[download] 100% of   71.54KiB in \u001b[1;37m00:00:00\u001b[0m at \u001b[0;32m450.84KiB/s\u001b[0m\n",
            "[Merger] Merging formats into \"ASL_VIDEOS/137-how much does it cost in ASL.mkv\"\n",
            "Deleting original file ASL_VIDEOS/137-how much does it cost in ASL.f140.m4a (pass -k to keep)\n",
            "Deleting original file ASL_VIDEOS/137-how much does it cost in ASL.f315.webm (pass -k to keep)\n",
            "[download] Downloading item \u001b[0;32m138\u001b[0m of \u001b[0;94m147\u001b[0m\n",
            "[youtube] Extracting URL: https://www.youtube.com/watch?v=QYsJCcqTl_o\n",
            "[youtube] QYsJCcqTl_o: Downloading webpage\n",
            "[youtube] QYsJCcqTl_o: Downloading ios player API JSON\n",
            "[youtube] QYsJCcqTl_o: Downloading web creator player API JSON\n",
            "[youtube] QYsJCcqTl_o: Downloading m3u8 information\n",
            "[info] QYsJCcqTl_o: Downloading 1 format(s): 315+140\n",
            "[download] Destination: ASL_VIDEOS/138-sign language in ASL.f315.webm\n",
            "\u001b[K[download] 100% of    3.96MiB in \u001b[1;37m00:00:00\u001b[0m at \u001b[0;32m4.94MiB/s\u001b[0m\n",
            "[download] Destination: ASL_VIDEOS/138-sign language in ASL.f140.m4a\n",
            "\u001b[K[download] 100% of  109.31KiB in \u001b[1;37m00:00:00\u001b[0m at \u001b[0;32m1.13MiB/s\u001b[0m\n",
            "[Merger] Merging formats into \"ASL_VIDEOS/138-sign language in ASL.mkv\"\n",
            "Deleting original file ASL_VIDEOS/138-sign language in ASL.f315.webm (pass -k to keep)\n",
            "Deleting original file ASL_VIDEOS/138-sign language in ASL.f140.m4a (pass -k to keep)\n",
            "[download] Downloading item \u001b[0;32m139\u001b[0m of \u001b[0;94m147\u001b[0m\n",
            "[youtube] Extracting URL: https://www.youtube.com/watch?v=BpX4sXTHVhE\n",
            "[youtube] BpX4sXTHVhE: Downloading webpage\n",
            "[youtube] BpX4sXTHVhE: Downloading ios player API JSON\n",
            "[youtube] BpX4sXTHVhE: Downloading web creator player API JSON\n",
            "[youtube] BpX4sXTHVhE: Downloading m3u8 information\n",
            "[info] BpX4sXTHVhE: Downloading 1 format(s): 315+140\n",
            "[download] Destination: ASL_VIDEOS/139-stupid2 in ASL.f315.webm\n",
            "\u001b[K[download] 100% of    4.35MiB in \u001b[1;37m00:00:00\u001b[0m at \u001b[0;32m4.87MiB/s\u001b[0m\n",
            "[download] Destination: ASL_VIDEOS/139-stupid2 in ASL.f140.m4a\n",
            "\u001b[K[download] 100% of  105.28KiB in \u001b[1;37m00:00:00\u001b[0m at \u001b[0;32m1.17MiB/s\u001b[0m\n",
            "[Merger] Merging formats into \"ASL_VIDEOS/139-stupid2 in ASL.mkv\"\n",
            "Deleting original file ASL_VIDEOS/139-stupid2 in ASL.f140.m4a (pass -k to keep)\n",
            "Deleting original file ASL_VIDEOS/139-stupid2 in ASL.f315.webm (pass -k to keep)\n",
            "[download] Downloading item \u001b[0;32m140\u001b[0m of \u001b[0;94m147\u001b[0m\n",
            "[youtube] Extracting URL: https://www.youtube.com/watch?v=2F15sArIih8\n",
            "[youtube] 2F15sArIih8: Downloading webpage\n",
            "[youtube] 2F15sArIih8: Downloading ios player API JSON\n",
            "[youtube] 2F15sArIih8: Downloading web creator player API JSON\n",
            "[youtube] 2F15sArIih8: Downloading m3u8 information\n",
            "[info] 2F15sArIih8: Downloading 1 format(s): 315+140\n",
            "[download] Destination: ASL_VIDEOS/140-that in ASL.f315.webm\n",
            "\u001b[K[download] 100% of    3.11MiB in \u001b[1;37m00:00:01\u001b[0m at \u001b[0;32m2.44MiB/s\u001b[0m\n",
            "[download] Destination: ASL_VIDEOS/140-that in ASL.f140.m4a\n",
            "\u001b[K[download] 100% of   93.91KiB in \u001b[1;37m00:00:00\u001b[0m at \u001b[0;32m1.10MiB/s\u001b[0m\n",
            "[Merger] Merging formats into \"ASL_VIDEOS/140-that in ASL.mkv\"\n",
            "Deleting original file ASL_VIDEOS/140-that in ASL.f140.m4a (pass -k to keep)\n",
            "Deleting original file ASL_VIDEOS/140-that in ASL.f315.webm (pass -k to keep)\n",
            "[download] Downloading item \u001b[0;32m141\u001b[0m of \u001b[0;94m147\u001b[0m\n",
            "[youtube] Extracting URL: https://www.youtube.com/watch?v=TQYx8P3isJo\n",
            "[youtube] TQYx8P3isJo: Downloading webpage\n",
            "[youtube] TQYx8P3isJo: Downloading ios player API JSON\n",
            "[youtube] TQYx8P3isJo: Downloading web creator player API JSON\n",
            "[youtube] TQYx8P3isJo: Downloading m3u8 information\n",
            "[info] TQYx8P3isJo: Downloading 1 format(s): 315+140\n",
            "[download] Destination: ASL_VIDEOS/141-today in ASL.f315.webm\n",
            "\u001b[K[download] 100% of    3.52MiB in \u001b[1;37m00:00:01\u001b[0m at \u001b[0;32m3.16MiB/s\u001b[0m\n",
            "[download] Destination: ASL_VIDEOS/141-today in ASL.f140.m4a\n",
            "\u001b[K[download] 100% of   95.74KiB in \u001b[1;37m00:00:00\u001b[0m at \u001b[0;32m1.02MiB/s\u001b[0m\n",
            "[Merger] Merging formats into \"ASL_VIDEOS/141-today in ASL.mkv\"\n",
            "Deleting original file ASL_VIDEOS/141-today in ASL.f315.webm (pass -k to keep)\n",
            "Deleting original file ASL_VIDEOS/141-today in ASL.f140.m4a (pass -k to keep)\n",
            "[download] Downloading item \u001b[0;32m142\u001b[0m of \u001b[0;94m147\u001b[0m\n",
            "[youtube] Extracting URL: https://www.youtube.com/watch?v=z092rl0kTCs\n",
            "[youtube] z092rl0kTCs: Downloading webpage\n",
            "[youtube] z092rl0kTCs: Downloading ios player API JSON\n",
            "[youtube] z092rl0kTCs: Downloading web creator player API JSON\n",
            "[youtube] z092rl0kTCs: Downloading m3u8 information\n",
            "[info] z092rl0kTCs: Downloading 1 format(s): 315+140\n",
            "[download] Destination: ASL_VIDEOS/142-thats it in ASL.f315.webm\n",
            "\u001b[K[download] 100% of    4.40MiB in \u001b[1;37m00:00:01\u001b[0m at \u001b[0;32m3.65MiB/s\u001b[0m\n",
            "[download] Destination: ASL_VIDEOS/142-thats it in ASL.f140.m4a\n",
            "\u001b[K[download] 100% of   71.90KiB in \u001b[1;37m00:00:00\u001b[0m at \u001b[0;32m841.05KiB/s\u001b[0m\n",
            "[Merger] Merging formats into \"ASL_VIDEOS/142-thats it in ASL.mkv\"\n",
            "Deleting original file ASL_VIDEOS/142-thats it in ASL.f140.m4a (pass -k to keep)\n",
            "Deleting original file ASL_VIDEOS/142-thats it in ASL.f315.webm (pass -k to keep)\n",
            "[download] Downloading item \u001b[0;32m143\u001b[0m of \u001b[0;94m147\u001b[0m\n",
            "[youtube] Extracting URL: https://www.youtube.com/watch?v=maLOLqBDYpc\n",
            "[youtube] maLOLqBDYpc: Downloading webpage\n",
            "[youtube] maLOLqBDYpc: Downloading ios player API JSON\n",
            "[youtube] maLOLqBDYpc: Downloading web creator player API JSON\n",
            "[youtube] maLOLqBDYpc: Downloading m3u8 information\n",
            "[info] maLOLqBDYpc: Downloading 1 format(s): 315+140\n",
            "[download] Destination: ASL_VIDEOS/143-walking in ASL.f315.webm\n",
            "\u001b[K[download] 100% of    6.56MiB in \u001b[1;37m00:00:01\u001b[0m at \u001b[0;32m3.56MiB/s\u001b[0m\n",
            "[download] Destination: ASL_VIDEOS/143-walking in ASL.f140.m4a\n",
            "\u001b[K[download] 100% of  128.75KiB in \u001b[1;37m00:00:00\u001b[0m at \u001b[0;32m1.13MiB/s\u001b[0m\n",
            "[Merger] Merging formats into \"ASL_VIDEOS/143-walking in ASL.mkv\"\n",
            "Deleting original file ASL_VIDEOS/143-walking in ASL.f140.m4a (pass -k to keep)\n",
            "Deleting original file ASL_VIDEOS/143-walking in ASL.f315.webm (pass -k to keep)\n",
            "[download] Downloading item \u001b[0;32m144\u001b[0m of \u001b[0;94m147\u001b[0m\n",
            "[youtube] Extracting URL: https://www.youtube.com/watch?v=63rYvqXKP1w\n",
            "[youtube] 63rYvqXKP1w: Downloading webpage\n",
            "[youtube] 63rYvqXKP1w: Downloading ios player API JSON\n",
            "[youtube] 63rYvqXKP1w: Downloading web creator player API JSON\n",
            "[youtube] 63rYvqXKP1w: Downloading m3u8 information\n",
            "[info] 63rYvqXKP1w: Downloading 1 format(s): 315+140\n",
            "[download] Destination: ASL_VIDEOS/144-true  in ASL.f315.webm\n",
            "\u001b[K[download] 100% of    2.40MiB in \u001b[1;37m00:00:01\u001b[0m at \u001b[0;32m2.32MiB/s\u001b[0m\n",
            "[download] Destination: ASL_VIDEOS/144-true  in ASL.f140.m4a\n",
            "\u001b[K[download] 100% of   68.60KiB in \u001b[1;37m00:00:00\u001b[0m at \u001b[0;32m477.86KiB/s\u001b[0m\n",
            "[Merger] Merging formats into \"ASL_VIDEOS/144-true  in ASL.mkv\"\n",
            "Deleting original file ASL_VIDEOS/144-true  in ASL.f315.webm (pass -k to keep)\n",
            "Deleting original file ASL_VIDEOS/144-true  in ASL.f140.m4a (pass -k to keep)\n",
            "[download] Downloading item \u001b[0;32m145\u001b[0m of \u001b[0;94m147\u001b[0m\n",
            "[youtube] Extracting URL: https://www.youtube.com/watch?v=LNzjDPQyhUY\n",
            "[youtube] LNzjDPQyhUY: Downloading webpage\n",
            "[youtube] LNzjDPQyhUY: Downloading ios player API JSON\n",
            "[youtube] LNzjDPQyhUY: Downloading web creator player API JSON\n",
            "[youtube] LNzjDPQyhUY: Downloading m3u8 information\n",
            "[info] LNzjDPQyhUY: Downloading 1 format(s): 315+140\n",
            "[download] Destination: ASL_VIDEOS/145-trust in ASL.f315.webm\n",
            "\u001b[K[download] 100% of    4.45MiB in \u001b[1;37m00:00:01\u001b[0m at \u001b[0;32m3.16MiB/s\u001b[0m\n",
            "[download] Destination: ASL_VIDEOS/145-trust in ASL.f140.m4a\n",
            "\u001b[K[download] 100% of   96.20KiB in \u001b[1;37m00:00:00\u001b[0m at \u001b[0;32m1.12MiB/s\u001b[0m\n",
            "[Merger] Merging formats into \"ASL_VIDEOS/145-trust in ASL.mkv\"\n",
            "Deleting original file ASL_VIDEOS/145-trust in ASL.f315.webm (pass -k to keep)\n",
            "Deleting original file ASL_VIDEOS/145-trust in ASL.f140.m4a (pass -k to keep)\n",
            "[download] Downloading item \u001b[0;32m146\u001b[0m of \u001b[0;94m147\u001b[0m\n",
            "[youtube] Extracting URL: https://www.youtube.com/watch?v=dpG79PPAmG4\n",
            "[youtube] dpG79PPAmG4: Downloading webpage\n",
            "[youtube] dpG79PPAmG4: Downloading ios player API JSON\n",
            "[youtube] dpG79PPAmG4: Downloading web creator player API JSON\n",
            "[youtube] dpG79PPAmG4: Downloading m3u8 information\n",
            "[info] dpG79PPAmG4: Downloading 1 format(s): 315+140\n",
            "[download] Destination: ASL_VIDEOS/146-up until now in ASL.f315.webm\n",
            "\u001b[K[download] 100% of    7.39MiB in \u001b[1;37m00:00:01\u001b[0m at \u001b[0;32m4.48MiB/s\u001b[0m\n",
            "[download] Destination: ASL_VIDEOS/146-up until now in ASL.f140.m4a\n",
            "\u001b[K[download] 100% of  117.74KiB in \u001b[1;37m00:00:00\u001b[0m at \u001b[0;32m1.15MiB/s\u001b[0m\n",
            "[Merger] Merging formats into \"ASL_VIDEOS/146-up until now in ASL.mkv\"\n",
            "Deleting original file ASL_VIDEOS/146-up until now in ASL.f315.webm (pass -k to keep)\n",
            "Deleting original file ASL_VIDEOS/146-up until now in ASL.f140.m4a (pass -k to keep)\n",
            "[download] Downloading item \u001b[0;32m147\u001b[0m of \u001b[0;94m147\u001b[0m\n",
            "[youtube] Extracting URL: https://www.youtube.com/watch?v=zdf_-k3MWyk\n",
            "[youtube] zdf_-k3MWyk: Downloading webpage\n",
            "[youtube] zdf_-k3MWyk: Downloading ios player API JSON\n",
            "[youtube] zdf_-k3MWyk: Downloading web creator player API JSON\n",
            "[youtube] zdf_-k3MWyk: Downloading m3u8 information\n",
            "[info] zdf_-k3MWyk: Downloading 1 format(s): 315+140\n",
            "[download] Destination: ASL_VIDEOS/147-traffic in ASL.f315.webm\n",
            "\u001b[K[download] 100% of    5.02MiB in \u001b[1;37m00:00:00\u001b[0m at \u001b[0;32m12.42MiB/s\u001b[0m\n",
            "[download] Destination: ASL_VIDEOS/147-traffic in ASL.f140.m4a\n",
            "\u001b[K[download] 100% of   90.24KiB in \u001b[1;37m00:00:00\u001b[0m at \u001b[0;32m1019.44KiB/s\u001b[0m\n",
            "[Merger] Merging formats into \"ASL_VIDEOS/147-traffic in ASL.mkv\"\n",
            "Deleting original file ASL_VIDEOS/147-traffic in ASL.f315.webm (pass -k to keep)\n",
            "Deleting original file ASL_VIDEOS/147-traffic in ASL.f140.m4a (pass -k to keep)\n",
            "[download] Finished downloading playlist: ASL_VIDEOS\n"
          ]
        }
      ],
      "source": [
        "!yt-dlp -i -o '%(playlist)s/%(playlist_index)s-%(title)s.%(ext)s' 'https://youtube.com/playlist?list=PLNh2p4xBUVkqquPxKDKqGvc87XxQfNJGs&si=qP8MtVZ5K8a5ID5h'"
      ]
    },
    {
      "cell_type": "code",
      "execution_count": null,
      "metadata": {
        "colab": {
          "base_uri": "https://localhost:8080/"
        },
        "id": "AXvrtLMQSF4O",
        "outputId": "87257ff2-8981-441d-ca2f-d28fb73cbb74"
      },
      "outputs": [
        {
          "name": "stdout",
          "output_type": "stream",
          "text": [
            "Renamed: 085-DIE (two hand version).mp4 -> 085-die_two_hand_version.mp4\n",
            "Renamed: 046-YOU LIKE DANCE YOU？.mp4 -> 046-you_like_dance_you.mp4\n",
            "Renamed: 015-man.mp4 -> 015-man.mp4\n",
            "Renamed: 038-YOU PREFER CAR [bodyshift-＂or＂] TRUCK？.mp4 -> 038-you_prefer_car_bodyshift-or_truck.mp4\n",
            "Renamed: 101-change in ASL.mkv -> 101-change_in_asl.mkv\n",
            "Renamed: 010-yeah yes.mp4 -> 010-yeah_yes.mp4\n",
            "Renamed: 048-CAT-GOT-YOUR-TONGUE-[speechless]-[idiomatic？] [technically not an ASL idiom, see notes].mp4 -> 048-cat-got-your-tongue-speechless-idiomatic_technically_not_an_asl_idiom_see_notes.mp4\n",
            "Renamed: 127-dont know in ASL.mkv -> 127-dont_know_in_asl.mkv\n",
            "Renamed: 021-YOU LIVE WHERE？ [Where do you live？].mp4 -> 021-you_live_where_where_do_you_live.mp4\n",
            "Renamed: 121-funny in ASL.mkv -> 121-funny_in_asl.mkv\n",
            "Renamed: 134-excuse me in ASL.mkv -> 134-excuse_me_in_asl.mkv\n",
            "Renamed: 129-dont want in ASL.mkv -> 129-dont_want_in_asl.mkv\n",
            "Renamed: 002-GOOD-MORNING-[compound-version].mkv -> 002-good-morning-compound-version.mkv\n",
            "Renamed: 083-STILL.mkv -> 083-still.mkv\n",
            "Renamed: 062-YOUR FAVORITE HOLIDAY WHAT？.mp4 -> 062-your_favorite_holiday_what.mp4\n",
            "Renamed: 128-dont care in ASL.mkv -> 128-dont_care_in_asl.mkv\n",
            "Renamed: 019-YOU SAD WHY？.mp4 -> 019-you_sad_why.mp4\n",
            "Renamed: 064-CHRISTMAS, YOU LIKE SNOW YOU？.mp4 -> 064-christmas_you_like_snow_you.mp4\n",
            "Renamed: 067-USE, WEAR.mkv -> 067-use_wear.mkv\n",
            "Renamed: 028-PAST WEEKEND WHAT-DO YOU？ (What did you do last weekend？).mp4 -> 028-past_weekend_what-do_you_what_did_you_do_last_weekend.mp4\n",
            "Renamed: 018-NYB!-[None of your business!].mp4 -> 018-nyb-none_of_your_business.mp4\n",
            "Renamed: 037-your city have subway？.mp4 -> 037-your_city_have_subway.mp4\n",
            "Renamed: 036-how-MUCH？-[1-hand-version].mkv -> 036-how-much-1-hand-version.mkv\n",
            "Renamed: 084-YOU ENJOY CAMP YOU？.mp4 -> 084-you_enjoy_camp_you.mp4\n",
            "Renamed: 020-YOU MARRIED？.mkv -> 020-you_married.mkv\n",
            "Renamed: 138-sign language in ASL.mkv -> 138-sign_language_in_asl.mkv\n",
            "Renamed: 049-COME-HERE-[1-hand-version].mp4 -> 049-come-here-1-hand-version.mp4\n",
            "Renamed: 072-DAD.mkv -> 072-dad.mkv\n",
            "Renamed: 051-HIDE SEEK YOU LIKE PLAY？.mp4 -> 051-hide_seek_you_like_play.mp4\n",
            "Renamed: 108-what do you do for work in ASL.mkv -> 108-what_do_you_do_for_work_in_asl.mkv\n",
            "Renamed: 050-DON'T MIND.mp4 -> 050-dont_mind.mp4\n",
            "Renamed: 111-i am 20 years old in ASL.mkv -> 111-i_am_20_years_old_in_asl.mkv\n",
            "Renamed: 053-FOOD ENOUGH YOU？.mp4 -> 053-food_enough_you.mp4\n",
            "Renamed: 079-YOU AFRAID WHAT？.mp4 -> 079-you_afraid_what.mp4\n",
            "Renamed: 077-mad.mkv -> 077-mad.mkv\n",
            "Renamed: 032-FEEL SICK YOU？.mp4 -> 032-feel_sick_you.mp4\n",
            "Renamed: 069-PRONOUN：  YOU.mp4 -> 069-pronoun_you.mp4\n",
            "Renamed: 107-america in ASL.mkv -> 107-america_in_asl.mkv\n",
            "Renamed: 031-GO-TO-BED.mp4 -> 031-go-to-bed.mp4\n",
            "Renamed: 026-CALL-by-phone ⧸ called ⧸ CALL-you [Hearing version].mp4 -> 026-call-by-phone_called_call-you_hearing_version.mp4\n",
            "Renamed: 008-WHO？.mkv -> 008-who.mkv\n",
            "Renamed: 119-help in ASL.mkv -> 119-help_in_asl.mkv\n",
            "Renamed: 013-lady⧸woman.mkv -> 013-ladywoman.mkv\n",
            "Renamed: 023-BACKPACK-[C-hand version].mp4 -> 023-backpack-c-hand_version.mp4\n",
            "Renamed: 114-i me in ASL.mkv -> 114-i_me_in_asl.mkv\n",
            "Renamed: 041-MOVIE, YOU WANT WATCH？.mp4 -> 041-movie_you_want_watch.mp4\n",
            "Renamed: 006-where？.mp4 -> 006-where.mp4\n",
            "Renamed: 118-have in ASL.mkv -> 118-have_in_asl.mkv\n",
            "Renamed: 065-AWFUL-[terrible]-[two-handed-version].mp4 -> 065-awful-terrible-two-handed-version.mp4\n",
            "Renamed: 147-traffic in ASL.mkv -> 147-traffic_in_asl.mkv\n",
            "Renamed: 124-explain in ASL.mkv -> 124-explain_in_asl.mkv\n",
            "Renamed: 052-YOUR LAST NAME, HOW SPELL？.mp4 -> 052-your_last_name_how_spell.mp4\n",
            "Renamed: 024-BOOK YOU LIKE READ, WHAT-KIND？.mp4 -> 024-book_you_like_read_what-kind.mp4\n",
            "Renamed: 141-today in ASL.mkv -> 141-today_in_asl.mkv\n",
            "Renamed: 039-up-to-you-[THINK-SELF]-think-for-yourself.mp4 -> 039-up-to-you-think-self-think-for-yourself.mp4\n",
            "Renamed: 017-house.mp4 -> 017-house.mp4\n",
            "Renamed: 001-It is nice to meet you..mkv -> 001-it_is_nice_to_meet_you.mkv\n",
            "Renamed: 102-busy in ASL.mkv -> 102-busy_in_asl.mkv\n",
            "Renamed: 099-whats wrong in ASL.mkv -> 099-whats_wrong_in_asl.mkv\n",
            "Renamed: 113-hug in ASL.mkv -> 113-hug_in_asl.mkv\n",
            "Renamed: 109-idiom fall head over heels in love in ASL.mkv -> 109-idiom_fall_head_over_heels_in_love_in_asl.mkv\n",
            "Renamed: 073-BOYFRIEND.mkv -> 073-boyfriend.mkv\n",
            "Renamed: 042-YOU FEEL STUPID SOMETIMES？.mp4 -> 042-you_feel_stupid_sometimes.mp4\n",
            "Renamed: 078-WAKE-UP.mp4 -> 078-wake-up.mp4\n",
            "Renamed: 087-5-DOLLAR YOU-MIND you-LOAN-me？.mp4 -> 087-5-dollar_you-mind_you-loan-me.mp4\n",
            "Renamed: 035-PICTURE YOUR FAMILY YOU HAVE？.mp4 -> 035-picture_your_family_you_have.mp4\n",
            "Renamed: 140-that in ASL.mkv -> 140-that_in_asl.mkv\n",
            "Renamed: 074-fear⧸afraid⧸scare scared.mkv -> 074-fearafraidscare_scared.mkv\n",
            "Renamed: 100-cell phone in ASL.mkv -> 100-cell_phone_in_asl.mkv\n",
            "Renamed: 043-CAN KEEP SECRET YOU？.mp4 -> 043-can_keep_secret_you.mp4\n",
            "Renamed: 132-cost in ASL.mkv -> 132-cost_in_asl.mkv\n",
            "Renamed: 097-youre welcome in ASL.mkv -> 097-youre_welcome_in_asl.mkv\n",
            "Renamed: 133-how did you get here in ASL.mkv -> 133-how_did_you_get_here_in_asl.mkv\n",
            "Renamed: 116-handsome in ASL.mkv -> 116-handsome_in_asl.mkv\n",
            "Renamed: 057-SCISSORS, CAN you-LEND-me？.mp4 -> 057-scissors_can_you-lend-me.mp4\n",
            "Renamed: 131-cute in ASL.mkv -> 131-cute_in_asl.mkv\n",
            "Renamed: 082-LIKE.mkv -> 082-like.mkv\n",
            "Renamed: 063-YOU BELIEVE SANTA CLAUS YOU？.mp4 -> 063-you_believe_santa_claus_you.mp4\n",
            "Renamed: 143-walking in ASL.mkv -> 143-walking_in_asl.mkv\n",
            "Renamed: 094-hello in ASL.mkv -> 094-hello_in_asl.mkv\n",
            "Renamed: 034-YOU LIKE COOK？.mp4 -> 034-you_like_cook.mp4\n",
            "Renamed: 142-thats it in ASL.mkv -> 142-thats_it_in_asl.mkv\n",
            "Renamed: 047-YOUR RESUME, HOW MANY PAGE？.mp4 -> 047-your_resume_how_many_page.mp4\n",
            "Renamed: 136-do you understand in ASL.mkv -> 136-do_you_understand_in_asl.mkv\n",
            "Renamed: 061-YOU LOOK-LIKE YOUR MOTHER？.mp4 -> 061-you_look-like_your_mother.mp4\n",
            "Renamed: 004-SCHOOL.mkv -> 004-school.mkv\n",
            "Renamed: 075-bored.mp4 -> 075-bored.mp4\n",
            "Renamed: 066-TYPE FAST CAN YOU？.mp4 -> 066-type_fast_can_you.mp4\n",
            "Renamed: 081-CAT.mp4 -> 081-cat.mp4\n",
            "Renamed: 139-stupid2 in ASL.mkv -> 139-stupid2_in_asl.mkv\n",
            "Renamed: 105-beautiful in ASL.mkv -> 105-beautiful_in_asl.mkv\n",
            "Renamed: 103-birthday2 in ASL.mkv -> 103-birthday2_in_asl.mkv\n",
            "Renamed: 044-YOU HAIRCUT, HOW OFTEN？.mp4 -> 044-you_haircut_how_often.mp4\n",
            "Renamed: 016-YOU LIVE WHERE？.mkv -> 016-you_live_where.mkv\n",
            "Renamed: 076-HAPPY.mp4 -> 076-happy.mp4\n",
            "Renamed: 054-YOU PREFER LIVE SINGLE-[alone] [bodyshift ＂or＂] ROOMMATE-[match] WHICH？.mp4 -> 054-you_prefer_live_single-alone_bodyshift_or_roommate-match_which.mp4\n",
            "Renamed: 027-YOU FEEL ANXIOUS, WHEN？.mp4 -> 027-you_feel_anxious_when.mp4\n",
            "Renamed: 106-arrive in ASL.mkv -> 106-arrive_in_asl.mkv\n",
            "Renamed: 145-trust in ASL.mkv -> 145-trust_in_asl.mkv\n",
            "Renamed: 095-are you hungry in ASL.mkv -> 095-are_you_hungry_in_asl.mkv\n",
            "Renamed: 071-GIRLFRIEND.mp4 -> 071-girlfriend.mp4\n",
            "Renamed: 059-YOU DRUNK BEFORE？.mp4 -> 059-you_drunk_before.mp4\n",
            "Renamed: 130-cpr in ASL.mkv -> 130-cpr_in_asl.mkv\n",
            "Renamed: 092-AGAIN⧸repeat.mkv -> 092-againrepeat.mkv\n",
            "Renamed: 068-WISH-[desire].mp4 -> 068-wish-desire.mp4\n",
            "Renamed: 104-bluetooth in ASL.mkv -> 104-bluetooth_in_asl.mkv\n",
            "Renamed: 117-high school in ASL.mkv -> 117-high_school_in_asl.mkv\n",
            "Renamed: 086-RESTROOM.mp4 -> 086-restroom.mp4\n",
            "Renamed: 007-what.mp4 -> 007-what.mp4\n",
            "Renamed: 011-YOU NAME-[what]？.mkv -> 011-you_name-what.mkv\n",
            "Renamed: 091-MORNING-all： all-MORNING.mp4 -> 091-morning-all_all-morning.mp4\n",
            "Renamed: 014-MALE, boy, dude, guy, fellow.mp4 -> 014-male_boy_dude_guy_fellow.mp4\n",
            "Renamed: 144-true  in ASL.mkv -> 144-true_in_asl.mkv\n",
            "Renamed: 029-COLLEGE, YOU GRADUATE WHEN？.mp4 -> 029-college_you_graduate_when.mp4\n",
            "Renamed: 120-happen in ASL.mkv -> 120-happen_in_asl.mkv\n",
            "Renamed: 058-YOU DRIVE CAREFUL YOU？.mp4 -> 058-you_drive_careful_you.mp4\n",
            "Renamed: 090-YOU THINK TODAY N-I-C-E？.mp4 -> 090-you_think_today_n-i-c-e.mp4\n",
            "Renamed: 025-HAVE PET YOU？ [if so] NAME？.mp4 -> 025-have_pet_you_if_so_name.mp4\n",
            "Renamed: 022-Do what？ ⧸ what-DO？ ⧸ What to do？.mkv -> 022-do_what_what-do_what_to_do.mkv\n",
            "Renamed: 146-up until now in ASL.mkv -> 146-up_until_now_in_asl.mkv\n",
            "Renamed: 030-YOU THINK THIS CLASS EASY？.mp4 -> 030-you_think_this_class_easy.mp4\n",
            "Renamed: 080-YOU SOMETIMES FEEL LONELY YOU？.mp4 -> 080-you_sometimes_feel_lonely_you.mp4\n",
            "Renamed: 088-RESTROOM WHERE？.mp4 -> 088-restroom_where.mp4\n",
            "Renamed: 056-YOU HAVE SCARF？.mp4 -> 056-you_have_scarf.mp4\n",
            "Renamed: 012-don’t-UNDERSTAND.mkv -> 012-dont-understand.mkv\n",
            "Renamed: 115-hurry in ASL.mkv -> 115-hurry_in_asl.mkv\n",
            "Renamed: 005-TEACHER.mkv -> 005-teacher.mkv\n",
            "Renamed: 045-YOUR HOUSE, WHO MANAGE？.mp4 -> 045-your_house_who_manage.mp4\n",
            "Renamed: 070-send.mp4 -> 070-send.mp4\n",
            "Renamed: 137-how much does it cost in ASL.mkv -> 137-how_much_does_it_cost_in_asl.mkv\n",
            "Renamed: 003-THANK-YOU!.mkv -> 003-thank-you.mkv\n",
            "Renamed: 098-is that true in ASL.mkv -> 098-is_that_true_in_asl.mkv\n",
            "Renamed: 060-MOVIE STAR, YOUR FAVORITE WHO？.mp4 -> 060-movie_star_your_favorite_who.mp4\n",
            "Renamed: 110-how old are you in ASL.mkv -> 110-how_old_are_you_in_asl.mkv\n",
            "Renamed: 093-ASL How can I help you？.mp4 -> 093-asl_how_can_i_help_you.mp4\n",
            "Renamed: 112-holiday in ASL.mkv -> 112-holiday_in_asl.mkv\n",
            "Renamed: 125-false fake in ASL.mkv -> 125-false_fake_in_asl.mkv\n",
            "Renamed: 096-can you read lips in ASL.mkv -> 096-can_you_read_lips_in_asl.mkv\n",
            "Renamed: 122-from in ASL.mkv -> 122-from_in_asl.mkv\n",
            "Renamed: 089-YOU BORN WHERE？.mp4 -> 089-you_born_where.mp4\n",
            "Renamed: 123-find in ASL.mkv -> 123-find_in_asl.mkv\n",
            "Renamed: 126-elevator2 in ASL.mkv -> 126-elevator2_in_asl.mkv\n",
            "Renamed: 009-WHY？.mkv -> 009-why.mkv\n",
            "Renamed: 135-goodnight in ASL.mkv -> 135-goodnight_in_asl.mkv\n",
            "Renamed: 040-hide and seek you like play？.mp4 -> 040-hide_and_seek_you_like_play.mp4\n",
            "Renamed: 055-SEW, YOU KNOW HOW？.mp4 -> 055-sew_you_know_how.mp4\n",
            "Renamed: 033-YOU USE DEODORANT do-YOU？.mp4 -> 033-you_use_deodorant_do-you.mp4\n",
            "All files have been renamed.\n"
          ]
        }
      ],
      "source": [
        "import os\n",
        "import re\n",
        "\n",
        "# Define the path to your video folder\n",
        "video_folder = '/content/ASL_VIDEOS'\n",
        "\n",
        "# Function to clean and format filenames\n",
        "def format_filename(filename):\n",
        "    # Split the filename into name and extension\n",
        "    name, ext = os.path.splitext(filename)\n",
        "\n",
        "    # Remove any instances of 'mkv', 'mp4', or 'webm' in the filename itself\n",
        "    name = re.sub(r'(mkv|mp4|webm)', '', name, flags=re.IGNORECASE)\n",
        "\n",
        "    # Replace special characters in the name with underscores\n",
        "    new_name = re.sub(r'[^\\w\\s-]', '', name)  # Remove any characters that are not alphanumeric, spaces, hyphens, or underscores\n",
        "    new_name = re.sub(r'\\s+', '_', new_name)  # Replace spaces with underscores\n",
        "    new_name = new_name.lower()  # Convert to lowercase\n",
        "\n",
        "    # Ensure there's a dot between the formatted name and extension\n",
        "    return f\"{new_name}.{ext[1:].lower()}\"  # Remove the leading dot from ext and add it back properly\n",
        "\n",
        "# Iterate over all files in the video folder\n",
        "for filename in os.listdir(video_folder):\n",
        "    if os.path.isfile(os.path.join(video_folder, filename)):\n",
        "        # Format the filename\n",
        "        new_filename = format_filename(filename)\n",
        "        # Rename the file\n",
        "        os.rename(os.path.join(video_folder, filename), os.path.join(video_folder, new_filename))\n",
        "        print(f'Renamed: {filename} -> {new_filename}')\n",
        "\n",
        "print(\"All files have been renamed.\")\n"
      ]
    },
    {
      "cell_type": "code",
      "execution_count": null,
      "metadata": {
        "colab": {
          "base_uri": "https://localhost:8080/",
          "height": 616
        },
        "id": "YXNSxBZJasr0",
        "outputId": "c60c6edb-10e3-4303-d932-3094d0601d04"
      },
      "outputs": [
        {
          "name": "stdout",
          "output_type": "stream",
          "text": [
            "Converted: 126-elevator2_in_asl.mkv -> 126-elevator2_in_asl.mp4\n",
            "Converted: 011-you_name-what.mkv -> 011-you_name-what.mp4\n",
            "Converted: 016-you_live_where.mkv -> 016-you_live_where.mp4\n",
            "Converted: 072-dad.mkv -> 072-dad.mp4\n",
            "Converted: 121-funny_in_asl.mkv -> 121-funny_in_asl.mp4\n",
            "Converted: 145-trust_in_asl.mkv -> 145-trust_in_asl.mp4\n",
            "Converted: 125-false_fake_in_asl.mkv -> 125-false_fake_in_asl.mp4\n",
            "Converted: 147-traffic_in_asl.mkv -> 147-traffic_in_asl.mp4\n",
            "Converted: 123-find_in_asl.mkv -> 123-find_in_asl.mp4\n",
            "Converted: 105-beautiful_in_asl.mkv -> 105-beautiful_in_asl.mp4\n",
            "Converted: 096-can_you_read_lips_in_asl.mkv -> 096-can_you_read_lips_in_asl.mp4\n",
            "Converted: 077-mad.mkv -> 077-mad.mp4\n",
            "Converted: 139-stupid2_in_asl.mkv -> 139-stupid2_in_asl.mp4\n",
            "Converted: 129-dont_want_in_asl.mkv -> 129-dont_want_in_asl.mp4\n",
            "Converted: 108-what_do_you_do_for_work_in_asl.mkv -> 108-what_do_you_do_for_work_in_asl.mp4\n"
          ]
        },
        {
          "ename": "KeyboardInterrupt",
          "evalue": "",
          "output_type": "error",
          "traceback": [
            "\u001b[0;31m---------------------------------------------------------------------------\u001b[0m",
            "\u001b[0;31mKeyboardInterrupt\u001b[0m                         Traceback (most recent call last)",
            "\u001b[0;32m<ipython-input-6-c11a6ad00c97>\u001b[0m in \u001b[0;36m<cell line: 20>\u001b[0;34m()\u001b[0m\n\u001b[1;32m     22\u001b[0m         \u001b[0mext\u001b[0m \u001b[0;34m=\u001b[0m \u001b[0mos\u001b[0m\u001b[0;34m.\u001b[0m\u001b[0mpath\u001b[0m\u001b[0;34m.\u001b[0m\u001b[0msplitext\u001b[0m\u001b[0;34m(\u001b[0m\u001b[0mfilename\u001b[0m\u001b[0;34m)\u001b[0m\u001b[0;34m[\u001b[0m\u001b[0;36m1\u001b[0m\u001b[0;34m]\u001b[0m\u001b[0;34m.\u001b[0m\u001b[0mlower\u001b[0m\u001b[0;34m(\u001b[0m\u001b[0;34m)\u001b[0m\u001b[0;34m\u001b[0m\u001b[0;34m\u001b[0m\u001b[0m\n\u001b[1;32m     23\u001b[0m         \u001b[0;32mif\u001b[0m \u001b[0mext\u001b[0m \u001b[0;34m!=\u001b[0m \u001b[0;34m'.mp4'\u001b[0m\u001b[0;34m:\u001b[0m  \u001b[0;31m# Only convert files that aren't already mp4\u001b[0m\u001b[0;34m\u001b[0m\u001b[0;34m\u001b[0m\u001b[0m\n\u001b[0;32m---> 24\u001b[0;31m             \u001b[0mconvert_to_mp4\u001b[0m\u001b[0;34m(\u001b[0m\u001b[0mfilename\u001b[0m\u001b[0;34m)\u001b[0m\u001b[0;34m\u001b[0m\u001b[0;34m\u001b[0m\u001b[0m\n\u001b[0m\u001b[1;32m     25\u001b[0m \u001b[0;34m\u001b[0m\u001b[0m\n\u001b[1;32m     26\u001b[0m \u001b[0mprint\u001b[0m\u001b[0;34m(\u001b[0m\u001b[0;34m\"All videos have been converted to mp4.\"\u001b[0m\u001b[0;34m)\u001b[0m\u001b[0;34m\u001b[0m\u001b[0;34m\u001b[0m\u001b[0m\n",
            "\u001b[0;32m<ipython-input-6-c11a6ad00c97>\u001b[0m in \u001b[0;36mconvert_to_mp4\u001b[0;34m(filename)\u001b[0m\n\u001b[1;32m     12\u001b[0m     \u001b[0;31m# Run the ffmpeg command to convert the video\u001b[0m\u001b[0;34m\u001b[0m\u001b[0;34m\u001b[0m\u001b[0m\n\u001b[1;32m     13\u001b[0m     \u001b[0mcommand\u001b[0m \u001b[0;34m=\u001b[0m \u001b[0;34m[\u001b[0m\u001b[0;34m'ffmpeg'\u001b[0m\u001b[0;34m,\u001b[0m \u001b[0;34m'-i'\u001b[0m\u001b[0;34m,\u001b[0m \u001b[0mos\u001b[0m\u001b[0;34m.\u001b[0m\u001b[0mpath\u001b[0m\u001b[0;34m.\u001b[0m\u001b[0mjoin\u001b[0m\u001b[0;34m(\u001b[0m\u001b[0mvideo_folder\u001b[0m\u001b[0;34m,\u001b[0m \u001b[0mfilename\u001b[0m\u001b[0;34m)\u001b[0m\u001b[0;34m,\u001b[0m \u001b[0mos\u001b[0m\u001b[0;34m.\u001b[0m\u001b[0mpath\u001b[0m\u001b[0;34m.\u001b[0m\u001b[0mjoin\u001b[0m\u001b[0;34m(\u001b[0m\u001b[0mvideo_folder\u001b[0m\u001b[0;34m,\u001b[0m \u001b[0mnew_filename\u001b[0m\u001b[0;34m)\u001b[0m\u001b[0;34m]\u001b[0m\u001b[0;34m\u001b[0m\u001b[0;34m\u001b[0m\u001b[0m\n\u001b[0;32m---> 14\u001b[0;31m     \u001b[0msubprocess\u001b[0m\u001b[0;34m.\u001b[0m\u001b[0mrun\u001b[0m\u001b[0;34m(\u001b[0m\u001b[0mcommand\u001b[0m\u001b[0;34m)\u001b[0m\u001b[0;34m\u001b[0m\u001b[0;34m\u001b[0m\u001b[0m\n\u001b[0m\u001b[1;32m     15\u001b[0m \u001b[0;34m\u001b[0m\u001b[0m\n\u001b[1;32m     16\u001b[0m     \u001b[0mprint\u001b[0m\u001b[0;34m(\u001b[0m\u001b[0;34mf'Converted: {filename} -> {new_filename}'\u001b[0m\u001b[0;34m)\u001b[0m\u001b[0;34m\u001b[0m\u001b[0;34m\u001b[0m\u001b[0m\n",
            "\u001b[0;32m/usr/lib/python3.10/subprocess.py\u001b[0m in \u001b[0;36mrun\u001b[0;34m(input, capture_output, timeout, check, *popenargs, **kwargs)\u001b[0m\n\u001b[1;32m    503\u001b[0m     \u001b[0;32mwith\u001b[0m \u001b[0mPopen\u001b[0m\u001b[0;34m(\u001b[0m\u001b[0;34m*\u001b[0m\u001b[0mpopenargs\u001b[0m\u001b[0;34m,\u001b[0m \u001b[0;34m**\u001b[0m\u001b[0mkwargs\u001b[0m\u001b[0;34m)\u001b[0m \u001b[0;32mas\u001b[0m \u001b[0mprocess\u001b[0m\u001b[0;34m:\u001b[0m\u001b[0;34m\u001b[0m\u001b[0;34m\u001b[0m\u001b[0m\n\u001b[1;32m    504\u001b[0m         \u001b[0;32mtry\u001b[0m\u001b[0;34m:\u001b[0m\u001b[0;34m\u001b[0m\u001b[0;34m\u001b[0m\u001b[0m\n\u001b[0;32m--> 505\u001b[0;31m             \u001b[0mstdout\u001b[0m\u001b[0;34m,\u001b[0m \u001b[0mstderr\u001b[0m \u001b[0;34m=\u001b[0m \u001b[0mprocess\u001b[0m\u001b[0;34m.\u001b[0m\u001b[0mcommunicate\u001b[0m\u001b[0;34m(\u001b[0m\u001b[0minput\u001b[0m\u001b[0;34m,\u001b[0m \u001b[0mtimeout\u001b[0m\u001b[0;34m=\u001b[0m\u001b[0mtimeout\u001b[0m\u001b[0;34m)\u001b[0m\u001b[0;34m\u001b[0m\u001b[0;34m\u001b[0m\u001b[0m\n\u001b[0m\u001b[1;32m    506\u001b[0m         \u001b[0;32mexcept\u001b[0m \u001b[0mTimeoutExpired\u001b[0m \u001b[0;32mas\u001b[0m \u001b[0mexc\u001b[0m\u001b[0;34m:\u001b[0m\u001b[0;34m\u001b[0m\u001b[0;34m\u001b[0m\u001b[0m\n\u001b[1;32m    507\u001b[0m             \u001b[0mprocess\u001b[0m\u001b[0;34m.\u001b[0m\u001b[0mkill\u001b[0m\u001b[0;34m(\u001b[0m\u001b[0;34m)\u001b[0m\u001b[0;34m\u001b[0m\u001b[0;34m\u001b[0m\u001b[0m\n",
            "\u001b[0;32m/usr/lib/python3.10/subprocess.py\u001b[0m in \u001b[0;36mcommunicate\u001b[0;34m(self, input, timeout)\u001b[0m\n\u001b[1;32m   1144\u001b[0m                 \u001b[0mstderr\u001b[0m \u001b[0;34m=\u001b[0m \u001b[0mself\u001b[0m\u001b[0;34m.\u001b[0m\u001b[0mstderr\u001b[0m\u001b[0;34m.\u001b[0m\u001b[0mread\u001b[0m\u001b[0;34m(\u001b[0m\u001b[0;34m)\u001b[0m\u001b[0;34m\u001b[0m\u001b[0;34m\u001b[0m\u001b[0m\n\u001b[1;32m   1145\u001b[0m                 \u001b[0mself\u001b[0m\u001b[0;34m.\u001b[0m\u001b[0mstderr\u001b[0m\u001b[0;34m.\u001b[0m\u001b[0mclose\u001b[0m\u001b[0;34m(\u001b[0m\u001b[0;34m)\u001b[0m\u001b[0;34m\u001b[0m\u001b[0;34m\u001b[0m\u001b[0m\n\u001b[0;32m-> 1146\u001b[0;31m             \u001b[0mself\u001b[0m\u001b[0;34m.\u001b[0m\u001b[0mwait\u001b[0m\u001b[0;34m(\u001b[0m\u001b[0;34m)\u001b[0m\u001b[0;34m\u001b[0m\u001b[0;34m\u001b[0m\u001b[0m\n\u001b[0m\u001b[1;32m   1147\u001b[0m         \u001b[0;32melse\u001b[0m\u001b[0;34m:\u001b[0m\u001b[0;34m\u001b[0m\u001b[0;34m\u001b[0m\u001b[0m\n\u001b[1;32m   1148\u001b[0m             \u001b[0;32mif\u001b[0m \u001b[0mtimeout\u001b[0m \u001b[0;32mis\u001b[0m \u001b[0;32mnot\u001b[0m \u001b[0;32mNone\u001b[0m\u001b[0;34m:\u001b[0m\u001b[0;34m\u001b[0m\u001b[0;34m\u001b[0m\u001b[0m\n",
            "\u001b[0;32m/usr/lib/python3.10/subprocess.py\u001b[0m in \u001b[0;36mwait\u001b[0;34m(self, timeout)\u001b[0m\n\u001b[1;32m   1207\u001b[0m             \u001b[0mendtime\u001b[0m \u001b[0;34m=\u001b[0m \u001b[0m_time\u001b[0m\u001b[0;34m(\u001b[0m\u001b[0;34m)\u001b[0m \u001b[0;34m+\u001b[0m \u001b[0mtimeout\u001b[0m\u001b[0;34m\u001b[0m\u001b[0;34m\u001b[0m\u001b[0m\n\u001b[1;32m   1208\u001b[0m         \u001b[0;32mtry\u001b[0m\u001b[0;34m:\u001b[0m\u001b[0;34m\u001b[0m\u001b[0;34m\u001b[0m\u001b[0m\n\u001b[0;32m-> 1209\u001b[0;31m             \u001b[0;32mreturn\u001b[0m \u001b[0mself\u001b[0m\u001b[0;34m.\u001b[0m\u001b[0m_wait\u001b[0m\u001b[0;34m(\u001b[0m\u001b[0mtimeout\u001b[0m\u001b[0;34m=\u001b[0m\u001b[0mtimeout\u001b[0m\u001b[0;34m)\u001b[0m\u001b[0;34m\u001b[0m\u001b[0;34m\u001b[0m\u001b[0m\n\u001b[0m\u001b[1;32m   1210\u001b[0m         \u001b[0;32mexcept\u001b[0m \u001b[0mKeyboardInterrupt\u001b[0m\u001b[0;34m:\u001b[0m\u001b[0;34m\u001b[0m\u001b[0;34m\u001b[0m\u001b[0m\n\u001b[1;32m   1211\u001b[0m             \u001b[0;31m# https://bugs.python.org/issue25942\u001b[0m\u001b[0;34m\u001b[0m\u001b[0;34m\u001b[0m\u001b[0m\n",
            "\u001b[0;32m/usr/lib/python3.10/subprocess.py\u001b[0m in \u001b[0;36m_wait\u001b[0;34m(self, timeout)\u001b[0m\n\u001b[1;32m   1957\u001b[0m                         \u001b[0;32mif\u001b[0m \u001b[0mself\u001b[0m\u001b[0;34m.\u001b[0m\u001b[0mreturncode\u001b[0m \u001b[0;32mis\u001b[0m \u001b[0;32mnot\u001b[0m \u001b[0;32mNone\u001b[0m\u001b[0;34m:\u001b[0m\u001b[0;34m\u001b[0m\u001b[0;34m\u001b[0m\u001b[0m\n\u001b[1;32m   1958\u001b[0m                             \u001b[0;32mbreak\u001b[0m  \u001b[0;31m# Another thread waited.\u001b[0m\u001b[0;34m\u001b[0m\u001b[0;34m\u001b[0m\u001b[0m\n\u001b[0;32m-> 1959\u001b[0;31m                         \u001b[0;34m(\u001b[0m\u001b[0mpid\u001b[0m\u001b[0;34m,\u001b[0m \u001b[0msts\u001b[0m\u001b[0;34m)\u001b[0m \u001b[0;34m=\u001b[0m \u001b[0mself\u001b[0m\u001b[0;34m.\u001b[0m\u001b[0m_try_wait\u001b[0m\u001b[0;34m(\u001b[0m\u001b[0;36m0\u001b[0m\u001b[0;34m)\u001b[0m\u001b[0;34m\u001b[0m\u001b[0;34m\u001b[0m\u001b[0m\n\u001b[0m\u001b[1;32m   1960\u001b[0m                         \u001b[0;31m# Check the pid and loop as waitpid has been known to\u001b[0m\u001b[0;34m\u001b[0m\u001b[0;34m\u001b[0m\u001b[0m\n\u001b[1;32m   1961\u001b[0m                         \u001b[0;31m# return 0 even without WNOHANG in odd situations.\u001b[0m\u001b[0;34m\u001b[0m\u001b[0;34m\u001b[0m\u001b[0m\n",
            "\u001b[0;32m/usr/lib/python3.10/subprocess.py\u001b[0m in \u001b[0;36m_try_wait\u001b[0;34m(self, wait_flags)\u001b[0m\n\u001b[1;32m   1915\u001b[0m             \u001b[0;34m\"\"\"All callers to this function MUST hold self._waitpid_lock.\"\"\"\u001b[0m\u001b[0;34m\u001b[0m\u001b[0;34m\u001b[0m\u001b[0m\n\u001b[1;32m   1916\u001b[0m             \u001b[0;32mtry\u001b[0m\u001b[0;34m:\u001b[0m\u001b[0;34m\u001b[0m\u001b[0;34m\u001b[0m\u001b[0m\n\u001b[0;32m-> 1917\u001b[0;31m                 \u001b[0;34m(\u001b[0m\u001b[0mpid\u001b[0m\u001b[0;34m,\u001b[0m \u001b[0msts\u001b[0m\u001b[0;34m)\u001b[0m \u001b[0;34m=\u001b[0m \u001b[0mos\u001b[0m\u001b[0;34m.\u001b[0m\u001b[0mwaitpid\u001b[0m\u001b[0;34m(\u001b[0m\u001b[0mself\u001b[0m\u001b[0;34m.\u001b[0m\u001b[0mpid\u001b[0m\u001b[0;34m,\u001b[0m \u001b[0mwait_flags\u001b[0m\u001b[0;34m)\u001b[0m\u001b[0;34m\u001b[0m\u001b[0;34m\u001b[0m\u001b[0m\n\u001b[0m\u001b[1;32m   1918\u001b[0m             \u001b[0;32mexcept\u001b[0m \u001b[0mChildProcessError\u001b[0m\u001b[0;34m:\u001b[0m\u001b[0;34m\u001b[0m\u001b[0;34m\u001b[0m\u001b[0m\n\u001b[1;32m   1919\u001b[0m                 \u001b[0;31m# This happens if SIGCLD is set to be ignored or waiting\u001b[0m\u001b[0;34m\u001b[0m\u001b[0;34m\u001b[0m\u001b[0m\n",
            "\u001b[0;31mKeyboardInterrupt\u001b[0m: "
          ]
        }
      ],
      "source": [
        "import os\n",
        "import subprocess\n",
        "\n",
        "# Define the path to your video folder\n",
        "video_folder = '/content/ASL_VIDEOS'\n",
        "\n",
        "# Function to convert videos to mp4\n",
        "def convert_to_mp4(filename):\n",
        "    name, ext = os.path.splitext(filename)\n",
        "    new_filename = f\"{name}.mp4\"\n",
        "\n",
        "    # Run the ffmpeg command to convert the video\n",
        "    command = ['ffmpeg', '-i', os.path.join(video_folder, filename), os.path.join(video_folder, new_filename)]\n",
        "    subprocess.run(command)\n",
        "\n",
        "    print(f'Converted: {filename} -> {new_filename}')\n",
        "    return new_filename\n",
        "\n",
        "# Iterate over all files in the video folder\n",
        "for filename in os.listdir(video_folder):\n",
        "    if os.path.isfile(os.path.join(video_folder, filename)):\n",
        "        ext = os.path.splitext(filename)[1].lower()\n",
        "        if ext != '.mp4':  # Only convert files that aren't already mp4\n",
        "            convert_to_mp4(filename)\n",
        "\n",
        "print(\"All videos have been converted to mp4.\")\n",
        "\n",
        "\n",
        "# Iterate over all files in the video folder\n",
        "for filename in os.listdir(video_folder):\n",
        "    if os.path.isfile(os.path.join(video_folder, filename)):\n",
        "        ext = os.path.splitext(filename)[1].lower()\n",
        "        # Remove files with .mkv or .webm extensions\n",
        "        if ext in ['.mkv', '.webm']:\n",
        "            os.remove(os.path.join(video_folder, filename))\n",
        "            print(f'Removed: {filename}')\n",
        "\n",
        "print(\"All .mkv and .webm files have been removed.\")"
      ]
    },
    {
      "cell_type": "code",
      "execution_count": null,
      "metadata": {
        "colab": {
          "base_uri": "https://localhost:8080/"
        },
        "id": "rGnX0OfFsed2",
        "outputId": "89a2c14a-a3f4-43a6-ce6b-aac87fe1d081"
      },
      "outputs": [
        {
          "name": "stdout",
          "output_type": "stream",
          "text": [
            "Requirement already satisfied: moviepy in /usr/local/lib/python3.10/dist-packages (1.0.3)\n",
            "Requirement already satisfied: decorator<5.0,>=4.0.2 in /usr/local/lib/python3.10/dist-packages (from moviepy) (4.4.2)\n",
            "Requirement already satisfied: tqdm<5.0,>=4.11.2 in /usr/local/lib/python3.10/dist-packages (from moviepy) (4.66.5)\n",
            "Requirement already satisfied: requests<3.0,>=2.8.1 in /usr/local/lib/python3.10/dist-packages (from moviepy) (2.32.3)\n",
            "Requirement already satisfied: proglog<=1.0.0 in /usr/local/lib/python3.10/dist-packages (from moviepy) (0.1.10)\n",
            "Requirement already satisfied: numpy>=1.17.3 in /usr/local/lib/python3.10/dist-packages (from moviepy) (1.26.4)\n",
            "Requirement already satisfied: imageio<3.0,>=2.5 in /usr/local/lib/python3.10/dist-packages (from moviepy) (2.35.1)\n",
            "Requirement already satisfied: imageio-ffmpeg>=0.2.0 in /usr/local/lib/python3.10/dist-packages (from moviepy) (0.5.1)\n",
            "Requirement already satisfied: pillow>=8.3.2 in /usr/local/lib/python3.10/dist-packages (from imageio<3.0,>=2.5->moviepy) (10.4.0)\n",
            "Requirement already satisfied: setuptools in /usr/local/lib/python3.10/dist-packages (from imageio-ffmpeg>=0.2.0->moviepy) (71.0.4)\n",
            "Requirement already satisfied: charset-normalizer<4,>=2 in /usr/local/lib/python3.10/dist-packages (from requests<3.0,>=2.8.1->moviepy) (3.3.2)\n",
            "Requirement already satisfied: idna<4,>=2.5 in /usr/local/lib/python3.10/dist-packages (from requests<3.0,>=2.8.1->moviepy) (3.10)\n",
            "Requirement already satisfied: urllib3<3,>=1.21.1 in /usr/local/lib/python3.10/dist-packages (from requests<3.0,>=2.8.1->moviepy) (2.2.3)\n",
            "Requirement already satisfied: certifi>=2017.4.17 in /usr/local/lib/python3.10/dist-packages (from requests<3.0,>=2.8.1->moviepy) (2024.8.30)\n"
          ]
        }
      ],
      "source": [
        "!pip install moviepy\n"
      ]
    },
    {
      "cell_type": "code",
      "execution_count": null,
      "metadata": {
        "colab": {
          "base_uri": "https://localhost:8080/"
        },
        "id": "2s2Jkc0dsevx",
        "outputId": "8a4b07a7-5573-4bc8-f3e7-0994442db041"
      },
      "outputs": [
        {
          "name": "stdout",
          "output_type": "stream",
          "text": [
            "Moviepy - Building video /content/resized_ASL_videos/061-you_look-like_your_mother.mp4.\n",
            "MoviePy - Writing audio in 061-you_look-like_your_motherTEMP_MPY_wvf_snd.mp4\n"
          ]
        },
        {
          "name": "stderr",
          "output_type": "stream",
          "text": []
        },
        {
          "name": "stdout",
          "output_type": "stream",
          "text": [
            "MoviePy - Done.\n",
            "Moviepy - Writing video /content/resized_ASL_videos/061-you_look-like_your_mother.mp4\n",
            "\n"
          ]
        },
        {
          "name": "stderr",
          "output_type": "stream",
          "text": [
            "t:  99%|█████████▊| 138/140 [00:06<00:00, 26.27it/s, now=None]WARNING:py.warnings:/usr/local/lib/python3.10/dist-packages/moviepy/video/io/ffmpeg_reader.py:123: UserWarning: Warning: in file /content/ASL_VIDEOS/061-you_look-like_your_mother.mp4, 6220800 bytes wanted but 0 bytes read,at frame 138/140, at time 4.60/4.64 sec. Using the last valid frame instead.\n",
            "  warnings.warn(\"Warning: in file %s, \"%(self.filename)+\n",
            "\n",
            "WARNING:py.warnings:/usr/local/lib/python3.10/dist-packages/moviepy/video/io/ffmpeg_reader.py:123: UserWarning: Warning: in file /content/ASL_VIDEOS/061-you_look-like_your_mother.mp4, 6220800 bytes wanted but 0 bytes read,at frame 139/140, at time 4.64/4.64 sec. Using the last valid frame instead.\n",
            "  warnings.warn(\"Warning: in file %s, \"%(self.filename)+\n",
            "\n"
          ]
        },
        {
          "name": "stdout",
          "output_type": "stream",
          "text": [
            "Moviepy - Done !\n",
            "Moviepy - video ready /content/resized_ASL_videos/061-you_look-like_your_mother.mp4\n",
            "Resized 061-you_look-like_your_mother.mp4 and saved to /content/resized_ASL_videos/061-you_look-like_your_mother.mp4\n",
            "Moviepy - Building video /content/resized_ASL_videos/034-you_like_cook.mp4.\n",
            "MoviePy - Writing audio in 034-you_like_cookTEMP_MPY_wvf_snd.mp4\n"
          ]
        },
        {
          "name": "stderr",
          "output_type": "stream",
          "text": []
        },
        {
          "name": "stdout",
          "output_type": "stream",
          "text": [
            "MoviePy - Done.\n",
            "Moviepy - Writing video /content/resized_ASL_videos/034-you_like_cook.mp4\n",
            "\n"
          ]
        },
        {
          "name": "stderr",
          "output_type": "stream",
          "text": [
            "t:  91%|█████████ | 78/86 [00:02<00:00, 27.25it/s, now=None]WARNING:py.warnings:/usr/local/lib/python3.10/dist-packages/moviepy/video/io/ffmpeg_reader.py:123: UserWarning: Warning: in file /content/ASL_VIDEOS/034-you_like_cook.mp4, 6220800 bytes wanted but 0 bytes read,at frame 80/86, at time 2.67/2.84 sec. Using the last valid frame instead.\n",
            "  warnings.warn(\"Warning: in file %s, \"%(self.filename)+\n",
            "\n",
            "t:  95%|█████████▌| 82/86 [00:02<00:00, 26.77it/s, now=None]WARNING:py.warnings:/usr/local/lib/python3.10/dist-packages/moviepy/video/io/ffmpeg_reader.py:123: UserWarning: Warning: in file /content/ASL_VIDEOS/034-you_like_cook.mp4, 6220800 bytes wanted but 0 bytes read,at frame 81/86, at time 2.70/2.84 sec. Using the last valid frame instead.\n",
            "  warnings.warn(\"Warning: in file %s, \"%(self.filename)+\n",
            "\n",
            "WARNING:py.warnings:/usr/local/lib/python3.10/dist-packages/moviepy/video/io/ffmpeg_reader.py:123: UserWarning: Warning: in file /content/ASL_VIDEOS/034-you_like_cook.mp4, 6220800 bytes wanted but 0 bytes read,at frame 82/86, at time 2.74/2.84 sec. Using the last valid frame instead.\n",
            "  warnings.warn(\"Warning: in file %s, \"%(self.filename)+\n",
            "\n",
            "WARNING:py.warnings:/usr/local/lib/python3.10/dist-packages/moviepy/video/io/ffmpeg_reader.py:123: UserWarning: Warning: in file /content/ASL_VIDEOS/034-you_like_cook.mp4, 6220800 bytes wanted but 0 bytes read,at frame 83/86, at time 2.77/2.84 sec. Using the last valid frame instead.\n",
            "  warnings.warn(\"Warning: in file %s, \"%(self.filename)+\n",
            "\n",
            "t:  99%|█████████▉| 85/86 [00:02<00:00, 26.83it/s, now=None]WARNING:py.warnings:/usr/local/lib/python3.10/dist-packages/moviepy/video/io/ffmpeg_reader.py:123: UserWarning: Warning: in file /content/ASL_VIDEOS/034-you_like_cook.mp4, 6220800 bytes wanted but 0 bytes read,at frame 84/86, at time 2.80/2.84 sec. Using the last valid frame instead.\n",
            "  warnings.warn(\"Warning: in file %s, \"%(self.filename)+\n",
            "\n",
            "WARNING:py.warnings:/usr/local/lib/python3.10/dist-packages/moviepy/video/io/ffmpeg_reader.py:123: UserWarning: Warning: in file /content/ASL_VIDEOS/034-you_like_cook.mp4, 6220800 bytes wanted but 0 bytes read,at frame 85/86, at time 2.84/2.84 sec. Using the last valid frame instead.\n",
            "  warnings.warn(\"Warning: in file %s, \"%(self.filename)+\n",
            "\n"
          ]
        },
        {
          "name": "stdout",
          "output_type": "stream",
          "text": [
            "Moviepy - Done !\n",
            "Moviepy - video ready /content/resized_ASL_videos/034-you_like_cook.mp4\n",
            "Resized 034-you_like_cook.mp4 and saved to /content/resized_ASL_videos/034-you_like_cook.mp4\n",
            "Moviepy - Building video /content/resized_ASL_videos/100-cell_phone_in_asl.mp4.\n",
            "MoviePy - Writing audio in 100-cell_phone_in_aslTEMP_MPY_wvf_snd.mp4\n"
          ]
        },
        {
          "name": "stderr",
          "output_type": "stream",
          "text": []
        },
        {
          "name": "stdout",
          "output_type": "stream",
          "text": [
            "MoviePy - Done.\n",
            "Moviepy - Writing video /content/resized_ASL_videos/100-cell_phone_in_asl.mp4\n",
            "\n"
          ]
        },
        {
          "name": "stderr",
          "output_type": "stream",
          "text": [
            "t: 100%|█████████▉| 298/299 [00:35<00:00,  7.93it/s, now=None]WARNING:py.warnings:/usr/local/lib/python3.10/dist-packages/moviepy/video/io/ffmpeg_reader.py:123: UserWarning: Warning: in file /content/ASL_VIDEOS/100-cell_phone_in_asl.mp4, 24883200 bytes wanted but 0 bytes read,at frame 297/299, at time 4.95/4.97 sec. Using the last valid frame instead.\n",
            "  warnings.warn(\"Warning: in file %s, \"%(self.filename)+\n",
            "\n",
            "WARNING:py.warnings:/usr/local/lib/python3.10/dist-packages/moviepy/video/io/ffmpeg_reader.py:123: UserWarning: Warning: in file /content/ASL_VIDEOS/100-cell_phone_in_asl.mp4, 24883200 bytes wanted but 0 bytes read,at frame 298/299, at time 4.97/4.97 sec. Using the last valid frame instead.\n",
            "  warnings.warn(\"Warning: in file %s, \"%(self.filename)+\n",
            "\n"
          ]
        },
        {
          "name": "stdout",
          "output_type": "stream",
          "text": [
            "Moviepy - Done !\n",
            "Moviepy - video ready /content/resized_ASL_videos/100-cell_phone_in_asl.mp4\n",
            "Resized 100-cell_phone_in_asl.mp4 and saved to /content/resized_ASL_videos/100-cell_phone_in_asl.mp4\n",
            "Moviepy - Building video /content/resized_ASL_videos/106-arrive_in_asl.mp4.\n",
            "MoviePy - Writing audio in 106-arrive_in_aslTEMP_MPY_wvf_snd.mp4\n"
          ]
        },
        {
          "name": "stderr",
          "output_type": "stream",
          "text": []
        },
        {
          "name": "stdout",
          "output_type": "stream",
          "text": [
            "MoviePy - Done.\n",
            "Moviepy - Writing video /content/resized_ASL_videos/106-arrive_in_asl.mp4\n",
            "\n"
          ]
        },
        {
          "name": "stderr",
          "output_type": "stream",
          "text": [
            "t: 100%|█████████▉| 331/332 [00:35<00:00, 11.66it/s, now=None]WARNING:py.warnings:/usr/local/lib/python3.10/dist-packages/moviepy/video/io/ffmpeg_reader.py:123: UserWarning: Warning: in file /content/ASL_VIDEOS/106-arrive_in_asl.mp4, 24883200 bytes wanted but 0 bytes read,at frame 331/332, at time 5.52/5.53 sec. Using the last valid frame instead.\n",
            "  warnings.warn(\"Warning: in file %s, \"%(self.filename)+\n",
            "\n"
          ]
        },
        {
          "name": "stdout",
          "output_type": "stream",
          "text": [
            "Moviepy - Done !\n",
            "Moviepy - video ready /content/resized_ASL_videos/106-arrive_in_asl.mp4\n",
            "Resized 106-arrive_in_asl.mp4 and saved to /content/resized_ASL_videos/106-arrive_in_asl.mp4\n",
            "Moviepy - Building video /content/resized_ASL_videos/122-from_in_asl.mp4.\n",
            "MoviePy - Writing audio in 122-from_in_aslTEMP_MPY_wvf_snd.mp4\n"
          ]
        },
        {
          "name": "stderr",
          "output_type": "stream",
          "text": []
        },
        {
          "name": "stdout",
          "output_type": "stream",
          "text": [
            "MoviePy - Done.\n",
            "Moviepy - Writing video /content/resized_ASL_videos/122-from_in_asl.mp4\n",
            "\n"
          ]
        },
        {
          "name": "stderr",
          "output_type": "stream",
          "text": [
            "t:  99%|█████████▉| 363/365 [00:39<00:00, 11.33it/s, now=None]WARNING:py.warnings:/usr/local/lib/python3.10/dist-packages/moviepy/video/io/ffmpeg_reader.py:123: UserWarning: Warning: in file /content/ASL_VIDEOS/122-from_in_asl.mp4, 24883200 bytes wanted but 0 bytes read,at frame 363/365, at time 6.05/6.07 sec. Using the last valid frame instead.\n",
            "  warnings.warn(\"Warning: in file %s, \"%(self.filename)+\n",
            "\n",
            "t: 100%|██████████| 365/365 [00:39<00:00, 12.61it/s, now=None]WARNING:py.warnings:/usr/local/lib/python3.10/dist-packages/moviepy/video/io/ffmpeg_reader.py:123: UserWarning: Warning: in file /content/ASL_VIDEOS/122-from_in_asl.mp4, 24883200 bytes wanted but 0 bytes read,at frame 364/365, at time 6.07/6.07 sec. Using the last valid frame instead.\n",
            "  warnings.warn(\"Warning: in file %s, \"%(self.filename)+\n",
            "\n"
          ]
        },
        {
          "name": "stdout",
          "output_type": "stream",
          "text": [
            "Moviepy - Done !\n",
            "Moviepy - video ready /content/resized_ASL_videos/122-from_in_asl.mp4\n",
            "Resized 122-from_in_asl.mp4 and saved to /content/resized_ASL_videos/122-from_in_asl.mp4\n",
            "Moviepy - Building video /content/resized_ASL_videos/098-is_that_true_in_asl.mp4.\n",
            "MoviePy - Writing audio in 098-is_that_true_in_aslTEMP_MPY_wvf_snd.mp4\n"
          ]
        },
        {
          "name": "stderr",
          "output_type": "stream",
          "text": []
        },
        {
          "name": "stdout",
          "output_type": "stream",
          "text": [
            "MoviePy - Done.\n",
            "Moviepy - Writing video /content/resized_ASL_videos/098-is_that_true_in_asl.mp4\n",
            "\n"
          ]
        },
        {
          "name": "stderr",
          "output_type": "stream",
          "text": [
            "t: 100%|█████████▉| 249/250 [00:26<00:00,  7.69it/s, now=None]WARNING:py.warnings:/usr/local/lib/python3.10/dist-packages/moviepy/video/io/ffmpeg_reader.py:123: UserWarning: Warning: in file /content/ASL_VIDEOS/098-is_that_true_in_asl.mp4, 24883200 bytes wanted but 0 bytes read,at frame 248/250, at time 4.13/4.15 sec. Using the last valid frame instead.\n",
            "  warnings.warn(\"Warning: in file %s, \"%(self.filename)+\n",
            "\n",
            "WARNING:py.warnings:/usr/local/lib/python3.10/dist-packages/moviepy/video/io/ffmpeg_reader.py:123: UserWarning: Warning: in file /content/ASL_VIDEOS/098-is_that_true_in_asl.mp4, 24883200 bytes wanted but 0 bytes read,at frame 249/250, at time 4.15/4.15 sec. Using the last valid frame instead.\n",
            "  warnings.warn(\"Warning: in file %s, \"%(self.filename)+\n",
            "\n"
          ]
        },
        {
          "name": "stdout",
          "output_type": "stream",
          "text": [
            "Moviepy - Done !\n",
            "Moviepy - video ready /content/resized_ASL_videos/098-is_that_true_in_asl.mp4\n",
            "Resized 098-is_that_true_in_asl.mp4 and saved to /content/resized_ASL_videos/098-is_that_true_in_asl.mp4\n",
            "Moviepy - Building video /content/resized_ASL_videos/046-you_like_dance_you.mp4.\n",
            "MoviePy - Writing audio in 046-you_like_dance_youTEMP_MPY_wvf_snd.mp4\n"
          ]
        },
        {
          "name": "stderr",
          "output_type": "stream",
          "text": []
        },
        {
          "name": "stdout",
          "output_type": "stream",
          "text": [
            "MoviePy - Done.\n",
            "Moviepy - Writing video /content/resized_ASL_videos/046-you_like_dance_you.mp4\n",
            "\n"
          ]
        },
        {
          "name": "stderr",
          "output_type": "stream",
          "text": [
            "t:  99%|█████████▉| 94/95 [00:02<00:00, 35.96it/s, now=None]WARNING:py.warnings:/usr/local/lib/python3.10/dist-packages/moviepy/video/io/ffmpeg_reader.py:123: UserWarning: Warning: in file /content/ASL_VIDEOS/046-you_like_dance_you.mp4, 6220800 bytes wanted but 0 bytes read,at frame 93/95, at time 3.10/3.14 sec. Using the last valid frame instead.\n",
            "  warnings.warn(\"Warning: in file %s, \"%(self.filename)+\n",
            "\n",
            "WARNING:py.warnings:/usr/local/lib/python3.10/dist-packages/moviepy/video/io/ffmpeg_reader.py:123: UserWarning: Warning: in file /content/ASL_VIDEOS/046-you_like_dance_you.mp4, 6220800 bytes wanted but 0 bytes read,at frame 94/95, at time 3.14/3.14 sec. Using the last valid frame instead.\n",
            "  warnings.warn(\"Warning: in file %s, \"%(self.filename)+\n",
            "\n"
          ]
        },
        {
          "name": "stdout",
          "output_type": "stream",
          "text": [
            "Moviepy - Done !\n",
            "Moviepy - video ready /content/resized_ASL_videos/046-you_like_dance_you.mp4\n",
            "Resized 046-you_like_dance_you.mp4 and saved to /content/resized_ASL_videos/046-you_like_dance_you.mp4\n",
            "Moviepy - Building video /content/resized_ASL_videos/108-what_do_you_do_for_work_in_asl.mp4.\n",
            "MoviePy - Writing audio in 108-what_do_you_do_for_work_in_aslTEMP_MPY_wvf_snd.mp4\n"
          ]
        },
        {
          "name": "stderr",
          "output_type": "stream",
          "text": []
        },
        {
          "name": "stdout",
          "output_type": "stream",
          "text": [
            "MoviePy - Done.\n",
            "Moviepy - Writing video /content/resized_ASL_videos/108-what_do_you_do_for_work_in_asl.mp4\n",
            "\n"
          ]
        },
        {
          "name": "stderr",
          "output_type": "stream",
          "text": [
            "t: 100%|██████████| 401/401 [00:43<00:00, 10.18it/s, now=None]WARNING:py.warnings:/usr/local/lib/python3.10/dist-packages/moviepy/video/io/ffmpeg_reader.py:123: UserWarning: Warning: in file /content/ASL_VIDEOS/108-what_do_you_do_for_work_in_asl.mp4, 24883200 bytes wanted but 0 bytes read,at frame 400/401, at time 6.67/6.68 sec. Using the last valid frame instead.\n",
            "  warnings.warn(\"Warning: in file %s, \"%(self.filename)+\n",
            "\n"
          ]
        },
        {
          "name": "stdout",
          "output_type": "stream",
          "text": [
            "Moviepy - Done !\n",
            "Moviepy - video ready /content/resized_ASL_videos/108-what_do_you_do_for_work_in_asl.mp4\n",
            "Resized 108-what_do_you_do_for_work_in_asl.mp4 and saved to /content/resized_ASL_videos/108-what_do_you_do_for_work_in_asl.mp4\n",
            "Moviepy - Building video /content/resized_ASL_videos/133-how_did_you_get_here_in_asl.mp4.\n",
            "MoviePy - Writing audio in 133-how_did_you_get_here_in_aslTEMP_MPY_wvf_snd.mp4\n"
          ]
        },
        {
          "name": "stderr",
          "output_type": "stream",
          "text": []
        },
        {
          "name": "stdout",
          "output_type": "stream",
          "text": [
            "MoviePy - Done.\n",
            "Moviepy - Writing video /content/resized_ASL_videos/133-how_did_you_get_here_in_asl.mp4\n",
            "\n"
          ]
        },
        {
          "name": "stderr",
          "output_type": "stream",
          "text": [
            "t: 100%|█████████▉| 419/420 [00:45<00:00, 11.22it/s, now=None]WARNING:py.warnings:/usr/local/lib/python3.10/dist-packages/moviepy/video/io/ffmpeg_reader.py:123: UserWarning: Warning: in file /content/ASL_VIDEOS/133-how_did_you_get_here_in_asl.mp4, 24883200 bytes wanted but 0 bytes read,at frame 419/421, at time 6.98/7.00 sec. Using the last valid frame instead.\n",
            "  warnings.warn(\"Warning: in file %s, \"%(self.filename)+\n",
            "\n"
          ]
        },
        {
          "name": "stdout",
          "output_type": "stream",
          "text": [
            "Moviepy - Done !\n",
            "Moviepy - video ready /content/resized_ASL_videos/133-how_did_you_get_here_in_asl.mp4\n",
            "Resized 133-how_did_you_get_here_in_asl.mp4 and saved to /content/resized_ASL_videos/133-how_did_you_get_here_in_asl.mp4\n",
            "Moviepy - Building video /content/resized_ASL_videos/087-5-dollar_you-mind_you-loan-me.mp4.\n",
            "MoviePy - Writing audio in 087-5-dollar_you-mind_you-loan-meTEMP_MPY_wvf_snd.mp4\n"
          ]
        },
        {
          "name": "stderr",
          "output_type": "stream",
          "text": []
        },
        {
          "name": "stdout",
          "output_type": "stream",
          "text": [
            "MoviePy - Done.\n",
            "Moviepy - Writing video /content/resized_ASL_videos/087-5-dollar_you-mind_you-loan-me.mp4\n",
            "\n"
          ]
        },
        {
          "name": "stderr",
          "output_type": "stream",
          "text": [
            "t:  97%|█████████▋| 151/155 [00:02<00:00, 46.54it/s, now=None]WARNING:py.warnings:/usr/local/lib/python3.10/dist-packages/moviepy/video/io/ffmpeg_reader.py:123: UserWarning: Warning: in file /content/ASL_VIDEOS/087-5-dollar_you-mind_you-loan-me.mp4, 1226880 bytes wanted but 0 bytes read,at frame 153/155, at time 5.11/5.15 sec. Using the last valid frame instead.\n",
            "  warnings.warn(\"Warning: in file %s, \"%(self.filename)+\n",
            "\n",
            "WARNING:py.warnings:/usr/local/lib/python3.10/dist-packages/moviepy/video/io/ffmpeg_reader.py:123: UserWarning: Warning: in file /content/ASL_VIDEOS/087-5-dollar_you-mind_you-loan-me.mp4, 1226880 bytes wanted but 0 bytes read,at frame 154/155, at time 5.14/5.15 sec. Using the last valid frame instead.\n",
            "  warnings.warn(\"Warning: in file %s, \"%(self.filename)+\n",
            "\n"
          ]
        },
        {
          "name": "stdout",
          "output_type": "stream",
          "text": [
            "Moviepy - Done !\n",
            "Moviepy - video ready /content/resized_ASL_videos/087-5-dollar_you-mind_you-loan-me.mp4\n",
            "Resized 087-5-dollar_you-mind_you-loan-me.mp4 and saved to /content/resized_ASL_videos/087-5-dollar_you-mind_you-loan-me.mp4\n",
            "Moviepy - Building video /content/resized_ASL_videos/038-you_prefer_car_bodyshift-or_truck.mp4.\n",
            "MoviePy - Writing audio in 038-you_prefer_car_bodyshift-or_truckTEMP_MPY_wvf_snd.mp4\n"
          ]
        },
        {
          "name": "stderr",
          "output_type": "stream",
          "text": []
        },
        {
          "name": "stdout",
          "output_type": "stream",
          "text": [
            "MoviePy - Done.\n",
            "Moviepy - Writing video /content/resized_ASL_videos/038-you_prefer_car_bodyshift-or_truck.mp4\n",
            "\n"
          ]
        },
        {
          "name": "stderr",
          "output_type": "stream",
          "text": [
            "t:  99%|█████████▉| 179/180 [00:06<00:00, 19.29it/s, now=None]WARNING:py.warnings:/usr/local/lib/python3.10/dist-packages/moviepy/video/io/ffmpeg_reader.py:123: UserWarning: Warning: in file /content/ASL_VIDEOS/038-you_prefer_car_bodyshift-or_truck.mp4, 6220800 bytes wanted but 0 bytes read,at frame 178/180, at time 5.94/5.99 sec. Using the last valid frame instead.\n",
            "  warnings.warn(\"Warning: in file %s, \"%(self.filename)+\n",
            "\n",
            "WARNING:py.warnings:/usr/local/lib/python3.10/dist-packages/moviepy/video/io/ffmpeg_reader.py:123: UserWarning: Warning: in file /content/ASL_VIDEOS/038-you_prefer_car_bodyshift-or_truck.mp4, 6220800 bytes wanted but 0 bytes read,at frame 179/180, at time 5.97/5.99 sec. Using the last valid frame instead.\n",
            "  warnings.warn(\"Warning: in file %s, \"%(self.filename)+\n",
            "\n"
          ]
        },
        {
          "name": "stdout",
          "output_type": "stream",
          "text": [
            "Moviepy - Done !\n",
            "Moviepy - video ready /content/resized_ASL_videos/038-you_prefer_car_bodyshift-or_truck.mp4\n",
            "Resized 038-you_prefer_car_bodyshift-or_truck.mp4 and saved to /content/resized_ASL_videos/038-you_prefer_car_bodyshift-or_truck.mp4\n",
            "Moviepy - Building video /content/resized_ASL_videos/096-can_you_read_lips_in_asl.mp4.\n",
            "MoviePy - Writing audio in 096-can_you_read_lips_in_aslTEMP_MPY_wvf_snd.mp4\n"
          ]
        },
        {
          "name": "stderr",
          "output_type": "stream",
          "text": []
        },
        {
          "name": "stdout",
          "output_type": "stream",
          "text": [
            "MoviePy - Done.\n",
            "Moviepy - Writing video /content/resized_ASL_videos/096-can_you_read_lips_in_asl.mp4\n",
            "\n"
          ]
        },
        {
          "name": "stderr",
          "output_type": "stream",
          "text": [
            "t: 100%|██████████| 461/461 [00:49<00:00, 12.02it/s, now=None]WARNING:py.warnings:/usr/local/lib/python3.10/dist-packages/moviepy/video/io/ffmpeg_reader.py:123: UserWarning: Warning: in file /content/ASL_VIDEOS/096-can_you_read_lips_in_asl.mp4, 24883200 bytes wanted but 0 bytes read,at frame 460/461, at time 7.67/7.68 sec. Using the last valid frame instead.\n",
            "  warnings.warn(\"Warning: in file %s, \"%(self.filename)+\n",
            "\n"
          ]
        },
        {
          "name": "stdout",
          "output_type": "stream",
          "text": [
            "Moviepy - Done !\n",
            "Moviepy - video ready /content/resized_ASL_videos/096-can_you_read_lips_in_asl.mp4\n",
            "Resized 096-can_you_read_lips_in_asl.mp4 and saved to /content/resized_ASL_videos/096-can_you_read_lips_in_asl.mp4\n",
            "Moviepy - Building video /content/resized_ASL_videos/018-nyb-none_of_your_business.mp4.\n",
            "MoviePy - Writing audio in 018-nyb-none_of_your_businessTEMP_MPY_wvf_snd.mp4\n"
          ]
        },
        {
          "name": "stderr",
          "output_type": "stream",
          "text": []
        },
        {
          "name": "stdout",
          "output_type": "stream",
          "text": [
            "MoviePy - Done.\n",
            "Moviepy - Writing video /content/resized_ASL_videos/018-nyb-none_of_your_business.mp4\n",
            "\n"
          ]
        },
        {
          "name": "stderr",
          "output_type": "stream",
          "text": [
            "t:  98%|█████████▊| 92/94 [00:02<00:00, 36.32it/s, now=None]WARNING:py.warnings:/usr/local/lib/python3.10/dist-packages/moviepy/video/io/ffmpeg_reader.py:123: UserWarning: Warning: in file /content/ASL_VIDEOS/018-nyb-none_of_your_business.mp4, 6220800 bytes wanted but 0 bytes read,at frame 93/94, at time 3.10/3.13 sec. Using the last valid frame instead.\n",
            "  warnings.warn(\"Warning: in file %s, \"%(self.filename)+\n",
            "\n"
          ]
        },
        {
          "name": "stdout",
          "output_type": "stream",
          "text": [
            "Moviepy - Done !\n",
            "Moviepy - video ready /content/resized_ASL_videos/018-nyb-none_of_your_business.mp4\n",
            "Resized 018-nyb-none_of_your_business.mp4 and saved to /content/resized_ASL_videos/018-nyb-none_of_your_business.mp4\n",
            "Moviepy - Building video /content/resized_ASL_videos/121-funny_in_asl.mp4.\n",
            "MoviePy - Writing audio in 121-funny_in_aslTEMP_MPY_wvf_snd.mp4\n"
          ]
        },
        {
          "name": "stderr",
          "output_type": "stream",
          "text": []
        },
        {
          "name": "stdout",
          "output_type": "stream",
          "text": [
            "MoviePy - Done.\n",
            "Moviepy - Writing video /content/resized_ASL_videos/121-funny_in_asl.mp4\n",
            "\n"
          ]
        },
        {
          "name": "stderr",
          "output_type": "stream",
          "text": [
            "t:  99%|█████████▉| 285/287 [00:30<00:00, 11.58it/s, now=None]WARNING:py.warnings:/usr/local/lib/python3.10/dist-packages/moviepy/video/io/ffmpeg_reader.py:123: UserWarning: Warning: in file /content/ASL_VIDEOS/121-funny_in_asl.mp4, 24883200 bytes wanted but 0 bytes read,at frame 285/287, at time 4.75/4.77 sec. Using the last valid frame instead.\n",
            "  warnings.warn(\"Warning: in file %s, \"%(self.filename)+\n",
            "\n",
            "t: 100%|██████████| 287/287 [00:30<00:00, 12.72it/s, now=None]WARNING:py.warnings:/usr/local/lib/python3.10/dist-packages/moviepy/video/io/ffmpeg_reader.py:123: UserWarning: Warning: in file /content/ASL_VIDEOS/121-funny_in_asl.mp4, 24883200 bytes wanted but 0 bytes read,at frame 286/287, at time 4.77/4.77 sec. Using the last valid frame instead.\n",
            "  warnings.warn(\"Warning: in file %s, \"%(self.filename)+\n",
            "\n"
          ]
        },
        {
          "name": "stdout",
          "output_type": "stream",
          "text": [
            "Moviepy - Done !\n",
            "Moviepy - video ready /content/resized_ASL_videos/121-funny_in_asl.mp4\n",
            "Resized 121-funny_in_asl.mp4 and saved to /content/resized_ASL_videos/121-funny_in_asl.mp4\n",
            "Moviepy - Building video /content/resized_ASL_videos/021-you_live_where_where_do_you_live.mp4.\n",
            "MoviePy - Writing audio in 021-you_live_where_where_do_you_liveTEMP_MPY_wvf_snd.mp4\n"
          ]
        },
        {
          "name": "stderr",
          "output_type": "stream",
          "text": []
        },
        {
          "name": "stdout",
          "output_type": "stream",
          "text": [
            "MoviePy - Done.\n",
            "Moviepy - Writing video /content/resized_ASL_videos/021-you_live_where_where_do_you_live.mp4\n",
            "\n"
          ]
        },
        {
          "name": "stderr",
          "output_type": "stream",
          "text": [
            "t:  99%|█████████▉| 113/114 [00:03<00:00, 20.35it/s, now=None]WARNING:py.warnings:/usr/local/lib/python3.10/dist-packages/moviepy/video/io/ffmpeg_reader.py:123: UserWarning: Warning: in file /content/ASL_VIDEOS/021-you_live_where_where_do_you_live.mp4, 6220800 bytes wanted but 0 bytes read,at frame 113/114, at time 3.77/3.80 sec. Using the last valid frame instead.\n",
            "  warnings.warn(\"Warning: in file %s, \"%(self.filename)+\n",
            "\n"
          ]
        },
        {
          "name": "stdout",
          "output_type": "stream",
          "text": [
            "Moviepy - Done !\n",
            "Moviepy - video ready /content/resized_ASL_videos/021-you_live_where_where_do_you_live.mp4\n",
            "Resized 021-you_live_where_where_do_you_live.mp4 and saved to /content/resized_ASL_videos/021-you_live_where_where_do_you_live.mp4\n",
            "Moviepy - Building video /content/resized_ASL_videos/120-happen_in_asl.mp4.\n",
            "MoviePy - Writing audio in 120-happen_in_aslTEMP_MPY_wvf_snd.mp4\n"
          ]
        },
        {
          "name": "stderr",
          "output_type": "stream",
          "text": []
        },
        {
          "name": "stdout",
          "output_type": "stream",
          "text": [
            "MoviePy - Done.\n",
            "Moviepy - Writing video /content/resized_ASL_videos/120-happen_in_asl.mp4\n",
            "\n"
          ]
        },
        {
          "name": "stderr",
          "output_type": "stream",
          "text": [
            "t: 100%|█████████▉| 307/308 [00:33<00:00, 11.66it/s, now=None]WARNING:py.warnings:/usr/local/lib/python3.10/dist-packages/moviepy/video/io/ffmpeg_reader.py:123: UserWarning: Warning: in file /content/ASL_VIDEOS/120-happen_in_asl.mp4, 24883200 bytes wanted but 0 bytes read,at frame 306/308, at time 5.10/5.12 sec. Using the last valid frame instead.\n",
            "  warnings.warn(\"Warning: in file %s, \"%(self.filename)+\n",
            "\n",
            "WARNING:py.warnings:/usr/local/lib/python3.10/dist-packages/moviepy/video/io/ffmpeg_reader.py:123: UserWarning: Warning: in file /content/ASL_VIDEOS/120-happen_in_asl.mp4, 24883200 bytes wanted but 0 bytes read,at frame 307/308, at time 5.12/5.12 sec. Using the last valid frame instead.\n",
            "  warnings.warn(\"Warning: in file %s, \"%(self.filename)+\n",
            "\n"
          ]
        },
        {
          "name": "stdout",
          "output_type": "stream",
          "text": [
            "Moviepy - Done !\n",
            "Moviepy - video ready /content/resized_ASL_videos/120-happen_in_asl.mp4\n",
            "Resized 120-happen_in_asl.mp4 and saved to /content/resized_ASL_videos/120-happen_in_asl.mp4\n",
            "Moviepy - Building video /content/resized_ASL_videos/139-stupid2_in_asl.mp4.\n",
            "MoviePy - Writing audio in 139-stupid2_in_aslTEMP_MPY_wvf_snd.mp4\n"
          ]
        },
        {
          "name": "stderr",
          "output_type": "stream",
          "text": []
        },
        {
          "name": "stdout",
          "output_type": "stream",
          "text": [
            "MoviePy - Done.\n",
            "Moviepy - Writing video /content/resized_ASL_videos/139-stupid2_in_asl.mp4\n",
            "\n"
          ]
        },
        {
          "name": "stderr",
          "output_type": "stream",
          "text": [
            "t:  99%|█████████▉| 393/395 [00:43<00:00, 11.50it/s, now=None]WARNING:py.warnings:/usr/local/lib/python3.10/dist-packages/moviepy/video/io/ffmpeg_reader.py:123: UserWarning: Warning: in file /content/ASL_VIDEOS/139-stupid2_in_asl.mp4, 24883200 bytes wanted but 0 bytes read,at frame 393/395, at time 6.55/6.57 sec. Using the last valid frame instead.\n",
            "  warnings.warn(\"Warning: in file %s, \"%(self.filename)+\n",
            "\n",
            "t: 100%|██████████| 395/395 [00:43<00:00, 12.52it/s, now=None]WARNING:py.warnings:/usr/local/lib/python3.10/dist-packages/moviepy/video/io/ffmpeg_reader.py:123: UserWarning: Warning: in file /content/ASL_VIDEOS/139-stupid2_in_asl.mp4, 24883200 bytes wanted but 0 bytes read,at frame 394/395, at time 6.57/6.57 sec. Using the last valid frame instead.\n",
            "  warnings.warn(\"Warning: in file %s, \"%(self.filename)+\n",
            "\n"
          ]
        },
        {
          "name": "stdout",
          "output_type": "stream",
          "text": [
            "Moviepy - Done !\n",
            "Moviepy - video ready /content/resized_ASL_videos/139-stupid2_in_asl.mp4\n",
            "Resized 139-stupid2_in_asl.mp4 and saved to /content/resized_ASL_videos/139-stupid2_in_asl.mp4\n",
            "Moviepy - Building video /content/resized_ASL_videos/007-what.mp4.\n",
            "MoviePy - Writing audio in 007-whatTEMP_MPY_wvf_snd.mp4\n"
          ]
        },
        {
          "name": "stderr",
          "output_type": "stream",
          "text": []
        },
        {
          "name": "stdout",
          "output_type": "stream",
          "text": [
            "MoviePy - Done.\n",
            "Moviepy - Writing video /content/resized_ASL_videos/007-what.mp4\n",
            "\n"
          ]
        },
        {
          "name": "stderr",
          "output_type": "stream",
          "text": [
            "t:  94%|█████████▎| 59/63 [00:01<00:00, 37.00it/s, now=None]WARNING:py.warnings:/usr/local/lib/python3.10/dist-packages/moviepy/video/io/ffmpeg_reader.py:123: UserWarning: Warning: in file /content/ASL_VIDEOS/007-what.mp4, 6220800 bytes wanted but 0 bytes read,at frame 61/63, at time 2.04/2.09 sec. Using the last valid frame instead.\n",
            "  warnings.warn(\"Warning: in file %s, \"%(self.filename)+\n",
            "\n",
            "WARNING:py.warnings:/usr/local/lib/python3.10/dist-packages/moviepy/video/io/ffmpeg_reader.py:123: UserWarning: Warning: in file /content/ASL_VIDEOS/007-what.mp4, 6220800 bytes wanted but 0 bytes read,at frame 62/63, at time 2.07/2.09 sec. Using the last valid frame instead.\n",
            "  warnings.warn(\"Warning: in file %s, \"%(self.filename)+\n",
            "\n"
          ]
        },
        {
          "name": "stdout",
          "output_type": "stream",
          "text": [
            "Moviepy - Done !\n",
            "Moviepy - video ready /content/resized_ASL_videos/007-what.mp4\n",
            "Resized 007-what.mp4 and saved to /content/resized_ASL_videos/007-what.mp4\n",
            "Moviepy - Building video /content/resized_ASL_videos/036-how-much-1-hand-version.mp4.\n",
            "MoviePy - Writing audio in 036-how-much-1-hand-versionTEMP_MPY_wvf_snd.mp4\n"
          ]
        },
        {
          "name": "stderr",
          "output_type": "stream",
          "text": []
        },
        {
          "name": "stdout",
          "output_type": "stream",
          "text": [
            "MoviePy - Done.\n",
            "Moviepy - Writing video /content/resized_ASL_videos/036-how-much-1-hand-version.mp4\n",
            "\n"
          ]
        },
        {
          "name": "stderr",
          "output_type": "stream",
          "text": [
            "t:  96%|█████████▌| 71/74 [00:01<00:00, 33.30it/s, now=None]WARNING:py.warnings:/usr/local/lib/python3.10/dist-packages/moviepy/video/io/ffmpeg_reader.py:123: UserWarning: Warning: in file /content/ASL_VIDEOS/036-how-much-1-hand-version.mp4, 6220800 bytes wanted but 0 bytes read,at frame 73/74, at time 2.44/2.46 sec. Using the last valid frame instead.\n",
            "  warnings.warn(\"Warning: in file %s, \"%(self.filename)+\n",
            "\n"
          ]
        },
        {
          "name": "stdout",
          "output_type": "stream",
          "text": [
            "Moviepy - Done !\n",
            "Moviepy - video ready /content/resized_ASL_videos/036-how-much-1-hand-version.mp4\n",
            "Resized 036-how-much-1-hand-version.mp4 and saved to /content/resized_ASL_videos/036-how-much-1-hand-version.mp4\n",
            "Moviepy - Building video /content/resized_ASL_videos/101-change_in_asl.mp4.\n",
            "MoviePy - Writing audio in 101-change_in_aslTEMP_MPY_wvf_snd.mp4\n"
          ]
        },
        {
          "name": "stderr",
          "output_type": "stream",
          "text": []
        },
        {
          "name": "stdout",
          "output_type": "stream",
          "text": [
            "MoviePy - Done.\n",
            "Moviepy - Writing video /content/resized_ASL_videos/101-change_in_asl.mp4\n",
            "\n"
          ]
        },
        {
          "name": "stderr",
          "output_type": "stream",
          "text": [
            "t: 100%|█████████▉| 307/308 [00:33<00:00,  7.60it/s, now=None]WARNING:py.warnings:/usr/local/lib/python3.10/dist-packages/moviepy/video/io/ffmpeg_reader.py:123: UserWarning: Warning: in file /content/ASL_VIDEOS/101-change_in_asl.mp4, 24883200 bytes wanted but 0 bytes read,at frame 306/308, at time 5.10/5.12 sec. Using the last valid frame instead.\n",
            "  warnings.warn(\"Warning: in file %s, \"%(self.filename)+\n",
            "\n",
            "WARNING:py.warnings:/usr/local/lib/python3.10/dist-packages/moviepy/video/io/ffmpeg_reader.py:123: UserWarning: Warning: in file /content/ASL_VIDEOS/101-change_in_asl.mp4, 24883200 bytes wanted but 0 bytes read,at frame 307/308, at time 5.12/5.12 sec. Using the last valid frame instead.\n",
            "  warnings.warn(\"Warning: in file %s, \"%(self.filename)+\n",
            "\n"
          ]
        },
        {
          "name": "stdout",
          "output_type": "stream",
          "text": [
            "Moviepy - Done !\n",
            "Moviepy - video ready /content/resized_ASL_videos/101-change_in_asl.mp4\n",
            "Resized 101-change_in_asl.mp4 and saved to /content/resized_ASL_videos/101-change_in_asl.mp4\n",
            "Moviepy - Building video /content/resized_ASL_videos/124-explain_in_asl.mp4.\n",
            "MoviePy - Writing audio in 124-explain_in_aslTEMP_MPY_wvf_snd.mp4\n"
          ]
        },
        {
          "name": "stderr",
          "output_type": "stream",
          "text": []
        },
        {
          "name": "stdout",
          "output_type": "stream",
          "text": [
            "MoviePy - Done.\n",
            "Moviepy - Writing video /content/resized_ASL_videos/124-explain_in_asl.mp4\n",
            "\n"
          ]
        },
        {
          "name": "stderr",
          "output_type": "stream",
          "text": [
            "t: 100%|██████████| 282/282 [00:30<00:00,  7.56it/s, now=None]WARNING:py.warnings:/usr/local/lib/python3.10/dist-packages/moviepy/video/io/ffmpeg_reader.py:123: UserWarning: Warning: in file /content/ASL_VIDEOS/124-explain_in_asl.mp4, 24883200 bytes wanted but 0 bytes read,at frame 281/283, at time 4.68/4.70 sec. Using the last valid frame instead.\n",
            "  warnings.warn(\"Warning: in file %s, \"%(self.filename)+\n",
            "\n"
          ]
        },
        {
          "name": "stdout",
          "output_type": "stream",
          "text": [
            "Moviepy - Done !\n",
            "Moviepy - video ready /content/resized_ASL_videos/124-explain_in_asl.mp4\n",
            "Resized 124-explain_in_asl.mp4 and saved to /content/resized_ASL_videos/124-explain_in_asl.mp4\n",
            "Moviepy - Building video /content/resized_ASL_videos/057-scissors_can_you-lend-me.mp4.\n",
            "MoviePy - Writing audio in 057-scissors_can_you-lend-meTEMP_MPY_wvf_snd.mp4\n"
          ]
        },
        {
          "name": "stderr",
          "output_type": "stream",
          "text": []
        },
        {
          "name": "stdout",
          "output_type": "stream",
          "text": [
            "MoviePy - Done.\n",
            "Moviepy - Writing video /content/resized_ASL_videos/057-scissors_can_you-lend-me.mp4\n",
            "\n"
          ]
        },
        {
          "name": "stderr",
          "output_type": "stream",
          "text": [
            "t:  97%|█████████▋| 115/119 [00:03<00:00, 30.33it/s, now=None]WARNING:py.warnings:/usr/local/lib/python3.10/dist-packages/moviepy/video/io/ffmpeg_reader.py:123: UserWarning: Warning: in file /content/ASL_VIDEOS/057-scissors_can_you-lend-me.mp4, 6220800 bytes wanted but 0 bytes read,at frame 117/119, at time 3.90/3.94 sec. Using the last valid frame instead.\n",
            "  warnings.warn(\"Warning: in file %s, \"%(self.filename)+\n",
            "\n",
            "t: 100%|██████████| 119/119 [00:03<00:00, 31.98it/s, now=None]WARNING:py.warnings:/usr/local/lib/python3.10/dist-packages/moviepy/video/io/ffmpeg_reader.py:123: UserWarning: Warning: in file /content/ASL_VIDEOS/057-scissors_can_you-lend-me.mp4, 6220800 bytes wanted but 0 bytes read,at frame 118/119, at time 3.94/3.94 sec. Using the last valid frame instead.\n",
            "  warnings.warn(\"Warning: in file %s, \"%(self.filename)+\n",
            "\n"
          ]
        },
        {
          "name": "stdout",
          "output_type": "stream",
          "text": [
            "Moviepy - Done !\n",
            "Moviepy - video ready /content/resized_ASL_videos/057-scissors_can_you-lend-me.mp4\n",
            "Resized 057-scissors_can_you-lend-me.mp4 and saved to /content/resized_ASL_videos/057-scissors_can_you-lend-me.mp4\n",
            "Moviepy - Building video /content/resized_ASL_videos/145-trust_in_asl.mp4.\n",
            "MoviePy - Writing audio in 145-trust_in_aslTEMP_MPY_wvf_snd.mp4\n"
          ]
        },
        {
          "name": "stderr",
          "output_type": "stream",
          "text": []
        },
        {
          "name": "stdout",
          "output_type": "stream",
          "text": [
            "MoviePy - Done.\n",
            "Moviepy - Writing video /content/resized_ASL_videos/145-trust_in_asl.mp4\n",
            "\n"
          ]
        },
        {
          "name": "stderr",
          "output_type": "stream",
          "text": [
            "t: 100%|██████████| 360/360 [00:38<00:00,  7.93it/s, now=None]WARNING:py.warnings:/usr/local/lib/python3.10/dist-packages/moviepy/video/io/ffmpeg_reader.py:123: UserWarning: Warning: in file /content/ASL_VIDEOS/145-trust_in_asl.mp4, 24883200 bytes wanted but 0 bytes read,at frame 359/361, at time 5.98/6.00 sec. Using the last valid frame instead.\n",
            "  warnings.warn(\"Warning: in file %s, \"%(self.filename)+\n",
            "\n"
          ]
        },
        {
          "name": "stdout",
          "output_type": "stream",
          "text": [
            "Moviepy - Done !\n",
            "Moviepy - video ready /content/resized_ASL_videos/145-trust_in_asl.mp4\n",
            "Resized 145-trust_in_asl.mp4 and saved to /content/resized_ASL_videos/145-trust_in_asl.mp4\n",
            "Moviepy - Building video /content/resized_ASL_videos/112-holiday_in_asl.mp4.\n",
            "MoviePy - Writing audio in 112-holiday_in_aslTEMP_MPY_wvf_snd.mp4\n"
          ]
        },
        {
          "name": "stderr",
          "output_type": "stream",
          "text": []
        },
        {
          "name": "stdout",
          "output_type": "stream",
          "text": [
            "MoviePy - Done.\n",
            "Moviepy - Writing video /content/resized_ASL_videos/112-holiday_in_asl.mp4\n",
            "\n"
          ]
        },
        {
          "name": "stderr",
          "output_type": "stream",
          "text": [
            "t: 100%|██████████| 379/379 [00:40<00:00, 11.68it/s, now=None]WARNING:py.warnings:/usr/local/lib/python3.10/dist-packages/moviepy/video/io/ffmpeg_reader.py:123: UserWarning: Warning: in file /content/ASL_VIDEOS/112-holiday_in_asl.mp4, 24883200 bytes wanted but 0 bytes read,at frame 378/379, at time 6.30/6.31 sec. Using the last valid frame instead.\n",
            "  warnings.warn(\"Warning: in file %s, \"%(self.filename)+\n",
            "\n"
          ]
        },
        {
          "name": "stdout",
          "output_type": "stream",
          "text": [
            "Moviepy - Done !\n",
            "Moviepy - video ready /content/resized_ASL_videos/112-holiday_in_asl.mp4\n",
            "Resized 112-holiday_in_asl.mp4 and saved to /content/resized_ASL_videos/112-holiday_in_asl.mp4\n",
            "Moviepy - Building video /content/resized_ASL_videos/047-your_resume_how_many_page.mp4.\n",
            "MoviePy - Writing audio in 047-your_resume_how_many_pageTEMP_MPY_wvf_snd.mp4\n"
          ]
        },
        {
          "name": "stderr",
          "output_type": "stream",
          "text": []
        },
        {
          "name": "stdout",
          "output_type": "stream",
          "text": [
            "MoviePy - Done.\n",
            "Moviepy - Writing video /content/resized_ASL_videos/047-your_resume_how_many_page.mp4\n",
            "\n"
          ]
        },
        {
          "name": "stderr",
          "output_type": "stream",
          "text": [
            "t:  98%|█████████▊| 127/130 [00:05<00:00, 29.31it/s, now=None]WARNING:py.warnings:/usr/local/lib/python3.10/dist-packages/moviepy/video/io/ffmpeg_reader.py:123: UserWarning: Warning: in file /content/ASL_VIDEOS/047-your_resume_how_many_page.mp4, 6220800 bytes wanted but 0 bytes read,at frame 129/130, at time 4.30/4.31 sec. Using the last valid frame instead.\n",
            "  warnings.warn(\"Warning: in file %s, \"%(self.filename)+\n",
            "\n"
          ]
        },
        {
          "name": "stdout",
          "output_type": "stream",
          "text": [
            "Moviepy - Done !\n",
            "Moviepy - video ready /content/resized_ASL_videos/047-your_resume_how_many_page.mp4\n",
            "Resized 047-your_resume_how_many_page.mp4 and saved to /content/resized_ASL_videos/047-your_resume_how_many_page.mp4\n",
            "Moviepy - Building video /content/resized_ASL_videos/060-movie_star_your_favorite_who.mp4.\n",
            "MoviePy - Writing audio in 060-movie_star_your_favorite_whoTEMP_MPY_wvf_snd.mp4\n"
          ]
        },
        {
          "name": "stderr",
          "output_type": "stream",
          "text": []
        },
        {
          "name": "stdout",
          "output_type": "stream",
          "text": [
            "MoviePy - Done.\n",
            "Moviepy - Writing video /content/resized_ASL_videos/060-movie_star_your_favorite_who.mp4\n",
            "\n"
          ]
        },
        {
          "name": "stderr",
          "output_type": "stream",
          "text": [
            "t:  99%|█████████▉| 147/148 [00:04<00:00, 31.24it/s, now=None]WARNING:py.warnings:/usr/local/lib/python3.10/dist-packages/moviepy/video/io/ffmpeg_reader.py:123: UserWarning: Warning: in file /content/ASL_VIDEOS/060-movie_star_your_favorite_who.mp4, 6220800 bytes wanted but 0 bytes read,at frame 146/148, at time 4.87/4.92 sec. Using the last valid frame instead.\n",
            "  warnings.warn(\"Warning: in file %s, \"%(self.filename)+\n",
            "\n",
            "WARNING:py.warnings:/usr/local/lib/python3.10/dist-packages/moviepy/video/io/ffmpeg_reader.py:123: UserWarning: Warning: in file /content/ASL_VIDEOS/060-movie_star_your_favorite_who.mp4, 6220800 bytes wanted but 0 bytes read,at frame 147/148, at time 4.90/4.92 sec. Using the last valid frame instead.\n",
            "  warnings.warn(\"Warning: in file %s, \"%(self.filename)+\n",
            "\n"
          ]
        },
        {
          "name": "stdout",
          "output_type": "stream",
          "text": [
            "Moviepy - Done !\n",
            "Moviepy - video ready /content/resized_ASL_videos/060-movie_star_your_favorite_who.mp4\n",
            "Resized 060-movie_star_your_favorite_who.mp4 and saved to /content/resized_ASL_videos/060-movie_star_your_favorite_who.mp4\n",
            "Moviepy - Building video /content/resized_ASL_videos/078-wake-up.mp4.\n",
            "MoviePy - Writing audio in 078-wake-upTEMP_MPY_wvf_snd.mp4\n"
          ]
        },
        {
          "name": "stderr",
          "output_type": "stream",
          "text": []
        },
        {
          "name": "stdout",
          "output_type": "stream",
          "text": [
            "MoviePy - Done.\n",
            "Moviepy - Writing video /content/resized_ASL_videos/078-wake-up.mp4\n",
            "\n"
          ]
        },
        {
          "name": "stderr",
          "output_type": "stream",
          "text": [
            "t:  93%|█████████▎| 77/83 [00:01<00:00, 35.65it/s, now=None]WARNING:py.warnings:/usr/local/lib/python3.10/dist-packages/moviepy/video/io/ffmpeg_reader.py:123: UserWarning: Warning: in file /content/ASL_VIDEOS/078-wake-up.mp4, 6220800 bytes wanted but 0 bytes read,at frame 79/83, at time 2.64/2.74 sec. Using the last valid frame instead.\n",
            "  warnings.warn(\"Warning: in file %s, \"%(self.filename)+\n",
            "\n",
            "WARNING:py.warnings:/usr/local/lib/python3.10/dist-packages/moviepy/video/io/ffmpeg_reader.py:123: UserWarning: Warning: in file /content/ASL_VIDEOS/078-wake-up.mp4, 6220800 bytes wanted but 0 bytes read,at frame 80/83, at time 2.67/2.74 sec. Using the last valid frame instead.\n",
            "  warnings.warn(\"Warning: in file %s, \"%(self.filename)+\n",
            "\n",
            "t:  99%|█████████▉| 82/83 [00:02<00:00, 39.17it/s, now=None]WARNING:py.warnings:/usr/local/lib/python3.10/dist-packages/moviepy/video/io/ffmpeg_reader.py:123: UserWarning: Warning: in file /content/ASL_VIDEOS/078-wake-up.mp4, 6220800 bytes wanted but 0 bytes read,at frame 81/83, at time 2.70/2.74 sec. Using the last valid frame instead.\n",
            "  warnings.warn(\"Warning: in file %s, \"%(self.filename)+\n",
            "\n",
            "WARNING:py.warnings:/usr/local/lib/python3.10/dist-packages/moviepy/video/io/ffmpeg_reader.py:123: UserWarning: Warning: in file /content/ASL_VIDEOS/078-wake-up.mp4, 6220800 bytes wanted but 0 bytes read,at frame 82/83, at time 2.74/2.74 sec. Using the last valid frame instead.\n",
            "  warnings.warn(\"Warning: in file %s, \"%(self.filename)+\n",
            "\n"
          ]
        },
        {
          "name": "stdout",
          "output_type": "stream",
          "text": [
            "Moviepy - Done !\n",
            "Moviepy - video ready /content/resized_ASL_videos/078-wake-up.mp4\n",
            "Resized 078-wake-up.mp4 and saved to /content/resized_ASL_videos/078-wake-up.mp4\n",
            "Moviepy - Building video /content/resized_ASL_videos/026-call-by-phone_called_call-you_hearing_version.mp4.\n",
            "MoviePy - Writing audio in 026-call-by-phone_called_call-you_hearing_versionTEMP_MPY_wvf_snd.mp4\n"
          ]
        },
        {
          "name": "stderr",
          "output_type": "stream",
          "text": [
            "                                                       "
          ]
        },
        {
          "name": "stdout",
          "output_type": "stream",
          "text": [
            "MoviePy - Done.\n",
            "Moviepy - Writing video /content/resized_ASL_videos/026-call-by-phone_called_call-you_hearing_version.mp4\n",
            "\n"
          ]
        },
        {
          "name": "stderr",
          "output_type": "stream",
          "text": [
            "t:  98%|█████████▊| 65/66 [00:02<00:00, 26.16it/s, now=None]WARNING:py.warnings:/usr/local/lib/python3.10/dist-packages/moviepy/video/io/ffmpeg_reader.py:123: UserWarning: Warning: in file /content/ASL_VIDEOS/026-call-by-phone_called_call-you_hearing_version.mp4, 6220800 bytes wanted but 0 bytes read,at frame 64/66, at time 2.14/2.17 sec. Using the last valid frame instead.\n",
            "  warnings.warn(\"Warning: in file %s, \"%(self.filename)+\n",
            "\n",
            "WARNING:py.warnings:/usr/local/lib/python3.10/dist-packages/moviepy/video/io/ffmpeg_reader.py:123: UserWarning: Warning: in file /content/ASL_VIDEOS/026-call-by-phone_called_call-you_hearing_version.mp4, 6220800 bytes wanted but 0 bytes read,at frame 65/66, at time 2.17/2.17 sec. Using the last valid frame instead.\n",
            "  warnings.warn(\"Warning: in file %s, \"%(self.filename)+\n",
            "\n"
          ]
        },
        {
          "name": "stdout",
          "output_type": "stream",
          "text": [
            "Moviepy - Done !\n",
            "Moviepy - video ready /content/resized_ASL_videos/026-call-by-phone_called_call-you_hearing_version.mp4\n",
            "Resized 026-call-by-phone_called_call-you_hearing_version.mp4 and saved to /content/resized_ASL_videos/026-call-by-phone_called_call-you_hearing_version.mp4\n",
            "Moviepy - Building video /content/resized_ASL_videos/050-dont_mind.mp4.\n",
            "MoviePy - Writing audio in 050-dont_mindTEMP_MPY_wvf_snd.mp4\n"
          ]
        },
        {
          "name": "stderr",
          "output_type": "stream",
          "text": []
        },
        {
          "name": "stdout",
          "output_type": "stream",
          "text": [
            "MoviePy - Done.\n",
            "Moviepy - Writing video /content/resized_ASL_videos/050-dont_mind.mp4\n",
            "\n"
          ]
        },
        {
          "name": "stderr",
          "output_type": "stream",
          "text": [
            "t:  95%|█████████▍| 72/76 [00:02<00:00, 33.18it/s, now=None]WARNING:py.warnings:/usr/local/lib/python3.10/dist-packages/moviepy/video/io/ffmpeg_reader.py:123: UserWarning: Warning: in file /content/ASL_VIDEOS/050-dont_mind.mp4, 6220800 bytes wanted but 0 bytes read,at frame 74/76, at time 2.47/2.53 sec. Using the last valid frame instead.\n",
            "  warnings.warn(\"Warning: in file %s, \"%(self.filename)+\n",
            "\n",
            "t: 100%|██████████| 76/76 [00:02<00:00, 34.60it/s, now=None]WARNING:py.warnings:/usr/local/lib/python3.10/dist-packages/moviepy/video/io/ffmpeg_reader.py:123: UserWarning: Warning: in file /content/ASL_VIDEOS/050-dont_mind.mp4, 6220800 bytes wanted but 0 bytes read,at frame 75/76, at time 2.50/2.53 sec. Using the last valid frame instead.\n",
            "  warnings.warn(\"Warning: in file %s, \"%(self.filename)+\n",
            "\n"
          ]
        },
        {
          "name": "stdout",
          "output_type": "stream",
          "text": [
            "Moviepy - Done !\n",
            "Moviepy - video ready /content/resized_ASL_videos/050-dont_mind.mp4\n",
            "Resized 050-dont_mind.mp4 and saved to /content/resized_ASL_videos/050-dont_mind.mp4\n",
            "Moviepy - Building video /content/resized_ASL_videos/104-bluetooth_in_asl.mp4.\n",
            "MoviePy - Writing audio in 104-bluetooth_in_aslTEMP_MPY_wvf_snd.mp4\n"
          ]
        },
        {
          "name": "stderr",
          "output_type": "stream",
          "text": []
        },
        {
          "name": "stdout",
          "output_type": "stream",
          "text": [
            "MoviePy - Done.\n",
            "Moviepy - Writing video /content/resized_ASL_videos/104-bluetooth_in_asl.mp4\n",
            "\n"
          ]
        },
        {
          "name": "stderr",
          "output_type": "stream",
          "text": [
            "t: 100%|██████████| 296/296 [00:38<00:00, 11.33it/s, now=None]WARNING:py.warnings:/usr/local/lib/python3.10/dist-packages/moviepy/video/io/ffmpeg_reader.py:123: UserWarning: Warning: in file /content/ASL_VIDEOS/104-bluetooth_in_asl.mp4, 24883200 bytes wanted but 0 bytes read,at frame 295/296, at time 4.92/4.93 sec. Using the last valid frame instead.\n",
            "  warnings.warn(\"Warning: in file %s, \"%(self.filename)+\n",
            "\n"
          ]
        },
        {
          "name": "stdout",
          "output_type": "stream",
          "text": [
            "Moviepy - Done !\n",
            "Moviepy - video ready /content/resized_ASL_videos/104-bluetooth_in_asl.mp4\n",
            "Resized 104-bluetooth_in_asl.mp4 and saved to /content/resized_ASL_videos/104-bluetooth_in_asl.mp4\n",
            "Moviepy - Building video /content/resized_ASL_videos/004-school.mp4.\n",
            "MoviePy - Writing audio in 004-schoolTEMP_MPY_wvf_snd.mp4\n"
          ]
        },
        {
          "name": "stderr",
          "output_type": "stream",
          "text": []
        },
        {
          "name": "stdout",
          "output_type": "stream",
          "text": [
            "MoviePy - Done.\n",
            "Moviepy - Writing video /content/resized_ASL_videos/004-school.mp4\n",
            "\n"
          ]
        },
        {
          "name": "stderr",
          "output_type": "stream",
          "text": [
            "t:  98%|█████████▊| 82/84 [00:03<00:00, 22.93it/s, now=None]WARNING:py.warnings:/usr/local/lib/python3.10/dist-packages/moviepy/video/io/ffmpeg_reader.py:123: UserWarning: Warning: in file /content/ASL_VIDEOS/004-school.mp4, 6220800 bytes wanted but 0 bytes read,at frame 83/84, at time 2.77/2.79 sec. Using the last valid frame instead.\n",
            "  warnings.warn(\"Warning: in file %s, \"%(self.filename)+\n",
            "\n"
          ]
        },
        {
          "name": "stdout",
          "output_type": "stream",
          "text": [
            "Moviepy - Done !\n",
            "Moviepy - video ready /content/resized_ASL_videos/004-school.mp4\n",
            "Resized 004-school.mp4 and saved to /content/resized_ASL_videos/004-school.mp4\n",
            "Moviepy - Building video /content/resized_ASL_videos/072-dad.mp4.\n",
            "MoviePy - Writing audio in 072-dadTEMP_MPY_wvf_snd.mp4\n"
          ]
        },
        {
          "name": "stderr",
          "output_type": "stream",
          "text": []
        },
        {
          "name": "stdout",
          "output_type": "stream",
          "text": [
            "MoviePy - Done.\n",
            "Moviepy - Writing video /content/resized_ASL_videos/072-dad.mp4\n",
            "\n"
          ]
        },
        {
          "name": "stderr",
          "output_type": "stream",
          "text": [
            "t: 100%|██████████| 76/76 [00:02<00:00, 34.30it/s, now=None]WARNING:py.warnings:/usr/local/lib/python3.10/dist-packages/moviepy/video/io/ffmpeg_reader.py:123: UserWarning: Warning: in file /content/ASL_VIDEOS/072-dad.mp4, 6220800 bytes wanted but 0 bytes read,at frame 75/76, at time 2.50/2.53 sec. Using the last valid frame instead.\n",
            "  warnings.warn(\"Warning: in file %s, \"%(self.filename)+\n",
            "\n"
          ]
        },
        {
          "name": "stdout",
          "output_type": "stream",
          "text": [
            "Moviepy - Done !\n",
            "Moviepy - video ready /content/resized_ASL_videos/072-dad.mp4\n",
            "Resized 072-dad.mp4 and saved to /content/resized_ASL_videos/072-dad.mp4\n",
            "Moviepy - Building video /content/resized_ASL_videos/003-thank-you.mp4.\n",
            "MoviePy - Writing audio in 003-thank-youTEMP_MPY_wvf_snd.mp4\n"
          ]
        },
        {
          "name": "stderr",
          "output_type": "stream",
          "text": []
        },
        {
          "name": "stdout",
          "output_type": "stream",
          "text": [
            "MoviePy - Done.\n",
            "Moviepy - Writing video /content/resized_ASL_videos/003-thank-you.mp4\n",
            "\n"
          ]
        },
        {
          "name": "stderr",
          "output_type": "stream",
          "text": [
            "t:  97%|█████████▋| 56/58 [00:01<00:00, 38.59it/s, now=None]WARNING:py.warnings:/usr/local/lib/python3.10/dist-packages/moviepy/video/io/ffmpeg_reader.py:123: UserWarning: Warning: in file /content/ASL_VIDEOS/003-thank-you.mp4, 6220800 bytes wanted but 0 bytes read,at frame 57/58, at time 1.90/1.91 sec. Using the last valid frame instead.\n",
            "  warnings.warn(\"Warning: in file %s, \"%(self.filename)+\n",
            "\n"
          ]
        },
        {
          "name": "stdout",
          "output_type": "stream",
          "text": [
            "Moviepy - Done !\n",
            "Moviepy - video ready /content/resized_ASL_videos/003-thank-you.mp4\n",
            "Resized 003-thank-you.mp4 and saved to /content/resized_ASL_videos/003-thank-you.mp4\n",
            "Moviepy - Building video /content/resized_ASL_videos/091-morning-all_all-morning.mp4.\n",
            "MoviePy - Writing audio in 091-morning-all_all-morningTEMP_MPY_wvf_snd.mp4\n"
          ]
        },
        {
          "name": "stderr",
          "output_type": "stream",
          "text": []
        },
        {
          "name": "stdout",
          "output_type": "stream",
          "text": [
            "MoviePy - Done.\n",
            "Moviepy - Writing video /content/resized_ASL_videos/091-morning-all_all-morning.mp4\n",
            "\n"
          ]
        },
        {
          "name": "stderr",
          "output_type": "stream",
          "text": [
            "t:  94%|█████████▍| 64/68 [00:01<00:00, 36.09it/s, now=None]WARNING:py.warnings:/usr/local/lib/python3.10/dist-packages/moviepy/video/io/ffmpeg_reader.py:123: UserWarning: Warning: in file /content/ASL_VIDEOS/091-morning-all_all-morning.mp4, 6220800 bytes wanted but 0 bytes read,at frame 66/68, at time 2.20/2.24 sec. Using the last valid frame instead.\n",
            "  warnings.warn(\"Warning: in file %s, \"%(self.filename)+\n",
            "\n",
            "WARNING:py.warnings:/usr/local/lib/python3.10/dist-packages/moviepy/video/io/ffmpeg_reader.py:123: UserWarning: Warning: in file /content/ASL_VIDEOS/091-morning-all_all-morning.mp4, 6220800 bytes wanted but 0 bytes read,at frame 67/68, at time 2.24/2.24 sec. Using the last valid frame instead.\n",
            "  warnings.warn(\"Warning: in file %s, \"%(self.filename)+\n",
            "\n"
          ]
        },
        {
          "name": "stdout",
          "output_type": "stream",
          "text": [
            "Moviepy - Done !\n",
            "Moviepy - video ready /content/resized_ASL_videos/091-morning-all_all-morning.mp4\n",
            "Resized 091-morning-all_all-morning.mp4 and saved to /content/resized_ASL_videos/091-morning-all_all-morning.mp4\n",
            "Moviepy - Building video /content/resized_ASL_videos/071-girlfriend.mp4.\n",
            "MoviePy - Writing audio in 071-girlfriendTEMP_MPY_wvf_snd.mp4\n"
          ]
        },
        {
          "name": "stderr",
          "output_type": "stream",
          "text": []
        },
        {
          "name": "stdout",
          "output_type": "stream",
          "text": [
            "MoviePy - Done.\n",
            "Moviepy - Writing video /content/resized_ASL_videos/071-girlfriend.mp4\n",
            "\n"
          ]
        },
        {
          "name": "stderr",
          "output_type": "stream",
          "text": [
            "t:  98%|█████████▊| 83/85 [00:02<00:00, 33.66it/s, now=None]WARNING:py.warnings:/usr/local/lib/python3.10/dist-packages/moviepy/video/io/ffmpeg_reader.py:123: UserWarning: Warning: in file /content/ASL_VIDEOS/071-girlfriend.mp4, 6220800 bytes wanted but 0 bytes read,at frame 84/85, at time 2.80/2.83 sec. Using the last valid frame instead.\n",
            "  warnings.warn(\"Warning: in file %s, \"%(self.filename)+\n",
            "\n"
          ]
        },
        {
          "name": "stdout",
          "output_type": "stream",
          "text": [
            "Moviepy - Done !\n",
            "Moviepy - video ready /content/resized_ASL_videos/071-girlfriend.mp4\n",
            "Resized 071-girlfriend.mp4 and saved to /content/resized_ASL_videos/071-girlfriend.mp4\n",
            "Moviepy - Building video /content/resized_ASL_videos/029-college_you_graduate_when.mp4.\n",
            "MoviePy - Writing audio in 029-college_you_graduate_whenTEMP_MPY_wvf_snd.mp4\n"
          ]
        },
        {
          "name": "stderr",
          "output_type": "stream",
          "text": []
        },
        {
          "name": "stdout",
          "output_type": "stream",
          "text": [
            "MoviePy - Done.\n",
            "Moviepy - Writing video /content/resized_ASL_videos/029-college_you_graduate_when.mp4\n",
            "\n"
          ]
        },
        {
          "name": "stderr",
          "output_type": "stream",
          "text": [
            "t:  99%|█████████▉| 171/173 [00:06<00:00, 35.21it/s, now=None]WARNING:py.warnings:/usr/local/lib/python3.10/dist-packages/moviepy/video/io/ffmpeg_reader.py:123: UserWarning: Warning: in file /content/ASL_VIDEOS/029-college_you_graduate_when.mp4, 6220800 bytes wanted but 0 bytes read,at frame 172/173, at time 5.74/5.75 sec. Using the last valid frame instead.\n",
            "  warnings.warn(\"Warning: in file %s, \"%(self.filename)+\n",
            "\n"
          ]
        },
        {
          "name": "stdout",
          "output_type": "stream",
          "text": [
            "Moviepy - Done !\n",
            "Moviepy - video ready /content/resized_ASL_videos/029-college_you_graduate_when.mp4\n",
            "Resized 029-college_you_graduate_when.mp4 and saved to /content/resized_ASL_videos/029-college_you_graduate_when.mp4\n",
            "Moviepy - Building video /content/resized_ASL_videos/094-hello_in_asl.mp4.\n",
            "MoviePy - Writing audio in 094-hello_in_aslTEMP_MPY_wvf_snd.mp4\n"
          ]
        },
        {
          "name": "stderr",
          "output_type": "stream",
          "text": []
        },
        {
          "name": "stdout",
          "output_type": "stream",
          "text": [
            "MoviePy - Done.\n",
            "Moviepy - Writing video /content/resized_ASL_videos/094-hello_in_asl.mp4\n",
            "\n"
          ]
        },
        {
          "name": "stderr",
          "output_type": "stream",
          "text": [
            "t:  99%|█████████▉| 297/299 [00:32<00:00, 11.60it/s, now=None]WARNING:py.warnings:/usr/local/lib/python3.10/dist-packages/moviepy/video/io/ffmpeg_reader.py:123: UserWarning: Warning: in file /content/ASL_VIDEOS/094-hello_in_asl.mp4, 24883200 bytes wanted but 0 bytes read,at frame 297/299, at time 4.95/4.97 sec. Using the last valid frame instead.\n",
            "  warnings.warn(\"Warning: in file %s, \"%(self.filename)+\n",
            "\n",
            "t: 100%|██████████| 299/299 [00:32<00:00, 12.65it/s, now=None]WARNING:py.warnings:/usr/local/lib/python3.10/dist-packages/moviepy/video/io/ffmpeg_reader.py:123: UserWarning: Warning: in file /content/ASL_VIDEOS/094-hello_in_asl.mp4, 24883200 bytes wanted but 0 bytes read,at frame 298/299, at time 4.97/4.97 sec. Using the last valid frame instead.\n",
            "  warnings.warn(\"Warning: in file %s, \"%(self.filename)+\n",
            "\n"
          ]
        },
        {
          "name": "stdout",
          "output_type": "stream",
          "text": [
            "Moviepy - Done !\n",
            "Moviepy - video ready /content/resized_ASL_videos/094-hello_in_asl.mp4\n",
            "Resized 094-hello_in_asl.mp4 and saved to /content/resized_ASL_videos/094-hello_in_asl.mp4\n",
            "Moviepy - Building video /content/resized_ASL_videos/114-i_me_in_asl.mp4.\n",
            "MoviePy - Writing audio in 114-i_me_in_aslTEMP_MPY_wvf_snd.mp4\n"
          ]
        },
        {
          "name": "stderr",
          "output_type": "stream",
          "text": []
        },
        {
          "name": "stdout",
          "output_type": "stream",
          "text": [
            "MoviePy - Done.\n",
            "Moviepy - Writing video /content/resized_ASL_videos/114-i_me_in_asl.mp4\n",
            "\n"
          ]
        },
        {
          "name": "stderr",
          "output_type": "stream",
          "text": [
            "t: 100%|█████████▉| 407/408 [00:44<00:00, 11.21it/s, now=None]WARNING:py.warnings:/usr/local/lib/python3.10/dist-packages/moviepy/video/io/ffmpeg_reader.py:123: UserWarning: Warning: in file /content/ASL_VIDEOS/114-i_me_in_asl.mp4, 24883200 bytes wanted but 0 bytes read,at frame 407/409, at time 6.78/6.80 sec. Using the last valid frame instead.\n",
            "  warnings.warn(\"Warning: in file %s, \"%(self.filename)+\n",
            "\n"
          ]
        },
        {
          "name": "stdout",
          "output_type": "stream",
          "text": [
            "Moviepy - Done !\n",
            "Moviepy - video ready /content/resized_ASL_videos/114-i_me_in_asl.mp4\n",
            "Resized 114-i_me_in_asl.mp4 and saved to /content/resized_ASL_videos/114-i_me_in_asl.mp4\n",
            "Moviepy - Building video /content/resized_ASL_videos/127-dont_know_in_asl.mp4.\n",
            "MoviePy - Writing audio in 127-dont_know_in_aslTEMP_MPY_wvf_snd.mp4\n"
          ]
        },
        {
          "name": "stderr",
          "output_type": "stream",
          "text": []
        },
        {
          "name": "stdout",
          "output_type": "stream",
          "text": [
            "MoviePy - Done.\n",
            "Moviepy - Writing video /content/resized_ASL_videos/127-dont_know_in_asl.mp4\n",
            "\n"
          ]
        },
        {
          "name": "stderr",
          "output_type": "stream",
          "text": [
            "t: 100%|██████████| 347/347 [00:39<00:00, 10.79it/s, now=None]WARNING:py.warnings:/usr/local/lib/python3.10/dist-packages/moviepy/video/io/ffmpeg_reader.py:123: UserWarning: Warning: in file /content/ASL_VIDEOS/127-dont_know_in_asl.mp4, 24883200 bytes wanted but 0 bytes read,at frame 346/347, at time 5.77/5.78 sec. Using the last valid frame instead.\n",
            "  warnings.warn(\"Warning: in file %s, \"%(self.filename)+\n",
            "\n"
          ]
        },
        {
          "name": "stdout",
          "output_type": "stream",
          "text": [
            "Moviepy - Done !\n",
            "Moviepy - video ready /content/resized_ASL_videos/127-dont_know_in_asl.mp4\n",
            "Resized 127-dont_know_in_asl.mp4 and saved to /content/resized_ASL_videos/127-dont_know_in_asl.mp4\n",
            "Moviepy - Building video /content/resized_ASL_videos/097-youre_welcome_in_asl.mp4.\n",
            "MoviePy - Writing audio in 097-youre_welcome_in_aslTEMP_MPY_wvf_snd.mp4\n"
          ]
        },
        {
          "name": "stderr",
          "output_type": "stream",
          "text": []
        },
        {
          "name": "stdout",
          "output_type": "stream",
          "text": [
            "MoviePy - Done.\n",
            "Moviepy - Writing video /content/resized_ASL_videos/097-youre_welcome_in_asl.mp4\n",
            "\n"
          ]
        },
        {
          "name": "stderr",
          "output_type": "stream",
          "text": [
            "t: 100%|█████████▉| 400/401 [00:43<00:00,  7.75it/s, now=None]WARNING:py.warnings:/usr/local/lib/python3.10/dist-packages/moviepy/video/io/ffmpeg_reader.py:123: UserWarning: Warning: in file /content/ASL_VIDEOS/097-youre_welcome_in_asl.mp4, 24883200 bytes wanted but 0 bytes read,at frame 399/401, at time 6.65/6.67 sec. Using the last valid frame instead.\n",
            "  warnings.warn(\"Warning: in file %s, \"%(self.filename)+\n",
            "\n",
            "WARNING:py.warnings:/usr/local/lib/python3.10/dist-packages/moviepy/video/io/ffmpeg_reader.py:123: UserWarning: Warning: in file /content/ASL_VIDEOS/097-youre_welcome_in_asl.mp4, 24883200 bytes wanted but 0 bytes read,at frame 400/401, at time 6.67/6.67 sec. Using the last valid frame instead.\n",
            "  warnings.warn(\"Warning: in file %s, \"%(self.filename)+\n",
            "\n"
          ]
        },
        {
          "name": "stdout",
          "output_type": "stream",
          "text": [
            "Moviepy - Done !\n",
            "Moviepy - video ready /content/resized_ASL_videos/097-youre_welcome_in_asl.mp4\n",
            "Resized 097-youre_welcome_in_asl.mp4 and saved to /content/resized_ASL_videos/097-youre_welcome_in_asl.mp4\n",
            "Moviepy - Building video /content/resized_ASL_videos/068-wish-desire.mp4.\n",
            "MoviePy - Writing audio in 068-wish-desireTEMP_MPY_wvf_snd.mp4\n"
          ]
        },
        {
          "name": "stderr",
          "output_type": "stream",
          "text": []
        },
        {
          "name": "stdout",
          "output_type": "stream",
          "text": [
            "MoviePy - Done.\n",
            "Moviepy - Writing video /content/resized_ASL_videos/068-wish-desire.mp4\n",
            "\n"
          ]
        },
        {
          "name": "stderr",
          "output_type": "stream",
          "text": [
            "t:  98%|█████████▊| 44/45 [00:01<00:00, 43.51it/s, now=None]WARNING:py.warnings:/usr/local/lib/python3.10/dist-packages/moviepy/video/io/ffmpeg_reader.py:123: UserWarning: Warning: in file /content/ASL_VIDEOS/068-wish-desire.mp4, 6220800 bytes wanted but 0 bytes read,at frame 44/46, at time 1.76/1.80 sec. Using the last valid frame instead.\n",
            "  warnings.warn(\"Warning: in file %s, \"%(self.filename)+\n",
            "\n"
          ]
        },
        {
          "name": "stdout",
          "output_type": "stream",
          "text": [
            "Moviepy - Done !\n",
            "Moviepy - video ready /content/resized_ASL_videos/068-wish-desire.mp4\n",
            "Resized 068-wish-desire.mp4 and saved to /content/resized_ASL_videos/068-wish-desire.mp4\n",
            "Moviepy - Building video /content/resized_ASL_videos/109-idiom_fall_head_over_heels_in_love_in_asl.mp4.\n",
            "MoviePy - Writing audio in 109-idiom_fall_head_over_heels_in_love_in_aslTEMP_MPY_wvf_snd.mp4\n"
          ]
        },
        {
          "name": "stderr",
          "output_type": "stream",
          "text": []
        },
        {
          "name": "stdout",
          "output_type": "stream",
          "text": [
            "MoviePy - Done.\n",
            "Moviepy - Writing video /content/resized_ASL_videos/109-idiom_fall_head_over_heels_in_love_in_asl.mp4\n",
            "\n"
          ]
        },
        {
          "name": "stderr",
          "output_type": "stream",
          "text": [
            "t: 100%|█████████▉| 424/425 [00:47<00:00, 11.55it/s, now=None]WARNING:py.warnings:/usr/local/lib/python3.10/dist-packages/moviepy/video/io/ffmpeg_reader.py:123: UserWarning: Warning: in file /content/ASL_VIDEOS/109-idiom_fall_head_over_heels_in_love_in_asl.mp4, 24883200 bytes wanted but 0 bytes read,at frame 424/425, at time 7.07/7.08 sec. Using the last valid frame instead.\n",
            "  warnings.warn(\"Warning: in file %s, \"%(self.filename)+\n",
            "\n"
          ]
        },
        {
          "name": "stdout",
          "output_type": "stream",
          "text": [
            "Moviepy - Done !\n",
            "Moviepy - video ready /content/resized_ASL_videos/109-idiom_fall_head_over_heels_in_love_in_asl.mp4\n",
            "Resized 109-idiom_fall_head_over_heels_in_love_in_asl.mp4 and saved to /content/resized_ASL_videos/109-idiom_fall_head_over_heels_in_love_in_asl.mp4\n",
            "Moviepy - Building video /content/resized_ASL_videos/052-your_last_name_how_spell.mp4.\n",
            "MoviePy - Writing audio in 052-your_last_name_how_spellTEMP_MPY_wvf_snd.mp4\n"
          ]
        },
        {
          "name": "stderr",
          "output_type": "stream",
          "text": []
        },
        {
          "name": "stdout",
          "output_type": "stream",
          "text": [
            "MoviePy - Done.\n",
            "Moviepy - Writing video /content/resized_ASL_videos/052-your_last_name_how_spell.mp4\n",
            "\n"
          ]
        },
        {
          "name": "stderr",
          "output_type": "stream",
          "text": [
            "t:  99%|█████████▉| 177/178 [00:05<00:00, 32.36it/s, now=None]WARNING:py.warnings:/usr/local/lib/python3.10/dist-packages/moviepy/video/io/ffmpeg_reader.py:123: UserWarning: Warning: in file /content/ASL_VIDEOS/052-your_last_name_how_spell.mp4, 6220800 bytes wanted but 0 bytes read,at frame 177/178, at time 5.90/5.92 sec. Using the last valid frame instead.\n",
            "  warnings.warn(\"Warning: in file %s, \"%(self.filename)+\n",
            "\n"
          ]
        },
        {
          "name": "stdout",
          "output_type": "stream",
          "text": [
            "Moviepy - Done !\n",
            "Moviepy - video ready /content/resized_ASL_videos/052-your_last_name_how_spell.mp4\n",
            "Resized 052-your_last_name_how_spell.mp4 and saved to /content/resized_ASL_videos/052-your_last_name_how_spell.mp4\n",
            "Moviepy - Building video /content/resized_ASL_videos/010-yeah_yes.mp4.\n",
            "MoviePy - Writing audio in 010-yeah_yesTEMP_MPY_wvf_snd.mp4\n"
          ]
        },
        {
          "name": "stderr",
          "output_type": "stream",
          "text": []
        },
        {
          "name": "stdout",
          "output_type": "stream",
          "text": [
            "MoviePy - Done.\n",
            "Moviepy - Writing video /content/resized_ASL_videos/010-yeah_yes.mp4\n",
            "\n"
          ]
        },
        {
          "name": "stderr",
          "output_type": "stream",
          "text": [
            "t:  90%|█████████ | 54/60 [00:00<00:00, 57.05it/s, now=None]WARNING:py.warnings:/usr/local/lib/python3.10/dist-packages/moviepy/video/io/ffmpeg_reader.py:123: UserWarning: Warning: in file /content/ASL_VIDEOS/010-yeah_yes.mp4, 1226880 bytes wanted but 0 bytes read,at frame 58/60, at time 1.94/1.97 sec. Using the last valid frame instead.\n",
            "  warnings.warn(\"Warning: in file %s, \"%(self.filename)+\n",
            "\n",
            "t: 100%|██████████| 60/60 [00:00<00:00, 57.79it/s, now=None]WARNING:py.warnings:/usr/local/lib/python3.10/dist-packages/moviepy/video/io/ffmpeg_reader.py:123: UserWarning: Warning: in file /content/ASL_VIDEOS/010-yeah_yes.mp4, 1226880 bytes wanted but 0 bytes read,at frame 59/60, at time 1.97/1.97 sec. Using the last valid frame instead.\n",
            "  warnings.warn(\"Warning: in file %s, \"%(self.filename)+\n",
            "\n"
          ]
        },
        {
          "name": "stdout",
          "output_type": "stream",
          "text": [
            "Moviepy - Done !\n",
            "Moviepy - video ready /content/resized_ASL_videos/010-yeah_yes.mp4\n",
            "Resized 010-yeah_yes.mp4 and saved to /content/resized_ASL_videos/010-yeah_yes.mp4\n",
            "Moviepy - Building video /content/resized_ASL_videos/143-walking_in_asl.mp4.\n",
            "MoviePy - Writing audio in 143-walking_in_aslTEMP_MPY_wvf_snd.mp4\n"
          ]
        },
        {
          "name": "stderr",
          "output_type": "stream",
          "text": []
        },
        {
          "name": "stdout",
          "output_type": "stream",
          "text": [
            "MoviePy - Done.\n",
            "Moviepy - Writing video /content/resized_ASL_videos/143-walking_in_asl.mp4\n",
            "\n"
          ]
        },
        {
          "name": "stderr",
          "output_type": "stream",
          "text": [
            "t: 100%|█████████▉| 483/485 [00:53<00:00, 10.97it/s, now=None]WARNING:py.warnings:/usr/local/lib/python3.10/dist-packages/moviepy/video/io/ffmpeg_reader.py:123: UserWarning: Warning: in file /content/ASL_VIDEOS/143-walking_in_asl.mp4, 24883200 bytes wanted but 0 bytes read,at frame 483/485, at time 8.05/8.07 sec. Using the last valid frame instead.\n",
            "  warnings.warn(\"Warning: in file %s, \"%(self.filename)+\n",
            "\n",
            "t: 100%|██████████| 485/485 [00:53<00:00, 12.02it/s, now=None]WARNING:py.warnings:/usr/local/lib/python3.10/dist-packages/moviepy/video/io/ffmpeg_reader.py:123: UserWarning: Warning: in file /content/ASL_VIDEOS/143-walking_in_asl.mp4, 24883200 bytes wanted but 0 bytes read,at frame 484/485, at time 8.07/8.07 sec. Using the last valid frame instead.\n",
            "  warnings.warn(\"Warning: in file %s, \"%(self.filename)+\n",
            "\n"
          ]
        },
        {
          "name": "stdout",
          "output_type": "stream",
          "text": [
            "Moviepy - Done !\n",
            "Moviepy - video ready /content/resized_ASL_videos/143-walking_in_asl.mp4\n",
            "Resized 143-walking_in_asl.mp4 and saved to /content/resized_ASL_videos/143-walking_in_asl.mp4\n",
            "Moviepy - Building video /content/resized_ASL_videos/146-up_until_now_in_asl.mp4.\n",
            "MoviePy - Writing audio in 146-up_until_now_in_aslTEMP_MPY_wvf_snd.mp4\n"
          ]
        },
        {
          "name": "stderr",
          "output_type": "stream",
          "text": []
        },
        {
          "name": "stdout",
          "output_type": "stream",
          "text": [
            "MoviePy - Done.\n",
            "Moviepy - Writing video /content/resized_ASL_videos/146-up_until_now_in_asl.mp4\n",
            "\n"
          ]
        },
        {
          "name": "stderr",
          "output_type": "stream",
          "text": [
            "t: 100%|█████████▉| 442/443 [00:49<00:00,  8.11it/s, now=None]WARNING:py.warnings:/usr/local/lib/python3.10/dist-packages/moviepy/video/io/ffmpeg_reader.py:123: UserWarning: Warning: in file /content/ASL_VIDEOS/146-up_until_now_in_asl.mp4, 24883200 bytes wanted but 0 bytes read,at frame 441/443, at time 7.35/7.37 sec. Using the last valid frame instead.\n",
            "  warnings.warn(\"Warning: in file %s, \"%(self.filename)+\n",
            "\n",
            "WARNING:py.warnings:/usr/local/lib/python3.10/dist-packages/moviepy/video/io/ffmpeg_reader.py:123: UserWarning: Warning: in file /content/ASL_VIDEOS/146-up_until_now_in_asl.mp4, 24883200 bytes wanted but 0 bytes read,at frame 442/443, at time 7.37/7.37 sec. Using the last valid frame instead.\n",
            "  warnings.warn(\"Warning: in file %s, \"%(self.filename)+\n",
            "\n"
          ]
        },
        {
          "name": "stdout",
          "output_type": "stream",
          "text": [
            "Moviepy - Done !\n",
            "Moviepy - video ready /content/resized_ASL_videos/146-up_until_now_in_asl.mp4\n",
            "Resized 146-up_until_now_in_asl.mp4 and saved to /content/resized_ASL_videos/146-up_until_now_in_asl.mp4\n",
            "Moviepy - Building video /content/resized_ASL_videos/022-do_what_what-do_what_to_do.mp4.\n",
            "MoviePy - Writing audio in 022-do_what_what-do_what_to_doTEMP_MPY_wvf_snd.mp4\n"
          ]
        },
        {
          "name": "stderr",
          "output_type": "stream",
          "text": []
        },
        {
          "name": "stdout",
          "output_type": "stream",
          "text": [
            "MoviePy - Done.\n",
            "Moviepy - Writing video /content/resized_ASL_videos/022-do_what_what-do_what_to_do.mp4\n",
            "\n"
          ]
        },
        {
          "name": "stderr",
          "output_type": "stream",
          "text": [
            "t: 100%|██████████| 76/76 [00:02<00:00, 31.48it/s, now=None]WARNING:py.warnings:/usr/local/lib/python3.10/dist-packages/moviepy/video/io/ffmpeg_reader.py:123: UserWarning: Warning: in file /content/ASL_VIDEOS/022-do_what_what-do_what_to_do.mp4, 6220800 bytes wanted but 0 bytes read,at frame 75/76, at time 2.50/2.52 sec. Using the last valid frame instead.\n",
            "  warnings.warn(\"Warning: in file %s, \"%(self.filename)+\n",
            "\n"
          ]
        },
        {
          "name": "stdout",
          "output_type": "stream",
          "text": [
            "Moviepy - Done !\n",
            "Moviepy - video ready /content/resized_ASL_videos/022-do_what_what-do_what_to_do.mp4\n",
            "Resized 022-do_what_what-do_what_to_do.mp4 and saved to /content/resized_ASL_videos/022-do_what_what-do_what_to_do.mp4\n",
            "Moviepy - Building video /content/resized_ASL_videos/048-cat_got_your_tongue.mp4.\n",
            "MoviePy - Writing audio in 048-cat_got_your_tongueTEMP_MPY_wvf_snd.mp4\n"
          ]
        },
        {
          "name": "stderr",
          "output_type": "stream",
          "text": []
        },
        {
          "name": "stdout",
          "output_type": "stream",
          "text": [
            "MoviePy - Done.\n",
            "Moviepy - Writing video /content/resized_ASL_videos/048-cat_got_your_tongue.mp4\n",
            "\n"
          ]
        },
        {
          "name": "stderr",
          "output_type": "stream",
          "text": [
            "t:  97%|█████████▋| 73/75 [00:02<00:00, 25.05it/s, now=None]WARNING:py.warnings:/usr/local/lib/python3.10/dist-packages/moviepy/video/io/ffmpeg_reader.py:123: UserWarning: Warning: in file /content/ASL_VIDEOS/048-cat_got_your_tongue.mp4, 6220800 bytes wanted but 0 bytes read,at frame 73/75, at time 2.44/2.49 sec. Using the last valid frame instead.\n",
            "  warnings.warn(\"Warning: in file %s, \"%(self.filename)+\n",
            "\n",
            "WARNING:py.warnings:/usr/local/lib/python3.10/dist-packages/moviepy/video/io/ffmpeg_reader.py:123: UserWarning: Warning: in file /content/ASL_VIDEOS/048-cat_got_your_tongue.mp4, 6220800 bytes wanted but 0 bytes read,at frame 74/75, at time 2.47/2.49 sec. Using the last valid frame instead.\n",
            "  warnings.warn(\"Warning: in file %s, \"%(self.filename)+\n",
            "\n"
          ]
        },
        {
          "name": "stdout",
          "output_type": "stream",
          "text": [
            "Moviepy - Done !\n",
            "Moviepy - video ready /content/resized_ASL_videos/048-cat_got_your_tongue.mp4\n",
            "Resized 048-cat_got_your_tongue.mp4 and saved to /content/resized_ASL_videos/048-cat_got_your_tongue.mp4\n",
            "Moviepy - Building video /content/resized_ASL_videos/123-find_in_asl.mp4.\n",
            "MoviePy - Writing audio in 123-find_in_aslTEMP_MPY_wvf_snd.mp4\n"
          ]
        },
        {
          "name": "stderr",
          "output_type": "stream",
          "text": []
        },
        {
          "name": "stdout",
          "output_type": "stream",
          "text": [
            "MoviePy - Done.\n",
            "Moviepy - Writing video /content/resized_ASL_videos/123-find_in_asl.mp4\n",
            "\n"
          ]
        },
        {
          "name": "stderr",
          "output_type": "stream",
          "text": [
            "t: 100%|█████████▉| 321/322 [00:34<00:00, 11.30it/s, now=None]WARNING:py.warnings:/usr/local/lib/python3.10/dist-packages/moviepy/video/io/ffmpeg_reader.py:123: UserWarning: Warning: in file /content/ASL_VIDEOS/123-find_in_asl.mp4, 24883200 bytes wanted but 0 bytes read,at frame 321/322, at time 5.35/5.36 sec. Using the last valid frame instead.\n",
            "  warnings.warn(\"Warning: in file %s, \"%(self.filename)+\n",
            "\n"
          ]
        },
        {
          "name": "stdout",
          "output_type": "stream",
          "text": [
            "Moviepy - Done !\n",
            "Moviepy - video ready /content/resized_ASL_videos/123-find_in_asl.mp4\n",
            "Resized 123-find_in_asl.mp4 and saved to /content/resized_ASL_videos/123-find_in_asl.mp4\n",
            "Moviepy - Building video /content/resized_ASL_videos/147-traffic_in_asl.mp4.\n",
            "MoviePy - Writing audio in 147-traffic_in_aslTEMP_MPY_wvf_snd.mp4\n"
          ]
        },
        {
          "name": "stderr",
          "output_type": "stream",
          "text": []
        },
        {
          "name": "stdout",
          "output_type": "stream",
          "text": [
            "MoviePy - Done.\n",
            "Moviepy - Writing video /content/resized_ASL_videos/147-traffic_in_asl.mp4\n",
            "\n"
          ]
        },
        {
          "name": "stderr",
          "output_type": "stream",
          "text": [
            "t: 100%|█████████▉| 337/338 [00:37<00:00, 11.42it/s, now=None]WARNING:py.warnings:/usr/local/lib/python3.10/dist-packages/moviepy/video/io/ffmpeg_reader.py:123: UserWarning: Warning: in file /content/ASL_VIDEOS/147-traffic_in_asl.mp4, 24883200 bytes wanted but 0 bytes read,at frame 337/338, at time 5.62/5.63 sec. Using the last valid frame instead.\n",
            "  warnings.warn(\"Warning: in file %s, \"%(self.filename)+\n",
            "\n"
          ]
        },
        {
          "name": "stdout",
          "output_type": "stream",
          "text": [
            "Moviepy - Done !\n",
            "Moviepy - video ready /content/resized_ASL_videos/147-traffic_in_asl.mp4\n",
            "Resized 147-traffic_in_asl.mp4 and saved to /content/resized_ASL_videos/147-traffic_in_asl.mp4\n",
            "Moviepy - Building video /content/resized_ASL_videos/103-birthday2_in_asl.mp4.\n",
            "MoviePy - Writing audio in 103-birthday2_in_aslTEMP_MPY_wvf_snd.mp4\n"
          ]
        },
        {
          "name": "stderr",
          "output_type": "stream",
          "text": []
        },
        {
          "name": "stdout",
          "output_type": "stream",
          "text": [
            "MoviePy - Done.\n",
            "Moviepy - Writing video /content/resized_ASL_videos/103-birthday2_in_asl.mp4\n",
            "\n"
          ]
        },
        {
          "name": "stderr",
          "output_type": "stream",
          "text": [
            "t:  99%|█████████▉| 375/377 [00:42<00:00, 11.46it/s, now=None]WARNING:py.warnings:/usr/local/lib/python3.10/dist-packages/moviepy/video/io/ffmpeg_reader.py:123: UserWarning: Warning: in file /content/ASL_VIDEOS/103-birthday2_in_asl.mp4, 24883200 bytes wanted but 0 bytes read,at frame 375/377, at time 6.25/6.27 sec. Using the last valid frame instead.\n",
            "  warnings.warn(\"Warning: in file %s, \"%(self.filename)+\n",
            "\n",
            "t: 100%|██████████| 377/377 [00:42<00:00, 12.63it/s, now=None]WARNING:py.warnings:/usr/local/lib/python3.10/dist-packages/moviepy/video/io/ffmpeg_reader.py:123: UserWarning: Warning: in file /content/ASL_VIDEOS/103-birthday2_in_asl.mp4, 24883200 bytes wanted but 0 bytes read,at frame 376/377, at time 6.27/6.27 sec. Using the last valid frame instead.\n",
            "  warnings.warn(\"Warning: in file %s, \"%(self.filename)+\n",
            "\n"
          ]
        },
        {
          "name": "stdout",
          "output_type": "stream",
          "text": [
            "Moviepy - Done !\n",
            "Moviepy - video ready /content/resized_ASL_videos/103-birthday2_in_asl.mp4\n",
            "Resized 103-birthday2_in_asl.mp4 and saved to /content/resized_ASL_videos/103-birthday2_in_asl.mp4\n",
            "Moviepy - Building video /content/resized_ASL_videos/032-feel_sick_you.mp4.\n",
            "MoviePy - Writing audio in 032-feel_sick_youTEMP_MPY_wvf_snd.mp4\n"
          ]
        },
        {
          "name": "stderr",
          "output_type": "stream",
          "text": []
        },
        {
          "name": "stdout",
          "output_type": "stream",
          "text": [
            "MoviePy - Done.\n",
            "Moviepy - Writing video /content/resized_ASL_videos/032-feel_sick_you.mp4\n",
            "\n"
          ]
        },
        {
          "name": "stderr",
          "output_type": "stream",
          "text": [
            "t:  95%|█████████▍| 91/96 [00:02<00:00, 33.75it/s, now=None]WARNING:py.warnings:/usr/local/lib/python3.10/dist-packages/moviepy/video/io/ffmpeg_reader.py:123: UserWarning: Warning: in file /content/ASL_VIDEOS/032-feel_sick_you.mp4, 6220800 bytes wanted but 0 bytes read,at frame 94/96, at time 3.14/3.18 sec. Using the last valid frame instead.\n",
            "  warnings.warn(\"Warning: in file %s, \"%(self.filename)+\n",
            "\n",
            "t: 100%|██████████| 96/96 [00:02<00:00, 36.14it/s, now=None]WARNING:py.warnings:/usr/local/lib/python3.10/dist-packages/moviepy/video/io/ffmpeg_reader.py:123: UserWarning: Warning: in file /content/ASL_VIDEOS/032-feel_sick_you.mp4, 6220800 bytes wanted but 0 bytes read,at frame 95/96, at time 3.17/3.18 sec. Using the last valid frame instead.\n",
            "  warnings.warn(\"Warning: in file %s, \"%(self.filename)+\n",
            "\n"
          ]
        },
        {
          "name": "stdout",
          "output_type": "stream",
          "text": [
            "Moviepy - Done !\n",
            "Moviepy - video ready /content/resized_ASL_videos/032-feel_sick_you.mp4\n",
            "Resized 032-feel_sick_you.mp4 and saved to /content/resized_ASL_videos/032-feel_sick_you.mp4\n",
            "Moviepy - Building video /content/resized_ASL_videos/095-are_you_hungry_in_asl.mp4.\n",
            "MoviePy - Writing audio in 095-are_you_hungry_in_aslTEMP_MPY_wvf_snd.mp4\n"
          ]
        },
        {
          "name": "stderr",
          "output_type": "stream",
          "text": []
        },
        {
          "name": "stdout",
          "output_type": "stream",
          "text": [
            "MoviePy - Done.\n",
            "Moviepy - Writing video /content/resized_ASL_videos/095-are_you_hungry_in_asl.mp4\n",
            "\n"
          ]
        },
        {
          "name": "stderr",
          "output_type": "stream",
          "text": [
            "t: 100%|██████████| 399/399 [00:44<00:00, 11.79it/s, now=None]WARNING:py.warnings:/usr/local/lib/python3.10/dist-packages/moviepy/video/io/ffmpeg_reader.py:123: UserWarning: Warning: in file /content/ASL_VIDEOS/095-are_you_hungry_in_asl.mp4, 24883200 bytes wanted but 0 bytes read,at frame 398/400, at time 6.63/6.65 sec. Using the last valid frame instead.\n",
            "  warnings.warn(\"Warning: in file %s, \"%(self.filename)+\n",
            "\n"
          ]
        },
        {
          "name": "stdout",
          "output_type": "stream",
          "text": [
            "Moviepy - Done !\n",
            "Moviepy - video ready /content/resized_ASL_videos/095-are_you_hungry_in_asl.mp4\n",
            "Resized 095-are_you_hungry_in_asl.mp4 and saved to /content/resized_ASL_videos/095-are_you_hungry_in_asl.mp4\n",
            "Moviepy - Building video /content/resized_ASL_videos/015-man.mp4.\n",
            "MoviePy - Writing audio in 015-manTEMP_MPY_wvf_snd.mp4\n"
          ]
        },
        {
          "name": "stderr",
          "output_type": "stream",
          "text": []
        },
        {
          "name": "stdout",
          "output_type": "stream",
          "text": [
            "MoviePy - Done.\n",
            "Moviepy - Writing video /content/resized_ASL_videos/015-man.mp4\n",
            "\n"
          ]
        },
        {
          "name": "stderr",
          "output_type": "stream",
          "text": [
            "t: 100%|██████████| 120/120 [00:03<00:00, 28.85it/s, now=None]WARNING:py.warnings:/usr/local/lib/python3.10/dist-packages/moviepy/video/io/ffmpeg_reader.py:123: UserWarning: Warning: in file /content/ASL_VIDEOS/015-man.mp4, 6220800 bytes wanted but 0 bytes read,at frame 119/121, at time 3.97/4.00 sec. Using the last valid frame instead.\n",
            "  warnings.warn(\"Warning: in file %s, \"%(self.filename)+\n",
            "\n"
          ]
        },
        {
          "name": "stdout",
          "output_type": "stream",
          "text": [
            "Moviepy - Done !\n",
            "Moviepy - video ready /content/resized_ASL_videos/015-man.mp4\n",
            "Resized 015-man.mp4 and saved to /content/resized_ASL_videos/015-man.mp4\n",
            "Moviepy - Building video /content/resized_ASL_videos/092-againrepeat.mp4.\n",
            "MoviePy - Writing audio in 092-againrepeatTEMP_MPY_wvf_snd.mp4\n"
          ]
        },
        {
          "name": "stderr",
          "output_type": "stream",
          "text": []
        },
        {
          "name": "stdout",
          "output_type": "stream",
          "text": [
            "MoviePy - Done.\n",
            "Moviepy - Writing video /content/resized_ASL_videos/092-againrepeat.mp4\n",
            "\n"
          ]
        },
        {
          "name": "stderr",
          "output_type": "stream",
          "text": [
            "t:  98%|█████████▊| 88/90 [00:03<00:00, 23.14it/s, now=None]WARNING:py.warnings:/usr/local/lib/python3.10/dist-packages/moviepy/video/io/ffmpeg_reader.py:123: UserWarning: Warning: in file /content/ASL_VIDEOS/092-againrepeat.mp4, 6220800 bytes wanted but 0 bytes read,at frame 88/90, at time 2.94/2.97 sec. Using the last valid frame instead.\n",
            "  warnings.warn(\"Warning: in file %s, \"%(self.filename)+\n",
            "\n",
            "WARNING:py.warnings:/usr/local/lib/python3.10/dist-packages/moviepy/video/io/ffmpeg_reader.py:123: UserWarning: Warning: in file /content/ASL_VIDEOS/092-againrepeat.mp4, 6220800 bytes wanted but 0 bytes read,at frame 89/90, at time 2.97/2.97 sec. Using the last valid frame instead.\n",
            "  warnings.warn(\"Warning: in file %s, \"%(self.filename)+\n",
            "\n"
          ]
        },
        {
          "name": "stdout",
          "output_type": "stream",
          "text": [
            "Moviepy - Done !\n",
            "Moviepy - video ready /content/resized_ASL_videos/092-againrepeat.mp4\n",
            "Resized 092-againrepeat.mp4 and saved to /content/resized_ASL_videos/092-againrepeat.mp4\n",
            "Moviepy - Building video /content/resized_ASL_videos/113-hug_in_asl.mp4.\n",
            "MoviePy - Writing audio in 113-hug_in_aslTEMP_MPY_wvf_snd.mp4\n"
          ]
        },
        {
          "name": "stderr",
          "output_type": "stream",
          "text": []
        },
        {
          "name": "stdout",
          "output_type": "stream",
          "text": [
            "MoviePy - Done.\n",
            "Moviepy - Writing video /content/resized_ASL_videos/113-hug_in_asl.mp4\n",
            "\n"
          ]
        },
        {
          "name": "stderr",
          "output_type": "stream",
          "text": [
            "t: 100%|██████████| 313/313 [00:33<00:00, 11.66it/s, now=None]WARNING:py.warnings:/usr/local/lib/python3.10/dist-packages/moviepy/video/io/ffmpeg_reader.py:123: UserWarning: Warning: in file /content/ASL_VIDEOS/113-hug_in_asl.mp4, 24883200 bytes wanted but 0 bytes read,at frame 312/313, at time 5.20/5.21 sec. Using the last valid frame instead.\n",
            "  warnings.warn(\"Warning: in file %s, \"%(self.filename)+\n",
            "\n"
          ]
        },
        {
          "name": "stdout",
          "output_type": "stream",
          "text": [
            "Moviepy - Done !\n",
            "Moviepy - video ready /content/resized_ASL_videos/113-hug_in_asl.mp4\n",
            "Resized 113-hug_in_asl.mp4 and saved to /content/resized_ASL_videos/113-hug_in_asl.mp4\n",
            "Moviepy - Building video /content/resized_ASL_videos/070-send.mp4.\n",
            "MoviePy - Writing audio in 070-sendTEMP_MPY_wvf_snd.mp4\n"
          ]
        },
        {
          "name": "stderr",
          "output_type": "stream",
          "text": []
        },
        {
          "name": "stdout",
          "output_type": "stream",
          "text": [
            "MoviePy - Done.\n",
            "Moviepy - Writing video /content/resized_ASL_videos/070-send.mp4\n",
            "\n"
          ]
        },
        {
          "name": "stderr",
          "output_type": "stream",
          "text": [
            "t: 100%|██████████| 75/75 [00:01<00:00, 64.36it/s, now=None]WARNING:py.warnings:/usr/local/lib/python3.10/dist-packages/moviepy/video/io/ffmpeg_reader.py:123: UserWarning: Warning: in file /content/ASL_VIDEOS/070-send.mp4, 1226880 bytes wanted but 0 bytes read,at frame 74/75, at time 2.47/2.50 sec. Using the last valid frame instead.\n",
            "  warnings.warn(\"Warning: in file %s, \"%(self.filename)+\n",
            "\n"
          ]
        },
        {
          "name": "stdout",
          "output_type": "stream",
          "text": [
            "Moviepy - Done !\n",
            "Moviepy - video ready /content/resized_ASL_videos/070-send.mp4\n",
            "Resized 070-send.mp4 and saved to /content/resized_ASL_videos/070-send.mp4\n",
            "Moviepy - Building video /content/resized_ASL_videos/049-come-here-1-hand-version.mp4.\n",
            "MoviePy - Writing audio in 049-come-here-1-hand-versionTEMP_MPY_wvf_snd.mp4\n"
          ]
        },
        {
          "name": "stderr",
          "output_type": "stream",
          "text": []
        },
        {
          "name": "stdout",
          "output_type": "stream",
          "text": [
            "MoviePy - Done.\n",
            "Moviepy - Writing video /content/resized_ASL_videos/049-come-here-1-hand-version.mp4\n",
            "\n"
          ]
        },
        {
          "name": "stderr",
          "output_type": "stream",
          "text": [
            "t:  98%|█████████▊| 79/81 [00:02<00:00, 34.76it/s, now=None]WARNING:py.warnings:/usr/local/lib/python3.10/dist-packages/moviepy/video/io/ffmpeg_reader.py:123: UserWarning: Warning: in file /content/ASL_VIDEOS/049-come-here-1-hand-version.mp4, 6220800 bytes wanted but 0 bytes read,at frame 80/81, at time 2.67/2.70 sec. Using the last valid frame instead.\n",
            "  warnings.warn(\"Warning: in file %s, \"%(self.filename)+\n",
            "\n"
          ]
        },
        {
          "name": "stdout",
          "output_type": "stream",
          "text": [
            "Moviepy - Done !\n",
            "Moviepy - video ready /content/resized_ASL_videos/049-come-here-1-hand-version.mp4\n",
            "Resized 049-come-here-1-hand-version.mp4 and saved to /content/resized_ASL_videos/049-come-here-1-hand-version.mp4\n",
            "Moviepy - Building video /content/resized_ASL_videos/105-beautiful_in_asl.mp4.\n",
            "MoviePy - Writing audio in 105-beautiful_in_aslTEMP_MPY_wvf_snd.mp4\n"
          ]
        },
        {
          "name": "stderr",
          "output_type": "stream",
          "text": []
        },
        {
          "name": "stdout",
          "output_type": "stream",
          "text": [
            "MoviePy - Done.\n",
            "Moviepy - Writing video /content/resized_ASL_videos/105-beautiful_in_asl.mp4\n",
            "\n"
          ]
        },
        {
          "name": "stderr",
          "output_type": "stream",
          "text": [
            "t: 100%|█████████▉| 342/343 [00:39<00:00, 11.02it/s, now=None]WARNING:py.warnings:/usr/local/lib/python3.10/dist-packages/moviepy/video/io/ffmpeg_reader.py:123: UserWarning: Warning: in file /content/ASL_VIDEOS/105-beautiful_in_asl.mp4, 24883200 bytes wanted but 0 bytes read,at frame 342/343, at time 5.70/5.71 sec. Using the last valid frame instead.\n",
            "  warnings.warn(\"Warning: in file %s, \"%(self.filename)+\n",
            "\n"
          ]
        },
        {
          "name": "stdout",
          "output_type": "stream",
          "text": [
            "Moviepy - Done !\n",
            "Moviepy - video ready /content/resized_ASL_videos/105-beautiful_in_asl.mp4\n",
            "Resized 105-beautiful_in_asl.mp4 and saved to /content/resized_ASL_videos/105-beautiful_in_asl.mp4\n",
            "Moviepy - Building video /content/resized_ASL_videos/013-ladywoman.mp4.\n",
            "MoviePy - Writing audio in 013-ladywomanTEMP_MPY_wvf_snd.mp4\n"
          ]
        },
        {
          "name": "stderr",
          "output_type": "stream",
          "text": []
        },
        {
          "name": "stdout",
          "output_type": "stream",
          "text": [
            "MoviePy - Done.\n",
            "Moviepy - Writing video /content/resized_ASL_videos/013-ladywoman.mp4\n",
            "\n"
          ]
        },
        {
          "name": "stderr",
          "output_type": "stream",
          "text": [
            "t:  95%|█████████▍| 69/73 [00:01<00:00, 36.95it/s, now=None]WARNING:py.warnings:/usr/local/lib/python3.10/dist-packages/moviepy/video/io/ffmpeg_reader.py:123: UserWarning: Warning: in file /content/ASL_VIDEOS/013-ladywoman.mp4, 6220800 bytes wanted but 0 bytes read,at frame 72/73, at time 2.40/2.43 sec. Using the last valid frame instead.\n",
            "  warnings.warn(\"Warning: in file %s, \"%(self.filename)+\n",
            "\n"
          ]
        },
        {
          "name": "stdout",
          "output_type": "stream",
          "text": [
            "Moviepy - Done !\n",
            "Moviepy - video ready /content/resized_ASL_videos/013-ladywoman.mp4\n",
            "Resized 013-ladywoman.mp4 and saved to /content/resized_ASL_videos/013-ladywoman.mp4\n",
            "Moviepy - Building video /content/resized_ASL_videos/042-you_feel_stupid_sometimes.mp4.\n",
            "MoviePy - Writing audio in 042-you_feel_stupid_sometimesTEMP_MPY_wvf_snd.mp4\n"
          ]
        },
        {
          "name": "stderr",
          "output_type": "stream",
          "text": []
        },
        {
          "name": "stdout",
          "output_type": "stream",
          "text": [
            "MoviePy - Done.\n",
            "Moviepy - Writing video /content/resized_ASL_videos/042-you_feel_stupid_sometimes.mp4\n",
            "\n"
          ]
        },
        {
          "name": "stderr",
          "output_type": "stream",
          "text": [
            "t:  97%|█████████▋| 153/157 [00:04<00:00, 29.59it/s, now=None]WARNING:py.warnings:/usr/local/lib/python3.10/dist-packages/moviepy/video/io/ffmpeg_reader.py:123: UserWarning: Warning: in file /content/ASL_VIDEOS/042-you_feel_stupid_sometimes.mp4, 6220800 bytes wanted but 0 bytes read,at frame 155/157, at time 5.17/5.22 sec. Using the last valid frame instead.\n",
            "  warnings.warn(\"Warning: in file %s, \"%(self.filename)+\n",
            "\n",
            "t: 100%|██████████| 157/157 [00:04<00:00, 30.71it/s, now=None]WARNING:py.warnings:/usr/local/lib/python3.10/dist-packages/moviepy/video/io/ffmpeg_reader.py:123: UserWarning: Warning: in file /content/ASL_VIDEOS/042-you_feel_stupid_sometimes.mp4, 6220800 bytes wanted but 0 bytes read,at frame 156/157, at time 5.20/5.22 sec. Using the last valid frame instead.\n",
            "  warnings.warn(\"Warning: in file %s, \"%(self.filename)+\n",
            "\n"
          ]
        },
        {
          "name": "stdout",
          "output_type": "stream",
          "text": [
            "Moviepy - Done !\n",
            "Moviepy - video ready /content/resized_ASL_videos/042-you_feel_stupid_sometimes.mp4\n",
            "Resized 042-you_feel_stupid_sometimes.mp4 and saved to /content/resized_ASL_videos/042-you_feel_stupid_sometimes.mp4\n",
            "Moviepy - Building video /content/resized_ASL_videos/056-you_have_scarf.mp4.\n",
            "MoviePy - Writing audio in 056-you_have_scarfTEMP_MPY_wvf_snd.mp4\n"
          ]
        },
        {
          "name": "stderr",
          "output_type": "stream",
          "text": []
        },
        {
          "name": "stdout",
          "output_type": "stream",
          "text": [
            "MoviePy - Done.\n",
            "Moviepy - Writing video /content/resized_ASL_videos/056-you_have_scarf.mp4\n",
            "\n"
          ]
        },
        {
          "name": "stderr",
          "output_type": "stream",
          "text": [
            "t:  98%|█████████▊| 121/123 [00:05<00:00, 20.33it/s, now=None]WARNING:py.warnings:/usr/local/lib/python3.10/dist-packages/moviepy/video/io/ffmpeg_reader.py:123: UserWarning: Warning: in file /content/ASL_VIDEOS/056-you_have_scarf.mp4, 6220800 bytes wanted but 0 bytes read,at frame 120/123, at time 4.00/4.08 sec. Using the last valid frame instead.\n",
            "  warnings.warn(\"Warning: in file %s, \"%(self.filename)+\n",
            "\n",
            "WARNING:py.warnings:/usr/local/lib/python3.10/dist-packages/moviepy/video/io/ffmpeg_reader.py:123: UserWarning: Warning: in file /content/ASL_VIDEOS/056-you_have_scarf.mp4, 6220800 bytes wanted but 0 bytes read,at frame 121/123, at time 4.03/4.08 sec. Using the last valid frame instead.\n",
            "  warnings.warn(\"Warning: in file %s, \"%(self.filename)+\n",
            "\n",
            "WARNING:py.warnings:/usr/local/lib/python3.10/dist-packages/moviepy/video/io/ffmpeg_reader.py:123: UserWarning: Warning: in file /content/ASL_VIDEOS/056-you_have_scarf.mp4, 6220800 bytes wanted but 0 bytes read,at frame 122/123, at time 4.07/4.08 sec. Using the last valid frame instead.\n",
            "  warnings.warn(\"Warning: in file %s, \"%(self.filename)+\n",
            "\n"
          ]
        },
        {
          "name": "stdout",
          "output_type": "stream",
          "text": [
            "Moviepy - Done !\n",
            "Moviepy - video ready /content/resized_ASL_videos/056-you_have_scarf.mp4\n",
            "Resized 056-you_have_scarf.mp4 and saved to /content/resized_ASL_videos/056-you_have_scarf.mp4\n",
            "Moviepy - Building video /content/resized_ASL_videos/001-it_is_nice_to_meet_you.mp4.\n",
            "MoviePy - Writing audio in 001-it_is_nice_to_meet_youTEMP_MPY_wvf_snd.mp4\n"
          ]
        },
        {
          "name": "stderr",
          "output_type": "stream",
          "text": []
        },
        {
          "name": "stdout",
          "output_type": "stream",
          "text": [
            "MoviePy - Done.\n",
            "Moviepy - Writing video /content/resized_ASL_videos/001-it_is_nice_to_meet_you.mp4\n",
            "\n"
          ]
        },
        {
          "name": "stderr",
          "output_type": "stream",
          "text": [
            "t:  99%|█████████▉| 171/172 [00:04<00:00, 30.62it/s, now=None]WARNING:py.warnings:/usr/local/lib/python3.10/dist-packages/moviepy/video/io/ffmpeg_reader.py:123: UserWarning: Warning: in file /content/ASL_VIDEOS/001-it_is_nice_to_meet_you.mp4, 6220800 bytes wanted but 0 bytes read,at frame 171/172, at time 5.71/5.72 sec. Using the last valid frame instead.\n",
            "  warnings.warn(\"Warning: in file %s, \"%(self.filename)+\n",
            "\n"
          ]
        },
        {
          "name": "stdout",
          "output_type": "stream",
          "text": [
            "Moviepy - Done !\n",
            "Moviepy - video ready /content/resized_ASL_videos/001-it_is_nice_to_meet_you.mp4\n",
            "Resized 001-it_is_nice_to_meet_you.mp4 and saved to /content/resized_ASL_videos/001-it_is_nice_to_meet_you.mp4\n",
            "Moviepy - Building video /content/resized_ASL_videos/037-your_city_have_subway.mp4.\n",
            "MoviePy - Writing audio in 037-your_city_have_subwayTEMP_MPY_wvf_snd.mp4\n"
          ]
        },
        {
          "name": "stderr",
          "output_type": "stream",
          "text": []
        },
        {
          "name": "stdout",
          "output_type": "stream",
          "text": [
            "MoviePy - Done.\n",
            "Moviepy - Writing video /content/resized_ASL_videos/037-your_city_have_subway.mp4\n",
            "\n"
          ]
        },
        {
          "name": "stderr",
          "output_type": "stream",
          "text": [
            "t:  98%|█████████▊| 159/162 [00:02<00:00, 53.70it/s, now=None]WARNING:py.warnings:/usr/local/lib/python3.10/dist-packages/moviepy/video/io/ffmpeg_reader.py:123: UserWarning: Warning: in file /content/ASL_VIDEOS/037-your_city_have_subway.mp4, 1226880 bytes wanted but 0 bytes read,at frame 160/162, at time 5.34/5.38 sec. Using the last valid frame instead.\n",
            "  warnings.warn(\"Warning: in file %s, \"%(self.filename)+\n",
            "\n",
            "WARNING:py.warnings:/usr/local/lib/python3.10/dist-packages/moviepy/video/io/ffmpeg_reader.py:123: UserWarning: Warning: in file /content/ASL_VIDEOS/037-your_city_have_subway.mp4, 1226880 bytes wanted but 0 bytes read,at frame 161/162, at time 5.37/5.38 sec. Using the last valid frame instead.\n",
            "  warnings.warn(\"Warning: in file %s, \"%(self.filename)+\n",
            "\n"
          ]
        },
        {
          "name": "stdout",
          "output_type": "stream",
          "text": [
            "Moviepy - Done !\n",
            "Moviepy - video ready /content/resized_ASL_videos/037-your_city_have_subway.mp4\n",
            "Resized 037-your_city_have_subway.mp4 and saved to /content/resized_ASL_videos/037-your_city_have_subway.mp4\n",
            "Moviepy - Building video /content/resized_ASL_videos/059-you_drunk_before.mp4.\n",
            "MoviePy - Writing audio in 059-you_drunk_beforeTEMP_MPY_wvf_snd.mp4\n"
          ]
        },
        {
          "name": "stderr",
          "output_type": "stream",
          "text": []
        },
        {
          "name": "stdout",
          "output_type": "stream",
          "text": [
            "MoviePy - Done.\n",
            "Moviepy - Writing video /content/resized_ASL_videos/059-you_drunk_before.mp4\n",
            "\n"
          ]
        },
        {
          "name": "stderr",
          "output_type": "stream",
          "text": [
            "t:  97%|█████████▋| 93/96 [00:03<00:00, 18.39it/s, now=None]WARNING:py.warnings:/usr/local/lib/python3.10/dist-packages/moviepy/video/io/ffmpeg_reader.py:123: UserWarning: Warning: in file /content/ASL_VIDEOS/059-you_drunk_before.mp4, 6220800 bytes wanted but 0 bytes read,at frame 94/96, at time 3.14/3.18 sec. Using the last valid frame instead.\n",
            "  warnings.warn(\"Warning: in file %s, \"%(self.filename)+\n",
            "\n",
            "t: 100%|██████████| 96/96 [00:03<00:00, 20.24it/s, now=None]WARNING:py.warnings:/usr/local/lib/python3.10/dist-packages/moviepy/video/io/ffmpeg_reader.py:123: UserWarning: Warning: in file /content/ASL_VIDEOS/059-you_drunk_before.mp4, 6220800 bytes wanted but 0 bytes read,at frame 95/96, at time 3.17/3.18 sec. Using the last valid frame instead.\n",
            "  warnings.warn(\"Warning: in file %s, \"%(self.filename)+\n",
            "\n"
          ]
        },
        {
          "name": "stdout",
          "output_type": "stream",
          "text": [
            "Moviepy - Done !\n",
            "Moviepy - video ready /content/resized_ASL_videos/059-you_drunk_before.mp4\n",
            "Resized 059-you_drunk_before.mp4 and saved to /content/resized_ASL_videos/059-you_drunk_before.mp4\n",
            "Moviepy - Building video /content/resized_ASL_videos/128-dont_care_in_asl.mp4.\n",
            "MoviePy - Writing audio in 128-dont_care_in_aslTEMP_MPY_wvf_snd.mp4\n"
          ]
        },
        {
          "name": "stderr",
          "output_type": "stream",
          "text": []
        },
        {
          "name": "stdout",
          "output_type": "stream",
          "text": [
            "MoviePy - Done.\n",
            "Moviepy - Writing video /content/resized_ASL_videos/128-dont_care_in_asl.mp4\n",
            "\n"
          ]
        },
        {
          "name": "stderr",
          "output_type": "stream",
          "text": [
            "t: 100%|██████████| 318/318 [00:35<00:00, 11.41it/s, now=None]WARNING:py.warnings:/usr/local/lib/python3.10/dist-packages/moviepy/video/io/ffmpeg_reader.py:123: UserWarning: Warning: in file /content/ASL_VIDEOS/128-dont_care_in_asl.mp4, 24883200 bytes wanted but 0 bytes read,at frame 317/319, at time 5.28/5.30 sec. Using the last valid frame instead.\n",
            "  warnings.warn(\"Warning: in file %s, \"%(self.filename)+\n",
            "\n"
          ]
        },
        {
          "name": "stdout",
          "output_type": "stream",
          "text": [
            "Moviepy - Done !\n",
            "Moviepy - video ready /content/resized_ASL_videos/128-dont_care_in_asl.mp4\n",
            "Resized 128-dont_care_in_asl.mp4 and saved to /content/resized_ASL_videos/128-dont_care_in_asl.mp4\n",
            "Moviepy - Building video /content/resized_ASL_videos/140-that_in_asl.mp4.\n",
            "MoviePy - Writing audio in 140-that_in_aslTEMP_MPY_wvf_snd.mp4\n"
          ]
        },
        {
          "name": "stderr",
          "output_type": "stream",
          "text": []
        },
        {
          "name": "stdout",
          "output_type": "stream",
          "text": [
            "MoviePy - Done.\n",
            "Moviepy - Writing video /content/resized_ASL_videos/140-that_in_asl.mp4\n",
            "\n"
          ]
        },
        {
          "name": "stderr",
          "output_type": "stream",
          "text": [
            "t: 100%|█████████▉| 351/352 [00:39<00:00, 10.27it/s, now=None]WARNING:py.warnings:/usr/local/lib/python3.10/dist-packages/moviepy/video/io/ffmpeg_reader.py:123: UserWarning: Warning: in file /content/ASL_VIDEOS/140-that_in_asl.mp4, 24883200 bytes wanted but 0 bytes read,at frame 351/352, at time 5.85/5.86 sec. Using the last valid frame instead.\n",
            "  warnings.warn(\"Warning: in file %s, \"%(self.filename)+\n",
            "\n"
          ]
        },
        {
          "name": "stdout",
          "output_type": "stream",
          "text": [
            "Moviepy - Done !\n",
            "Moviepy - video ready /content/resized_ASL_videos/140-that_in_asl.mp4\n",
            "Resized 140-that_in_asl.mp4 and saved to /content/resized_ASL_videos/140-that_in_asl.mp4\n",
            "Moviepy - Building video /content/resized_ASL_videos/055-sew_you_know_how.mp4.\n",
            "MoviePy - Writing audio in 055-sew_you_know_howTEMP_MPY_wvf_snd.mp4\n"
          ]
        },
        {
          "name": "stderr",
          "output_type": "stream",
          "text": []
        },
        {
          "name": "stdout",
          "output_type": "stream",
          "text": [
            "MoviePy - Done.\n",
            "Moviepy - Writing video /content/resized_ASL_videos/055-sew_you_know_how.mp4\n",
            "\n"
          ]
        },
        {
          "name": "stderr",
          "output_type": "stream",
          "text": [
            "t:  97%|█████████▋| 134/138 [00:04<00:00, 30.37it/s, now=None]WARNING:py.warnings:/usr/local/lib/python3.10/dist-packages/moviepy/video/io/ffmpeg_reader.py:123: UserWarning: Warning: in file /content/ASL_VIDEOS/055-sew_you_know_how.mp4, 6220800 bytes wanted but 0 bytes read,at frame 136/138, at time 4.53/4.57 sec. Using the last valid frame instead.\n",
            "  warnings.warn(\"Warning: in file %s, \"%(self.filename)+\n",
            "\n",
            "t: 100%|██████████| 138/138 [00:04<00:00, 30.89it/s, now=None]WARNING:py.warnings:/usr/local/lib/python3.10/dist-packages/moviepy/video/io/ffmpeg_reader.py:123: UserWarning: Warning: in file /content/ASL_VIDEOS/055-sew_you_know_how.mp4, 6220800 bytes wanted but 0 bytes read,at frame 137/138, at time 4.57/4.57 sec. Using the last valid frame instead.\n",
            "  warnings.warn(\"Warning: in file %s, \"%(self.filename)+\n",
            "\n"
          ]
        },
        {
          "name": "stdout",
          "output_type": "stream",
          "text": [
            "Moviepy - Done !\n",
            "Moviepy - video ready /content/resized_ASL_videos/055-sew_you_know_how.mp4\n",
            "Resized 055-sew_you_know_how.mp4 and saved to /content/resized_ASL_videos/055-sew_you_know_how.mp4\n",
            "Moviepy - Building video /content/resized_ASL_videos/132-cost_in_asl.mp4.\n",
            "MoviePy - Writing audio in 132-cost_in_aslTEMP_MPY_wvf_snd.mp4\n"
          ]
        },
        {
          "name": "stderr",
          "output_type": "stream",
          "text": []
        },
        {
          "name": "stdout",
          "output_type": "stream",
          "text": [
            "MoviePy - Done.\n",
            "Moviepy - Writing video /content/resized_ASL_videos/132-cost_in_asl.mp4\n",
            "\n"
          ]
        },
        {
          "name": "stderr",
          "output_type": "stream",
          "text": [
            "t: 100%|█████████▉| 346/347 [00:38<00:00, 10.88it/s, now=None]WARNING:py.warnings:/usr/local/lib/python3.10/dist-packages/moviepy/video/io/ffmpeg_reader.py:123: UserWarning: Warning: in file /content/ASL_VIDEOS/132-cost_in_asl.mp4, 24883200 bytes wanted but 0 bytes read,at frame 345/347, at time 5.75/5.77 sec. Using the last valid frame instead.\n",
            "  warnings.warn(\"Warning: in file %s, \"%(self.filename)+\n",
            "\n",
            "WARNING:py.warnings:/usr/local/lib/python3.10/dist-packages/moviepy/video/io/ffmpeg_reader.py:123: UserWarning: Warning: in file /content/ASL_VIDEOS/132-cost_in_asl.mp4, 24883200 bytes wanted but 0 bytes read,at frame 346/347, at time 5.77/5.77 sec. Using the last valid frame instead.\n",
            "  warnings.warn(\"Warning: in file %s, \"%(self.filename)+\n",
            "\n"
          ]
        },
        {
          "name": "stdout",
          "output_type": "stream",
          "text": [
            "Moviepy - Done !\n",
            "Moviepy - video ready /content/resized_ASL_videos/132-cost_in_asl.mp4\n",
            "Resized 132-cost_in_asl.mp4 and saved to /content/resized_ASL_videos/132-cost_in_asl.mp4\n",
            "Moviepy - Building video /content/resized_ASL_videos/017-house.mp4.\n",
            "MoviePy - Writing audio in 017-houseTEMP_MPY_wvf_snd.mp4\n"
          ]
        },
        {
          "name": "stderr",
          "output_type": "stream",
          "text": []
        },
        {
          "name": "stdout",
          "output_type": "stream",
          "text": [
            "MoviePy - Done.\n",
            "Moviepy - Writing video /content/resized_ASL_videos/017-house.mp4\n",
            "\n"
          ]
        },
        {
          "name": "stderr",
          "output_type": "stream",
          "text": [
            "t:  92%|█████████▏| 69/75 [00:00<00:00, 76.33it/s, now=None]WARNING:py.warnings:/usr/local/lib/python3.10/dist-packages/moviepy/video/io/ffmpeg_reader.py:123: UserWarning: Warning: in file /content/ASL_VIDEOS/017-house.mp4, 1226880 bytes wanted but 0 bytes read,at frame 74/75, at time 2.47/2.50 sec. Using the last valid frame instead.\n",
            "  warnings.warn(\"Warning: in file %s, \"%(self.filename)+\n",
            "\n"
          ]
        },
        {
          "name": "stdout",
          "output_type": "stream",
          "text": [
            "Moviepy - Done !\n",
            "Moviepy - video ready /content/resized_ASL_videos/017-house.mp4\n",
            "Resized 017-house.mp4 and saved to /content/resized_ASL_videos/017-house.mp4\n",
            "Moviepy - Building video /content/resized_ASL_videos/083-still.mp4.\n",
            "MoviePy - Writing audio in 083-stillTEMP_MPY_wvf_snd.mp4\n"
          ]
        },
        {
          "name": "stderr",
          "output_type": "stream",
          "text": []
        },
        {
          "name": "stdout",
          "output_type": "stream",
          "text": [
            "MoviePy - Done.\n",
            "Moviepy - Writing video /content/resized_ASL_videos/083-still.mp4\n",
            "\n"
          ]
        },
        {
          "name": "stderr",
          "output_type": "stream",
          "text": [
            "t:  98%|█████████▊| 81/83 [00:02<00:00, 35.29it/s, now=None]WARNING:py.warnings:/usr/local/lib/python3.10/dist-packages/moviepy/video/io/ffmpeg_reader.py:123: UserWarning: Warning: in file /content/ASL_VIDEOS/083-still.mp4, 6220800 bytes wanted but 0 bytes read,at frame 81/83, at time 2.70/2.74 sec. Using the last valid frame instead.\n",
            "  warnings.warn(\"Warning: in file %s, \"%(self.filename)+\n",
            "\n",
            "WARNING:py.warnings:/usr/local/lib/python3.10/dist-packages/moviepy/video/io/ffmpeg_reader.py:123: UserWarning: Warning: in file /content/ASL_VIDEOS/083-still.mp4, 6220800 bytes wanted but 0 bytes read,at frame 82/83, at time 2.74/2.74 sec. Using the last valid frame instead.\n",
            "  warnings.warn(\"Warning: in file %s, \"%(self.filename)+\n",
            "\n"
          ]
        },
        {
          "name": "stdout",
          "output_type": "stream",
          "text": [
            "Moviepy - Done !\n",
            "Moviepy - video ready /content/resized_ASL_videos/083-still.mp4\n",
            "Resized 083-still.mp4 and saved to /content/resized_ASL_videos/083-still.mp4\n",
            "Moviepy - Building video /content/resized_ASL_videos/020-you_married.mp4.\n",
            "MoviePy - Writing audio in 020-you_marriedTEMP_MPY_wvf_snd.mp4\n"
          ]
        },
        {
          "name": "stderr",
          "output_type": "stream",
          "text": []
        },
        {
          "name": "stdout",
          "output_type": "stream",
          "text": [
            "MoviePy - Done.\n",
            "Moviepy - Writing video /content/resized_ASL_videos/020-you_married.mp4\n",
            "\n"
          ]
        },
        {
          "name": "stderr",
          "output_type": "stream",
          "text": [
            "t: 100%|██████████| 89/89 [00:02<00:00, 36.35it/s, now=None]WARNING:py.warnings:/usr/local/lib/python3.10/dist-packages/moviepy/video/io/ffmpeg_reader.py:123: UserWarning: Warning: in file /content/ASL_VIDEOS/020-you_married.mp4, 6220800 bytes wanted but 0 bytes read,at frame 88/89, at time 2.94/2.94 sec. Using the last valid frame instead.\n",
            "  warnings.warn(\"Warning: in file %s, \"%(self.filename)+\n",
            "\n"
          ]
        },
        {
          "name": "stdout",
          "output_type": "stream",
          "text": [
            "Moviepy - Done !\n",
            "Moviepy - video ready /content/resized_ASL_videos/020-you_married.mp4\n",
            "Resized 020-you_married.mp4 and saved to /content/resized_ASL_videos/020-you_married.mp4\n",
            "Moviepy - Building video /content/resized_ASL_videos/066-type_fast_can_you.mp4.\n",
            "MoviePy - Writing audio in 066-type_fast_can_youTEMP_MPY_wvf_snd.mp4\n"
          ]
        },
        {
          "name": "stderr",
          "output_type": "stream",
          "text": []
        },
        {
          "name": "stdout",
          "output_type": "stream",
          "text": [
            "MoviePy - Done.\n",
            "Moviepy - Writing video /content/resized_ASL_videos/066-type_fast_can_you.mp4\n",
            "\n"
          ]
        },
        {
          "name": "stderr",
          "output_type": "stream",
          "text": [
            "t: 100%|██████████| 155/155 [00:06<00:00, 18.73it/s, now=None]WARNING:py.warnings:/usr/local/lib/python3.10/dist-packages/moviepy/video/io/ffmpeg_reader.py:123: UserWarning: Warning: in file /content/ASL_VIDEOS/066-type_fast_can_you.mp4, 6220800 bytes wanted but 0 bytes read,at frame 154/155, at time 5.14/5.15 sec. Using the last valid frame instead.\n",
            "  warnings.warn(\"Warning: in file %s, \"%(self.filename)+\n",
            "\n"
          ]
        },
        {
          "name": "stdout",
          "output_type": "stream",
          "text": [
            "Moviepy - Done !\n",
            "Moviepy - video ready /content/resized_ASL_videos/066-type_fast_can_you.mp4\n",
            "Resized 066-type_fast_can_you.mp4 and saved to /content/resized_ASL_videos/066-type_fast_can_you.mp4\n",
            "Moviepy - Building video /content/resized_ASL_videos/125-false_fake_in_asl.mp4.\n",
            "MoviePy - Writing audio in 125-false_fake_in_aslTEMP_MPY_wvf_snd.mp4\n"
          ]
        },
        {
          "name": "stderr",
          "output_type": "stream",
          "text": []
        },
        {
          "name": "stdout",
          "output_type": "stream",
          "text": [
            "MoviePy - Done.\n",
            "Moviepy - Writing video /content/resized_ASL_videos/125-false_fake_in_asl.mp4\n",
            "\n"
          ]
        },
        {
          "name": "stderr",
          "output_type": "stream",
          "text": [
            "t: 100%|█████████▉| 291/292 [00:32<00:00, 11.20it/s, now=None]WARNING:py.warnings:/usr/local/lib/python3.10/dist-packages/moviepy/video/io/ffmpeg_reader.py:123: UserWarning: Warning: in file /content/ASL_VIDEOS/125-false_fake_in_asl.mp4, 24883200 bytes wanted but 0 bytes read,at frame 291/292, at time 4.85/4.86 sec. Using the last valid frame instead.\n",
            "  warnings.warn(\"Warning: in file %s, \"%(self.filename)+\n",
            "\n"
          ]
        },
        {
          "name": "stdout",
          "output_type": "stream",
          "text": [
            "Moviepy - Done !\n",
            "Moviepy - video ready /content/resized_ASL_videos/125-false_fake_in_asl.mp4\n",
            "Resized 125-false_fake_in_asl.mp4 and saved to /content/resized_ASL_videos/125-false_fake_in_asl.mp4\n",
            "Moviepy - Building video /content/resized_ASL_videos/035-picture_your_family_you_have.mp4.\n",
            "MoviePy - Writing audio in 035-picture_your_family_you_haveTEMP_MPY_wvf_snd.mp4\n"
          ]
        },
        {
          "name": "stderr",
          "output_type": "stream",
          "text": []
        },
        {
          "name": "stdout",
          "output_type": "stream",
          "text": [
            "MoviePy - Done.\n",
            "Moviepy - Writing video /content/resized_ASL_videos/035-picture_your_family_you_have.mp4\n",
            "\n"
          ]
        },
        {
          "name": "stderr",
          "output_type": "stream",
          "text": [
            "t:  99%|█████████▉| 142/143 [00:04<00:00, 32.96it/s, now=None]WARNING:py.warnings:/usr/local/lib/python3.10/dist-packages/moviepy/video/io/ffmpeg_reader.py:123: UserWarning: Warning: in file /content/ASL_VIDEOS/035-picture_your_family_you_have.mp4, 6220800 bytes wanted but 0 bytes read,at frame 142/143, at time 4.74/4.77 sec. Using the last valid frame instead.\n",
            "  warnings.warn(\"Warning: in file %s, \"%(self.filename)+\n",
            "\n"
          ]
        },
        {
          "name": "stdout",
          "output_type": "stream",
          "text": [
            "Moviepy - Done !\n",
            "Moviepy - video ready /content/resized_ASL_videos/035-picture_your_family_you_have.mp4\n",
            "Resized 035-picture_your_family_you_have.mp4 and saved to /content/resized_ASL_videos/035-picture_your_family_you_have.mp4\n",
            "Moviepy - Building video /content/resized_ASL_videos/099-whats_wrong_in_asl.mp4.\n",
            "MoviePy - Writing audio in 099-whats_wrong_in_aslTEMP_MPY_wvf_snd.mp4\n"
          ]
        },
        {
          "name": "stderr",
          "output_type": "stream",
          "text": []
        },
        {
          "name": "stdout",
          "output_type": "stream",
          "text": [
            "MoviePy - Done.\n",
            "Moviepy - Writing video /content/resized_ASL_videos/099-whats_wrong_in_asl.mp4\n",
            "\n"
          ]
        },
        {
          "name": "stderr",
          "output_type": "stream",
          "text": [
            "t: 100%|██████████| 152/152 [00:17<00:00,  8.05it/s, now=None]WARNING:py.warnings:/usr/local/lib/python3.10/dist-packages/moviepy/video/io/ffmpeg_reader.py:123: UserWarning: Warning: in file /content/ASL_VIDEOS/099-whats_wrong_in_asl.mp4, 24883200 bytes wanted but 0 bytes read,at frame 151/152, at time 2.52/2.53 sec. Using the last valid frame instead.\n",
            "  warnings.warn(\"Warning: in file %s, \"%(self.filename)+\n",
            "\n"
          ]
        },
        {
          "name": "stdout",
          "output_type": "stream",
          "text": [
            "Moviepy - Done !\n",
            "Moviepy - video ready /content/resized_ASL_videos/099-whats_wrong_in_asl.mp4\n",
            "Resized 099-whats_wrong_in_asl.mp4 and saved to /content/resized_ASL_videos/099-whats_wrong_in_asl.mp4\n",
            "Moviepy - Building video /content/resized_ASL_videos/090-you_think_today_n-i-c-e.mp4.\n",
            "MoviePy - Writing audio in 090-you_think_today_n-i-c-eTEMP_MPY_wvf_snd.mp4\n"
          ]
        },
        {
          "name": "stderr",
          "output_type": "stream",
          "text": []
        },
        {
          "name": "stdout",
          "output_type": "stream",
          "text": [
            "MoviePy - Done.\n",
            "Moviepy - Writing video /content/resized_ASL_videos/090-you_think_today_n-i-c-e.mp4\n",
            "\n"
          ]
        },
        {
          "name": "stderr",
          "output_type": "stream",
          "text": [
            "t:  99%|█████████▉| 161/162 [00:05<00:00, 28.64it/s, now=None]WARNING:py.warnings:/usr/local/lib/python3.10/dist-packages/moviepy/video/io/ffmpeg_reader.py:123: UserWarning: Warning: in file /content/ASL_VIDEOS/090-you_think_today_n-i-c-e.mp4, 6220800 bytes wanted but 0 bytes read,at frame 160/162, at time 5.34/5.38 sec. Using the last valid frame instead.\n",
            "  warnings.warn(\"Warning: in file %s, \"%(self.filename)+\n",
            "\n",
            "WARNING:py.warnings:/usr/local/lib/python3.10/dist-packages/moviepy/video/io/ffmpeg_reader.py:123: UserWarning: Warning: in file /content/ASL_VIDEOS/090-you_think_today_n-i-c-e.mp4, 6220800 bytes wanted but 0 bytes read,at frame 161/162, at time 5.37/5.38 sec. Using the last valid frame instead.\n",
            "  warnings.warn(\"Warning: in file %s, \"%(self.filename)+\n",
            "\n"
          ]
        },
        {
          "name": "stdout",
          "output_type": "stream",
          "text": [
            "Moviepy - Done !\n",
            "Moviepy - video ready /content/resized_ASL_videos/090-you_think_today_n-i-c-e.mp4\n",
            "Resized 090-you_think_today_n-i-c-e.mp4 and saved to /content/resized_ASL_videos/090-you_think_today_n-i-c-e.mp4\n",
            "Moviepy - Building video /content/resized_ASL_videos/134-excuse_me_in_asl.mp4.\n",
            "MoviePy - Writing audio in 134-excuse_me_in_aslTEMP_MPY_wvf_snd.mp4\n"
          ]
        },
        {
          "name": "stderr",
          "output_type": "stream",
          "text": []
        },
        {
          "name": "stdout",
          "output_type": "stream",
          "text": [
            "MoviePy - Done.\n",
            "Moviepy - Writing video /content/resized_ASL_videos/134-excuse_me_in_asl.mp4\n",
            "\n"
          ]
        },
        {
          "name": "stderr",
          "output_type": "stream",
          "text": [
            "t: 100%|██████████| 367/367 [00:41<00:00, 10.99it/s, now=None]WARNING:py.warnings:/usr/local/lib/python3.10/dist-packages/moviepy/video/io/ffmpeg_reader.py:123: UserWarning: Warning: in file /content/ASL_VIDEOS/134-excuse_me_in_asl.mp4, 24883200 bytes wanted but 0 bytes read,at frame 366/367, at time 6.10/6.11 sec. Using the last valid frame instead.\n",
            "  warnings.warn(\"Warning: in file %s, \"%(self.filename)+\n",
            "\n"
          ]
        },
        {
          "name": "stdout",
          "output_type": "stream",
          "text": [
            "Moviepy - Done !\n",
            "Moviepy - video ready /content/resized_ASL_videos/134-excuse_me_in_asl.mp4\n",
            "Resized 134-excuse_me_in_asl.mp4 and saved to /content/resized_ASL_videos/134-excuse_me_in_asl.mp4\n",
            "Moviepy - Building video /content/resized_ASL_videos/044-you_haircut_how_often.mp4.\n",
            "MoviePy - Writing audio in 044-you_haircut_how_oftenTEMP_MPY_wvf_snd.mp4\n"
          ]
        },
        {
          "name": "stderr",
          "output_type": "stream",
          "text": []
        },
        {
          "name": "stdout",
          "output_type": "stream",
          "text": [
            "MoviePy - Done.\n",
            "Moviepy - Writing video /content/resized_ASL_videos/044-you_haircut_how_often.mp4\n",
            "\n"
          ]
        },
        {
          "name": "stderr",
          "output_type": "stream",
          "text": [
            "t: 100%|██████████| 95/95 [00:02<00:00, 34.82it/s, now=None]WARNING:py.warnings:/usr/local/lib/python3.10/dist-packages/moviepy/video/io/ffmpeg_reader.py:123: UserWarning: Warning: in file /content/ASL_VIDEOS/044-you_haircut_how_often.mp4, 6220800 bytes wanted but 0 bytes read,at frame 94/95, at time 3.14/3.14 sec. Using the last valid frame instead.\n",
            "  warnings.warn(\"Warning: in file %s, \"%(self.filename)+\n",
            "\n"
          ]
        },
        {
          "name": "stdout",
          "output_type": "stream",
          "text": [
            "Moviepy - Done !\n",
            "Moviepy - video ready /content/resized_ASL_videos/044-you_haircut_how_often.mp4\n",
            "Resized 044-you_haircut_how_often.mp4 and saved to /content/resized_ASL_videos/044-you_haircut_how_often.mp4\n",
            "Moviepy - Building video /content/resized_ASL_videos/075-bored.mp4.\n",
            "MoviePy - Writing audio in 075-boredTEMP_MPY_wvf_snd.mp4\n"
          ]
        },
        {
          "name": "stderr",
          "output_type": "stream",
          "text": []
        },
        {
          "name": "stdout",
          "output_type": "stream",
          "text": [
            "MoviePy - Done.\n",
            "Moviepy - Writing video /content/resized_ASL_videos/075-bored.mp4\n",
            "\n"
          ]
        },
        {
          "name": "stderr",
          "output_type": "stream",
          "text": [
            "t:  98%|█████████▊| 62/63 [00:01<00:00, 34.02it/s, now=None]WARNING:py.warnings:/usr/local/lib/python3.10/dist-packages/moviepy/video/io/ffmpeg_reader.py:123: UserWarning: Warning: in file /content/ASL_VIDEOS/075-bored.mp4, 6220800 bytes wanted but 0 bytes read,at frame 62/63, at time 2.07/2.09 sec. Using the last valid frame instead.\n",
            "  warnings.warn(\"Warning: in file %s, \"%(self.filename)+\n",
            "\n"
          ]
        },
        {
          "name": "stdout",
          "output_type": "stream",
          "text": [
            "Moviepy - Done !\n",
            "Moviepy - video ready /content/resized_ASL_videos/075-bored.mp4\n",
            "Resized 075-bored.mp4 and saved to /content/resized_ASL_videos/075-bored.mp4\n",
            "Moviepy - Building video /content/resized_ASL_videos/088-restroom_where.mp4.\n",
            "MoviePy - Writing audio in 088-restroom_whereTEMP_MPY_wvf_snd.mp4\n"
          ]
        },
        {
          "name": "stderr",
          "output_type": "stream",
          "text": []
        },
        {
          "name": "stdout",
          "output_type": "stream",
          "text": [
            "MoviePy - Done.\n",
            "Moviepy - Writing video /content/resized_ASL_videos/088-restroom_where.mp4\n",
            "\n"
          ]
        },
        {
          "name": "stderr",
          "output_type": "stream",
          "text": [
            "t:  98%|█████████▊| 83/85 [00:02<00:00, 31.45it/s, now=None]WARNING:py.warnings:/usr/local/lib/python3.10/dist-packages/moviepy/video/io/ffmpeg_reader.py:123: UserWarning: Warning: in file /content/ASL_VIDEOS/088-restroom_where.mp4, 6220800 bytes wanted but 0 bytes read,at frame 83/85, at time 2.77/2.81 sec. Using the last valid frame instead.\n",
            "  warnings.warn(\"Warning: in file %s, \"%(self.filename)+\n",
            "\n",
            "WARNING:py.warnings:/usr/local/lib/python3.10/dist-packages/moviepy/video/io/ffmpeg_reader.py:123: UserWarning: Warning: in file /content/ASL_VIDEOS/088-restroom_where.mp4, 6220800 bytes wanted but 0 bytes read,at frame 84/85, at time 2.80/2.81 sec. Using the last valid frame instead.\n",
            "  warnings.warn(\"Warning: in file %s, \"%(self.filename)+\n",
            "\n"
          ]
        },
        {
          "name": "stdout",
          "output_type": "stream",
          "text": [
            "Moviepy - Done !\n",
            "Moviepy - video ready /content/resized_ASL_videos/088-restroom_where.mp4\n",
            "Resized 088-restroom_where.mp4 and saved to /content/resized_ASL_videos/088-restroom_where.mp4\n",
            "Moviepy - Building video /content/resized_ASL_videos/028-past_weekend_what-do_you_what_did_you_do_last_weekend.mp4.\n",
            "MoviePy - Writing audio in 028-past_weekend_what-do_you_what_did_you_do_last_weekendTEMP_MPY_wvf_snd.mp4\n"
          ]
        },
        {
          "name": "stderr",
          "output_type": "stream",
          "text": []
        },
        {
          "name": "stdout",
          "output_type": "stream",
          "text": [
            "MoviePy - Done.\n",
            "Moviepy - Writing video /content/resized_ASL_videos/028-past_weekend_what-do_you_what_did_you_do_last_weekend.mp4\n",
            "\n"
          ]
        },
        {
          "name": "stderr",
          "output_type": "stream",
          "text": [
            "t:  98%|█████████▊| 127/129 [00:05<00:00, 25.10it/s, now=None]WARNING:py.warnings:/usr/local/lib/python3.10/dist-packages/moviepy/video/io/ffmpeg_reader.py:123: UserWarning: Warning: in file /content/ASL_VIDEOS/028-past_weekend_what-do_you_what_did_you_do_last_weekend.mp4, 6220800 bytes wanted but 0 bytes read,at frame 128/129, at time 4.27/4.28 sec. Using the last valid frame instead.\n",
            "  warnings.warn(\"Warning: in file %s, \"%(self.filename)+\n",
            "\n"
          ]
        },
        {
          "name": "stdout",
          "output_type": "stream",
          "text": [
            "Moviepy - Done !\n",
            "Moviepy - video ready /content/resized_ASL_videos/028-past_weekend_what-do_you_what_did_you_do_last_weekend.mp4\n",
            "Resized 028-past_weekend_what-do_you_what_did_you_do_last_weekend.mp4 and saved to /content/resized_ASL_videos/028-past_weekend_what-do_you_what_did_you_do_last_weekend.mp4\n",
            "Moviepy - Building video /content/resized_ASL_videos/119-help_in_asl.mp4.\n",
            "MoviePy - Writing audio in 119-help_in_aslTEMP_MPY_wvf_snd.mp4\n"
          ]
        },
        {
          "name": "stderr",
          "output_type": "stream",
          "text": []
        },
        {
          "name": "stdout",
          "output_type": "stream",
          "text": [
            "MoviePy - Done.\n",
            "Moviepy - Writing video /content/resized_ASL_videos/119-help_in_asl.mp4\n",
            "\n"
          ]
        },
        {
          "name": "stderr",
          "output_type": "stream",
          "text": [
            "t: 100%|█████████▉| 516/517 [00:56<00:00, 11.21it/s, now=None]WARNING:py.warnings:/usr/local/lib/python3.10/dist-packages/moviepy/video/io/ffmpeg_reader.py:123: UserWarning: Warning: in file /content/ASL_VIDEOS/119-help_in_asl.mp4, 24883200 bytes wanted but 0 bytes read,at frame 516/517, at time 8.60/8.61 sec. Using the last valid frame instead.\n",
            "  warnings.warn(\"Warning: in file %s, \"%(self.filename)+\n",
            "\n"
          ]
        },
        {
          "name": "stdout",
          "output_type": "stream",
          "text": [
            "Moviepy - Done !\n",
            "Moviepy - video ready /content/resized_ASL_videos/119-help_in_asl.mp4\n",
            "Resized 119-help_in_asl.mp4 and saved to /content/resized_ASL_videos/119-help_in_asl.mp4\n",
            "Moviepy - Building video /content/resized_ASL_videos/019-you_sad_why.mp4.\n",
            "MoviePy - Writing audio in 019-you_sad_whyTEMP_MPY_wvf_snd.mp4\n"
          ]
        },
        {
          "name": "stderr",
          "output_type": "stream",
          "text": []
        },
        {
          "name": "stdout",
          "output_type": "stream",
          "text": [
            "MoviePy - Done.\n",
            "Moviepy - Writing video /content/resized_ASL_videos/019-you_sad_why.mp4\n",
            "\n"
          ]
        },
        {
          "name": "stderr",
          "output_type": "stream",
          "text": [
            "t:  98%|█████████▊| 130/132 [00:05<00:00, 22.02it/s, now=None]WARNING:py.warnings:/usr/local/lib/python3.10/dist-packages/moviepy/video/io/ffmpeg_reader.py:123: UserWarning: Warning: in file /content/ASL_VIDEOS/019-you_sad_why.mp4, 6220800 bytes wanted but 0 bytes read,at frame 130/132, at time 4.34/4.38 sec. Using the last valid frame instead.\n",
            "  warnings.warn(\"Warning: in file %s, \"%(self.filename)+\n",
            "\n",
            "WARNING:py.warnings:/usr/local/lib/python3.10/dist-packages/moviepy/video/io/ffmpeg_reader.py:123: UserWarning: Warning: in file /content/ASL_VIDEOS/019-you_sad_why.mp4, 6220800 bytes wanted but 0 bytes read,at frame 131/132, at time 4.37/4.38 sec. Using the last valid frame instead.\n",
            "  warnings.warn(\"Warning: in file %s, \"%(self.filename)+\n",
            "\n"
          ]
        },
        {
          "name": "stdout",
          "output_type": "stream",
          "text": [
            "Moviepy - Done !\n",
            "Moviepy - video ready /content/resized_ASL_videos/019-you_sad_why.mp4\n",
            "Resized 019-you_sad_why.mp4 and saved to /content/resized_ASL_videos/019-you_sad_why.mp4\n",
            "Moviepy - Building video /content/resized_ASL_videos/085-die_two_hand_version.mp4.\n",
            "MoviePy - Writing audio in 085-die_two_hand_versionTEMP_MPY_wvf_snd.mp4\n"
          ]
        },
        {
          "name": "stderr",
          "output_type": "stream",
          "text": []
        },
        {
          "name": "stdout",
          "output_type": "stream",
          "text": [
            "MoviePy - Done.\n",
            "Moviepy - Writing video /content/resized_ASL_videos/085-die_two_hand_version.mp4\n",
            "\n"
          ]
        },
        {
          "name": "stderr",
          "output_type": "stream",
          "text": [
            "t:  95%|█████████▌| 103/108 [00:01<00:00, 58.70it/s, now=None]WARNING:py.warnings:/usr/local/lib/python3.10/dist-packages/moviepy/video/io/ffmpeg_reader.py:123: UserWarning: Warning: in file /content/ASL_VIDEOS/085-die_two_hand_version.mp4, 1226880 bytes wanted but 0 bytes read,at frame 106/108, at time 3.54/3.60 sec. Using the last valid frame instead.\n",
            "  warnings.warn(\"Warning: in file %s, \"%(self.filename)+\n",
            "\n",
            "WARNING:py.warnings:/usr/local/lib/python3.10/dist-packages/moviepy/video/io/ffmpeg_reader.py:123: UserWarning: Warning: in file /content/ASL_VIDEOS/085-die_two_hand_version.mp4, 1226880 bytes wanted but 0 bytes read,at frame 107/108, at time 3.57/3.60 sec. Using the last valid frame instead.\n",
            "  warnings.warn(\"Warning: in file %s, \"%(self.filename)+\n",
            "\n"
          ]
        },
        {
          "name": "stdout",
          "output_type": "stream",
          "text": [
            "Moviepy - Done !\n",
            "Moviepy - video ready /content/resized_ASL_videos/085-die_two_hand_version.mp4\n",
            "Resized 085-die_two_hand_version.mp4 and saved to /content/resized_ASL_videos/085-die_two_hand_version.mp4\n",
            "Moviepy - Building video /content/resized_ASL_videos/073-boyfriend.mp4.\n",
            "MoviePy - Writing audio in 073-boyfriendTEMP_MPY_wvf_snd.mp4\n"
          ]
        },
        {
          "name": "stderr",
          "output_type": "stream",
          "text": []
        },
        {
          "name": "stdout",
          "output_type": "stream",
          "text": [
            "MoviePy - Done.\n",
            "Moviepy - Writing video /content/resized_ASL_videos/073-boyfriend.mp4\n",
            "\n"
          ]
        },
        {
          "name": "stderr",
          "output_type": "stream",
          "text": [
            "t:  98%|█████████▊| 94/96 [00:02<00:00, 32.74it/s, now=None]WARNING:py.warnings:/usr/local/lib/python3.10/dist-packages/moviepy/video/io/ffmpeg_reader.py:123: UserWarning: Warning: in file /content/ASL_VIDEOS/073-boyfriend.mp4, 6220800 bytes wanted but 0 bytes read,at frame 94/96, at time 3.14/3.18 sec. Using the last valid frame instead.\n",
            "  warnings.warn(\"Warning: in file %s, \"%(self.filename)+\n",
            "\n",
            "WARNING:py.warnings:/usr/local/lib/python3.10/dist-packages/moviepy/video/io/ffmpeg_reader.py:123: UserWarning: Warning: in file /content/ASL_VIDEOS/073-boyfriend.mp4, 6220800 bytes wanted but 0 bytes read,at frame 95/96, at time 3.17/3.18 sec. Using the last valid frame instead.\n",
            "  warnings.warn(\"Warning: in file %s, \"%(self.filename)+\n",
            "\n"
          ]
        },
        {
          "name": "stdout",
          "output_type": "stream",
          "text": [
            "Moviepy - Done !\n",
            "Moviepy - video ready /content/resized_ASL_videos/073-boyfriend.mp4\n",
            "Resized 073-boyfriend.mp4 and saved to /content/resized_ASL_videos/073-boyfriend.mp4\n",
            "Moviepy - Building video /content/resized_ASL_videos/107-america_in_asl.mp4.\n",
            "MoviePy - Writing audio in 107-america_in_aslTEMP_MPY_wvf_snd.mp4\n"
          ]
        },
        {
          "name": "stderr",
          "output_type": "stream",
          "text": []
        },
        {
          "name": "stdout",
          "output_type": "stream",
          "text": [
            "MoviePy - Done.\n",
            "Moviepy - Writing video /content/resized_ASL_videos/107-america_in_asl.mp4\n",
            "\n"
          ]
        },
        {
          "name": "stderr",
          "output_type": "stream",
          "text": [
            "t: 100%|██████████| 356/356 [00:40<00:00, 11.05it/s, now=None]WARNING:py.warnings:/usr/local/lib/python3.10/dist-packages/moviepy/video/io/ffmpeg_reader.py:123: UserWarning: Warning: in file /content/ASL_VIDEOS/107-america_in_asl.mp4, 24883200 bytes wanted but 0 bytes read,at frame 355/356, at time 5.92/5.93 sec. Using the last valid frame instead.\n",
            "  warnings.warn(\"Warning: in file %s, \"%(self.filename)+\n",
            "\n"
          ]
        },
        {
          "name": "stdout",
          "output_type": "stream",
          "text": [
            "Moviepy - Done !\n",
            "Moviepy - video ready /content/resized_ASL_videos/107-america_in_asl.mp4\n",
            "Resized 107-america_in_asl.mp4 and saved to /content/resized_ASL_videos/107-america_in_asl.mp4\n",
            "Moviepy - Building video /content/resized_ASL_videos/008-who.mp4.\n",
            "MoviePy - Writing audio in 008-whoTEMP_MPY_wvf_snd.mp4\n"
          ]
        },
        {
          "name": "stderr",
          "output_type": "stream",
          "text": []
        },
        {
          "name": "stdout",
          "output_type": "stream",
          "text": [
            "MoviePy - Done.\n",
            "Moviepy - Writing video /content/resized_ASL_videos/008-who.mp4\n",
            "\n"
          ]
        },
        {
          "name": "stderr",
          "output_type": "stream",
          "text": [
            "t:  99%|█████████▉| 84/85 [00:02<00:00, 32.70it/s, now=None]WARNING:py.warnings:/usr/local/lib/python3.10/dist-packages/moviepy/video/io/ffmpeg_reader.py:123: UserWarning: Warning: in file /content/ASL_VIDEOS/008-who.mp4, 6220800 bytes wanted but 0 bytes read,at frame 84/85, at time 2.80/2.82 sec. Using the last valid frame instead.\n",
            "  warnings.warn(\"Warning: in file %s, \"%(self.filename)+\n",
            "\n"
          ]
        },
        {
          "name": "stdout",
          "output_type": "stream",
          "text": [
            "Moviepy - Done !\n",
            "Moviepy - video ready /content/resized_ASL_videos/008-who.mp4\n",
            "Resized 008-who.mp4 and saved to /content/resized_ASL_videos/008-who.mp4\n",
            "Moviepy - Building video /content/resized_ASL_videos/053-food_enough_you.mp4.\n",
            "MoviePy - Writing audio in 053-food_enough_youTEMP_MPY_wvf_snd.mp4\n"
          ]
        },
        {
          "name": "stderr",
          "output_type": "stream",
          "text": []
        },
        {
          "name": "stdout",
          "output_type": "stream",
          "text": [
            "MoviePy - Done.\n",
            "Moviepy - Writing video /content/resized_ASL_videos/053-food_enough_you.mp4\n",
            "\n"
          ]
        },
        {
          "name": "stderr",
          "output_type": "stream",
          "text": [
            "t:  98%|█████████▊| 98/100 [00:02<00:00, 31.58it/s, now=None]WARNING:py.warnings:/usr/local/lib/python3.10/dist-packages/moviepy/video/io/ffmpeg_reader.py:123: UserWarning: Warning: in file /content/ASL_VIDEOS/053-food_enough_you.mp4, 6220800 bytes wanted but 0 bytes read,at frame 98/100, at time 3.27/3.32 sec. Using the last valid frame instead.\n",
            "  warnings.warn(\"Warning: in file %s, \"%(self.filename)+\n",
            "\n",
            "WARNING:py.warnings:/usr/local/lib/python3.10/dist-packages/moviepy/video/io/ffmpeg_reader.py:123: UserWarning: Warning: in file /content/ASL_VIDEOS/053-food_enough_you.mp4, 6220800 bytes wanted but 0 bytes read,at frame 99/100, at time 3.30/3.32 sec. Using the last valid frame instead.\n",
            "  warnings.warn(\"Warning: in file %s, \"%(self.filename)+\n",
            "\n"
          ]
        },
        {
          "name": "stdout",
          "output_type": "stream",
          "text": [
            "Moviepy - Done !\n",
            "Moviepy - video ready /content/resized_ASL_videos/053-food_enough_you.mp4\n",
            "Resized 053-food_enough_you.mp4 and saved to /content/resized_ASL_videos/053-food_enough_you.mp4\n",
            "Moviepy - Building video /content/resized_ASL_videos/116-handsome_in_asl.mp4.\n",
            "MoviePy - Writing audio in 116-handsome_in_aslTEMP_MPY_wvf_snd.mp4\n"
          ]
        },
        {
          "name": "stderr",
          "output_type": "stream",
          "text": []
        },
        {
          "name": "stdout",
          "output_type": "stream",
          "text": [
            "MoviePy - Done.\n",
            "Moviepy - Writing video /content/resized_ASL_videos/116-handsome_in_asl.mp4\n",
            "\n"
          ]
        },
        {
          "name": "stderr",
          "output_type": "stream",
          "text": [
            "t:  99%|█████████▉| 354/356 [00:39<00:00, 11.30it/s, now=None]WARNING:py.warnings:/usr/local/lib/python3.10/dist-packages/moviepy/video/io/ffmpeg_reader.py:123: UserWarning: Warning: in file /content/ASL_VIDEOS/116-handsome_in_asl.mp4, 24883200 bytes wanted but 0 bytes read,at frame 354/356, at time 5.90/5.92 sec. Using the last valid frame instead.\n",
            "  warnings.warn(\"Warning: in file %s, \"%(self.filename)+\n",
            "\n",
            "t: 100%|██████████| 356/356 [00:40<00:00, 12.28it/s, now=None]WARNING:py.warnings:/usr/local/lib/python3.10/dist-packages/moviepy/video/io/ffmpeg_reader.py:123: UserWarning: Warning: in file /content/ASL_VIDEOS/116-handsome_in_asl.mp4, 24883200 bytes wanted but 0 bytes read,at frame 355/356, at time 5.92/5.92 sec. Using the last valid frame instead.\n",
            "  warnings.warn(\"Warning: in file %s, \"%(self.filename)+\n",
            "\n"
          ]
        },
        {
          "name": "stdout",
          "output_type": "stream",
          "text": [
            "Moviepy - Done !\n",
            "Moviepy - video ready /content/resized_ASL_videos/116-handsome_in_asl.mp4\n",
            "Resized 116-handsome_in_asl.mp4 and saved to /content/resized_ASL_videos/116-handsome_in_asl.mp4\n",
            "Moviepy - Building video /content/resized_ASL_videos/144-true_in_asl.mp4.\n",
            "MoviePy - Writing audio in 144-true_in_aslTEMP_MPY_wvf_snd.mp4\n"
          ]
        },
        {
          "name": "stderr",
          "output_type": "stream",
          "text": []
        },
        {
          "name": "stdout",
          "output_type": "stream",
          "text": [
            "MoviePy - Done.\n",
            "Moviepy - Writing video /content/resized_ASL_videos/144-true_in_asl.mp4\n",
            "\n"
          ]
        },
        {
          "name": "stderr",
          "output_type": "stream",
          "text": [
            "t: 100%|█████████▉| 254/255 [00:27<00:00, 11.40it/s, now=None]WARNING:py.warnings:/usr/local/lib/python3.10/dist-packages/moviepy/video/io/ffmpeg_reader.py:123: UserWarning: Warning: in file /content/ASL_VIDEOS/144-true_in_asl.mp4, 24883200 bytes wanted but 0 bytes read,at frame 254/256, at time 4.23/4.25 sec. Using the last valid frame instead.\n",
            "  warnings.warn(\"Warning: in file %s, \"%(self.filename)+\n",
            "\n"
          ]
        },
        {
          "name": "stdout",
          "output_type": "stream",
          "text": [
            "Moviepy - Done !\n",
            "Moviepy - video ready /content/resized_ASL_videos/144-true_in_asl.mp4\n",
            "Resized 144-true_in_asl.mp4 and saved to /content/resized_ASL_videos/144-true_in_asl.mp4\n",
            "Moviepy - Building video /content/resized_ASL_videos/129-dont_want_in_asl.mp4.\n",
            "MoviePy - Writing audio in 129-dont_want_in_aslTEMP_MPY_wvf_snd.mp4\n"
          ]
        },
        {
          "name": "stderr",
          "output_type": "stream",
          "text": []
        },
        {
          "name": "stdout",
          "output_type": "stream",
          "text": [
            "MoviePy - Done.\n",
            "Moviepy - Writing video /content/resized_ASL_videos/129-dont_want_in_asl.mp4\n",
            "\n"
          ]
        },
        {
          "name": "stderr",
          "output_type": "stream",
          "text": [
            "t: 100%|██████████| 300/300 [00:33<00:00, 11.01it/s, now=None]WARNING:py.warnings:/usr/local/lib/python3.10/dist-packages/moviepy/video/io/ffmpeg_reader.py:123: UserWarning: Warning: in file /content/ASL_VIDEOS/129-dont_want_in_asl.mp4, 24883200 bytes wanted but 0 bytes read,at frame 299/301, at time 4.98/5.00 sec. Using the last valid frame instead.\n",
            "  warnings.warn(\"Warning: in file %s, \"%(self.filename)+\n",
            "\n"
          ]
        },
        {
          "name": "stdout",
          "output_type": "stream",
          "text": [
            "Moviepy - Done !\n",
            "Moviepy - video ready /content/resized_ASL_videos/129-dont_want_in_asl.mp4\n",
            "Resized 129-dont_want_in_asl.mp4 and saved to /content/resized_ASL_videos/129-dont_want_in_asl.mp4\n",
            "Moviepy - Building video /content/resized_ASL_videos/102-busy_in_asl.mp4.\n",
            "MoviePy - Writing audio in 102-busy_in_aslTEMP_MPY_wvf_snd.mp4\n"
          ]
        },
        {
          "name": "stderr",
          "output_type": "stream",
          "text": []
        },
        {
          "name": "stdout",
          "output_type": "stream",
          "text": [
            "MoviePy - Done.\n",
            "Moviepy - Writing video /content/resized_ASL_videos/102-busy_in_asl.mp4\n",
            "\n"
          ]
        },
        {
          "name": "stderr",
          "output_type": "stream",
          "text": [
            "t:  99%|█████████▉| 393/395 [00:44<00:00, 11.33it/s, now=None]WARNING:py.warnings:/usr/local/lib/python3.10/dist-packages/moviepy/video/io/ffmpeg_reader.py:123: UserWarning: Warning: in file /content/ASL_VIDEOS/102-busy_in_asl.mp4, 24883200 bytes wanted but 0 bytes read,at frame 393/395, at time 6.55/6.57 sec. Using the last valid frame instead.\n",
            "  warnings.warn(\"Warning: in file %s, \"%(self.filename)+\n",
            "\n",
            "t: 100%|██████████| 395/395 [00:44<00:00, 12.06it/s, now=None]WARNING:py.warnings:/usr/local/lib/python3.10/dist-packages/moviepy/video/io/ffmpeg_reader.py:123: UserWarning: Warning: in file /content/ASL_VIDEOS/102-busy_in_asl.mp4, 24883200 bytes wanted but 0 bytes read,at frame 394/395, at time 6.57/6.57 sec. Using the last valid frame instead.\n",
            "  warnings.warn(\"Warning: in file %s, \"%(self.filename)+\n",
            "\n"
          ]
        },
        {
          "name": "stdout",
          "output_type": "stream",
          "text": [
            "Moviepy - Done !\n",
            "Moviepy - video ready /content/resized_ASL_videos/102-busy_in_asl.mp4\n",
            "Resized 102-busy_in_asl.mp4 and saved to /content/resized_ASL_videos/102-busy_in_asl.mp4\n",
            "Moviepy - Building video /content/resized_ASL_videos/110-how_old_are_you_in_asl.mp4.\n",
            "MoviePy - Writing audio in 110-how_old_are_you_in_aslTEMP_MPY_wvf_snd.mp4\n"
          ]
        },
        {
          "name": "stderr",
          "output_type": "stream",
          "text": []
        },
        {
          "name": "stdout",
          "output_type": "stream",
          "text": [
            "MoviePy - Done.\n",
            "Moviepy - Writing video /content/resized_ASL_videos/110-how_old_are_you_in_asl.mp4\n",
            "\n"
          ]
        },
        {
          "name": "stderr",
          "output_type": "stream",
          "text": [
            "t: 100%|██████████| 435/435 [00:47<00:00,  8.91it/s, now=None]WARNING:py.warnings:/usr/local/lib/python3.10/dist-packages/moviepy/video/io/ffmpeg_reader.py:123: UserWarning: Warning: in file /content/ASL_VIDEOS/110-how_old_are_you_in_asl.mp4, 24883200 bytes wanted but 0 bytes read,at frame 434/436, at time 7.23/7.25 sec. Using the last valid frame instead.\n",
            "  warnings.warn(\"Warning: in file %s, \"%(self.filename)+\n",
            "\n"
          ]
        },
        {
          "name": "stdout",
          "output_type": "stream",
          "text": [
            "Moviepy - Done !\n",
            "Moviepy - video ready /content/resized_ASL_videos/110-how_old_are_you_in_asl.mp4\n",
            "Resized 110-how_old_are_you_in_asl.mp4 and saved to /content/resized_ASL_videos/110-how_old_are_you_in_asl.mp4\n",
            "Moviepy - Building video /content/resized_ASL_videos/051-hide_seek_you_like_play.mp4.\n",
            "MoviePy - Writing audio in 051-hide_seek_you_like_playTEMP_MPY_wvf_snd.mp4\n"
          ]
        },
        {
          "name": "stderr",
          "output_type": "stream",
          "text": []
        },
        {
          "name": "stdout",
          "output_type": "stream",
          "text": [
            "MoviePy - Done.\n",
            "Moviepy - Writing video /content/resized_ASL_videos/051-hide_seek_you_like_play.mp4\n",
            "\n"
          ]
        },
        {
          "name": "stderr",
          "output_type": "stream",
          "text": [
            "t: 100%|██████████| 155/155 [00:05<00:00, 34.08it/s, now=None]WARNING:py.warnings:/usr/local/lib/python3.10/dist-packages/moviepy/video/io/ffmpeg_reader.py:123: UserWarning: Warning: in file /content/ASL_VIDEOS/051-hide_seek_you_like_play.mp4, 6220800 bytes wanted but 0 bytes read,at frame 154/155, at time 5.14/5.16 sec. Using the last valid frame instead.\n",
            "  warnings.warn(\"Warning: in file %s, \"%(self.filename)+\n",
            "\n"
          ]
        },
        {
          "name": "stdout",
          "output_type": "stream",
          "text": [
            "Moviepy - Done !\n",
            "Moviepy - video ready /content/resized_ASL_videos/051-hide_seek_you_like_play.mp4\n",
            "Resized 051-hide_seek_you_like_play.mp4 and saved to /content/resized_ASL_videos/051-hide_seek_you_like_play.mp4\n",
            "Moviepy - Building video /content/resized_ASL_videos/086-restroom.mp4.\n",
            "MoviePy - Writing audio in 086-restroomTEMP_MPY_wvf_snd.mp4\n"
          ]
        },
        {
          "name": "stderr",
          "output_type": "stream",
          "text": []
        },
        {
          "name": "stdout",
          "output_type": "stream",
          "text": [
            "MoviePy - Done.\n",
            "Moviepy - Writing video /content/resized_ASL_videos/086-restroom.mp4\n",
            "\n"
          ]
        },
        {
          "name": "stderr",
          "output_type": "stream",
          "text": [
            "t:  99%|█████████▊| 68/69 [00:01<00:00, 36.10it/s, now=None]WARNING:py.warnings:/usr/local/lib/python3.10/dist-packages/moviepy/video/io/ffmpeg_reader.py:123: UserWarning: Warning: in file /content/ASL_VIDEOS/086-restroom.mp4, 6220800 bytes wanted but 0 bytes read,at frame 67/69, at time 2.24/2.27 sec. Using the last valid frame instead.\n",
            "  warnings.warn(\"Warning: in file %s, \"%(self.filename)+\n",
            "\n",
            "WARNING:py.warnings:/usr/local/lib/python3.10/dist-packages/moviepy/video/io/ffmpeg_reader.py:123: UserWarning: Warning: in file /content/ASL_VIDEOS/086-restroom.mp4, 6220800 bytes wanted but 0 bytes read,at frame 68/69, at time 2.27/2.27 sec. Using the last valid frame instead.\n",
            "  warnings.warn(\"Warning: in file %s, \"%(self.filename)+\n",
            "\n"
          ]
        },
        {
          "name": "stdout",
          "output_type": "stream",
          "text": [
            "Moviepy - Done !\n",
            "Moviepy - video ready /content/resized_ASL_videos/086-restroom.mp4\n",
            "Resized 086-restroom.mp4 and saved to /content/resized_ASL_videos/086-restroom.mp4\n",
            "Moviepy - Building video /content/resized_ASL_videos/082-like.mp4.\n",
            "MoviePy - Writing audio in 082-likeTEMP_MPY_wvf_snd.mp4\n"
          ]
        },
        {
          "name": "stderr",
          "output_type": "stream",
          "text": [
            "                                                       "
          ]
        },
        {
          "name": "stdout",
          "output_type": "stream",
          "text": [
            "MoviePy - Done.\n",
            "Moviepy - Writing video /content/resized_ASL_videos/082-like.mp4\n",
            "\n"
          ]
        },
        {
          "name": "stderr",
          "output_type": "stream",
          "text": [
            "t:  96%|█████████▌| 70/73 [00:01<00:00, 34.25it/s, now=None]WARNING:py.warnings:/usr/local/lib/python3.10/dist-packages/moviepy/video/io/ffmpeg_reader.py:123: UserWarning: Warning: in file /content/ASL_VIDEOS/082-like.mp4, 6220800 bytes wanted but 0 bytes read,at frame 72/73, at time 2.40/2.43 sec. Using the last valid frame instead.\n",
            "  warnings.warn(\"Warning: in file %s, \"%(self.filename)+\n",
            "\n"
          ]
        },
        {
          "name": "stdout",
          "output_type": "stream",
          "text": [
            "Moviepy - Done !\n",
            "Moviepy - video ready /content/resized_ASL_videos/082-like.mp4\n",
            "Resized 082-like.mp4 and saved to /content/resized_ASL_videos/082-like.mp4\n",
            "Moviepy - Building video /content/resized_ASL_videos/077-mad.mp4.\n",
            "MoviePy - Writing audio in 077-madTEMP_MPY_wvf_snd.mp4\n"
          ]
        },
        {
          "name": "stderr",
          "output_type": "stream",
          "text": []
        },
        {
          "name": "stdout",
          "output_type": "stream",
          "text": [
            "MoviePy - Done.\n",
            "Moviepy - Writing video /content/resized_ASL_videos/077-mad.mp4\n",
            "\n"
          ]
        },
        {
          "name": "stderr",
          "output_type": "stream",
          "text": [
            "t:  94%|█████████▍| 65/69 [00:01<00:00, 33.24it/s, now=None]WARNING:py.warnings:/usr/local/lib/python3.10/dist-packages/moviepy/video/io/ffmpeg_reader.py:123: UserWarning: Warning: in file /content/ASL_VIDEOS/077-mad.mp4, 6220800 bytes wanted but 0 bytes read,at frame 67/69, at time 2.24/2.27 sec. Using the last valid frame instead.\n",
            "  warnings.warn(\"Warning: in file %s, \"%(self.filename)+\n",
            "\n",
            "t: 100%|██████████| 69/69 [00:01<00:00, 31.14it/s, now=None]WARNING:py.warnings:/usr/local/lib/python3.10/dist-packages/moviepy/video/io/ffmpeg_reader.py:123: UserWarning: Warning: in file /content/ASL_VIDEOS/077-mad.mp4, 6220800 bytes wanted but 0 bytes read,at frame 68/69, at time 2.27/2.27 sec. Using the last valid frame instead.\n",
            "  warnings.warn(\"Warning: in file %s, \"%(self.filename)+\n",
            "\n"
          ]
        },
        {
          "name": "stdout",
          "output_type": "stream",
          "text": [
            "Moviepy - Done !\n",
            "Moviepy - video ready /content/resized_ASL_videos/077-mad.mp4\n",
            "Resized 077-mad.mp4 and saved to /content/resized_ASL_videos/077-mad.mp4\n",
            "Moviepy - Building video /content/resized_ASL_videos/074-fearafraidscare_scared.mp4.\n",
            "MoviePy - Writing audio in 074-fearafraidscare_scaredTEMP_MPY_wvf_snd.mp4\n"
          ]
        },
        {
          "name": "stderr",
          "output_type": "stream",
          "text": []
        },
        {
          "name": "stdout",
          "output_type": "stream",
          "text": [
            "MoviePy - Done.\n",
            "Moviepy - Writing video /content/resized_ASL_videos/074-fearafraidscare_scared.mp4\n",
            "\n"
          ]
        },
        {
          "name": "stderr",
          "output_type": "stream",
          "text": [
            "t:  97%|█████████▋| 93/96 [00:03<00:00, 31.89it/s, now=None]WARNING:py.warnings:/usr/local/lib/python3.10/dist-packages/moviepy/video/io/ffmpeg_reader.py:123: UserWarning: Warning: in file /content/ASL_VIDEOS/074-fearafraidscare_scared.mp4, 6220800 bytes wanted but 0 bytes read,at frame 95/96, at time 3.17/3.20 sec. Using the last valid frame instead.\n",
            "  warnings.warn(\"Warning: in file %s, \"%(self.filename)+\n",
            "\n"
          ]
        },
        {
          "name": "stdout",
          "output_type": "stream",
          "text": [
            "Moviepy - Done !\n",
            "Moviepy - video ready /content/resized_ASL_videos/074-fearafraidscare_scared.mp4\n",
            "Resized 074-fearafraidscare_scared.mp4 and saved to /content/resized_ASL_videos/074-fearafraidscare_scared.mp4\n",
            "Moviepy - Building video /content/resized_ASL_videos/135-goodnight_in_asl.mp4.\n",
            "MoviePy - Writing audio in 135-goodnight_in_aslTEMP_MPY_wvf_snd.mp4\n"
          ]
        },
        {
          "name": "stderr",
          "output_type": "stream",
          "text": []
        },
        {
          "name": "stdout",
          "output_type": "stream",
          "text": [
            "MoviePy - Done.\n",
            "Moviepy - Writing video /content/resized_ASL_videos/135-goodnight_in_asl.mp4\n",
            "\n"
          ]
        },
        {
          "name": "stderr",
          "output_type": "stream",
          "text": [
            "t: 100%|█████████▉| 277/278 [00:30<00:00, 11.45it/s, now=None]WARNING:py.warnings:/usr/local/lib/python3.10/dist-packages/moviepy/video/io/ffmpeg_reader.py:123: UserWarning: Warning: in file /content/ASL_VIDEOS/135-goodnight_in_asl.mp4, 24883200 bytes wanted but 0 bytes read,at frame 277/278, at time 4.62/4.63 sec. Using the last valid frame instead.\n",
            "  warnings.warn(\"Warning: in file %s, \"%(self.filename)+\n",
            "\n"
          ]
        },
        {
          "name": "stdout",
          "output_type": "stream",
          "text": [
            "Moviepy - Done !\n",
            "Moviepy - video ready /content/resized_ASL_videos/135-goodnight_in_asl.mp4\n",
            "Resized 135-goodnight_in_asl.mp4 and saved to /content/resized_ASL_videos/135-goodnight_in_asl.mp4\n",
            "Moviepy - Building video /content/resized_ASL_videos/054-you_prefer_live_single-alone_bodyshift_or_roommate-match_which.mp4.\n",
            "MoviePy - Writing audio in 054-you_prefer_live_single-alone_bodyshift_or_roommate-match_whichTEMP_MPY_wvf_snd.mp4\n"
          ]
        },
        {
          "name": "stderr",
          "output_type": "stream",
          "text": []
        },
        {
          "name": "stdout",
          "output_type": "stream",
          "text": [
            "MoviePy - Done.\n",
            "Moviepy - Writing video /content/resized_ASL_videos/054-you_prefer_live_single-alone_bodyshift_or_roommate-match_which.mp4\n",
            "\n"
          ]
        },
        {
          "name": "stderr",
          "output_type": "stream",
          "text": [
            "t:  99%|█████████▊| 231/234 [00:07<00:00, 30.53it/s, now=None]WARNING:py.warnings:/usr/local/lib/python3.10/dist-packages/moviepy/video/io/ffmpeg_reader.py:123: UserWarning: Warning: in file /content/ASL_VIDEOS/054-you_prefer_live_single-alone_bodyshift_or_roommate-match_which.mp4, 6220800 bytes wanted but 0 bytes read,at frame 233/235, at time 7.77/7.80 sec. Using the last valid frame instead.\n",
            "  warnings.warn(\"Warning: in file %s, \"%(self.filename)+\n",
            "\n"
          ]
        },
        {
          "name": "stdout",
          "output_type": "stream",
          "text": [
            "Moviepy - Done !\n",
            "Moviepy - video ready /content/resized_ASL_videos/054-you_prefer_live_single-alone_bodyshift_or_roommate-match_which.mp4\n",
            "Resized 054-you_prefer_live_single-alone_bodyshift_or_roommate-match_which.mp4 and saved to /content/resized_ASL_videos/054-you_prefer_live_single-alone_bodyshift_or_roommate-match_which.mp4\n",
            "Moviepy - Building video /content/resized_ASL_videos/009-why.mp4.\n",
            "MoviePy - Writing audio in 009-whyTEMP_MPY_wvf_snd.mp4\n"
          ]
        },
        {
          "name": "stderr",
          "output_type": "stream",
          "text": []
        },
        {
          "name": "stdout",
          "output_type": "stream",
          "text": [
            "MoviePy - Done.\n",
            "Moviepy - Writing video /content/resized_ASL_videos/009-why.mp4\n",
            "\n"
          ]
        },
        {
          "name": "stderr",
          "output_type": "stream",
          "text": [
            "t:  98%|█████████▊| 83/85 [00:03<00:00, 20.68it/s, now=None]WARNING:py.warnings:/usr/local/lib/python3.10/dist-packages/moviepy/video/io/ffmpeg_reader.py:123: UserWarning: Warning: in file /content/ASL_VIDEOS/009-why.mp4, 6220800 bytes wanted but 0 bytes read,at frame 84/85, at time 2.80/2.82 sec. Using the last valid frame instead.\n",
            "  warnings.warn(\"Warning: in file %s, \"%(self.filename)+\n",
            "\n"
          ]
        },
        {
          "name": "stdout",
          "output_type": "stream",
          "text": [
            "Moviepy - Done !\n",
            "Moviepy - video ready /content/resized_ASL_videos/009-why.mp4\n",
            "Resized 009-why.mp4 and saved to /content/resized_ASL_videos/009-why.mp4\n",
            "Moviepy - Building video /content/resized_ASL_videos/079-you_afraid_what.mp4.\n",
            "MoviePy - Writing audio in 079-you_afraid_whatTEMP_MPY_wvf_snd.mp4\n"
          ]
        },
        {
          "name": "stderr",
          "output_type": "stream",
          "text": []
        },
        {
          "name": "stdout",
          "output_type": "stream",
          "text": [
            "MoviePy - Done.\n",
            "Moviepy - Writing video /content/resized_ASL_videos/079-you_afraid_what.mp4\n",
            "\n"
          ]
        },
        {
          "name": "stderr",
          "output_type": "stream",
          "text": [
            "t:  96%|█████████▌| 86/90 [00:02<00:00, 29.96it/s, now=None]WARNING:py.warnings:/usr/local/lib/python3.10/dist-packages/moviepy/video/io/ffmpeg_reader.py:123: UserWarning: Warning: in file /content/ASL_VIDEOS/079-you_afraid_what.mp4, 6220800 bytes wanted but 0 bytes read,at frame 88/90, at time 2.94/2.99 sec. Using the last valid frame instead.\n",
            "  warnings.warn(\"Warning: in file %s, \"%(self.filename)+\n",
            "\n",
            "t: 100%|██████████| 90/90 [00:02<00:00, 30.12it/s, now=None]WARNING:py.warnings:/usr/local/lib/python3.10/dist-packages/moviepy/video/io/ffmpeg_reader.py:123: UserWarning: Warning: in file /content/ASL_VIDEOS/079-you_afraid_what.mp4, 6220800 bytes wanted but 0 bytes read,at frame 89/90, at time 2.97/2.99 sec. Using the last valid frame instead.\n",
            "  warnings.warn(\"Warning: in file %s, \"%(self.filename)+\n",
            "\n"
          ]
        },
        {
          "name": "stdout",
          "output_type": "stream",
          "text": [
            "Moviepy - Done !\n",
            "Moviepy - video ready /content/resized_ASL_videos/079-you_afraid_what.mp4\n",
            "Resized 079-you_afraid_what.mp4 and saved to /content/resized_ASL_videos/079-you_afraid_what.mp4\n",
            "Moviepy - Building video /content/resized_ASL_videos/016-you_live_where.mp4.\n",
            "MoviePy - Writing audio in 016-you_live_whereTEMP_MPY_wvf_snd.mp4\n"
          ]
        },
        {
          "name": "stderr",
          "output_type": "stream",
          "text": []
        },
        {
          "name": "stdout",
          "output_type": "stream",
          "text": [
            "MoviePy - Done.\n",
            "Moviepy - Writing video /content/resized_ASL_videos/016-you_live_where.mp4\n",
            "\n"
          ]
        },
        {
          "name": "stderr",
          "output_type": "stream",
          "text": [
            "t:  99%|█████████▉| 82/83 [00:02<00:00, 34.34it/s, now=None]WARNING:py.warnings:/usr/local/lib/python3.10/dist-packages/moviepy/video/io/ffmpeg_reader.py:123: UserWarning: Warning: in file /content/ASL_VIDEOS/016-you_live_where.mp4, 6220800 bytes wanted but 0 bytes read,at frame 82/83, at time 2.74/2.76 sec. Using the last valid frame instead.\n",
            "  warnings.warn(\"Warning: in file %s, \"%(self.filename)+\n",
            "\n"
          ]
        },
        {
          "name": "stdout",
          "output_type": "stream",
          "text": [
            "Moviepy - Done !\n",
            "Moviepy - video ready /content/resized_ASL_videos/016-you_live_where.mp4\n",
            "Resized 016-you_live_where.mp4 and saved to /content/resized_ASL_videos/016-you_live_where.mp4\n",
            "Moviepy - Building video /content/resized_ASL_videos/005-teacher.mp4.\n",
            "MoviePy - Writing audio in 005-teacherTEMP_MPY_wvf_snd.mp4\n"
          ]
        },
        {
          "name": "stderr",
          "output_type": "stream",
          "text": [
            "                                                       "
          ]
        },
        {
          "name": "stdout",
          "output_type": "stream",
          "text": [
            "MoviePy - Done.\n",
            "Moviepy - Writing video /content/resized_ASL_videos/005-teacher.mp4\n",
            "\n"
          ]
        },
        {
          "name": "stderr",
          "output_type": "stream",
          "text": [
            "t:  96%|█████████▋| 82/85 [00:02<00:00, 31.26it/s, now=None]WARNING:py.warnings:/usr/local/lib/python3.10/dist-packages/moviepy/video/io/ffmpeg_reader.py:123: UserWarning: Warning: in file /content/ASL_VIDEOS/005-teacher.mp4, 6220800 bytes wanted but 0 bytes read,at frame 84/85, at time 2.80/2.83 sec. Using the last valid frame instead.\n",
            "  warnings.warn(\"Warning: in file %s, \"%(self.filename)+\n",
            "\n"
          ]
        },
        {
          "name": "stdout",
          "output_type": "stream",
          "text": [
            "Moviepy - Done !\n",
            "Moviepy - video ready /content/resized_ASL_videos/005-teacher.mp4\n",
            "Resized 005-teacher.mp4 and saved to /content/resized_ASL_videos/005-teacher.mp4\n",
            "Moviepy - Building video /content/resized_ASL_videos/118-have_in_asl.mp4.\n",
            "MoviePy - Writing audio in 118-have_in_aslTEMP_MPY_wvf_snd.mp4\n"
          ]
        },
        {
          "name": "stderr",
          "output_type": "stream",
          "text": []
        },
        {
          "name": "stdout",
          "output_type": "stream",
          "text": [
            "MoviePy - Done.\n",
            "Moviepy - Writing video /content/resized_ASL_videos/118-have_in_asl.mp4\n",
            "\n"
          ]
        },
        {
          "name": "stderr",
          "output_type": "stream",
          "text": [
            "t: 100%|█████████▉| 387/388 [00:43<00:00, 11.10it/s, now=None]WARNING:py.warnings:/usr/local/lib/python3.10/dist-packages/moviepy/video/io/ffmpeg_reader.py:123: UserWarning: Warning: in file /content/ASL_VIDEOS/118-have_in_asl.mp4, 24883200 bytes wanted but 0 bytes read,at frame 387/388, at time 6.45/6.46 sec. Using the last valid frame instead.\n",
            "  warnings.warn(\"Warning: in file %s, \"%(self.filename)+\n",
            "\n"
          ]
        },
        {
          "name": "stdout",
          "output_type": "stream",
          "text": [
            "Moviepy - Done !\n",
            "Moviepy - video ready /content/resized_ASL_videos/118-have_in_asl.mp4\n",
            "Resized 118-have_in_asl.mp4 and saved to /content/resized_ASL_videos/118-have_in_asl.mp4\n",
            "Moviepy - Building video /content/resized_ASL_videos/069-pronoun_you.mp4.\n",
            "MoviePy - Writing audio in 069-pronoun_youTEMP_MPY_wvf_snd.mp4\n"
          ]
        },
        {
          "name": "stderr",
          "output_type": "stream",
          "text": []
        },
        {
          "name": "stdout",
          "output_type": "stream",
          "text": [
            "MoviePy - Done.\n",
            "Moviepy - Writing video /content/resized_ASL_videos/069-pronoun_you.mp4\n",
            "\n"
          ]
        },
        {
          "name": "stderr",
          "output_type": "stream",
          "text": [
            "t:  96%|█████████▌| 67/70 [00:01<00:00, 35.16it/s, now=None]WARNING:py.warnings:/usr/local/lib/python3.10/dist-packages/moviepy/video/io/ffmpeg_reader.py:123: UserWarning: Warning: in file /content/ASL_VIDEOS/069-pronoun_you.mp4, 6220800 bytes wanted but 0 bytes read,at frame 68/70, at time 2.27/2.31 sec. Using the last valid frame instead.\n",
            "  warnings.warn(\"Warning: in file %s, \"%(self.filename)+\n",
            "\n",
            "WARNING:py.warnings:/usr/local/lib/python3.10/dist-packages/moviepy/video/io/ffmpeg_reader.py:123: UserWarning: Warning: in file /content/ASL_VIDEOS/069-pronoun_you.mp4, 6220800 bytes wanted but 0 bytes read,at frame 69/70, at time 2.30/2.31 sec. Using the last valid frame instead.\n",
            "  warnings.warn(\"Warning: in file %s, \"%(self.filename)+\n",
            "\n"
          ]
        },
        {
          "name": "stdout",
          "output_type": "stream",
          "text": [
            "Moviepy - Done !\n",
            "Moviepy - video ready /content/resized_ASL_videos/069-pronoun_you.mp4\n",
            "Resized 069-pronoun_you.mp4 and saved to /content/resized_ASL_videos/069-pronoun_you.mp4\n",
            "Moviepy - Building video /content/resized_ASL_videos/039-up-to-you-think-self-think-for-yourself.mp4.\n",
            "MoviePy - Writing audio in 039-up-to-you-think-self-think-for-yourselfTEMP_MPY_wvf_snd.mp4\n"
          ]
        },
        {
          "name": "stderr",
          "output_type": "stream",
          "text": []
        },
        {
          "name": "stdout",
          "output_type": "stream",
          "text": [
            "MoviePy - Done.\n",
            "Moviepy - Writing video /content/resized_ASL_videos/039-up-to-you-think-self-think-for-yourself.mp4\n",
            "\n"
          ]
        },
        {
          "name": "stderr",
          "output_type": "stream",
          "text": [
            "t:  95%|█████████▍| 56/59 [00:01<00:00, 26.98it/s, now=None]WARNING:py.warnings:/usr/local/lib/python3.10/dist-packages/moviepy/video/io/ffmpeg_reader.py:123: UserWarning: Warning: in file /content/ASL_VIDEOS/039-up-to-you-think-self-think-for-yourself.mp4, 6220800 bytes wanted but 0 bytes read,at frame 58/59, at time 1.94/1.96 sec. Using the last valid frame instead.\n",
            "  warnings.warn(\"Warning: in file %s, \"%(self.filename)+\n",
            "\n"
          ]
        },
        {
          "name": "stdout",
          "output_type": "stream",
          "text": [
            "Moviepy - Done !\n",
            "Moviepy - video ready /content/resized_ASL_videos/039-up-to-you-think-self-think-for-yourself.mp4\n",
            "Resized 039-up-to-you-think-self-think-for-yourself.mp4 and saved to /content/resized_ASL_videos/039-up-to-you-think-self-think-for-yourself.mp4\n",
            "Moviepy - Building video /content/resized_ASL_videos/131-cute_in_asl.mp4.\n",
            "MoviePy - Writing audio in 131-cute_in_aslTEMP_MPY_wvf_snd.mp4\n"
          ]
        },
        {
          "name": "stderr",
          "output_type": "stream",
          "text": []
        },
        {
          "name": "stdout",
          "output_type": "stream",
          "text": [
            "MoviePy - Done.\n",
            "Moviepy - Writing video /content/resized_ASL_videos/131-cute_in_asl.mp4\n",
            "\n"
          ]
        },
        {
          "name": "stderr",
          "output_type": "stream",
          "text": [
            "t: 100%|█████████▉| 321/322 [00:35<00:00, 11.28it/s, now=None]WARNING:py.warnings:/usr/local/lib/python3.10/dist-packages/moviepy/video/io/ffmpeg_reader.py:123: UserWarning: Warning: in file /content/ASL_VIDEOS/131-cute_in_asl.mp4, 24883200 bytes wanted but 0 bytes read,at frame 321/322, at time 5.35/5.36 sec. Using the last valid frame instead.\n",
            "  warnings.warn(\"Warning: in file %s, \"%(self.filename)+\n",
            "\n"
          ]
        },
        {
          "name": "stdout",
          "output_type": "stream",
          "text": [
            "Moviepy - Done !\n",
            "Moviepy - video ready /content/resized_ASL_videos/131-cute_in_asl.mp4\n",
            "Resized 131-cute_in_asl.mp4 and saved to /content/resized_ASL_videos/131-cute_in_asl.mp4\n",
            "Moviepy - Building video /content/resized_ASL_videos/138-sign_language_in_asl.mp4.\n",
            "MoviePy - Writing audio in 138-sign_language_in_aslTEMP_MPY_wvf_snd.mp4\n"
          ]
        },
        {
          "name": "stderr",
          "output_type": "stream",
          "text": []
        },
        {
          "name": "stdout",
          "output_type": "stream",
          "text": [
            "MoviePy - Done.\n",
            "Moviepy - Writing video /content/resized_ASL_videos/138-sign_language_in_asl.mp4\n",
            "\n"
          ]
        },
        {
          "name": "stderr",
          "output_type": "stream",
          "text": [
            "t: 100%|█████████▉| 409/410 [00:45<00:00, 11.24it/s, now=None]WARNING:py.warnings:/usr/local/lib/python3.10/dist-packages/moviepy/video/io/ffmpeg_reader.py:123: UserWarning: Warning: in file /content/ASL_VIDEOS/138-sign_language_in_asl.mp4, 24883200 bytes wanted but 0 bytes read,at frame 409/410, at time 6.82/6.83 sec. Using the last valid frame instead.\n",
            "  warnings.warn(\"Warning: in file %s, \"%(self.filename)+\n",
            "\n"
          ]
        },
        {
          "name": "stdout",
          "output_type": "stream",
          "text": [
            "Moviepy - Done !\n",
            "Moviepy - video ready /content/resized_ASL_videos/138-sign_language_in_asl.mp4\n",
            "Resized 138-sign_language_in_asl.mp4 and saved to /content/resized_ASL_videos/138-sign_language_in_asl.mp4\n",
            "Moviepy - Building video /content/resized_ASL_videos/011-you_name-what.mp4.\n",
            "MoviePy - Writing audio in 011-you_name-whatTEMP_MPY_wvf_snd.mp4\n"
          ]
        },
        {
          "name": "stderr",
          "output_type": "stream",
          "text": []
        },
        {
          "name": "stdout",
          "output_type": "stream",
          "text": [
            "MoviePy - Done.\n",
            "Moviepy - Writing video /content/resized_ASL_videos/011-you_name-what.mp4\n",
            "\n"
          ]
        },
        {
          "name": "stderr",
          "output_type": "stream",
          "text": [
            "t:  98%|█████████▊| 61/62 [00:01<00:00, 35.62it/s, now=None]WARNING:py.warnings:/usr/local/lib/python3.10/dist-packages/moviepy/video/io/ffmpeg_reader.py:123: UserWarning: Warning: in file /content/ASL_VIDEOS/011-you_name-what.mp4, 6220800 bytes wanted but 0 bytes read,at frame 60/62, at time 2.00/2.04 sec. Using the last valid frame instead.\n",
            "  warnings.warn(\"Warning: in file %s, \"%(self.filename)+\n",
            "\n",
            "WARNING:py.warnings:/usr/local/lib/python3.10/dist-packages/moviepy/video/io/ffmpeg_reader.py:123: UserWarning: Warning: in file /content/ASL_VIDEOS/011-you_name-what.mp4, 6220800 bytes wanted but 0 bytes read,at frame 61/62, at time 2.04/2.04 sec. Using the last valid frame instead.\n",
            "  warnings.warn(\"Warning: in file %s, \"%(self.filename)+\n",
            "\n"
          ]
        },
        {
          "name": "stdout",
          "output_type": "stream",
          "text": [
            "Moviepy - Done !\n",
            "Moviepy - video ready /content/resized_ASL_videos/011-you_name-what.mp4\n",
            "Resized 011-you_name-what.mp4 and saved to /content/resized_ASL_videos/011-you_name-what.mp4\n",
            "Moviepy - Building video /content/resized_ASL_videos/111-i_am_20_years_old_in_asl.mp4.\n",
            "MoviePy - Writing audio in 111-i_am_20_years_old_in_aslTEMP_MPY_wvf_snd.mp4\n"
          ]
        },
        {
          "name": "stderr",
          "output_type": "stream",
          "text": []
        },
        {
          "name": "stdout",
          "output_type": "stream",
          "text": [
            "MoviePy - Done.\n",
            "Moviepy - Writing video /content/resized_ASL_videos/111-i_am_20_years_old_in_asl.mp4\n",
            "\n"
          ]
        },
        {
          "name": "stderr",
          "output_type": "stream",
          "text": [
            "t: 100%|██████████| 429/429 [00:47<00:00, 11.33it/s, now=None]WARNING:py.warnings:/usr/local/lib/python3.10/dist-packages/moviepy/video/io/ffmpeg_reader.py:123: UserWarning: Warning: in file /content/ASL_VIDEOS/111-i_am_20_years_old_in_asl.mp4, 24883200 bytes wanted but 0 bytes read,at frame 428/430, at time 7.13/7.15 sec. Using the last valid frame instead.\n",
            "  warnings.warn(\"Warning: in file %s, \"%(self.filename)+\n",
            "\n"
          ]
        },
        {
          "name": "stdout",
          "output_type": "stream",
          "text": [
            "Moviepy - Done !\n",
            "Moviepy - video ready /content/resized_ASL_videos/111-i_am_20_years_old_in_asl.mp4\n",
            "Resized 111-i_am_20_years_old_in_asl.mp4 and saved to /content/resized_ASL_videos/111-i_am_20_years_old_in_asl.mp4\n",
            "Moviepy - Building video /content/resized_ASL_videos/065-awful-terrible-two-handed-version.mp4.\n",
            "MoviePy - Writing audio in 065-awful-terrible-two-handed-versionTEMP_MPY_wvf_snd.mp4\n"
          ]
        },
        {
          "name": "stderr",
          "output_type": "stream",
          "text": []
        },
        {
          "name": "stdout",
          "output_type": "stream",
          "text": [
            "MoviePy - Done.\n",
            "Moviepy - Writing video /content/resized_ASL_videos/065-awful-terrible-two-handed-version.mp4\n",
            "\n"
          ]
        },
        {
          "name": "stderr",
          "output_type": "stream",
          "text": [
            "t: 100%|██████████| 77/77 [00:02<00:00, 23.51it/s, now=None]WARNING:py.warnings:/usr/local/lib/python3.10/dist-packages/moviepy/video/io/ffmpeg_reader.py:123: UserWarning: Warning: in file /content/ASL_VIDEOS/065-awful-terrible-two-handed-version.mp4, 6220800 bytes wanted but 0 bytes read,at frame 76/77, at time 2.54/2.56 sec. Using the last valid frame instead.\n",
            "  warnings.warn(\"Warning: in file %s, \"%(self.filename)+\n",
            "\n"
          ]
        },
        {
          "name": "stdout",
          "output_type": "stream",
          "text": [
            "Moviepy - Done !\n",
            "Moviepy - video ready /content/resized_ASL_videos/065-awful-terrible-two-handed-version.mp4\n",
            "Resized 065-awful-terrible-two-handed-version.mp4 and saved to /content/resized_ASL_videos/065-awful-terrible-two-handed-version.mp4\n",
            "Moviepy - Building video /content/resized_ASL_videos/062-your_favorite_holiday_what.mp4.\n",
            "MoviePy - Writing audio in 062-your_favorite_holiday_whatTEMP_MPY_wvf_snd.mp4\n"
          ]
        },
        {
          "name": "stderr",
          "output_type": "stream",
          "text": []
        },
        {
          "name": "stdout",
          "output_type": "stream",
          "text": [
            "MoviePy - Done.\n",
            "Moviepy - Writing video /content/resized_ASL_videos/062-your_favorite_holiday_what.mp4\n",
            "\n"
          ]
        },
        {
          "name": "stderr",
          "output_type": "stream",
          "text": [
            "t:  96%|█████████▌| 102/106 [00:03<00:00, 29.97it/s, now=None]WARNING:py.warnings:/usr/local/lib/python3.10/dist-packages/moviepy/video/io/ffmpeg_reader.py:123: UserWarning: Warning: in file /content/ASL_VIDEOS/062-your_favorite_holiday_what.mp4, 6220800 bytes wanted but 0 bytes read,at frame 104/106, at time 3.47/3.53 sec. Using the last valid frame instead.\n",
            "  warnings.warn(\"Warning: in file %s, \"%(self.filename)+\n",
            "\n",
            "t: 100%|██████████| 106/106 [00:03<00:00, 29.81it/s, now=None]WARNING:py.warnings:/usr/local/lib/python3.10/dist-packages/moviepy/video/io/ffmpeg_reader.py:123: UserWarning: Warning: in file /content/ASL_VIDEOS/062-your_favorite_holiday_what.mp4, 6220800 bytes wanted but 0 bytes read,at frame 105/106, at time 3.50/3.53 sec. Using the last valid frame instead.\n",
            "  warnings.warn(\"Warning: in file %s, \"%(self.filename)+\n",
            "\n"
          ]
        },
        {
          "name": "stdout",
          "output_type": "stream",
          "text": [
            "Moviepy - Done !\n",
            "Moviepy - video ready /content/resized_ASL_videos/062-your_favorite_holiday_what.mp4\n",
            "Resized 062-your_favorite_holiday_what.mp4 and saved to /content/resized_ASL_videos/062-your_favorite_holiday_what.mp4\n",
            "Moviepy - Building video /content/resized_ASL_videos/043-can_keep_secret_you.mp4.\n",
            "MoviePy - Writing audio in 043-can_keep_secret_youTEMP_MPY_wvf_snd.mp4\n"
          ]
        },
        {
          "name": "stderr",
          "output_type": "stream",
          "text": []
        },
        {
          "name": "stdout",
          "output_type": "stream",
          "text": [
            "MoviePy - Done.\n",
            "Moviepy - Writing video /content/resized_ASL_videos/043-can_keep_secret_you.mp4\n",
            "\n"
          ]
        },
        {
          "name": "stderr",
          "output_type": "stream",
          "text": [
            "t:  98%|█████████▊| 131/134 [00:03<00:00, 32.58it/s, now=None]WARNING:py.warnings:/usr/local/lib/python3.10/dist-packages/moviepy/video/io/ffmpeg_reader.py:123: UserWarning: Warning: in file /content/ASL_VIDEOS/043-can_keep_secret_you.mp4, 6220800 bytes wanted but 0 bytes read,at frame 133/134, at time 4.44/4.47 sec. Using the last valid frame instead.\n",
            "  warnings.warn(\"Warning: in file %s, \"%(self.filename)+\n",
            "\n"
          ]
        },
        {
          "name": "stdout",
          "output_type": "stream",
          "text": [
            "Moviepy - Done !\n",
            "Moviepy - video ready /content/resized_ASL_videos/043-can_keep_secret_you.mp4\n",
            "Resized 043-can_keep_secret_you.mp4 and saved to /content/resized_ASL_videos/043-can_keep_secret_you.mp4\n",
            "Moviepy - Building video /content/resized_ASL_videos/041-movie_you_want_watch.mp4.\n",
            "MoviePy - Writing audio in 041-movie_you_want_watchTEMP_MPY_wvf_snd.mp4\n"
          ]
        },
        {
          "name": "stderr",
          "output_type": "stream",
          "text": []
        },
        {
          "name": "stdout",
          "output_type": "stream",
          "text": [
            "MoviePy - Done.\n",
            "Moviepy - Writing video /content/resized_ASL_videos/041-movie_you_want_watch.mp4\n",
            "\n"
          ]
        },
        {
          "name": "stderr",
          "output_type": "stream",
          "text": [
            "t:  98%|█████████▊| 113/115 [00:03<00:00, 19.83it/s, now=None]WARNING:py.warnings:/usr/local/lib/python3.10/dist-packages/moviepy/video/io/ffmpeg_reader.py:123: UserWarning: Warning: in file /content/ASL_VIDEOS/041-movie_you_want_watch.mp4, 6220800 bytes wanted but 0 bytes read,at frame 112/115, at time 3.73/3.83 sec. Using the last valid frame instead.\n",
            "  warnings.warn(\"Warning: in file %s, \"%(self.filename)+\n",
            "\n",
            "WARNING:py.warnings:/usr/local/lib/python3.10/dist-packages/moviepy/video/io/ffmpeg_reader.py:123: UserWarning: Warning: in file /content/ASL_VIDEOS/041-movie_you_want_watch.mp4, 6220800 bytes wanted but 0 bytes read,at frame 113/115, at time 3.77/3.83 sec. Using the last valid frame instead.\n",
            "  warnings.warn(\"Warning: in file %s, \"%(self.filename)+\n",
            "\n",
            "WARNING:py.warnings:/usr/local/lib/python3.10/dist-packages/moviepy/video/io/ffmpeg_reader.py:123: UserWarning: Warning: in file /content/ASL_VIDEOS/041-movie_you_want_watch.mp4, 6220800 bytes wanted but 0 bytes read,at frame 114/115, at time 3.80/3.83 sec. Using the last valid frame instead.\n",
            "  warnings.warn(\"Warning: in file %s, \"%(self.filename)+\n",
            "\n"
          ]
        },
        {
          "name": "stdout",
          "output_type": "stream",
          "text": [
            "Moviepy - Done !\n",
            "Moviepy - video ready /content/resized_ASL_videos/041-movie_you_want_watch.mp4\n",
            "Resized 041-movie_you_want_watch.mp4 and saved to /content/resized_ASL_videos/041-movie_you_want_watch.mp4\n",
            "Moviepy - Building video /content/resized_ASL_videos/002-good-morning-compound-version.mp4.\n",
            "MoviePy - Writing audio in 002-good-morning-compound-versionTEMP_MPY_wvf_snd.mp4\n"
          ]
        },
        {
          "name": "stderr",
          "output_type": "stream",
          "text": []
        },
        {
          "name": "stdout",
          "output_type": "stream",
          "text": [
            "MoviePy - Done.\n",
            "Moviepy - Writing video /content/resized_ASL_videos/002-good-morning-compound-version.mp4\n",
            "\n"
          ]
        },
        {
          "name": "stderr",
          "output_type": "stream",
          "text": [
            "t:  95%|█████████▌| 76/80 [00:02<00:00, 30.36it/s, now=None]WARNING:py.warnings:/usr/local/lib/python3.10/dist-packages/moviepy/video/io/ffmpeg_reader.py:123: UserWarning: Warning: in file /content/ASL_VIDEOS/002-good-morning-compound-version.mp4, 6220800 bytes wanted but 0 bytes read,at frame 79/80, at time 2.64/2.66 sec. Using the last valid frame instead.\n",
            "  warnings.warn(\"Warning: in file %s, \"%(self.filename)+\n",
            "\n"
          ]
        },
        {
          "name": "stdout",
          "output_type": "stream",
          "text": [
            "Moviepy - Done !\n",
            "Moviepy - video ready /content/resized_ASL_videos/002-good-morning-compound-version.mp4\n",
            "Resized 002-good-morning-compound-version.mp4 and saved to /content/resized_ASL_videos/002-good-morning-compound-version.mp4\n",
            "Moviepy - Building video /content/resized_ASL_videos/115-hurry_in_asl.mp4.\n",
            "MoviePy - Writing audio in 115-hurry_in_aslTEMP_MPY_wvf_snd.mp4\n"
          ]
        },
        {
          "name": "stderr",
          "output_type": "stream",
          "text": []
        },
        {
          "name": "stdout",
          "output_type": "stream",
          "text": [
            "MoviePy - Done.\n",
            "Moviepy - Writing video /content/resized_ASL_videos/115-hurry_in_asl.mp4\n",
            "\n"
          ]
        },
        {
          "name": "stderr",
          "output_type": "stream",
          "text": [
            "t: 100%|██████████| 285/285 [00:31<00:00, 11.49it/s, now=None]WARNING:py.warnings:/usr/local/lib/python3.10/dist-packages/moviepy/video/io/ffmpeg_reader.py:123: UserWarning: Warning: in file /content/ASL_VIDEOS/115-hurry_in_asl.mp4, 24883200 bytes wanted but 0 bytes read,at frame 284/285, at time 4.73/4.74 sec. Using the last valid frame instead.\n",
            "  warnings.warn(\"Warning: in file %s, \"%(self.filename)+\n",
            "\n"
          ]
        },
        {
          "name": "stdout",
          "output_type": "stream",
          "text": [
            "Moviepy - Done !\n",
            "Moviepy - video ready /content/resized_ASL_videos/115-hurry_in_asl.mp4\n",
            "Resized 115-hurry_in_asl.mp4 and saved to /content/resized_ASL_videos/115-hurry_in_asl.mp4\n",
            "Moviepy - Building video /content/resized_ASL_videos/141-today_in_asl.mp4.\n",
            "MoviePy - Writing audio in 141-today_in_aslTEMP_MPY_wvf_snd.mp4\n"
          ]
        },
        {
          "name": "stderr",
          "output_type": "stream",
          "text": []
        },
        {
          "name": "stdout",
          "output_type": "stream",
          "text": [
            "MoviePy - Done.\n",
            "Moviepy - Writing video /content/resized_ASL_videos/141-today_in_asl.mp4\n",
            "\n"
          ]
        },
        {
          "name": "stderr",
          "output_type": "stream",
          "text": [
            "t: 100%|██████████| 358/358 [00:39<00:00,  7.46it/s, now=None]WARNING:py.warnings:/usr/local/lib/python3.10/dist-packages/moviepy/video/io/ffmpeg_reader.py:123: UserWarning: Warning: in file /content/ASL_VIDEOS/141-today_in_asl.mp4, 24883200 bytes wanted but 0 bytes read,at frame 357/358, at time 5.95/5.96 sec. Using the last valid frame instead.\n",
            "  warnings.warn(\"Warning: in file %s, \"%(self.filename)+\n",
            "\n"
          ]
        },
        {
          "name": "stdout",
          "output_type": "stream",
          "text": [
            "Moviepy - Done !\n",
            "Moviepy - video ready /content/resized_ASL_videos/141-today_in_asl.mp4\n",
            "Resized 141-today_in_asl.mp4 and saved to /content/resized_ASL_videos/141-today_in_asl.mp4\n",
            "Moviepy - Building video /content/resized_ASL_videos/027-you_feel_anxious_when.mp4.\n",
            "MoviePy - Writing audio in 027-you_feel_anxious_whenTEMP_MPY_wvf_snd.mp4\n"
          ]
        },
        {
          "name": "stderr",
          "output_type": "stream",
          "text": []
        },
        {
          "name": "stdout",
          "output_type": "stream",
          "text": [
            "MoviePy - Done.\n",
            "Moviepy - Writing video /content/resized_ASL_videos/027-you_feel_anxious_when.mp4\n",
            "\n"
          ]
        },
        {
          "name": "stderr",
          "output_type": "stream",
          "text": [
            "t:  99%|█████████▉| 169/171 [00:05<00:00, 33.30it/s, now=None]WARNING:py.warnings:/usr/local/lib/python3.10/dist-packages/moviepy/video/io/ffmpeg_reader.py:123: UserWarning: Warning: in file /content/ASL_VIDEOS/027-you_feel_anxious_when.mp4, 6220800 bytes wanted but 0 bytes read,at frame 170/171, at time 5.67/5.69 sec. Using the last valid frame instead.\n",
            "  warnings.warn(\"Warning: in file %s, \"%(self.filename)+\n",
            "\n"
          ]
        },
        {
          "name": "stdout",
          "output_type": "stream",
          "text": [
            "Moviepy - Done !\n",
            "Moviepy - video ready /content/resized_ASL_videos/027-you_feel_anxious_when.mp4\n",
            "Resized 027-you_feel_anxious_when.mp4 and saved to /content/resized_ASL_videos/027-you_feel_anxious_when.mp4\n",
            "Moviepy - Building video /content/resized_ASL_videos/033-you_use_deodorant_do-you.mp4.\n",
            "MoviePy - Writing audio in 033-you_use_deodorant_do-youTEMP_MPY_wvf_snd.mp4\n"
          ]
        },
        {
          "name": "stderr",
          "output_type": "stream",
          "text": []
        },
        {
          "name": "stdout",
          "output_type": "stream",
          "text": [
            "MoviePy - Done.\n",
            "Moviepy - Writing video /content/resized_ASL_videos/033-you_use_deodorant_do-you.mp4\n",
            "\n"
          ]
        },
        {
          "name": "stderr",
          "output_type": "stream",
          "text": [
            "t:  96%|█████████▌| 89/93 [00:02<00:00, 32.35it/s, now=None]WARNING:py.warnings:/usr/local/lib/python3.10/dist-packages/moviepy/video/io/ffmpeg_reader.py:123: UserWarning: Warning: in file /content/ASL_VIDEOS/033-you_use_deodorant_do-you.mp4, 6220800 bytes wanted but 0 bytes read,at frame 91/93, at time 3.04/3.07 sec. Using the last valid frame instead.\n",
            "  warnings.warn(\"Warning: in file %s, \"%(self.filename)+\n",
            "\n",
            "t: 100%|██████████| 93/93 [00:02<00:00, 34.29it/s, now=None]WARNING:py.warnings:/usr/local/lib/python3.10/dist-packages/moviepy/video/io/ffmpeg_reader.py:123: UserWarning: Warning: in file /content/ASL_VIDEOS/033-you_use_deodorant_do-you.mp4, 6220800 bytes wanted but 0 bytes read,at frame 92/93, at time 3.07/3.07 sec. Using the last valid frame instead.\n",
            "  warnings.warn(\"Warning: in file %s, \"%(self.filename)+\n",
            "\n"
          ]
        },
        {
          "name": "stdout",
          "output_type": "stream",
          "text": [
            "Moviepy - Done !\n",
            "Moviepy - video ready /content/resized_ASL_videos/033-you_use_deodorant_do-you.mp4\n",
            "Resized 033-you_use_deodorant_do-you.mp4 and saved to /content/resized_ASL_videos/033-you_use_deodorant_do-you.mp4\n",
            "Moviepy - Building video /content/resized_ASL_videos/031-go-to-bed.mp4.\n",
            "MoviePy - Writing audio in 031-go-to-bedTEMP_MPY_wvf_snd.mp4\n"
          ]
        },
        {
          "name": "stderr",
          "output_type": "stream",
          "text": []
        },
        {
          "name": "stdout",
          "output_type": "stream",
          "text": [
            "MoviePy - Done.\n",
            "Moviepy - Writing video /content/resized_ASL_videos/031-go-to-bed.mp4\n",
            "\n"
          ]
        },
        {
          "name": "stderr",
          "output_type": "stream",
          "text": [
            "t:  95%|█████████▌| 60/63 [00:01<00:00, 38.45it/s, now=None]WARNING:py.warnings:/usr/local/lib/python3.10/dist-packages/moviepy/video/io/ffmpeg_reader.py:123: UserWarning: Warning: in file /content/ASL_VIDEOS/031-go-to-bed.mp4, 6220800 bytes wanted but 0 bytes read,at frame 61/63, at time 2.04/2.07 sec. Using the last valid frame instead.\n",
            "  warnings.warn(\"Warning: in file %s, \"%(self.filename)+\n",
            "\n",
            "WARNING:py.warnings:/usr/local/lib/python3.10/dist-packages/moviepy/video/io/ffmpeg_reader.py:123: UserWarning: Warning: in file /content/ASL_VIDEOS/031-go-to-bed.mp4, 6220800 bytes wanted but 0 bytes read,at frame 62/63, at time 2.07/2.07 sec. Using the last valid frame instead.\n",
            "  warnings.warn(\"Warning: in file %s, \"%(self.filename)+\n",
            "\n"
          ]
        },
        {
          "name": "stdout",
          "output_type": "stream",
          "text": [
            "Moviepy - Done !\n",
            "Moviepy - video ready /content/resized_ASL_videos/031-go-to-bed.mp4\n",
            "Resized 031-go-to-bed.mp4 and saved to /content/resized_ASL_videos/031-go-to-bed.mp4\n",
            "Moviepy - Building video /content/resized_ASL_videos/067-use_wear.mp4.\n",
            "MoviePy - Writing audio in 067-use_wearTEMP_MPY_wvf_snd.mp4\n"
          ]
        },
        {
          "name": "stderr",
          "output_type": "stream",
          "text": []
        },
        {
          "name": "stdout",
          "output_type": "stream",
          "text": [
            "MoviePy - Done.\n",
            "Moviepy - Writing video /content/resized_ASL_videos/067-use_wear.mp4\n",
            "\n"
          ]
        },
        {
          "name": "stderr",
          "output_type": "stream",
          "text": [
            "t: 100%|██████████| 87/87 [00:03<00:00, 26.02it/s, now=None]WARNING:py.warnings:/usr/local/lib/python3.10/dist-packages/moviepy/video/io/ffmpeg_reader.py:123: UserWarning: Warning: in file /content/ASL_VIDEOS/067-use_wear.mp4, 6220800 bytes wanted but 0 bytes read,at frame 86/87, at time 2.87/2.89 sec. Using the last valid frame instead.\n",
            "  warnings.warn(\"Warning: in file %s, \"%(self.filename)+\n",
            "\n"
          ]
        },
        {
          "name": "stdout",
          "output_type": "stream",
          "text": [
            "Moviepy - Done !\n",
            "Moviepy - video ready /content/resized_ASL_videos/067-use_wear.mp4\n",
            "Resized 067-use_wear.mp4 and saved to /content/resized_ASL_videos/067-use_wear.mp4\n",
            "Moviepy - Building video /content/resized_ASL_videos/136-do_you_understand_in_asl.mp4.\n",
            "MoviePy - Writing audio in 136-do_you_understand_in_aslTEMP_MPY_wvf_snd.mp4\n"
          ]
        },
        {
          "name": "stderr",
          "output_type": "stream",
          "text": []
        },
        {
          "name": "stdout",
          "output_type": "stream",
          "text": [
            "MoviePy - Done.\n",
            "Moviepy - Writing video /content/resized_ASL_videos/136-do_you_understand_in_asl.mp4\n",
            "\n"
          ]
        },
        {
          "name": "stderr",
          "output_type": "stream",
          "text": [
            "t: 100%|█████████▉| 376/377 [00:40<00:00,  7.76it/s, now=None]WARNING:py.warnings:/usr/local/lib/python3.10/dist-packages/moviepy/video/io/ffmpeg_reader.py:123: UserWarning: Warning: in file /content/ASL_VIDEOS/136-do_you_understand_in_asl.mp4, 24883200 bytes wanted but 0 bytes read,at frame 375/377, at time 6.25/6.27 sec. Using the last valid frame instead.\n",
            "  warnings.warn(\"Warning: in file %s, \"%(self.filename)+\n",
            "\n",
            "WARNING:py.warnings:/usr/local/lib/python3.10/dist-packages/moviepy/video/io/ffmpeg_reader.py:123: UserWarning: Warning: in file /content/ASL_VIDEOS/136-do_you_understand_in_asl.mp4, 24883200 bytes wanted but 0 bytes read,at frame 376/377, at time 6.27/6.27 sec. Using the last valid frame instead.\n",
            "  warnings.warn(\"Warning: in file %s, \"%(self.filename)+\n",
            "\n"
          ]
        },
        {
          "name": "stdout",
          "output_type": "stream",
          "text": [
            "Moviepy - Done !\n",
            "Moviepy - video ready /content/resized_ASL_videos/136-do_you_understand_in_asl.mp4\n",
            "Resized 136-do_you_understand_in_asl.mp4 and saved to /content/resized_ASL_videos/136-do_you_understand_in_asl.mp4\n",
            "Moviepy - Building video /content/resized_ASL_videos/058-you_drive_careful_you.mp4.\n",
            "MoviePy - Writing audio in 058-you_drive_careful_youTEMP_MPY_wvf_snd.mp4\n"
          ]
        },
        {
          "name": "stderr",
          "output_type": "stream",
          "text": []
        },
        {
          "name": "stdout",
          "output_type": "stream",
          "text": [
            "MoviePy - Done.\n",
            "Moviepy - Writing video /content/resized_ASL_videos/058-you_drive_careful_you.mp4\n",
            "\n"
          ]
        },
        {
          "name": "stderr",
          "output_type": "stream",
          "text": [
            "t:  98%|█████████▊| 134/137 [00:05<00:00, 28.10it/s, now=None]WARNING:py.warnings:/usr/local/lib/python3.10/dist-packages/moviepy/video/io/ffmpeg_reader.py:123: UserWarning: Warning: in file /content/ASL_VIDEOS/058-you_drive_careful_you.mp4, 6220800 bytes wanted but 0 bytes read,at frame 135/137, at time 4.50/4.55 sec. Using the last valid frame instead.\n",
            "  warnings.warn(\"Warning: in file %s, \"%(self.filename)+\n",
            "\n",
            "t: 100%|██████████| 137/137 [00:05<00:00, 28.13it/s, now=None]WARNING:py.warnings:/usr/local/lib/python3.10/dist-packages/moviepy/video/io/ffmpeg_reader.py:123: UserWarning: Warning: in file /content/ASL_VIDEOS/058-you_drive_careful_you.mp4, 6220800 bytes wanted but 0 bytes read,at frame 136/137, at time 4.54/4.55 sec. Using the last valid frame instead.\n",
            "  warnings.warn(\"Warning: in file %s, \"%(self.filename)+\n",
            "\n"
          ]
        },
        {
          "name": "stdout",
          "output_type": "stream",
          "text": [
            "Moviepy - Done !\n",
            "Moviepy - video ready /content/resized_ASL_videos/058-you_drive_careful_you.mp4\n",
            "Resized 058-you_drive_careful_you.mp4 and saved to /content/resized_ASL_videos/058-you_drive_careful_you.mp4\n",
            "Moviepy - Building video /content/resized_ASL_videos/089-you_born_where.mp4.\n",
            "MoviePy - Writing audio in 089-you_born_whereTEMP_MPY_wvf_snd.mp4\n"
          ]
        },
        {
          "name": "stderr",
          "output_type": "stream",
          "text": []
        },
        {
          "name": "stdout",
          "output_type": "stream",
          "text": [
            "MoviePy - Done.\n",
            "Moviepy - Writing video /content/resized_ASL_videos/089-you_born_where.mp4\n",
            "\n"
          ]
        },
        {
          "name": "stderr",
          "output_type": "stream",
          "text": [
            "t:  99%|█████████▉| 104/105 [00:02<00:00, 32.36it/s, now=None]WARNING:py.warnings:/usr/local/lib/python3.10/dist-packages/moviepy/video/io/ffmpeg_reader.py:123: UserWarning: Warning: in file /content/ASL_VIDEOS/089-you_born_where.mp4, 6220800 bytes wanted but 0 bytes read,at frame 104/105, at time 3.47/3.48 sec. Using the last valid frame instead.\n",
            "  warnings.warn(\"Warning: in file %s, \"%(self.filename)+\n",
            "\n"
          ]
        },
        {
          "name": "stdout",
          "output_type": "stream",
          "text": [
            "Moviepy - Done !\n",
            "Moviepy - video ready /content/resized_ASL_videos/089-you_born_where.mp4\n",
            "Resized 089-you_born_where.mp4 and saved to /content/resized_ASL_videos/089-you_born_where.mp4\n",
            "Moviepy - Building video /content/resized_ASL_videos/012-dont-understand.mp4.\n",
            "MoviePy - Writing audio in 012-dont-understandTEMP_MPY_wvf_snd.mp4\n"
          ]
        },
        {
          "name": "stderr",
          "output_type": "stream",
          "text": []
        },
        {
          "name": "stdout",
          "output_type": "stream",
          "text": [
            "MoviePy - Done.\n",
            "Moviepy - Writing video /content/resized_ASL_videos/012-dont-understand.mp4\n",
            "\n"
          ]
        },
        {
          "name": "stderr",
          "output_type": "stream",
          "text": [
            "t:  97%|█████████▋| 67/69 [00:01<00:00, 33.65it/s, now=None]WARNING:py.warnings:/usr/local/lib/python3.10/dist-packages/moviepy/video/io/ffmpeg_reader.py:123: UserWarning: Warning: in file /content/ASL_VIDEOS/012-dont-understand.mp4, 6220800 bytes wanted but 0 bytes read,at frame 68/69, at time 2.27/2.28 sec. Using the last valid frame instead.\n",
            "  warnings.warn(\"Warning: in file %s, \"%(self.filename)+\n",
            "\n"
          ]
        },
        {
          "name": "stdout",
          "output_type": "stream",
          "text": [
            "Moviepy - Done !\n",
            "Moviepy - video ready /content/resized_ASL_videos/012-dont-understand.mp4\n",
            "Resized 012-dont-understand.mp4 and saved to /content/resized_ASL_videos/012-dont-understand.mp4\n",
            "Moviepy - Building video /content/resized_ASL_videos/064-christmas_you_like_snow_you.mp4.\n",
            "MoviePy - Writing audio in 064-christmas_you_like_snow_youTEMP_MPY_wvf_snd.mp4\n"
          ]
        },
        {
          "name": "stderr",
          "output_type": "stream",
          "text": []
        },
        {
          "name": "stdout",
          "output_type": "stream",
          "text": [
            "MoviePy - Done.\n",
            "Moviepy - Writing video /content/resized_ASL_videos/064-christmas_you_like_snow_you.mp4\n",
            "\n"
          ]
        },
        {
          "name": "stderr",
          "output_type": "stream",
          "text": [
            "t:  97%|█████████▋| 144/148 [00:06<00:00, 25.47it/s, now=None]WARNING:py.warnings:/usr/local/lib/python3.10/dist-packages/moviepy/video/io/ffmpeg_reader.py:123: UserWarning: Warning: in file /content/ASL_VIDEOS/064-christmas_you_like_snow_you.mp4, 6220800 bytes wanted but 0 bytes read,at frame 146/148, at time 4.87/4.92 sec. Using the last valid frame instead.\n",
            "  warnings.warn(\"Warning: in file %s, \"%(self.filename)+\n",
            "\n",
            "t: 100%|██████████| 148/148 [00:06<00:00, 28.48it/s, now=None]WARNING:py.warnings:/usr/local/lib/python3.10/dist-packages/moviepy/video/io/ffmpeg_reader.py:123: UserWarning: Warning: in file /content/ASL_VIDEOS/064-christmas_you_like_snow_you.mp4, 6220800 bytes wanted but 0 bytes read,at frame 147/148, at time 4.90/4.92 sec. Using the last valid frame instead.\n",
            "  warnings.warn(\"Warning: in file %s, \"%(self.filename)+\n",
            "\n"
          ]
        },
        {
          "name": "stdout",
          "output_type": "stream",
          "text": [
            "Moviepy - Done !\n",
            "Moviepy - video ready /content/resized_ASL_videos/064-christmas_you_like_snow_you.mp4\n",
            "Resized 064-christmas_you_like_snow_you.mp4 and saved to /content/resized_ASL_videos/064-christmas_you_like_snow_you.mp4\n",
            "Moviepy - Building video /content/resized_ASL_videos/045-your_house_who_manage.mp4.\n",
            "MoviePy - Writing audio in 045-your_house_who_manageTEMP_MPY_wvf_snd.mp4\n"
          ]
        },
        {
          "name": "stderr",
          "output_type": "stream",
          "text": []
        },
        {
          "name": "stdout",
          "output_type": "stream",
          "text": [
            "MoviePy - Done.\n",
            "Moviepy - Writing video /content/resized_ASL_videos/045-your_house_who_manage.mp4\n",
            "\n"
          ]
        },
        {
          "name": "stderr",
          "output_type": "stream",
          "text": [
            "t:  99%|█████████▉| 142/143 [00:04<00:00, 32.71it/s, now=None]WARNING:py.warnings:/usr/local/lib/python3.10/dist-packages/moviepy/video/io/ffmpeg_reader.py:123: UserWarning: Warning: in file /content/ASL_VIDEOS/045-your_house_who_manage.mp4, 6220800 bytes wanted but 0 bytes read,at frame 142/143, at time 4.74/4.74 sec. Using the last valid frame instead.\n",
            "  warnings.warn(\"Warning: in file %s, \"%(self.filename)+\n",
            "\n"
          ]
        },
        {
          "name": "stdout",
          "output_type": "stream",
          "text": [
            "Moviepy - Done !\n",
            "Moviepy - video ready /content/resized_ASL_videos/045-your_house_who_manage.mp4\n",
            "Resized 045-your_house_who_manage.mp4 and saved to /content/resized_ASL_videos/045-your_house_who_manage.mp4\n",
            "Moviepy - Building video /content/resized_ASL_videos/130-cpr_in_asl.mp4.\n",
            "MoviePy - Writing audio in 130-cpr_in_aslTEMP_MPY_wvf_snd.mp4\n"
          ]
        },
        {
          "name": "stderr",
          "output_type": "stream",
          "text": []
        },
        {
          "name": "stdout",
          "output_type": "stream",
          "text": [
            "MoviePy - Done.\n",
            "Moviepy - Writing video /content/resized_ASL_videos/130-cpr_in_asl.mp4\n",
            "\n"
          ]
        },
        {
          "name": "stderr",
          "output_type": "stream",
          "text": [
            "t: 100%|█████████▉| 463/464 [00:52<00:00,  7.79it/s, now=None]WARNING:py.warnings:/usr/local/lib/python3.10/dist-packages/moviepy/video/io/ffmpeg_reader.py:123: UserWarning: Warning: in file /content/ASL_VIDEOS/130-cpr_in_asl.mp4, 24883200 bytes wanted but 0 bytes read,at frame 462/464, at time 7.70/7.72 sec. Using the last valid frame instead.\n",
            "  warnings.warn(\"Warning: in file %s, \"%(self.filename)+\n",
            "\n",
            "WARNING:py.warnings:/usr/local/lib/python3.10/dist-packages/moviepy/video/io/ffmpeg_reader.py:123: UserWarning: Warning: in file /content/ASL_VIDEOS/130-cpr_in_asl.mp4, 24883200 bytes wanted but 0 bytes read,at frame 463/464, at time 7.72/7.72 sec. Using the last valid frame instead.\n",
            "  warnings.warn(\"Warning: in file %s, \"%(self.filename)+\n",
            "\n"
          ]
        },
        {
          "name": "stdout",
          "output_type": "stream",
          "text": [
            "Moviepy - Done !\n",
            "Moviepy - video ready /content/resized_ASL_videos/130-cpr_in_asl.mp4\n",
            "Resized 130-cpr_in_asl.mp4 and saved to /content/resized_ASL_videos/130-cpr_in_asl.mp4\n",
            "Moviepy - Building video /content/resized_ASL_videos/080-you_sometimes_feel_lonely_you.mp4.\n",
            "MoviePy - Writing audio in 080-you_sometimes_feel_lonely_youTEMP_MPY_wvf_snd.mp4\n"
          ]
        },
        {
          "name": "stderr",
          "output_type": "stream",
          "text": []
        },
        {
          "name": "stdout",
          "output_type": "stream",
          "text": [
            "MoviePy - Done.\n",
            "Moviepy - Writing video /content/resized_ASL_videos/080-you_sometimes_feel_lonely_you.mp4\n",
            "\n"
          ]
        },
        {
          "name": "stderr",
          "output_type": "stream",
          "text": []
        },
        {
          "name": "stdout",
          "output_type": "stream",
          "text": [
            "Moviepy - Done !\n",
            "Moviepy - video ready /content/resized_ASL_videos/080-you_sometimes_feel_lonely_you.mp4\n",
            "Resized 080-you_sometimes_feel_lonely_you.mp4 and saved to /content/resized_ASL_videos/080-you_sometimes_feel_lonely_you.mp4\n",
            "Moviepy - Building video /content/resized_ASL_videos/117-high_school_in_asl.mp4.\n",
            "MoviePy - Writing audio in 117-high_school_in_aslTEMP_MPY_wvf_snd.mp4\n"
          ]
        },
        {
          "name": "stderr",
          "output_type": "stream",
          "text": []
        },
        {
          "name": "stdout",
          "output_type": "stream",
          "text": [
            "MoviePy - Done.\n",
            "Moviepy - Writing video /content/resized_ASL_videos/117-high_school_in_asl.mp4\n",
            "\n"
          ]
        },
        {
          "name": "stderr",
          "output_type": "stream",
          "text": [
            "t: 100%|██████████| 331/331 [00:35<00:00, 11.60it/s, now=None]WARNING:py.warnings:/usr/local/lib/python3.10/dist-packages/moviepy/video/io/ffmpeg_reader.py:123: UserWarning: Warning: in file /content/ASL_VIDEOS/117-high_school_in_asl.mp4, 24883200 bytes wanted but 0 bytes read,at frame 330/331, at time 5.50/5.51 sec. Using the last valid frame instead.\n",
            "  warnings.warn(\"Warning: in file %s, \"%(self.filename)+\n",
            "\n"
          ]
        },
        {
          "name": "stdout",
          "output_type": "stream",
          "text": [
            "Moviepy - Done !\n",
            "Moviepy - video ready /content/resized_ASL_videos/117-high_school_in_asl.mp4\n",
            "Resized 117-high_school_in_asl.mp4 and saved to /content/resized_ASL_videos/117-high_school_in_asl.mp4\n",
            "Moviepy - Building video /content/resized_ASL_videos/063-you_believe_santa_claus_you.mp4.\n",
            "MoviePy - Writing audio in 063-you_believe_santa_claus_youTEMP_MPY_wvf_snd.mp4\n"
          ]
        },
        {
          "name": "stderr",
          "output_type": "stream",
          "text": []
        },
        {
          "name": "stdout",
          "output_type": "stream",
          "text": [
            "MoviePy - Done.\n",
            "Moviepy - Writing video /content/resized_ASL_videos/063-you_believe_santa_claus_you.mp4\n",
            "\n"
          ]
        },
        {
          "name": "stderr",
          "output_type": "stream",
          "text": [
            "t:  99%|█████████▉| 139/140 [00:06<00:00, 26.83it/s, now=None]WARNING:py.warnings:/usr/local/lib/python3.10/dist-packages/moviepy/video/io/ffmpeg_reader.py:123: UserWarning: Warning: in file /content/ASL_VIDEOS/063-you_believe_santa_claus_you.mp4, 6220800 bytes wanted but 0 bytes read,at frame 138/140, at time 4.60/4.64 sec. Using the last valid frame instead.\n",
            "  warnings.warn(\"Warning: in file %s, \"%(self.filename)+\n",
            "\n",
            "WARNING:py.warnings:/usr/local/lib/python3.10/dist-packages/moviepy/video/io/ffmpeg_reader.py:123: UserWarning: Warning: in file /content/ASL_VIDEOS/063-you_believe_santa_claus_you.mp4, 6220800 bytes wanted but 0 bytes read,at frame 139/140, at time 4.64/4.64 sec. Using the last valid frame instead.\n",
            "  warnings.warn(\"Warning: in file %s, \"%(self.filename)+\n",
            "\n"
          ]
        },
        {
          "name": "stdout",
          "output_type": "stream",
          "text": [
            "Moviepy - Done !\n",
            "Moviepy - video ready /content/resized_ASL_videos/063-you_believe_santa_claus_you.mp4\n",
            "Resized 063-you_believe_santa_claus_you.mp4 and saved to /content/resized_ASL_videos/063-you_believe_santa_claus_you.mp4\n",
            "Moviepy - Building video /content/resized_ASL_videos/014-male_boy_dude_guy_fellow.mp4.\n",
            "MoviePy - Writing audio in 014-male_boy_dude_guy_fellowTEMP_MPY_wvf_snd.mp4\n"
          ]
        },
        {
          "name": "stderr",
          "output_type": "stream",
          "text": []
        },
        {
          "name": "stdout",
          "output_type": "stream",
          "text": [
            "MoviePy - Done.\n",
            "Moviepy - Writing video /content/resized_ASL_videos/014-male_boy_dude_guy_fellow.mp4\n",
            "\n"
          ]
        },
        {
          "name": "stderr",
          "output_type": "stream",
          "text": [
            "t: 100%|██████████| 75/75 [00:02<00:00, 33.65it/s, now=None]WARNING:py.warnings:/usr/local/lib/python3.10/dist-packages/moviepy/video/io/ffmpeg_reader.py:123: UserWarning: Warning: in file /content/ASL_VIDEOS/014-male_boy_dude_guy_fellow.mp4, 6220800 bytes wanted but 0 bytes read,at frame 74/75, at time 2.96/2.98 sec. Using the last valid frame instead.\n",
            "  warnings.warn(\"Warning: in file %s, \"%(self.filename)+\n",
            "\n"
          ]
        },
        {
          "name": "stdout",
          "output_type": "stream",
          "text": [
            "Moviepy - Done !\n",
            "Moviepy - video ready /content/resized_ASL_videos/014-male_boy_dude_guy_fellow.mp4\n",
            "Resized 014-male_boy_dude_guy_fellow.mp4 and saved to /content/resized_ASL_videos/014-male_boy_dude_guy_fellow.mp4\n",
            "Moviepy - Building video /content/resized_ASL_videos/142-thats_it_in_asl.mp4.\n",
            "MoviePy - Writing audio in 142-thats_it_in_aslTEMP_MPY_wvf_snd.mp4\n"
          ]
        },
        {
          "name": "stderr",
          "output_type": "stream",
          "text": []
        },
        {
          "name": "stdout",
          "output_type": "stream",
          "text": [
            "MoviePy - Done.\n",
            "Moviepy - Writing video /content/resized_ASL_videos/142-thats_it_in_asl.mp4\n",
            "\n"
          ]
        },
        {
          "name": "stderr",
          "output_type": "stream",
          "text": [
            "t:  99%|█████████▉| 267/269 [00:30<00:00, 11.55it/s, now=None]WARNING:py.warnings:/usr/local/lib/python3.10/dist-packages/moviepy/video/io/ffmpeg_reader.py:123: UserWarning: Warning: in file /content/ASL_VIDEOS/142-thats_it_in_asl.mp4, 24883200 bytes wanted but 0 bytes read,at frame 267/269, at time 4.45/4.47 sec. Using the last valid frame instead.\n",
            "  warnings.warn(\"Warning: in file %s, \"%(self.filename)+\n",
            "\n",
            "t: 100%|██████████| 269/269 [00:30<00:00, 12.37it/s, now=None]WARNING:py.warnings:/usr/local/lib/python3.10/dist-packages/moviepy/video/io/ffmpeg_reader.py:123: UserWarning: Warning: in file /content/ASL_VIDEOS/142-thats_it_in_asl.mp4, 24883200 bytes wanted but 0 bytes read,at frame 268/269, at time 4.47/4.47 sec. Using the last valid frame instead.\n",
            "  warnings.warn(\"Warning: in file %s, \"%(self.filename)+\n",
            "\n"
          ]
        },
        {
          "name": "stdout",
          "output_type": "stream",
          "text": [
            "Moviepy - Done !\n",
            "Moviepy - video ready /content/resized_ASL_videos/142-thats_it_in_asl.mp4\n",
            "Resized 142-thats_it_in_asl.mp4 and saved to /content/resized_ASL_videos/142-thats_it_in_asl.mp4\n",
            "Moviepy - Building video /content/resized_ASL_videos/076-happy.mp4.\n",
            "MoviePy - Writing audio in 076-happyTEMP_MPY_wvf_snd.mp4\n"
          ]
        },
        {
          "name": "stderr",
          "output_type": "stream",
          "text": []
        },
        {
          "name": "stdout",
          "output_type": "stream",
          "text": [
            "MoviePy - Done.\n",
            "Moviepy - Writing video /content/resized_ASL_videos/076-happy.mp4\n",
            "\n"
          ]
        },
        {
          "name": "stderr",
          "output_type": "stream",
          "text": [
            "t:  95%|█████████▍| 88/93 [00:02<00:00, 28.84it/s, now=None]WARNING:py.warnings:/usr/local/lib/python3.10/dist-packages/moviepy/video/io/ffmpeg_reader.py:123: UserWarning: Warning: in file /content/ASL_VIDEOS/076-happy.mp4, 6220800 bytes wanted but 0 bytes read,at frame 90/93, at time 3.00/3.07 sec. Using the last valid frame instead.\n",
            "  warnings.warn(\"Warning: in file %s, \"%(self.filename)+\n",
            "\n",
            "t:  99%|█████████▉| 92/93 [00:02<00:00, 31.18it/s, now=None]WARNING:py.warnings:/usr/local/lib/python3.10/dist-packages/moviepy/video/io/ffmpeg_reader.py:123: UserWarning: Warning: in file /content/ASL_VIDEOS/076-happy.mp4, 6220800 bytes wanted but 0 bytes read,at frame 91/93, at time 3.04/3.07 sec. Using the last valid frame instead.\n",
            "  warnings.warn(\"Warning: in file %s, \"%(self.filename)+\n",
            "\n",
            "WARNING:py.warnings:/usr/local/lib/python3.10/dist-packages/moviepy/video/io/ffmpeg_reader.py:123: UserWarning: Warning: in file /content/ASL_VIDEOS/076-happy.mp4, 6220800 bytes wanted but 0 bytes read,at frame 92/93, at time 3.07/3.07 sec. Using the last valid frame instead.\n",
            "  warnings.warn(\"Warning: in file %s, \"%(self.filename)+\n",
            "\n"
          ]
        },
        {
          "name": "stdout",
          "output_type": "stream",
          "text": [
            "Moviepy - Done !\n",
            "Moviepy - video ready /content/resized_ASL_videos/076-happy.mp4\n",
            "Resized 076-happy.mp4 and saved to /content/resized_ASL_videos/076-happy.mp4\n",
            "Moviepy - Building video /content/resized_ASL_videos/024-book_you_like_read_what-kind.mp4.\n",
            "MoviePy - Writing audio in 024-book_you_like_read_what-kindTEMP_MPY_wvf_snd.mp4\n"
          ]
        },
        {
          "name": "stderr",
          "output_type": "stream",
          "text": []
        },
        {
          "name": "stdout",
          "output_type": "stream",
          "text": [
            "MoviePy - Done.\n",
            "Moviepy - Writing video /content/resized_ASL_videos/024-book_you_like_read_what-kind.mp4\n",
            "\n"
          ]
        },
        {
          "name": "stderr",
          "output_type": "stream",
          "text": [
            "t:  99%|█████████▉| 160/162 [00:07<00:00, 17.97it/s, now=None]WARNING:py.warnings:/usr/local/lib/python3.10/dist-packages/moviepy/video/io/ffmpeg_reader.py:123: UserWarning: Warning: in file /content/ASL_VIDEOS/024-book_you_like_read_what-kind.mp4, 6220800 bytes wanted but 0 bytes read,at frame 161/162, at time 5.37/5.38 sec. Using the last valid frame instead.\n",
            "  warnings.warn(\"Warning: in file %s, \"%(self.filename)+\n",
            "\n"
          ]
        },
        {
          "name": "stdout",
          "output_type": "stream",
          "text": [
            "Moviepy - Done !\n",
            "Moviepy - video ready /content/resized_ASL_videos/024-book_you_like_read_what-kind.mp4\n",
            "Resized 024-book_you_like_read_what-kind.mp4 and saved to /content/resized_ASL_videos/024-book_you_like_read_what-kind.mp4\n",
            "Moviepy - Building video /content/resized_ASL_videos/030-you_think_this_class_easy.mp4.\n",
            "MoviePy - Writing audio in 030-you_think_this_class_easyTEMP_MPY_wvf_snd.mp4\n"
          ]
        },
        {
          "name": "stderr",
          "output_type": "stream",
          "text": []
        },
        {
          "name": "stdout",
          "output_type": "stream",
          "text": [
            "MoviePy - Done.\n",
            "Moviepy - Writing video /content/resized_ASL_videos/030-you_think_this_class_easy.mp4\n",
            "\n"
          ]
        },
        {
          "name": "stderr",
          "output_type": "stream",
          "text": []
        },
        {
          "name": "stdout",
          "output_type": "stream",
          "text": [
            "Moviepy - Done !\n",
            "Moviepy - video ready /content/resized_ASL_videos/030-you_think_this_class_easy.mp4\n",
            "Resized 030-you_think_this_class_easy.mp4 and saved to /content/resized_ASL_videos/030-you_think_this_class_easy.mp4\n",
            "Moviepy - Building video /content/resized_ASL_videos/081-cat.mp4.\n",
            "MoviePy - Writing audio in 081-catTEMP_MPY_wvf_snd.mp4\n"
          ]
        },
        {
          "name": "stderr",
          "output_type": "stream",
          "text": []
        },
        {
          "name": "stdout",
          "output_type": "stream",
          "text": [
            "MoviePy - Done.\n",
            "Moviepy - Writing video /content/resized_ASL_videos/081-cat.mp4\n",
            "\n"
          ]
        },
        {
          "name": "stderr",
          "output_type": "stream",
          "text": [
            "t:  99%|█████████▉| 80/81 [00:02<00:00, 33.70it/s, now=None]WARNING:py.warnings:/usr/local/lib/python3.10/dist-packages/moviepy/video/io/ffmpeg_reader.py:123: UserWarning: Warning: in file /content/ASL_VIDEOS/081-cat.mp4, 6220800 bytes wanted but 0 bytes read,at frame 79/81, at time 2.64/2.68 sec. Using the last valid frame instead.\n",
            "  warnings.warn(\"Warning: in file %s, \"%(self.filename)+\n",
            "\n",
            "WARNING:py.warnings:/usr/local/lib/python3.10/dist-packages/moviepy/video/io/ffmpeg_reader.py:123: UserWarning: Warning: in file /content/ASL_VIDEOS/081-cat.mp4, 6220800 bytes wanted but 0 bytes read,at frame 80/81, at time 2.67/2.68 sec. Using the last valid frame instead.\n",
            "  warnings.warn(\"Warning: in file %s, \"%(self.filename)+\n",
            "\n"
          ]
        },
        {
          "name": "stdout",
          "output_type": "stream",
          "text": [
            "Moviepy - Done !\n",
            "Moviepy - video ready /content/resized_ASL_videos/081-cat.mp4\n",
            "Resized 081-cat.mp4 and saved to /content/resized_ASL_videos/081-cat.mp4\n",
            "Moviepy - Building video /content/resized_ASL_videos/040-hide_and_seek_you_like_play.mp4.\n",
            "MoviePy - Writing audio in 040-hide_and_seek_you_like_playTEMP_MPY_wvf_snd.mp4\n"
          ]
        },
        {
          "name": "stderr",
          "output_type": "stream",
          "text": []
        },
        {
          "name": "stdout",
          "output_type": "stream",
          "text": [
            "MoviePy - Done.\n",
            "Moviepy - Writing video /content/resized_ASL_videos/040-hide_and_seek_you_like_play.mp4\n",
            "\n"
          ]
        },
        {
          "name": "stderr",
          "output_type": "stream",
          "text": [
            "t:  98%|█████████▊| 174/177 [00:07<00:00, 19.14it/s, now=None]WARNING:py.warnings:/usr/local/lib/python3.10/dist-packages/moviepy/video/io/ffmpeg_reader.py:123: UserWarning: Warning: in file /content/ASL_VIDEOS/040-hide_and_seek_you_like_play.mp4, 6220800 bytes wanted but 0 bytes read,at frame 175/177, at time 5.83/5.87 sec. Using the last valid frame instead.\n",
            "  warnings.warn(\"Warning: in file %s, \"%(self.filename)+\n",
            "\n",
            "t: 100%|██████████| 177/177 [00:07<00:00, 21.17it/s, now=None]WARNING:py.warnings:/usr/local/lib/python3.10/dist-packages/moviepy/video/io/ffmpeg_reader.py:123: UserWarning: Warning: in file /content/ASL_VIDEOS/040-hide_and_seek_you_like_play.mp4, 6220800 bytes wanted but 0 bytes read,at frame 176/177, at time 5.87/5.87 sec. Using the last valid frame instead.\n",
            "  warnings.warn(\"Warning: in file %s, \"%(self.filename)+\n",
            "\n"
          ]
        },
        {
          "name": "stdout",
          "output_type": "stream",
          "text": [
            "Moviepy - Done !\n",
            "Moviepy - video ready /content/resized_ASL_videos/040-hide_and_seek_you_like_play.mp4\n",
            "Resized 040-hide_and_seek_you_like_play.mp4 and saved to /content/resized_ASL_videos/040-hide_and_seek_you_like_play.mp4\n",
            "Moviepy - Building video /content/resized_ASL_videos/126-elevator2_in_asl.mp4.\n",
            "MoviePy - Writing audio in 126-elevator2_in_aslTEMP_MPY_wvf_snd.mp4\n"
          ]
        },
        {
          "name": "stderr",
          "output_type": "stream",
          "text": []
        },
        {
          "name": "stdout",
          "output_type": "stream",
          "text": [
            "MoviePy - Done.\n",
            "Moviepy - Writing video /content/resized_ASL_videos/126-elevator2_in_asl.mp4\n",
            "\n"
          ]
        },
        {
          "name": "stderr",
          "output_type": "stream",
          "text": [
            "t: 100%|██████████| 297/297 [00:33<00:00, 11.36it/s, now=None]WARNING:py.warnings:/usr/local/lib/python3.10/dist-packages/moviepy/video/io/ffmpeg_reader.py:123: UserWarning: Warning: in file /content/ASL_VIDEOS/126-elevator2_in_asl.mp4, 24883200 bytes wanted but 0 bytes read,at frame 296/297, at time 4.93/4.94 sec. Using the last valid frame instead.\n",
            "  warnings.warn(\"Warning: in file %s, \"%(self.filename)+\n",
            "\n"
          ]
        },
        {
          "name": "stdout",
          "output_type": "stream",
          "text": [
            "Moviepy - Done !\n",
            "Moviepy - video ready /content/resized_ASL_videos/126-elevator2_in_asl.mp4\n",
            "Resized 126-elevator2_in_asl.mp4 and saved to /content/resized_ASL_videos/126-elevator2_in_asl.mp4\n",
            "Moviepy - Building video /content/resized_ASL_videos/084-you_enjoy_camp_you.mp4.\n",
            "MoviePy - Writing audio in 084-you_enjoy_camp_youTEMP_MPY_wvf_snd.mp4\n"
          ]
        },
        {
          "name": "stderr",
          "output_type": "stream",
          "text": []
        },
        {
          "name": "stdout",
          "output_type": "stream",
          "text": [
            "MoviePy - Done.\n",
            "Moviepy - Writing video /content/resized_ASL_videos/084-you_enjoy_camp_you.mp4\n",
            "\n"
          ]
        },
        {
          "name": "stderr",
          "output_type": "stream",
          "text": [
            "t:  99%|█████████▊| 138/140 [00:04<00:00, 29.23it/s, now=None]WARNING:py.warnings:/usr/local/lib/python3.10/dist-packages/moviepy/video/io/ffmpeg_reader.py:123: UserWarning: Warning: in file /content/ASL_VIDEOS/084-you_enjoy_camp_you.mp4, 6220800 bytes wanted but 0 bytes read,at frame 138/140, at time 4.60/4.64 sec. Using the last valid frame instead.\n",
            "  warnings.warn(\"Warning: in file %s, \"%(self.filename)+\n",
            "\n",
            "WARNING:py.warnings:/usr/local/lib/python3.10/dist-packages/moviepy/video/io/ffmpeg_reader.py:123: UserWarning: Warning: in file /content/ASL_VIDEOS/084-you_enjoy_camp_you.mp4, 6220800 bytes wanted but 0 bytes read,at frame 139/140, at time 4.64/4.64 sec. Using the last valid frame instead.\n",
            "  warnings.warn(\"Warning: in file %s, \"%(self.filename)+\n",
            "\n"
          ]
        },
        {
          "name": "stdout",
          "output_type": "stream",
          "text": [
            "Moviepy - Done !\n",
            "Moviepy - video ready /content/resized_ASL_videos/084-you_enjoy_camp_you.mp4\n",
            "Resized 084-you_enjoy_camp_you.mp4 and saved to /content/resized_ASL_videos/084-you_enjoy_camp_you.mp4\n",
            "Moviepy - Building video /content/resized_ASL_videos/025-have_pet_you_if_so_name.mp4.\n",
            "MoviePy - Writing audio in 025-have_pet_you_if_so_nameTEMP_MPY_wvf_snd.mp4\n"
          ]
        },
        {
          "name": "stderr",
          "output_type": "stream",
          "text": []
        },
        {
          "name": "stdout",
          "output_type": "stream",
          "text": [
            "MoviePy - Done.\n",
            "Moviepy - Writing video /content/resized_ASL_videos/025-have_pet_you_if_so_name.mp4\n",
            "\n"
          ]
        },
        {
          "name": "stderr",
          "output_type": "stream",
          "text": [
            "t:  99%|█████████▊| 143/145 [00:05<00:00, 19.67it/s, now=None]WARNING:py.warnings:/usr/local/lib/python3.10/dist-packages/moviepy/video/io/ffmpeg_reader.py:123: UserWarning: Warning: in file /content/ASL_VIDEOS/025-have_pet_you_if_so_name.mp4, 6220800 bytes wanted but 0 bytes read,at frame 144/145, at time 4.80/4.81 sec. Using the last valid frame instead.\n",
            "  warnings.warn(\"Warning: in file %s, \"%(self.filename)+\n",
            "\n"
          ]
        },
        {
          "name": "stdout",
          "output_type": "stream",
          "text": [
            "Moviepy - Done !\n",
            "Moviepy - video ready /content/resized_ASL_videos/025-have_pet_you_if_so_name.mp4\n",
            "Resized 025-have_pet_you_if_so_name.mp4 and saved to /content/resized_ASL_videos/025-have_pet_you_if_so_name.mp4\n",
            "Moviepy - Building video /content/resized_ASL_videos/023-backpack-c-hand_version.mp4.\n",
            "MoviePy - Writing audio in 023-backpack-c-hand_versionTEMP_MPY_wvf_snd.mp4\n"
          ]
        },
        {
          "name": "stderr",
          "output_type": "stream",
          "text": []
        },
        {
          "name": "stdout",
          "output_type": "stream",
          "text": [
            "MoviePy - Done.\n",
            "Moviepy - Writing video /content/resized_ASL_videos/023-backpack-c-hand_version.mp4\n",
            "\n"
          ]
        },
        {
          "name": "stderr",
          "output_type": "stream",
          "text": [
            "t: 100%|██████████| 61/61 [00:02<00:00, 34.38it/s, now=None]WARNING:py.warnings:/usr/local/lib/python3.10/dist-packages/moviepy/video/io/ffmpeg_reader.py:123: UserWarning: Warning: in file /content/ASL_VIDEOS/023-backpack-c-hand_version.mp4, 6220800 bytes wanted but 0 bytes read,at frame 60/61, at time 2.00/2.03 sec. Using the last valid frame instead.\n",
            "  warnings.warn(\"Warning: in file %s, \"%(self.filename)+\n",
            "\n"
          ]
        },
        {
          "name": "stdout",
          "output_type": "stream",
          "text": [
            "Moviepy - Done !\n",
            "Moviepy - video ready /content/resized_ASL_videos/023-backpack-c-hand_version.mp4\n",
            "Resized 023-backpack-c-hand_version.mp4 and saved to /content/resized_ASL_videos/023-backpack-c-hand_version.mp4\n",
            "Moviepy - Building video /content/resized_ASL_videos/006-where.mp4.\n",
            "MoviePy - Writing audio in 006-whereTEMP_MPY_wvf_snd.mp4\n"
          ]
        },
        {
          "name": "stderr",
          "output_type": "stream",
          "text": []
        },
        {
          "name": "stdout",
          "output_type": "stream",
          "text": [
            "MoviePy - Done.\n",
            "Moviepy - Writing video /content/resized_ASL_videos/006-where.mp4\n",
            "\n"
          ]
        },
        {
          "name": "stderr",
          "output_type": "stream",
          "text": [
            "t:  99%|█████████▉| 81/82 [00:02<00:00, 32.94it/s, now=None]WARNING:py.warnings:/usr/local/lib/python3.10/dist-packages/moviepy/video/io/ffmpeg_reader.py:123: UserWarning: Warning: in file /content/ASL_VIDEOS/006-where.mp4, 6220800 bytes wanted but 0 bytes read,at frame 80/82, at time 2.67/2.71 sec. Using the last valid frame instead.\n",
            "  warnings.warn(\"Warning: in file %s, \"%(self.filename)+\n",
            "\n",
            "WARNING:py.warnings:/usr/local/lib/python3.10/dist-packages/moviepy/video/io/ffmpeg_reader.py:123: UserWarning: Warning: in file /content/ASL_VIDEOS/006-where.mp4, 6220800 bytes wanted but 0 bytes read,at frame 81/82, at time 2.70/2.71 sec. Using the last valid frame instead.\n",
            "  warnings.warn(\"Warning: in file %s, \"%(self.filename)+\n",
            "\n"
          ]
        },
        {
          "name": "stdout",
          "output_type": "stream",
          "text": [
            "Moviepy - Done !\n",
            "Moviepy - video ready /content/resized_ASL_videos/006-where.mp4\n",
            "Resized 006-where.mp4 and saved to /content/resized_ASL_videos/006-where.mp4\n",
            "Moviepy - Building video /content/resized_ASL_videos/137-how_much_does_it_cost_in_asl.mp4.\n",
            "MoviePy - Writing audio in 137-how_much_does_it_cost_in_aslTEMP_MPY_wvf_snd.mp4\n"
          ]
        },
        {
          "name": "stderr",
          "output_type": "stream",
          "text": []
        },
        {
          "name": "stdout",
          "output_type": "stream",
          "text": [
            "MoviePy - Done.\n",
            "Moviepy - Writing video /content/resized_ASL_videos/137-how_much_does_it_cost_in_asl.mp4\n",
            "\n"
          ]
        },
        {
          "name": "stderr",
          "output_type": "stream",
          "text": [
            "t: 100%|█████████▉| 265/266 [00:30<00:00, 10.78it/s, now=None]WARNING:py.warnings:/usr/local/lib/python3.10/dist-packages/moviepy/video/io/ffmpeg_reader.py:123: UserWarning: Warning: in file /content/ASL_VIDEOS/137-how_much_does_it_cost_in_asl.mp4, 24883200 bytes wanted but 0 bytes read,at frame 265/266, at time 4.42/4.43 sec. Using the last valid frame instead.\n",
            "  warnings.warn(\"Warning: in file %s, \"%(self.filename)+\n",
            "\n"
          ]
        },
        {
          "name": "stdout",
          "output_type": "stream",
          "text": [
            "Moviepy - Done !\n",
            "Moviepy - video ready /content/resized_ASL_videos/137-how_much_does_it_cost_in_asl.mp4\n",
            "Resized 137-how_much_does_it_cost_in_asl.mp4 and saved to /content/resized_ASL_videos/137-how_much_does_it_cost_in_asl.mp4\n",
            "Moviepy - Building video /content/resized_ASL_videos/093-asl_how_can_i_help_you.mp4.\n",
            "MoviePy - Writing audio in 093-asl_how_can_i_help_youTEMP_MPY_wvf_snd.mp4\n"
          ]
        },
        {
          "name": "stderr",
          "output_type": "stream",
          "text": []
        },
        {
          "name": "stdout",
          "output_type": "stream",
          "text": [
            "MoviePy - Done.\n",
            "Moviepy - Writing video /content/resized_ASL_videos/093-asl_how_can_i_help_you.mp4\n",
            "\n"
          ]
        },
        {
          "name": "stderr",
          "output_type": "stream",
          "text": [
            "t:  99%|█████████▉| 146/147 [00:02<00:00, 46.22it/s, now=None]WARNING:py.warnings:/usr/local/lib/python3.10/dist-packages/moviepy/video/io/ffmpeg_reader.py:123: UserWarning: Warning: in file /content/ASL_VIDEOS/093-asl_how_can_i_help_you.mp4, 1229760 bytes wanted but 0 bytes read,at frame 145/147, at time 4.84/4.90 sec. Using the last valid frame instead.\n",
            "  warnings.warn(\"Warning: in file %s, \"%(self.filename)+\n",
            "\n",
            "WARNING:py.warnings:/usr/local/lib/python3.10/dist-packages/moviepy/video/io/ffmpeg_reader.py:123: UserWarning: Warning: in file /content/ASL_VIDEOS/093-asl_how_can_i_help_you.mp4, 1229760 bytes wanted but 0 bytes read,at frame 146/147, at time 4.87/4.90 sec. Using the last valid frame instead.\n",
            "  warnings.warn(\"Warning: in file %s, \"%(self.filename)+\n",
            "\n"
          ]
        },
        {
          "name": "stdout",
          "output_type": "stream",
          "text": [
            "Moviepy - Done !\n",
            "Moviepy - video ready /content/resized_ASL_videos/093-asl_how_can_i_help_you.mp4\n",
            "Resized 093-asl_how_can_i_help_you.mp4 and saved to /content/resized_ASL_videos/093-asl_how_can_i_help_you.mp4\n"
          ]
        }
      ],
      "source": [
        "import os\n",
        "from moviepy.editor import VideoFileClip\n",
        "\n",
        "# Function to resize videos\n",
        "def resize_video(input_path, output_path, resolution=(640, 360)):\n",
        "    # Load the video\n",
        "    clip = VideoFileClip(input_path)\n",
        "\n",
        "    # Resize the video\n",
        "    resized_clip = clip.resize(resolution)\n",
        "\n",
        "    # Write the resized video to the output path\n",
        "    resized_clip.write_videofile(output_path, codec='libx264', audio_codec='aac')\n",
        "\n",
        "    # Close the clips\n",
        "    clip.close()\n",
        "    resized_clip.close()\n",
        "\n",
        "# Path to your video dataset in Google Drive\n",
        "input_folder = '/content/ASL_VIDEOS'\n",
        "output_folder = '/content/resized_ASL_videos'\n",
        "\n",
        "# Create output folder if it doesn't exist\n",
        "if not os.path.exists(output_folder):\n",
        "    os.makedirs(output_folder)\n",
        "\n",
        "# Loop through all videos in the input folder\n",
        "for filename in os.listdir(input_folder):\n",
        "    if filename.endswith(('.mp4', '.avi', '.mov')):  # Add other formats if necessary\n",
        "        input_video_path = os.path.join(input_folder, filename)\n",
        "        output_video_path = os.path.join(output_folder, filename)\n",
        "\n",
        "        # Resize the video\n",
        "        resize_video(input_video_path, output_video_path)\n",
        "        print(f'Resized {filename} and saved to {output_video_path}')\n"
      ]
    },
    {
      "cell_type": "code",
      "source": [
        "# prompt: unzip file\n",
        "\n",
        "import zipfile\n",
        "import os\n",
        "\n",
        "def unzip_files(zip_filepath, extract_dir):\n",
        "    \"\"\"\n",
        "    Unzips a zip file to a specified directory.\n",
        "\n",
        "    Args:\n",
        "        zip_filepath: Path to the zip file.\n",
        "        extract_dir: Directory to extract the contents to.\n",
        "    \"\"\"\n",
        "    try:\n",
        "        with zipfile.ZipFile(zip_filepath, 'r') as zip_ref:\n",
        "            zip_ref.extractall(extract_dir)\n",
        "        print(f\"Successfully unzipped {zip_filepath} to {extract_dir}\")\n",
        "    except FileNotFoundError:\n",
        "        print(f\"Error: Zip file not found at {zip_filepath}\")\n",
        "    except zipfile.BadZipFile:\n",
        "        print(f\"Error: Invalid zip file at {zip_filepath}\")\n",
        "    except Exception as e:\n",
        "        print(f\"An unexpected error occurred: {e}\")\n",
        "\n",
        "# Example usage\n",
        "# Replace 'path/to/your/file.zip' with the actual path to your zip file\n",
        "# Replace 'path/to/extract/directory' with the directory where you want to extract files\n",
        "zip_file_path = '/content/colorframes.zip'\n",
        "extract_directory = '/content/videosof/'\n",
        "\n",
        "# Create the extraction directory if it doesn't exist\n",
        "os.makedirs(extract_directory, exist_ok=True)\n",
        "\n",
        "unzip_files(zip_file_path, extract_directory)"
      ],
      "metadata": {
        "colab": {
          "base_uri": "https://localhost:8080/"
        },
        "id": "Pz_zn8oy6Y_2",
        "outputId": "11e4092d-ef95-4e11-a3e9-35696e3f5671"
      },
      "execution_count": null,
      "outputs": [
        {
          "output_type": "stream",
          "name": "stdout",
          "text": [
            "Successfully unzipped /content/colorframes.zip to /content/videosof/\n"
          ]
        }
      ]
    },
    {
      "cell_type": "code",
      "source": [
        "# prompt: zip folder\n",
        "\n",
        "import zipfile\n",
        "import os\n",
        "\n",
        "def zip_folder(folder_path, zip_filename):\n",
        "    \"\"\"\n",
        "    Zips a folder and its contents.\n",
        "\n",
        "    Args:\n",
        "        folder_path: Path to the folder to zip.\n",
        "        zip_filename: Name of the zip file to create.\n",
        "    \"\"\"\n",
        "    try:\n",
        "        with zipfile.ZipFile(zip_filename, 'w', zipfile.ZIP_DEFLATED) as zipf:\n",
        "            for root, _, files in os.walk(folder_path):\n",
        "                for file in files:\n",
        "                    file_path = os.path.join(root, file)\n",
        "                    arcname = os.path.relpath(file_path, folder_path)  # Correct relative path\n",
        "                    zipf.write(file_path, arcname=arcname)\n",
        "        print(f\"Successfully zipped {folder_path} to {zip_filename}\")\n",
        "    except FileNotFoundError:\n",
        "        print(f\"Error: Folder not found at {folder_path}\")\n",
        "    except Exception as e:\n",
        "        print(f\"An unexpected error occurred: {e}\")\n",
        "\n",
        "\n",
        "# Example usage:\n",
        "# Replace '/content/resized_ASL_videos' with the actual path of the folder you want to zip\n",
        "# Replace '/content/archive.zip' with the desired name and path for the zip file\n",
        "folder_to_zip = '/content/new_videos'\n",
        "zip_file_name = '/content/frames_to_blender.zip'\n",
        "zip_folder(folder_to_zip, zip_file_name)"
      ],
      "metadata": {
        "colab": {
          "base_uri": "https://localhost:8080/"
        },
        "id": "1dR6qFDK75aa",
        "outputId": "7d9022a8-9820-4813-ff70-61f73a3b32ed"
      },
      "execution_count": null,
      "outputs": [
        {
          "output_type": "stream",
          "name": "stdout",
          "text": [
            "Successfully zipped /content/new_videos to /content/frames_to_blender.zip\n"
          ]
        }
      ]
    },
    {
      "cell_type": "code",
      "source": [
        "import os\n",
        "import cv2\n",
        "\n",
        "def frames_to_video(input_dir, output_dir, fps=30):\n",
        "    \"\"\"\n",
        "    Convert image frames in subfolders to MP4 videos.\n",
        "\n",
        "    Args:\n",
        "        input_dir (str): Directory containing subfolders of frames.\n",
        "        output_dir (str): Directory where MP4 videos will be saved.\n",
        "        fps (int): Frames per second for the output video.\n",
        "    \"\"\"\n",
        "    os.makedirs(output_dir, exist_ok=True)\n",
        "\n",
        "    # Loop through all subfolders\n",
        "    for video_folder in os.listdir(input_dir):\n",
        "        video_path = os.path.join(input_dir, video_folder)\n",
        "        if os.path.isdir(video_path):\n",
        "            # Collect all frame file names and sort them\n",
        "            frame_files = sorted([f for f in os.listdir(video_path) if f.endswith(('.png', '.jpg'))])\n",
        "\n",
        "            if not frame_files:\n",
        "                print(f\"No frames found in folder {video_folder}. Skipping...\")\n",
        "                continue\n",
        "\n",
        "            # Get the dimensions of the first frame to set the video size\n",
        "            first_frame_path = os.path.join(video_path, frame_files[0])\n",
        "            frame = cv2.imread(first_frame_path)\n",
        "            height, width, _ = frame.shape\n",
        "\n",
        "            # Define video output path\n",
        "            output_video_path = os.path.join(output_dir, f\"{video_folder}.mp4\")\n",
        "            fourcc = cv2.VideoWriter_fourcc(*'mp4v')  # Codec for MP4\n",
        "            video_writer = cv2.VideoWriter(output_video_path, fourcc, fps, (width, height))\n",
        "\n",
        "            # Write each frame into the video\n",
        "            for frame_file in frame_files:\n",
        "                frame_path = os.path.join(video_path, frame_file)\n",
        "                frame = cv2.imread(frame_path)\n",
        "                if frame is not None:\n",
        "                    video_writer.write(frame)\n",
        "                else:\n",
        "                    print(f\"Warning: Could not read frame {frame_file} in {video_folder}. Skipping...\")\n",
        "\n",
        "            video_writer.release()\n",
        "            print(f\"Video saved: {output_video_path}\")\n",
        "\n",
        "# Example usage\n",
        "frames_folder = \"/content/videosof\"  # Replace with your frames folder path\n",
        "output_videos_folder = \"/content/new_videos/\"  # Replace with your output folder path\n",
        "\n",
        "frames_to_video(frames_folder, output_videos_folder)\n"
      ],
      "metadata": {
        "colab": {
          "base_uri": "https://localhost:8080/"
        },
        "id": "rJCryuTh5x8w",
        "outputId": "54d2916c-099e-496f-d752-b6e6e75ce39e"
      },
      "execution_count": null,
      "outputs": [
        {
          "output_type": "stream",
          "name": "stdout",
          "text": [
            "Video saved: /content/new_videos/generated_video_1.mp4\n",
            "Video saved: /content/new_videos/generated_video_8.mp4\n",
            "Video saved: /content/new_videos/generated_video_5.mp4\n",
            "Video saved: /content/new_videos/generated_video_2.mp4\n",
            "Video saved: /content/new_videos/generated_video_6.mp4\n",
            "Video saved: /content/new_videos/generated_video_9.mp4\n",
            "Video saved: /content/new_videos/generated_video_4.mp4\n",
            "Video saved: /content/new_videos/generated_video_0.mp4\n",
            "Video saved: /content/new_videos/generated_video_3.mp4\n",
            "Video saved: /content/new_videos/generated_video_7.mp4\n"
          ]
        }
      ]
    }
  ],
  "metadata": {
    "colab": {
      "provenance": []
    },
    "kernelspec": {
      "display_name": "Python 3",
      "name": "python3"
    },
    "language_info": {
      "name": "python"
    }
  },
  "nbformat": 4,
  "nbformat_minor": 0
}